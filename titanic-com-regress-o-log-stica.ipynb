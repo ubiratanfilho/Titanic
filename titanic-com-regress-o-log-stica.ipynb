{
  "cells": [
    {
      "cell_type": "markdown",
      "metadata": {},
      "source": [
        "# Predição de sobreviventes do Titanic com Regressão Logística\n",
        "## Introdução\n",
        "\n",
        "Nesse notebook, vou utilizar um algoritmo de regressão logística para prever sobreviventes do acidente do Titanic. Para isso, vou:\n",
        "1. Ler e separar os dados em dataset de treino e teste;\n",
        "2. Tratar e limpar os dados;\n",
        "3. Realizar uma análise exploratória para obter insights e compreender quais features devo utilizar no meu algoritmo;\n",
        "4. Treinar o modelo e otimizá-lo;\n",
        "5. Prever sobreviventes a partir do dataset de teste e comparar com as respostas reais.\n",
        "<br>\n",
        "\n",
        "Vamos lá!\n",
        "\n",
        "## Descrição das variáveis \n",
        "\n",
        "Survival : 0 se não sobreviveu e 1 se sobreviveu\n",
        "\n",
        "Pclass : Classe do quarto do passageiro: 1st = Alta, 2nd = Média, 3rd = Baixa\n",
        "\n",
        "SibSp : Número de irmãos e cônjuges\n",
        "\n",
        "Parch : Número de pais ou filhos\n",
        "\n",
        "Ticket : Número do ticket\n",
        "\n",
        "Fare : Tarifa do passageiro\n",
        "\n",
        "Cabin : Número da cabine do passageiro\n",
        "\n",
        "Embarked: Aonde o passageiro embarcou. C = Cherbourg, Q = Queenstown, S = Southampton\n",
        "\n",
        "Name: nome de passageiro\n",
        "\n",
        "Sex: gênero do passageiro\n",
        "\n",
        "Age: idade do passageiro"
      ]
    },
    {
      "cell_type": "markdown",
      "metadata": {},
      "source": [
        "## Bibliotecas utilizadas"
      ]
    },
    {
      "cell_type": "code",
      "execution_count": 75,
      "metadata": {
        "execution": {
          "iopub.execute_input": "2022-07-09T22:04:17.029231Z",
          "iopub.status.busy": "2022-07-09T22:04:17.028839Z",
          "iopub.status.idle": "2022-07-09T22:04:18.688368Z",
          "shell.execute_reply": "2022-07-09T22:04:18.687263Z",
          "shell.execute_reply.started": "2022-07-09T22:04:17.029128Z"
        },
        "trusted": true
      },
      "outputs": [],
      "source": [
        "import pandas as pd\n",
        "import numpy as np\n",
        "import plotly.graph_objects as go\n",
        "import plotly.express as px\n",
        "from plotly.subplots import make_subplots\n",
        "import scipy\n",
        "import sklearn"
      ]
    },
    {
      "cell_type": "markdown",
      "metadata": {},
      "source": [
        "## Lendo Dados"
      ]
    },
    {
      "cell_type": "code",
      "execution_count": 76,
      "metadata": {
        "execution": {
          "iopub.execute_input": "2022-07-09T22:04:18.690918Z",
          "iopub.status.busy": "2022-07-09T22:04:18.690544Z",
          "iopub.status.idle": "2022-07-09T22:04:18.745627Z",
          "shell.execute_reply": "2022-07-09T22:04:18.744979Z",
          "shell.execute_reply.started": "2022-07-09T22:04:18.690870Z"
        },
        "trusted": true
      },
      "outputs": [
        {
          "data": {
            "text/html": [
              "<div>\n",
              "<style scoped>\n",
              "    .dataframe tbody tr th:only-of-type {\n",
              "        vertical-align: middle;\n",
              "    }\n",
              "\n",
              "    .dataframe tbody tr th {\n",
              "        vertical-align: top;\n",
              "    }\n",
              "\n",
              "    .dataframe thead th {\n",
              "        text-align: right;\n",
              "    }\n",
              "</style>\n",
              "<table border=\"1\" class=\"dataframe\">\n",
              "  <thead>\n",
              "    <tr style=\"text-align: right;\">\n",
              "      <th></th>\n",
              "      <th>Survived</th>\n",
              "      <th>Pclass</th>\n",
              "      <th>Name</th>\n",
              "      <th>Sex</th>\n",
              "      <th>Age</th>\n",
              "      <th>SibSp</th>\n",
              "      <th>Parch</th>\n",
              "      <th>Ticket</th>\n",
              "      <th>Fare</th>\n",
              "      <th>Cabin</th>\n",
              "      <th>Embarked</th>\n",
              "    </tr>\n",
              "    <tr>\n",
              "      <th>PassengerId</th>\n",
              "      <th></th>\n",
              "      <th></th>\n",
              "      <th></th>\n",
              "      <th></th>\n",
              "      <th></th>\n",
              "      <th></th>\n",
              "      <th></th>\n",
              "      <th></th>\n",
              "      <th></th>\n",
              "      <th></th>\n",
              "      <th></th>\n",
              "    </tr>\n",
              "  </thead>\n",
              "  <tbody>\n",
              "    <tr>\n",
              "      <th>1</th>\n",
              "      <td>0</td>\n",
              "      <td>3</td>\n",
              "      <td>Braund, Mr. Owen Harris</td>\n",
              "      <td>male</td>\n",
              "      <td>22.0</td>\n",
              "      <td>1</td>\n",
              "      <td>0</td>\n",
              "      <td>A/5 21171</td>\n",
              "      <td>7.2500</td>\n",
              "      <td>NaN</td>\n",
              "      <td>S</td>\n",
              "    </tr>\n",
              "    <tr>\n",
              "      <th>2</th>\n",
              "      <td>1</td>\n",
              "      <td>1</td>\n",
              "      <td>Cumings, Mrs. John Bradley (Florence Briggs Th...</td>\n",
              "      <td>female</td>\n",
              "      <td>38.0</td>\n",
              "      <td>1</td>\n",
              "      <td>0</td>\n",
              "      <td>PC 17599</td>\n",
              "      <td>71.2833</td>\n",
              "      <td>C85</td>\n",
              "      <td>C</td>\n",
              "    </tr>\n",
              "    <tr>\n",
              "      <th>3</th>\n",
              "      <td>1</td>\n",
              "      <td>3</td>\n",
              "      <td>Heikkinen, Miss. Laina</td>\n",
              "      <td>female</td>\n",
              "      <td>26.0</td>\n",
              "      <td>0</td>\n",
              "      <td>0</td>\n",
              "      <td>STON/O2. 3101282</td>\n",
              "      <td>7.9250</td>\n",
              "      <td>NaN</td>\n",
              "      <td>S</td>\n",
              "    </tr>\n",
              "    <tr>\n",
              "      <th>4</th>\n",
              "      <td>1</td>\n",
              "      <td>1</td>\n",
              "      <td>Futrelle, Mrs. Jacques Heath (Lily May Peel)</td>\n",
              "      <td>female</td>\n",
              "      <td>35.0</td>\n",
              "      <td>1</td>\n",
              "      <td>0</td>\n",
              "      <td>113803</td>\n",
              "      <td>53.1000</td>\n",
              "      <td>C123</td>\n",
              "      <td>S</td>\n",
              "    </tr>\n",
              "    <tr>\n",
              "      <th>5</th>\n",
              "      <td>0</td>\n",
              "      <td>3</td>\n",
              "      <td>Allen, Mr. William Henry</td>\n",
              "      <td>male</td>\n",
              "      <td>35.0</td>\n",
              "      <td>0</td>\n",
              "      <td>0</td>\n",
              "      <td>373450</td>\n",
              "      <td>8.0500</td>\n",
              "      <td>NaN</td>\n",
              "      <td>S</td>\n",
              "    </tr>\n",
              "  </tbody>\n",
              "</table>\n",
              "</div>"
            ],
            "text/plain": [
              "             Survived  Pclass  \\\n",
              "PassengerId                     \n",
              "1                   0       3   \n",
              "2                   1       1   \n",
              "3                   1       3   \n",
              "4                   1       1   \n",
              "5                   0       3   \n",
              "\n",
              "                                                          Name     Sex   Age  \\\n",
              "PassengerId                                                                    \n",
              "1                                      Braund, Mr. Owen Harris    male  22.0   \n",
              "2            Cumings, Mrs. John Bradley (Florence Briggs Th...  female  38.0   \n",
              "3                                       Heikkinen, Miss. Laina  female  26.0   \n",
              "4                 Futrelle, Mrs. Jacques Heath (Lily May Peel)  female  35.0   \n",
              "5                                     Allen, Mr. William Henry    male  35.0   \n",
              "\n",
              "             SibSp  Parch            Ticket     Fare Cabin Embarked  \n",
              "PassengerId                                                          \n",
              "1                1      0         A/5 21171   7.2500   NaN        S  \n",
              "2                1      0          PC 17599  71.2833   C85        C  \n",
              "3                0      0  STON/O2. 3101282   7.9250   NaN        S  \n",
              "4                1      0            113803  53.1000  C123        S  \n",
              "5                0      0            373450   8.0500   NaN        S  "
            ]
          },
          "execution_count": 76,
          "metadata": {},
          "output_type": "execute_result"
        }
      ],
      "source": [
        "data = pd.read_csv('Data/train.csv', index_col='PassengerId')\n",
        "data.head()"
      ]
    },
    {
      "cell_type": "code",
      "execution_count": 77,
      "metadata": {
        "execution": {
          "iopub.execute_input": "2022-07-09T22:04:18.747716Z",
          "iopub.status.busy": "2022-07-09T22:04:18.747041Z",
          "iopub.status.idle": "2022-07-09T22:04:18.767377Z",
          "shell.execute_reply": "2022-07-09T22:04:18.766658Z",
          "shell.execute_reply.started": "2022-07-09T22:04:18.747679Z"
        },
        "trusted": true
      },
      "outputs": [
        {
          "name": "stdout",
          "output_type": "stream",
          "text": [
            "<class 'pandas.core.frame.DataFrame'>\n",
            "Int64Index: 891 entries, 1 to 891\n",
            "Data columns (total 11 columns):\n",
            " #   Column    Non-Null Count  Dtype  \n",
            "---  ------    --------------  -----  \n",
            " 0   Survived  891 non-null    int64  \n",
            " 1   Pclass    891 non-null    int64  \n",
            " 2   Name      891 non-null    object \n",
            " 3   Sex       891 non-null    object \n",
            " 4   Age       714 non-null    float64\n",
            " 5   SibSp     891 non-null    int64  \n",
            " 6   Parch     891 non-null    int64  \n",
            " 7   Ticket    891 non-null    object \n",
            " 8   Fare      891 non-null    float64\n",
            " 9   Cabin     204 non-null    object \n",
            " 10  Embarked  889 non-null    object \n",
            "dtypes: float64(2), int64(4), object(5)\n",
            "memory usage: 83.5+ KB\n"
          ]
        }
      ],
      "source": [
        "data.info()"
      ]
    },
    {
      "cell_type": "markdown",
      "metadata": {},
      "source": [
        "## Separando entre Dataset de Treino e Teste"
      ]
    },
    {
      "cell_type": "code",
      "execution_count": 78,
      "metadata": {
        "execution": {
          "iopub.execute_input": "2022-07-09T22:04:18.801109Z",
          "iopub.status.busy": "2022-07-09T22:04:18.800179Z",
          "iopub.status.idle": "2022-07-09T22:04:19.690585Z",
          "shell.execute_reply": "2022-07-09T22:04:19.689523Z",
          "shell.execute_reply.started": "2022-07-09T22:04:18.801054Z"
        },
        "trusted": true
      },
      "outputs": [
        {
          "name": "stdout",
          "output_type": "stream",
          "text": [
            "Tamanho do train de treino:  (712, 11)\n",
            "Tamanho do train de teste:  (179, 11)\n"
          ]
        }
      ],
      "source": [
        "from sklearn.model_selection import train_test_split\n",
        "\n",
        "train, test = train_test_split(data, test_size=0.2, random_state=42)\n",
        "print(\"Tamanho do train de treino: \", train.shape)\n",
        "print(\"Tamanho do train de teste: \", test.shape)"
      ]
    },
    {
      "cell_type": "markdown",
      "metadata": {},
      "source": [
        "# Análise Exploratória dos Dados"
      ]
    },
    {
      "cell_type": "code",
      "execution_count": 79,
      "metadata": {
        "execution": {
          "iopub.status.busy": "2022-01-03T16:01:20.011311Z",
          "iopub.status.idle": "2022-01-03T16:01:20.011628Z",
          "shell.execute_reply": "2022-01-03T16:01:20.011486Z",
          "shell.execute_reply.started": "2022-01-03T16:01:20.01147Z"
        },
        "trusted": true
      },
      "outputs": [
        {
          "data": {
            "text/plain": [
              "['Survived',\n",
              " 'Pclass',\n",
              " 'Name',\n",
              " 'Sex',\n",
              " 'Age',\n",
              " 'SibSp',\n",
              " 'Parch',\n",
              " 'Ticket',\n",
              " 'Fare',\n",
              " 'Cabin',\n",
              " 'Embarked']"
            ]
          },
          "execution_count": 79,
          "metadata": {},
          "output_type": "execute_result"
        }
      ],
      "source": [
        "cols = list(train.columns)\n",
        "cols"
      ]
    },
    {
      "cell_type": "code",
      "execution_count": 80,
      "metadata": {
        "execution": {
          "iopub.status.busy": "2022-01-03T16:01:20.012442Z",
          "iopub.status.idle": "2022-01-03T16:01:20.012746Z",
          "shell.execute_reply": "2022-01-03T16:01:20.012609Z",
          "shell.execute_reply.started": "2022-01-03T16:01:20.012593Z"
        },
        "trusted": true
      },
      "outputs": [
        {
          "name": "stdout",
          "output_type": "stream",
          "text": [
            "<class 'pandas.core.frame.DataFrame'>\n",
            "Int64Index: 712 entries, 332 to 103\n",
            "Data columns (total 11 columns):\n",
            " #   Column    Non-Null Count  Dtype  \n",
            "---  ------    --------------  -----  \n",
            " 0   Survived  712 non-null    int64  \n",
            " 1   Pclass    712 non-null    int64  \n",
            " 2   Name      712 non-null    object \n",
            " 3   Sex       712 non-null    object \n",
            " 4   Age       572 non-null    float64\n",
            " 5   SibSp     712 non-null    int64  \n",
            " 6   Parch     712 non-null    int64  \n",
            " 7   Ticket    712 non-null    object \n",
            " 8   Fare      712 non-null    float64\n",
            " 9   Cabin     159 non-null    object \n",
            " 10  Embarked  710 non-null    object \n",
            "dtypes: float64(2), int64(4), object(5)\n",
            "memory usage: 66.8+ KB\n"
          ]
        }
      ],
      "source": [
        "train.info()"
      ]
    },
    {
      "cell_type": "markdown",
      "metadata": {},
      "source": [
        "É possível verificar que as colunas \"Age\", \"Cabin\" e \"Embarked\" possuem valores nulos. Vou verificar qual percentual de valores nulos para concluir se é interessante substituí-los ou simplesmente remover a coluna em questão."
      ]
    },
    {
      "cell_type": "code",
      "execution_count": 81,
      "metadata": {
        "execution": {
          "iopub.status.busy": "2022-01-03T16:01:20.013974Z",
          "iopub.status.idle": "2022-01-03T16:01:20.015116Z",
          "shell.execute_reply": "2022-01-03T16:01:20.014964Z",
          "shell.execute_reply.started": "2022-01-03T16:01:20.014945Z"
        },
        "trusted": true
      },
      "outputs": [
        {
          "data": {
            "text/plain": [
              "Embarked     0.280899\n",
              "Age         19.662921\n",
              "Cabin       77.668539\n",
              "dtype: float64"
            ]
          },
          "execution_count": 81,
          "metadata": {},
          "output_type": "execute_result"
        }
      ],
      "source": [
        "def null_count(train):\n",
        "    null_count = train.isnull().sum()\n",
        "    null_count = null_count[null_count > 0] / len(train) * 100\n",
        "    null_count.sort_values(inplace=True)\n",
        "    return null_count\n",
        "\n",
        "null_count(train)"
      ]
    },
    {
      "cell_type": "markdown",
      "metadata": {},
      "source": [
        "\"Cabin\" possue 77.6% de valores nulos, então vou descartá-la. Após analisar individualmente as outras duas colunas vou conseguir concluir qual melhor opção para substituir os valores nulos."
      ]
    },
    {
      "cell_type": "code",
      "execution_count": 82,
      "metadata": {
        "execution": {
          "iopub.status.busy": "2022-01-03T16:01:20.015784Z",
          "iopub.status.idle": "2022-01-03T16:01:20.016306Z",
          "shell.execute_reply": "2022-01-03T16:01:20.016144Z",
          "shell.execute_reply.started": "2022-01-03T16:01:20.016125Z"
        },
        "trusted": true
      },
      "outputs": [],
      "source": [
        "cols.remove(\"Cabin\")"
      ]
    },
    {
      "cell_type": "code",
      "execution_count": 83,
      "metadata": {
        "execution": {
          "iopub.status.busy": "2022-01-03T16:01:20.017462Z",
          "iopub.status.idle": "2022-01-03T16:01:20.018026Z",
          "shell.execute_reply": "2022-01-03T16:01:20.017853Z",
          "shell.execute_reply.started": "2022-01-03T16:01:20.017828Z"
        },
        "trusted": true
      },
      "outputs": [],
      "source": [
        "num_cols = list(train.select_dtypes(exclude=[\"object\"]).columns) # colunas numéricas\n",
        "obj_cols = list(train.select_dtypes(include=[\"object\"]).columns) # colunas não-numéricas\n",
        "obj_cols.remove(\"Cabin\")\n",
        "num_cols.remove(\"Survived\")"
      ]
    },
    {
      "cell_type": "markdown",
      "metadata": {},
      "source": [
        "### Colunas Numéricas"
      ]
    },
    {
      "cell_type": "code",
      "execution_count": 84,
      "metadata": {
        "execution": {
          "iopub.status.busy": "2022-01-03T16:01:20.019319Z",
          "iopub.status.idle": "2022-01-03T16:01:20.019672Z",
          "shell.execute_reply": "2022-01-03T16:01:20.019524Z",
          "shell.execute_reply.started": "2022-01-03T16:01:20.019501Z"
        },
        "trusted": true
      },
      "outputs": [
        {
          "name": "stdout",
          "output_type": "stream",
          "text": [
            "<class 'pandas.core.frame.DataFrame'>\n",
            "Int64Index: 712 entries, 332 to 103\n",
            "Data columns (total 5 columns):\n",
            " #   Column  Non-Null Count  Dtype  \n",
            "---  ------  --------------  -----  \n",
            " 0   Pclass  712 non-null    int64  \n",
            " 1   Age     572 non-null    float64\n",
            " 2   SibSp   712 non-null    int64  \n",
            " 3   Parch   712 non-null    int64  \n",
            " 4   Fare    712 non-null    float64\n",
            "dtypes: float64(2), int64(3)\n",
            "memory usage: 33.4 KB\n"
          ]
        }
      ],
      "source": [
        "train[num_cols].info()"
      ]
    },
    {
      "cell_type": "code",
      "execution_count": 85,
      "metadata": {
        "execution": {
          "iopub.status.busy": "2022-01-03T16:01:20.020783Z",
          "iopub.status.idle": "2022-01-03T16:01:20.021328Z",
          "shell.execute_reply": "2022-01-03T16:01:20.021147Z",
          "shell.execute_reply.started": "2022-01-03T16:01:20.021121Z"
        },
        "trusted": true
      },
      "outputs": [
        {
          "data": {
            "application/vnd.plotly.v1+json": {
              "config": {
                "plotlyServerURL": "https://plot.ly"
              },
              "data": [
                {
                  "name": "",
                  "type": "box",
                  "xaxis": "x",
                  "y": [
                    1,
                    2,
                    3,
                    3,
                    3,
                    1,
                    1,
                    2,
                    3,
                    1,
                    2,
                    3,
                    2,
                    3,
                    3,
                    2,
                    1,
                    1,
                    2,
                    1,
                    3,
                    3,
                    3,
                    2,
                    3,
                    3,
                    3,
                    3,
                    1,
                    3,
                    3,
                    1,
                    3,
                    1,
                    3,
                    3,
                    3,
                    2,
                    1,
                    2,
                    3,
                    3,
                    2,
                    3,
                    1,
                    3,
                    2,
                    3,
                    1,
                    2,
                    3,
                    2,
                    1,
                    3,
                    3,
                    3,
                    3,
                    1,
                    3,
                    1,
                    2,
                    3,
                    2,
                    3,
                    3,
                    3,
                    3,
                    3,
                    3,
                    3,
                    1,
                    3,
                    2,
                    3,
                    3,
                    1,
                    3,
                    3,
                    1,
                    2,
                    2,
                    1,
                    1,
                    2,
                    3,
                    1,
                    1,
                    3,
                    1,
                    1,
                    3,
                    3,
                    2,
                    2,
                    1,
                    2,
                    3,
                    3,
                    2,
                    1,
                    2,
                    3,
                    3,
                    1,
                    3,
                    2,
                    3,
                    3,
                    3,
                    2,
                    3,
                    3,
                    3,
                    3,
                    3,
                    3,
                    1,
                    3,
                    2,
                    3,
                    3,
                    3,
                    1,
                    2,
                    2,
                    3,
                    1,
                    3,
                    3,
                    1,
                    2,
                    1,
                    2,
                    2,
                    3,
                    3,
                    2,
                    3,
                    2,
                    2,
                    3,
                    1,
                    3,
                    1,
                    3,
                    2,
                    3,
                    3,
                    3,
                    3,
                    3,
                    3,
                    3,
                    3,
                    2,
                    2,
                    1,
                    1,
                    2,
                    3,
                    2,
                    3,
                    3,
                    3,
                    3,
                    3,
                    3,
                    1,
                    3,
                    1,
                    3,
                    1,
                    3,
                    3,
                    2,
                    3,
                    3,
                    1,
                    2,
                    3,
                    3,
                    3,
                    2,
                    3,
                    3,
                    3,
                    3,
                    1,
                    3,
                    3,
                    1,
                    1,
                    2,
                    3,
                    2,
                    3,
                    3,
                    1,
                    3,
                    2,
                    3,
                    1,
                    3,
                    1,
                    1,
                    3,
                    3,
                    2,
                    1,
                    3,
                    3,
                    1,
                    3,
                    1,
                    2,
                    1,
                    1,
                    2,
                    3,
                    2,
                    2,
                    1,
                    3,
                    1,
                    3,
                    2,
                    3,
                    1,
                    3,
                    2,
                    3,
                    3,
                    3,
                    2,
                    2,
                    2,
                    3,
                    1,
                    2,
                    3,
                    1,
                    2,
                    3,
                    2,
                    3,
                    3,
                    3,
                    2,
                    3,
                    1,
                    2,
                    3,
                    1,
                    3,
                    2,
                    1,
                    3,
                    3,
                    3,
                    3,
                    2,
                    3,
                    3,
                    3,
                    3,
                    1,
                    1,
                    2,
                    1,
                    2,
                    2,
                    3,
                    3,
                    3,
                    2,
                    3,
                    3,
                    1,
                    2,
                    3,
                    3,
                    3,
                    3,
                    3,
                    3,
                    2,
                    3,
                    2,
                    3,
                    2,
                    3,
                    1,
                    3,
                    2,
                    3,
                    1,
                    1,
                    1,
                    1,
                    1,
                    3,
                    1,
                    3,
                    1,
                    3,
                    3,
                    3,
                    3,
                    3,
                    2,
                    3,
                    1,
                    3,
                    3,
                    3,
                    2,
                    3,
                    2,
                    1,
                    3,
                    3,
                    2,
                    3,
                    3,
                    3,
                    3,
                    3,
                    3,
                    3,
                    1,
                    3,
                    3,
                    2,
                    1,
                    3,
                    3,
                    3,
                    3,
                    3,
                    3,
                    2,
                    3,
                    3,
                    3,
                    3,
                    1,
                    2,
                    2,
                    1,
                    3,
                    3,
                    1,
                    1,
                    1,
                    3,
                    3,
                    3,
                    3,
                    2,
                    2,
                    3,
                    2,
                    3,
                    3,
                    1,
                    2,
                    3,
                    1,
                    3,
                    3,
                    1,
                    3,
                    3,
                    3,
                    2,
                    3,
                    3,
                    3,
                    3,
                    3,
                    2,
                    3,
                    3,
                    3,
                    3,
                    1,
                    3,
                    1,
                    3,
                    3,
                    3,
                    3,
                    3,
                    3,
                    2,
                    2,
                    3,
                    3,
                    3,
                    3,
                    1,
                    3,
                    3,
                    3,
                    3,
                    2,
                    1,
                    3,
                    3,
                    3,
                    2,
                    1,
                    3,
                    3,
                    3,
                    1,
                    3,
                    2,
                    3,
                    3,
                    3,
                    2,
                    2,
                    3,
                    3,
                    3,
                    2,
                    3,
                    2,
                    1,
                    3,
                    1,
                    3,
                    3,
                    2,
                    3,
                    2,
                    3,
                    1,
                    3,
                    2,
                    3,
                    1,
                    3,
                    2,
                    1,
                    3,
                    1,
                    3,
                    2,
                    2,
                    1,
                    1,
                    3,
                    3,
                    3,
                    3,
                    3,
                    3,
                    3,
                    2,
                    1,
                    3,
                    2,
                    1,
                    2,
                    3,
                    3,
                    3,
                    1,
                    3,
                    3,
                    3,
                    2,
                    2,
                    3,
                    1,
                    3,
                    3,
                    3,
                    3,
                    2,
                    3,
                    3,
                    1,
                    3,
                    2,
                    1,
                    2,
                    2,
                    1,
                    3,
                    3,
                    3,
                    3,
                    3,
                    3,
                    3,
                    2,
                    3,
                    1,
                    3,
                    2,
                    2,
                    1,
                    1,
                    1,
                    1,
                    3,
                    3,
                    1,
                    3,
                    2,
                    3,
                    3,
                    3,
                    3,
                    1,
                    1,
                    1,
                    3,
                    3,
                    3,
                    1,
                    3,
                    2,
                    2,
                    3,
                    1,
                    3,
                    3,
                    3,
                    3,
                    2,
                    3,
                    1,
                    2,
                    1,
                    3,
                    1,
                    3,
                    2,
                    1,
                    3,
                    3,
                    1,
                    1,
                    1,
                    3,
                    3,
                    2,
                    3,
                    3,
                    3,
                    3,
                    3,
                    1,
                    1,
                    3,
                    3,
                    3,
                    3,
                    2,
                    3,
                    2,
                    3,
                    3,
                    3,
                    3,
                    3,
                    2,
                    3,
                    3,
                    2,
                    3,
                    3,
                    3,
                    3,
                    3,
                    3,
                    3,
                    2,
                    1,
                    3,
                    1,
                    3,
                    3,
                    2,
                    2,
                    2,
                    3,
                    3,
                    1,
                    3,
                    1,
                    3,
                    1,
                    3,
                    1,
                    1,
                    1,
                    3,
                    3,
                    3,
                    1,
                    3,
                    1,
                    1,
                    3,
                    1,
                    1,
                    1,
                    3,
                    1,
                    1,
                    1,
                    3,
                    2,
                    3,
                    3,
                    1,
                    1,
                    3,
                    2,
                    1,
                    3,
                    3,
                    3,
                    2,
                    3,
                    3,
                    3,
                    2,
                    1,
                    3,
                    3,
                    3,
                    3,
                    1,
                    3,
                    3,
                    2,
                    3,
                    1,
                    3,
                    1,
                    3,
                    2,
                    3,
                    3,
                    3,
                    3,
                    2,
                    2,
                    1,
                    1,
                    2,
                    3,
                    3,
                    1,
                    3,
                    1,
                    2,
                    3,
                    3,
                    2,
                    3,
                    3,
                    1,
                    3,
                    1,
                    1,
                    3,
                    2,
                    3,
                    3,
                    2,
                    1,
                    2,
                    3,
                    3,
                    3,
                    3,
                    2,
                    2,
                    3,
                    2,
                    3,
                    2,
                    3,
                    2,
                    3,
                    3,
                    3,
                    1,
                    2,
                    3,
                    3,
                    2,
                    3,
                    3,
                    2,
                    3,
                    3,
                    2,
                    1,
                    3,
                    3,
                    1,
                    3,
                    1,
                    1
                  ],
                  "yaxis": "y"
                },
                {
                  "name": "",
                  "type": "box",
                  "xaxis": "x2",
                  "y": [
                    45.5,
                    23,
                    32,
                    26,
                    6,
                    24,
                    45,
                    29,
                    null,
                    null,
                    42,
                    36,
                    33,
                    17,
                    29,
                    50,
                    35,
                    38,
                    34,
                    17,
                    11,
                    61,
                    30,
                    7,
                    63,
                    20,
                    null,
                    29,
                    36,
                    null,
                    50,
                    27,
                    30,
                    33,
                    null,
                    null,
                    2,
                    25,
                    51,
                    25,
                    null,
                    null,
                    24,
                    18,
                    null,
                    25,
                    24,
                    22,
                    0.92,
                    24,
                    26,
                    34,
                    21,
                    null,
                    null,
                    null,
                    22,
                    62,
                    18,
                    42,
                    57,
                    19,
                    42,
                    null,
                    20,
                    34.5,
                    28,
                    null,
                    23,
                    22,
                    52,
                    30,
                    36.5,
                    null,
                    22,
                    50,
                    27,
                    22,
                    51,
                    36,
                    29,
                    22,
                    50,
                    40,
                    27,
                    null,
                    65,
                    17,
                    28,
                    4,
                    null,
                    1,
                    36,
                    43,
                    38,
                    31,
                    29,
                    18,
                    null,
                    39,
                    39,
                    26,
                    20,
                    null,
                    49,
                    23,
                    1,
                    null,
                    null,
                    3,
                    4,
                    19,
                    40.5,
                    1,
                    null,
                    21,
                    54,
                    null,
                    25,
                    26,
                    22,
                    31,
                    49,
                    19,
                    24,
                    16,
                    25,
                    39,
                    47,
                    60,
                    24,
                    null,
                    27,
                    null,
                    38,
                    44,
                    21,
                    24,
                    45,
                    8,
                    8,
                    null,
                    32,
                    50,
                    21,
                    50,
                    23,
                    32,
                    null,
                    21,
                    null,
                    25,
                    15,
                    31,
                    25,
                    54,
                    28,
                    38,
                    41,
                    33,
                    52,
                    16,
                    20,
                    9,
                    null,
                    null,
                    null,
                    54,
                    26,
                    60,
                    null,
                    44,
                    20,
                    null,
                    16,
                    43,
                    17,
                    37,
                    62,
                    8,
                    32,
                    20,
                    28,
                    21,
                    37,
                    17,
                    null,
                    46,
                    null,
                    24,
                    29,
                    56,
                    31,
                    null,
                    32,
                    33,
                    59,
                    58,
                    null,
                    3,
                    null,
                    16,
                    45,
                    43,
                    30,
                    28.5,
                    24,
                    30,
                    36,
                    25,
                    null,
                    50,
                    0.75,
                    24,
                    24,
                    35,
                    30,
                    23,
                    null,
                    27,
                    55,
                    35,
                    null,
                    null,
                    null,
                    23,
                    null,
                    23,
                    51,
                    33,
                    29,
                    null,
                    null,
                    2,
                    14,
                    54,
                    15,
                    22,
                    27,
                    null,
                    null,
                    28,
                    39,
                    2,
                    24,
                    32,
                    45.5,
                    8,
                    26,
                    29,
                    45,
                    36,
                    null,
                    4,
                    16,
                    58,
                    40.5,
                    25,
                    null,
                    51,
                    null,
                    17,
                    null,
                    40,
                    25,
                    47,
                    null,
                    44,
                    23,
                    18,
                    29,
                    12,
                    11,
                    22,
                    19,
                    22,
                    33,
                    56,
                    1,
                    22,
                    null,
                    null,
                    7,
                    4,
                    70.5,
                    18,
                    20,
                    24,
                    null,
                    34,
                    null,
                    31,
                    30,
                    18,
                    9,
                    39,
                    33,
                    70,
                    24,
                    58,
                    21,
                    17,
                    28,
                    24,
                    null,
                    null,
                    42,
                    18,
                    2,
                    34,
                    3,
                    58,
                    32,
                    31,
                    null,
                    27,
                    11,
                    23,
                    40,
                    null,
                    28,
                    28,
                    null,
                    19,
                    30,
                    20,
                    28,
                    36,
                    null,
                    24,
                    28.5,
                    24,
                    42,
                    54,
                    25,
                    7,
                    25,
                    27,
                    24,
                    null,
                    28,
                    19,
                    22,
                    null,
                    null,
                    42,
                    50,
                    3,
                    null,
                    18,
                    18,
                    44,
                    null,
                    null,
                    null,
                    16,
                    null,
                    22,
                    4,
                    null,
                    24,
                    30,
                    29,
                    24,
                    45,
                    32,
                    21,
                    35,
                    null,
                    null,
                    36,
                    41,
                    23,
                    34,
                    null,
                    null,
                    15,
                    null,
                    18,
                    30,
                    32,
                    4,
                    2,
                    null,
                    null,
                    48,
                    31,
                    47,
                    26,
                    9,
                    19,
                    null,
                    22,
                    null,
                    28,
                    24,
                    17,
                    null,
                    null,
                    21,
                    51,
                    3,
                    0.75,
                    null,
                    34,
                    18,
                    44,
                    null,
                    null,
                    37,
                    21,
                    36,
                    32,
                    null,
                    26,
                    80,
                    55.5,
                    60,
                    null,
                    18,
                    14.5,
                    19,
                    4,
                    33,
                    21,
                    10,
                    47,
                    2,
                    29,
                    22,
                    28,
                    null,
                    26,
                    33,
                    27,
                    27,
                    34,
                    null,
                    30,
                    30,
                    null,
                    null,
                    53,
                    32,
                    52,
                    52,
                    39,
                    2,
                    44,
                    51,
                    39,
                    46,
                    17,
                    30,
                    9,
                    27,
                    21,
                    null,
                    26,
                    3,
                    48,
                    36,
                    null,
                    32.5,
                    33,
                    22,
                    19,
                    74,
                    42,
                    40,
                    35,
                    24,
                    39,
                    32.5,
                    1,
                    34,
                    64,
                    25,
                    null,
                    1,
                    45,
                    31,
                    21,
                    25,
                    15,
                    26,
                    30,
                    24,
                    35,
                    70,
                    null,
                    21,
                    18,
                    null,
                    1,
                    null,
                    26,
                    25,
                    null,
                    20,
                    54,
                    22,
                    59,
                    54,
                    27,
                    31,
                    22,
                    33,
                    6,
                    5,
                    39,
                    24.5,
                    54,
                    null,
                    null,
                    30,
                    null,
                    35,
                    21,
                    32,
                    16,
                    22,
                    null,
                    38,
                    null,
                    25,
                    33,
                    null,
                    18,
                    null,
                    null,
                    2,
                    0.42,
                    26,
                    41,
                    48,
                    48,
                    48,
                    4,
                    39,
                    33,
                    29,
                    49,
                    null,
                    null,
                    42,
                    36,
                    61,
                    18,
                    18,
                    0.67,
                    32,
                    null,
                    null,
                    null,
                    16,
                    31,
                    48,
                    22,
                    13,
                    32,
                    28,
                    46,
                    28,
                    42,
                    35,
                    2,
                    31,
                    null,
                    null,
                    19,
                    20,
                    14,
                    34,
                    null,
                    null,
                    51,
                    null,
                    null,
                    null,
                    28,
                    25,
                    19,
                    35,
                    35,
                    9,
                    20,
                    42,
                    30,
                    null,
                    21,
                    47,
                    25,
                    16,
                    45,
                    38,
                    56,
                    null,
                    31,
                    30,
                    null,
                    14,
                    16,
                    40,
                    55,
                    19,
                    45,
                    36,
                    27,
                    49,
                    41,
                    19,
                    33,
                    27,
                    null,
                    35,
                    29,
                    30,
                    34,
                    29,
                    19,
                    35,
                    null,
                    40,
                    62,
                    25,
                    26,
                    18,
                    34,
                    48,
                    28,
                    24,
                    17,
                    38,
                    null,
                    40,
                    22,
                    2,
                    28,
                    18,
                    28,
                    19,
                    null,
                    60,
                    20,
                    45,
                    null,
                    24,
                    null,
                    null,
                    39,
                    26,
                    24,
                    36,
                    37,
                    null,
                    28,
                    19,
                    43,
                    25,
                    47,
                    16,
                    0.83,
                    22,
                    19,
                    28,
                    14,
                    36,
                    29,
                    42,
                    null,
                    27,
                    29,
                    5,
                    22,
                    null,
                    30,
                    62,
                    34,
                    28,
                    null,
                    44,
                    45,
                    19,
                    18,
                    31,
                    null,
                    21,
                    25,
                    32,
                    30,
                    40,
                    33,
                    36,
                    47,
                    34,
                    19,
                    null,
                    50,
                    null,
                    null,
                    null,
                    null,
                    35,
                    35,
                    18,
                    16,
                    21,
                    null,
                    41,
                    14,
                    21
                  ],
                  "yaxis": "y2"
                },
                {
                  "name": "",
                  "type": "box",
                  "xaxis": "x3",
                  "y": [
                    0,
                    0,
                    0,
                    1,
                    4,
                    0,
                    0,
                    1,
                    0,
                    0,
                    0,
                    1,
                    0,
                    1,
                    0,
                    0,
                    1,
                    0,
                    0,
                    1,
                    4,
                    0,
                    0,
                    0,
                    0,
                    0,
                    0,
                    0,
                    1,
                    0,
                    0,
                    0,
                    0,
                    1,
                    0,
                    3,
                    3,
                    1,
                    0,
                    0,
                    0,
                    0,
                    0,
                    1,
                    0,
                    0,
                    0,
                    0,
                    1,
                    1,
                    0,
                    1,
                    2,
                    0,
                    0,
                    0,
                    0,
                    0,
                    0,
                    0,
                    0,
                    0,
                    1,
                    0,
                    0,
                    0,
                    0,
                    0,
                    0,
                    0,
                    0,
                    0,
                    0,
                    0,
                    0,
                    2,
                    0,
                    0,
                    1,
                    0,
                    1,
                    0,
                    1,
                    0,
                    0,
                    0,
                    0,
                    0,
                    0,
                    0,
                    0,
                    1,
                    1,
                    1,
                    0,
                    1,
                    0,
                    0,
                    0,
                    1,
                    0,
                    2,
                    0,
                    1,
                    0,
                    0,
                    4,
                    0,
                    1,
                    1,
                    1,
                    0,
                    0,
                    0,
                    0,
                    0,
                    0,
                    0,
                    1,
                    1,
                    0,
                    1,
                    1,
                    1,
                    0,
                    0,
                    1,
                    0,
                    1,
                    0,
                    0,
                    0,
                    1,
                    0,
                    0,
                    0,
                    0,
                    0,
                    0,
                    1,
                    3,
                    0,
                    0,
                    1,
                    0,
                    0,
                    0,
                    0,
                    0,
                    2,
                    0,
                    0,
                    1,
                    1,
                    0,
                    0,
                    0,
                    0,
                    0,
                    0,
                    0,
                    1,
                    0,
                    4,
                    0,
                    0,
                    0,
                    1,
                    0,
                    1,
                    0,
                    0,
                    1,
                    3,
                    0,
                    1,
                    0,
                    1,
                    0,
                    4,
                    0,
                    1,
                    0,
                    0,
                    2,
                    0,
                    0,
                    1,
                    0,
                    0,
                    1,
                    0,
                    1,
                    0,
                    1,
                    1,
                    0,
                    0,
                    1,
                    1,
                    0,
                    0,
                    1,
                    0,
                    0,
                    0,
                    0,
                    0,
                    0,
                    0,
                    0,
                    0,
                    2,
                    0,
                    1,
                    1,
                    0,
                    0,
                    0,
                    0,
                    0,
                    1,
                    0,
                    0,
                    1,
                    0,
                    0,
                    1,
                    0,
                    0,
                    0,
                    0,
                    8,
                    1,
                    1,
                    1,
                    0,
                    0,
                    0,
                    0,
                    0,
                    1,
                    0,
                    1,
                    1,
                    0,
                    0,
                    0,
                    1,
                    0,
                    1,
                    1,
                    0,
                    0,
                    0,
                    0,
                    0,
                    0,
                    0,
                    0,
                    0,
                    4,
                    0,
                    1,
                    0,
                    0,
                    0,
                    1,
                    3,
                    0,
                    1,
                    1,
                    0,
                    0,
                    0,
                    1,
                    0,
                    0,
                    0,
                    0,
                    0,
                    0,
                    4,
                    0,
                    0,
                    0,
                    1,
                    2,
                    0,
                    0,
                    0,
                    0,
                    0,
                    0,
                    3,
                    1,
                    1,
                    1,
                    0,
                    0,
                    0,
                    1,
                    1,
                    0,
                    0,
                    1,
                    0,
                    1,
                    0,
                    0,
                    4,
                    0,
                    0,
                    0,
                    0,
                    1,
                    5,
                    0,
                    0,
                    0,
                    0,
                    0,
                    1,
                    0,
                    1,
                    0,
                    0,
                    0,
                    0,
                    3,
                    0,
                    0,
                    0,
                    0,
                    0,
                    4,
                    1,
                    0,
                    1,
                    0,
                    0,
                    0,
                    0,
                    0,
                    8,
                    0,
                    0,
                    1,
                    0,
                    2,
                    1,
                    2,
                    0,
                    0,
                    1,
                    0,
                    0,
                    0,
                    1,
                    0,
                    0,
                    0,
                    0,
                    0,
                    1,
                    0,
                    0,
                    0,
                    8,
                    2,
                    0,
                    0,
                    0,
                    1,
                    0,
                    0,
                    0,
                    0,
                    0,
                    0,
                    2,
                    4,
                    4,
                    0,
                    2,
                    0,
                    0,
                    0,
                    1,
                    5,
                    0,
                    0,
                    0,
                    0,
                    0,
                    2,
                    0,
                    1,
                    3,
                    0,
                    0,
                    3,
                    2,
                    0,
                    0,
                    0,
                    0,
                    0,
                    0,
                    0,
                    1,
                    1,
                    0,
                    1,
                    0,
                    0,
                    0,
                    1,
                    0,
                    0,
                    1,
                    0,
                    2,
                    0,
                    0,
                    0,
                    0,
                    4,
                    1,
                    1,
                    1,
                    0,
                    0,
                    0,
                    0,
                    0,
                    0,
                    0,
                    0,
                    1,
                    0,
                    0,
                    2,
                    0,
                    0,
                    1,
                    1,
                    1,
                    0,
                    0,
                    0,
                    0,
                    0,
                    0,
                    2,
                    0,
                    0,
                    0,
                    0,
                    1,
                    0,
                    0,
                    1,
                    0,
                    0,
                    1,
                    0,
                    0,
                    0,
                    0,
                    1,
                    0,
                    0,
                    1,
                    2,
                    0,
                    1,
                    0,
                    0,
                    1,
                    0,
                    1,
                    1,
                    0,
                    0,
                    0,
                    0,
                    0,
                    0,
                    0,
                    0,
                    0,
                    0,
                    0,
                    5,
                    8,
                    0,
                    1,
                    0,
                    0,
                    1,
                    0,
                    0,
                    1,
                    0,
                    1,
                    0,
                    0,
                    0,
                    4,
                    0,
                    0,
                    0,
                    0,
                    0,
                    0,
                    0,
                    0,
                    0,
                    0,
                    0,
                    0,
                    0,
                    1,
                    8,
                    1,
                    1,
                    1,
                    1,
                    1,
                    0,
                    4,
                    0,
                    0,
                    0,
                    1,
                    1,
                    1,
                    4,
                    1,
                    3,
                    0,
                    1,
                    8,
                    0,
                    1,
                    0,
                    0,
                    0,
                    0,
                    1,
                    0,
                    0,
                    0,
                    1,
                    0,
                    1,
                    0,
                    0,
                    0,
                    1,
                    2,
                    0,
                    0,
                    1,
                    0,
                    3,
                    0,
                    1,
                    0,
                    1,
                    0,
                    5,
                    0,
                    0,
                    0,
                    0,
                    0,
                    0,
                    0,
                    0,
                    0,
                    3,
                    0,
                    1,
                    1,
                    0,
                    0,
                    0,
                    0,
                    0,
                    0,
                    1,
                    0,
                    1,
                    0,
                    0,
                    1,
                    0,
                    0,
                    0,
                    0,
                    0,
                    1,
                    0,
                    0,
                    0,
                    1,
                    0,
                    1,
                    0,
                    1,
                    0,
                    1,
                    0,
                    0,
                    1,
                    3,
                    0,
                    0,
                    0,
                    0,
                    8,
                    0,
                    0,
                    1,
                    0,
                    0,
                    1,
                    0,
                    0,
                    2,
                    0,
                    1,
                    0,
                    0,
                    0,
                    0,
                    1,
                    0,
                    0,
                    0,
                    0,
                    1,
                    0,
                    0,
                    0,
                    0,
                    0,
                    1,
                    1,
                    0,
                    2,
                    0,
                    0,
                    0,
                    0,
                    0,
                    0,
                    1,
                    0,
                    0,
                    1,
                    0,
                    0,
                    0,
                    4,
                    0,
                    0,
                    0,
                    0,
                    0,
                    0,
                    1,
                    0,
                    0,
                    0,
                    0,
                    0,
                    0,
                    0,
                    0,
                    0,
                    0,
                    0,
                    0,
                    0,
                    0,
                    0,
                    0,
                    1,
                    0,
                    0,
                    0,
                    1,
                    1,
                    0,
                    0,
                    0,
                    2,
                    1,
                    0,
                    0,
                    0,
                    0,
                    1,
                    5,
                    0,
                    0,
                    2,
                    1,
                    0
                  ],
                  "yaxis": "y3"
                },
                {
                  "name": "",
                  "type": "box",
                  "xaxis": "x4",
                  "y": [
                    0,
                    0,
                    0,
                    0,
                    2,
                    1,
                    0,
                    0,
                    0,
                    0,
                    0,
                    1,
                    0,
                    0,
                    0,
                    1,
                    0,
                    0,
                    0,
                    0,
                    2,
                    0,
                    0,
                    2,
                    0,
                    0,
                    2,
                    0,
                    2,
                    0,
                    0,
                    2,
                    0,
                    0,
                    0,
                    1,
                    1,
                    1,
                    1,
                    1,
                    0,
                    0,
                    0,
                    1,
                    0,
                    0,
                    2,
                    0,
                    2,
                    0,
                    0,
                    0,
                    2,
                    0,
                    0,
                    0,
                    0,
                    0,
                    0,
                    0,
                    0,
                    0,
                    0,
                    0,
                    0,
                    0,
                    0,
                    0,
                    0,
                    0,
                    0,
                    0,
                    2,
                    0,
                    0,
                    0,
                    0,
                    0,
                    0,
                    0,
                    0,
                    0,
                    0,
                    0,
                    0,
                    0,
                    0,
                    0,
                    0,
                    2,
                    0,
                    1,
                    2,
                    1,
                    1,
                    1,
                    0,
                    0,
                    0,
                    1,
                    0,
                    0,
                    0,
                    0,
                    0,
                    0,
                    1,
                    0,
                    2,
                    1,
                    1,
                    0,
                    0,
                    2,
                    2,
                    0,
                    0,
                    0,
                    2,
                    0,
                    0,
                    1,
                    0,
                    1,
                    0,
                    0,
                    0,
                    0,
                    0,
                    0,
                    0,
                    0,
                    0,
                    0,
                    0,
                    0,
                    0,
                    2,
                    0,
                    1,
                    1,
                    0,
                    0,
                    0,
                    0,
                    0,
                    0,
                    0,
                    0,
                    2,
                    0,
                    0,
                    1,
                    0,
                    0,
                    0,
                    0,
                    0,
                    1,
                    0,
                    0,
                    1,
                    0,
                    2,
                    0,
                    0,
                    0,
                    0,
                    0,
                    1,
                    0,
                    1,
                    0,
                    1,
                    0,
                    6,
                    0,
                    1,
                    0,
                    1,
                    0,
                    0,
                    0,
                    0,
                    0,
                    0,
                    0,
                    0,
                    0,
                    0,
                    0,
                    1,
                    1,
                    0,
                    0,
                    1,
                    0,
                    0,
                    0,
                    2,
                    0,
                    1,
                    4,
                    1,
                    0,
                    0,
                    0,
                    0,
                    0,
                    0,
                    2,
                    0,
                    1,
                    0,
                    2,
                    0,
                    0,
                    0,
                    0,
                    0,
                    0,
                    0,
                    0,
                    0,
                    0,
                    0,
                    0,
                    0,
                    0,
                    2,
                    4,
                    0,
                    2,
                    1,
                    0,
                    0,
                    0,
                    1,
                    0,
                    0,
                    0,
                    0,
                    0,
                    1,
                    0,
                    0,
                    0,
                    2,
                    2,
                    0,
                    1,
                    0,
                    0,
                    2,
                    0,
                    0,
                    2,
                    0,
                    0,
                    0,
                    0,
                    2,
                    0,
                    1,
                    0,
                    0,
                    0,
                    0,
                    2,
                    0,
                    0,
                    0,
                    0,
                    0,
                    0,
                    0,
                    0,
                    0,
                    2,
                    0,
                    0,
                    0,
                    1,
                    1,
                    0,
                    0,
                    1,
                    0,
                    0,
                    0,
                    0,
                    2,
                    0,
                    0,
                    2,
                    1,
                    0,
                    1,
                    0,
                    1,
                    0,
                    0,
                    1,
                    0,
                    0,
                    0,
                    0,
                    0,
                    1,
                    0,
                    2,
                    0,
                    0,
                    0,
                    0,
                    0,
                    2,
                    0,
                    0,
                    0,
                    0,
                    0,
                    0,
                    0,
                    1,
                    0,
                    0,
                    0,
                    0,
                    2,
                    0,
                    3,
                    0,
                    1,
                    0,
                    1,
                    0,
                    1,
                    0,
                    0,
                    0,
                    0,
                    0,
                    0,
                    2,
                    0,
                    0,
                    1,
                    0,
                    0,
                    1,
                    0,
                    0,
                    0,
                    0,
                    0,
                    0,
                    0,
                    1,
                    0,
                    0,
                    0,
                    2,
                    0,
                    1,
                    0,
                    0,
                    0,
                    2,
                    0,
                    1,
                    5,
                    0,
                    1,
                    0,
                    0,
                    0,
                    0,
                    0,
                    0,
                    0,
                    1,
                    1,
                    0,
                    0,
                    0,
                    0,
                    0,
                    0,
                    2,
                    0,
                    0,
                    0,
                    0,
                    1,
                    3,
                    0,
                    0,
                    1,
                    0,
                    0,
                    1,
                    1,
                    0,
                    0,
                    1,
                    0,
                    0,
                    0,
                    0,
                    0,
                    0,
                    0,
                    2,
                    0,
                    0,
                    0,
                    1,
                    0,
                    0,
                    0,
                    0,
                    1,
                    0,
                    0,
                    2,
                    0,
                    2,
                    0,
                    0,
                    0,
                    0,
                    0,
                    0,
                    0,
                    2,
                    0,
                    0,
                    0,
                    0,
                    0,
                    0,
                    0,
                    0,
                    0,
                    1,
                    5,
                    2,
                    0,
                    0,
                    0,
                    0,
                    2,
                    0,
                    2,
                    0,
                    0,
                    0,
                    0,
                    1,
                    0,
                    0,
                    0,
                    0,
                    0,
                    2,
                    0,
                    0,
                    1,
                    0,
                    1,
                    0,
                    0,
                    0,
                    1,
                    0,
                    4,
                    0,
                    0,
                    2,
                    0,
                    1,
                    0,
                    0,
                    1,
                    0,
                    0,
                    0,
                    0,
                    0,
                    0,
                    0,
                    1,
                    0,
                    2,
                    2,
                    0,
                    0,
                    0,
                    0,
                    0,
                    0,
                    0,
                    3,
                    0,
                    0,
                    0,
                    0,
                    1,
                    2,
                    0,
                    0,
                    0,
                    0,
                    0,
                    0,
                    0,
                    0,
                    0,
                    0,
                    0,
                    0,
                    0,
                    0,
                    2,
                    0,
                    2,
                    0,
                    0,
                    0,
                    0,
                    1,
                    1,
                    0,
                    0,
                    0,
                    2,
                    0,
                    2,
                    0,
                    0,
                    0,
                    1,
                    2,
                    0,
                    0,
                    2,
                    0,
                    0,
                    0,
                    1,
                    0,
                    0,
                    0,
                    0,
                    0,
                    0,
                    0,
                    0,
                    0,
                    0,
                    0,
                    0,
                    0,
                    0,
                    0,
                    2,
                    0,
                    0,
                    0,
                    0,
                    0,
                    2,
                    1,
                    0,
                    0,
                    0,
                    0,
                    0,
                    0,
                    0,
                    0,
                    2,
                    0,
                    0,
                    1,
                    0,
                    0,
                    0,
                    0,
                    0,
                    0,
                    2,
                    0,
                    0,
                    0,
                    0,
                    1,
                    0,
                    0,
                    0,
                    0,
                    0,
                    0,
                    0,
                    0,
                    0,
                    2,
                    0,
                    0,
                    0,
                    0,
                    0,
                    0,
                    0,
                    0,
                    1,
                    0,
                    0,
                    0,
                    0,
                    0,
                    2,
                    0,
                    0,
                    0,
                    0,
                    1,
                    0,
                    0,
                    0,
                    0,
                    0,
                    0,
                    0,
                    0,
                    0,
                    1,
                    0,
                    0,
                    0,
                    0,
                    0,
                    0,
                    0,
                    0,
                    0,
                    0,
                    0,
                    0,
                    5,
                    0,
                    1,
                    0,
                    1,
                    1,
                    0,
                    0,
                    0,
                    0,
                    0,
                    0,
                    1,
                    0,
                    0,
                    0,
                    1,
                    0,
                    0,
                    0,
                    0,
                    0,
                    0,
                    2,
                    0,
                    0,
                    0,
                    0,
                    0,
                    0,
                    0,
                    1,
                    0,
                    0,
                    0,
                    0,
                    0,
                    0,
                    0,
                    0,
                    0,
                    0,
                    0,
                    0,
                    1,
                    0,
                    0,
                    0,
                    0,
                    0,
                    0,
                    0,
                    0,
                    0,
                    0,
                    0,
                    2,
                    0,
                    0,
                    0,
                    2,
                    1
                  ],
                  "yaxis": "y4"
                },
                {
                  "name": "",
                  "type": "box",
                  "xaxis": "x5",
                  "y": [
                    28.5,
                    13,
                    7.925,
                    7.8542,
                    31.275,
                    247.5208,
                    26.55,
                    27.7208,
                    7.8958,
                    35.5,
                    13,
                    24.15,
                    12.275,
                    7.0542,
                    9.5,
                    26,
                    90,
                    227.525,
                    13,
                    57,
                    31.275,
                    6.2375,
                    8.6625,
                    26.25,
                    9.5875,
                    7.2292,
                    22.3583,
                    9.4833,
                    120,
                    14.4583,
                    8.05,
                    211.5,
                    7.25,
                    90,
                    7.725,
                    25.4667,
                    21.075,
                    30,
                    61.3792,
                    26,
                    7.25,
                    7.8958,
                    13,
                    20.2125,
                    30.5,
                    7.05,
                    14.5,
                    7.5208,
                    151.55,
                    26,
                    7.925,
                    21,
                    262.375,
                    7.75,
                    7.2292,
                    8.6625,
                    7.775,
                    80,
                    9.8417,
                    227.525,
                    12.35,
                    0,
                    26,
                    7.225,
                    8.6625,
                    6.4375,
                    9.5,
                    8.05,
                    7.8958,
                    7.25,
                    30.5,
                    12.475,
                    26,
                    7.75,
                    7.2292,
                    133.65,
                    6.975,
                    8.05,
                    77.9583,
                    10.5,
                    26,
                    151.55,
                    106.425,
                    13,
                    8.6625,
                    0,
                    26.55,
                    8.6625,
                    26.55,
                    81.8583,
                    7.8958,
                    11.1333,
                    27.75,
                    26.25,
                    153.4625,
                    26.25,
                    8.05,
                    8.3,
                    15.05,
                    110.8833,
                    13,
                    8.6625,
                    7.05,
                    133.65,
                    0,
                    15.0458,
                    39.6875,
                    7.8792,
                    23.45,
                    26,
                    11.1333,
                    7.65,
                    7.75,
                    15.7417,
                    15.2458,
                    7.925,
                    51.8625,
                    15.5,
                    41.5792,
                    14.4542,
                    10.5167,
                    20.525,
                    89.1042,
                    36.75,
                    10.5,
                    8.05,
                    55.4417,
                    24.15,
                    14.5,
                    26.55,
                    13,
                    50,
                    21,
                    13.8625,
                    7.8958,
                    8.05,
                    10.5,
                    16.7,
                    13.5,
                    36.75,
                    21.075,
                    35,
                    8.05,
                    55.9,
                    7.8,
                    10.5,
                    7.925,
                    7.8542,
                    7.75,
                    34.375,
                    7.75,
                    7.225,
                    7.2292,
                    18,
                    13,
                    26,
                    47.1,
                    80,
                    19.5,
                    8.6625,
                    13.5,
                    20.25,
                    8.05,
                    31.3875,
                    8.1125,
                    7.8292,
                    7.8958,
                    59.4,
                    7.8958,
                    79.2,
                    56.4958,
                    57.9792,
                    7.925,
                    25.4667,
                    10.5,
                    46.9,
                    8.6625,
                    52.5542,
                    10.5,
                    29.125,
                    56.4958,
                    9.825,
                    13,
                    7.75,
                    7.925,
                    14.4583,
                    7.75,
                    61.175,
                    15.1,
                    8.05,
                    66.6,
                    83.1583,
                    37.0042,
                    7.75,
                    26,
                    20.525,
                    7.25,
                    26.55,
                    16.1,
                    41.5792,
                    7.8958,
                    57.9792,
                    27.9,
                    211.3375,
                    106.425,
                    16.1,
                    7.7958,
                    13,
                    40.125,
                    7.05,
                    7.75,
                    28.7125,
                    19.2583,
                    49.5042,
                    65,
                    52,
                    86.5,
                    13,
                    7.8958,
                    26,
                    16,
                    53.1,
                    6.8583,
                    79.2,
                    19.9667,
                    13.7917,
                    7.7333,
                    113.275,
                    8.05,
                    26,
                    21.075,
                    7.8958,
                    69.55,
                    26,
                    30.0708,
                    26,
                    8.0292,
                    55,
                    13,
                    7.8958,
                    39.6,
                    24,
                    7.925,
                    26,
                    16.1,
                    7.8958,
                    7.225,
                    26.25,
                    20.575,
                    211.3375,
                    26.25,
                    17.4,
                    26,
                    22.025,
                    26,
                    29.7,
                    14.5,
                    7.65,
                    7.8958,
                    7.0542,
                    0,
                    7.925,
                    6.95,
                    15.5,
                    0,
                    25.5875,
                    26.55,
                    26,
                    263,
                    11.5,
                    21,
                    11.2417,
                    18.7875,
                    7.75,
                    10.5,
                    7.25,
                    7.8958,
                    26.55,
                    37.0042,
                    7.7958,
                    7.2292,
                    7.75,
                    29.125,
                    13.4167,
                    7.75,
                    13,
                    15.7417,
                    73.5,
                    7.225,
                    10.5,
                    7.75,
                    164.8667,
                    7.8958,
                    11.5,
                    27.9,
                    79.65,
                    53.1,
                    71,
                    69.3,
                    153.4625,
                    7.8542,
                    108.9,
                    14.4,
                    83.1583,
                    7.225,
                    15.5,
                    8.6625,
                    6.4958,
                    12.2875,
                    13,
                    31.3875,
                    146.5208,
                    7.75,
                    7.925,
                    7.775,
                    13.8583,
                    46.9,
                    13,
                    0,
                    7.2292,
                    7.8958,
                    13,
                    19.9667,
                    10.1708,
                    24.15,
                    7.8542,
                    56.4958,
                    0,
                    8.05,
                    263,
                    7.2292,
                    19.2583,
                    13,
                    77.2875,
                    7.7417,
                    39.6875,
                    17.8,
                    12.475,
                    15.85,
                    7.25,
                    12.65,
                    14.5,
                    7.25,
                    7.225,
                    69.55,
                    26.2875,
                    13,
                    18.75,
                    227.525,
                    18,
                    7.8542,
                    90,
                    30,
                    42.4,
                    24.15,
                    7.775,
                    7.3125,
                    7.8958,
                    23,
                    13,
                    7.1417,
                    12.35,
                    15.2458,
                    9.5,
                    164.8667,
                    13,
                    7.925,
                    512.3292,
                    69.55,
                    23.25,
                    512.3292,
                    39.6875,
                    7.55,
                    14.4,
                    33,
                    24.15,
                    7.225,
                    8.05,
                    7.775,
                    8.05,
                    73.5,
                    29.125,
                    29.125,
                    8.05,
                    21.6792,
                    25.9292,
                    7.75,
                    34.0208,
                    16.1,
                    46.9,
                    8.05,
                    8.05,
                    9.35,
                    7.225,
                    33,
                    18.75,
                    8.6625,
                    15.5,
                    25.4667,
                    8.05,
                    26.55,
                    21.075,
                    19.2583,
                    7.2292,
                    8.05,
                    23,
                    27.7208,
                    14.5,
                    9.5,
                    9.5875,
                    11.5,
                    78.85,
                    7.925,
                    23.45,
                    7.775,
                    30,
                    8.05,
                    39,
                    7.7333,
                    7.775,
                    14.4542,
                    10.5,
                    39,
                    8.6542,
                    7.7333,
                    24.15,
                    15,
                    31.275,
                    26,
                    66.6,
                    15.85,
                    29.7,
                    18.7875,
                    9.5,
                    10.5,
                    11.1333,
                    13,
                    7.2292,
                    27.75,
                    16.1,
                    12.35,
                    7.775,
                    51.4792,
                    7.925,
                    13,
                    79.65,
                    31.275,
                    151.55,
                    7.925,
                    12.525,
                    26,
                    79.2,
                    110.8833,
                    8.05,
                    34.375,
                    7.7958,
                    8.6625,
                    56.4958,
                    7.8958,
                    15.9,
                    13,
                    135.6333,
                    15.5,
                    13,
                    86.5,
                    41.5792,
                    6.75,
                    7.775,
                    8.4042,
                    153.4625,
                    20.25,
                    8.85,
                    7.925,
                    30.0708,
                    39,
                    6.4958,
                    263,
                    7.775,
                    8.05,
                    20.575,
                    6.975,
                    26.25,
                    9.825,
                    7.8958,
                    211.3375,
                    7.8875,
                    10.5,
                    69.3,
                    10.5,
                    10.5,
                    0,
                    16.1,
                    9.35,
                    8.1375,
                    46.9,
                    69.55,
                    56.4958,
                    7.775,
                    0,
                    9.5,
                    78.2667,
                    8.05,
                    13.5,
                    23,
                    30.5,
                    52,
                    135.6333,
                    5,
                    12.475,
                    31.3875,
                    0,
                    8.05,
                    14,
                    7.55,
                    7.8958,
                    7.2292,
                    7.8792,
                    512.3292,
                    77.9583,
                    30.5,
                    9.5,
                    7.25,
                    7.8958,
                    90,
                    69.55,
                    26,
                    27.75,
                    16.1,
                    108.9,
                    16.1,
                    7.8958,
                    39.6875,
                    8.5167,
                    10.5,
                    7.125,
                    76.7292,
                    65,
                    39.6,
                    31.275,
                    55.9,
                    15.85,
                    10.5,
                    110.8833,
                    69.55,
                    7.2292,
                    52,
                    71,
                    33.5,
                    6.75,
                    7.4958,
                    14.5,
                    56.4958,
                    8.05,
                    8.05,
                    14.4542,
                    8.05,
                    57,
                    26.55,
                    7.225,
                    7.2292,
                    15.85,
                    7.925,
                    26,
                    7.7958,
                    27,
                    8.05,
                    27.9,
                    8.6833,
                    15.5,
                    7.8958,
                    26,
                    8.6625,
                    46.9,
                    23,
                    7.7375,
                    7.75,
                    7.75,
                    7.6292,
                    7.75,
                    7.75,
                    9.5,
                    13,
                    263,
                    7.8958,
                    83.475,
                    15.9,
                    4.0125,
                    13,
                    13,
                    0,
                    7.7958,
                    7.25,
                    151.55,
                    9.2167,
                    83.475,
                    8.6625,
                    35.5,
                    22.3583,
                    50.4958,
                    93.5,
                    27.7208,
                    7.8542,
                    7.7333,
                    9.475,
                    30.5,
                    7.775,
                    26.55,
                    120,
                    7.925,
                    76.7292,
                    134.5,
                    53.1,
                    7.775,
                    53.1,
                    27.7208,
                    26.2875,
                    10.4625,
                    21,
                    8.05,
                    7.8958,
                    30,
                    135.6333,
                    69.55,
                    15.75,
                    26.55,
                    7.925,
                    8.05,
                    14.4542,
                    21,
                    7.8542,
                    7.8958,
                    24.15,
                    12,
                    71.2833,
                    7.2292,
                    7.8958,
                    9,
                    10.4625,
                    82.1708,
                    7.75,
                    22.525,
                    26,
                    8.05,
                    75.25,
                    7.8542,
                    35.5,
                    8.05,
                    13,
                    7.75,
                    15.5,
                    31.275,
                    7.8542,
                    27,
                    13,
                    29.7,
                    55,
                    10.5,
                    7.8958,
                    6.45,
                    91.0792,
                    9,
                    86.5,
                    18.75,
                    7.125,
                    7.8958,
                    13.5,
                    39.6875,
                    7.8958,
                    30,
                    7.65,
                    52,
                    76.7292,
                    7.75,
                    27.75,
                    9.8375,
                    7.75,
                    13,
                    26.55,
                    13,
                    7.8958,
                    7.75,
                    16.1,
                    7.75,
                    13,
                    73.5,
                    7.775,
                    0,
                    7.25,
                    13,
                    8.3625,
                    24,
                    7.225,
                    7.8958,
                    7.4958,
                    52.5542,
                    26,
                    8.05,
                    8.05,
                    10.5,
                    23.25,
                    7.75,
                    0,
                    8.05,
                    8.05,
                    26,
                    227.525,
                    46.9,
                    7.65,
                    31,
                    14.1083,
                    120,
                    77.2875
                  ],
                  "yaxis": "y5"
                }
              ],
              "layout": {
                "annotations": [
                  {
                    "font": {
                      "size": 16
                    },
                    "showarrow": false,
                    "text": "Pclass",
                    "x": 0.08399999999999999,
                    "xanchor": "center",
                    "xref": "paper",
                    "y": 1,
                    "yanchor": "bottom",
                    "yref": "paper"
                  },
                  {
                    "font": {
                      "size": 16
                    },
                    "showarrow": false,
                    "text": "Age",
                    "x": 0.292,
                    "xanchor": "center",
                    "xref": "paper",
                    "y": 1,
                    "yanchor": "bottom",
                    "yref": "paper"
                  },
                  {
                    "font": {
                      "size": 16
                    },
                    "showarrow": false,
                    "text": "SibSp",
                    "x": 0.5,
                    "xanchor": "center",
                    "xref": "paper",
                    "y": 1,
                    "yanchor": "bottom",
                    "yref": "paper"
                  },
                  {
                    "font": {
                      "size": 16
                    },
                    "showarrow": false,
                    "text": "Parch",
                    "x": 0.708,
                    "xanchor": "center",
                    "xref": "paper",
                    "y": 1,
                    "yanchor": "bottom",
                    "yref": "paper"
                  },
                  {
                    "font": {
                      "size": 16
                    },
                    "showarrow": false,
                    "text": "Fare",
                    "x": 0.9159999999999999,
                    "xanchor": "center",
                    "xref": "paper",
                    "y": 1,
                    "yanchor": "bottom",
                    "yref": "paper"
                  }
                ],
                "height": 400,
                "template": {
                  "data": {
                    "bar": [
                      {
                        "error_x": {
                          "color": "#2a3f5f"
                        },
                        "error_y": {
                          "color": "#2a3f5f"
                        },
                        "marker": {
                          "line": {
                            "color": "#E5ECF6",
                            "width": 0.5
                          },
                          "pattern": {
                            "fillmode": "overlay",
                            "size": 10,
                            "solidity": 0.2
                          }
                        },
                        "type": "bar"
                      }
                    ],
                    "barpolar": [
                      {
                        "marker": {
                          "line": {
                            "color": "#E5ECF6",
                            "width": 0.5
                          },
                          "pattern": {
                            "fillmode": "overlay",
                            "size": 10,
                            "solidity": 0.2
                          }
                        },
                        "type": "barpolar"
                      }
                    ],
                    "carpet": [
                      {
                        "aaxis": {
                          "endlinecolor": "#2a3f5f",
                          "gridcolor": "white",
                          "linecolor": "white",
                          "minorgridcolor": "white",
                          "startlinecolor": "#2a3f5f"
                        },
                        "baxis": {
                          "endlinecolor": "#2a3f5f",
                          "gridcolor": "white",
                          "linecolor": "white",
                          "minorgridcolor": "white",
                          "startlinecolor": "#2a3f5f"
                        },
                        "type": "carpet"
                      }
                    ],
                    "choropleth": [
                      {
                        "colorbar": {
                          "outlinewidth": 0,
                          "ticks": ""
                        },
                        "type": "choropleth"
                      }
                    ],
                    "contour": [
                      {
                        "colorbar": {
                          "outlinewidth": 0,
                          "ticks": ""
                        },
                        "colorscale": [
                          [
                            0,
                            "#0d0887"
                          ],
                          [
                            0.1111111111111111,
                            "#46039f"
                          ],
                          [
                            0.2222222222222222,
                            "#7201a8"
                          ],
                          [
                            0.3333333333333333,
                            "#9c179e"
                          ],
                          [
                            0.4444444444444444,
                            "#bd3786"
                          ],
                          [
                            0.5555555555555556,
                            "#d8576b"
                          ],
                          [
                            0.6666666666666666,
                            "#ed7953"
                          ],
                          [
                            0.7777777777777778,
                            "#fb9f3a"
                          ],
                          [
                            0.8888888888888888,
                            "#fdca26"
                          ],
                          [
                            1,
                            "#f0f921"
                          ]
                        ],
                        "type": "contour"
                      }
                    ],
                    "contourcarpet": [
                      {
                        "colorbar": {
                          "outlinewidth": 0,
                          "ticks": ""
                        },
                        "type": "contourcarpet"
                      }
                    ],
                    "heatmap": [
                      {
                        "colorbar": {
                          "outlinewidth": 0,
                          "ticks": ""
                        },
                        "colorscale": [
                          [
                            0,
                            "#0d0887"
                          ],
                          [
                            0.1111111111111111,
                            "#46039f"
                          ],
                          [
                            0.2222222222222222,
                            "#7201a8"
                          ],
                          [
                            0.3333333333333333,
                            "#9c179e"
                          ],
                          [
                            0.4444444444444444,
                            "#bd3786"
                          ],
                          [
                            0.5555555555555556,
                            "#d8576b"
                          ],
                          [
                            0.6666666666666666,
                            "#ed7953"
                          ],
                          [
                            0.7777777777777778,
                            "#fb9f3a"
                          ],
                          [
                            0.8888888888888888,
                            "#fdca26"
                          ],
                          [
                            1,
                            "#f0f921"
                          ]
                        ],
                        "type": "heatmap"
                      }
                    ],
                    "heatmapgl": [
                      {
                        "colorbar": {
                          "outlinewidth": 0,
                          "ticks": ""
                        },
                        "colorscale": [
                          [
                            0,
                            "#0d0887"
                          ],
                          [
                            0.1111111111111111,
                            "#46039f"
                          ],
                          [
                            0.2222222222222222,
                            "#7201a8"
                          ],
                          [
                            0.3333333333333333,
                            "#9c179e"
                          ],
                          [
                            0.4444444444444444,
                            "#bd3786"
                          ],
                          [
                            0.5555555555555556,
                            "#d8576b"
                          ],
                          [
                            0.6666666666666666,
                            "#ed7953"
                          ],
                          [
                            0.7777777777777778,
                            "#fb9f3a"
                          ],
                          [
                            0.8888888888888888,
                            "#fdca26"
                          ],
                          [
                            1,
                            "#f0f921"
                          ]
                        ],
                        "type": "heatmapgl"
                      }
                    ],
                    "histogram": [
                      {
                        "marker": {
                          "pattern": {
                            "fillmode": "overlay",
                            "size": 10,
                            "solidity": 0.2
                          }
                        },
                        "type": "histogram"
                      }
                    ],
                    "histogram2d": [
                      {
                        "colorbar": {
                          "outlinewidth": 0,
                          "ticks": ""
                        },
                        "colorscale": [
                          [
                            0,
                            "#0d0887"
                          ],
                          [
                            0.1111111111111111,
                            "#46039f"
                          ],
                          [
                            0.2222222222222222,
                            "#7201a8"
                          ],
                          [
                            0.3333333333333333,
                            "#9c179e"
                          ],
                          [
                            0.4444444444444444,
                            "#bd3786"
                          ],
                          [
                            0.5555555555555556,
                            "#d8576b"
                          ],
                          [
                            0.6666666666666666,
                            "#ed7953"
                          ],
                          [
                            0.7777777777777778,
                            "#fb9f3a"
                          ],
                          [
                            0.8888888888888888,
                            "#fdca26"
                          ],
                          [
                            1,
                            "#f0f921"
                          ]
                        ],
                        "type": "histogram2d"
                      }
                    ],
                    "histogram2dcontour": [
                      {
                        "colorbar": {
                          "outlinewidth": 0,
                          "ticks": ""
                        },
                        "colorscale": [
                          [
                            0,
                            "#0d0887"
                          ],
                          [
                            0.1111111111111111,
                            "#46039f"
                          ],
                          [
                            0.2222222222222222,
                            "#7201a8"
                          ],
                          [
                            0.3333333333333333,
                            "#9c179e"
                          ],
                          [
                            0.4444444444444444,
                            "#bd3786"
                          ],
                          [
                            0.5555555555555556,
                            "#d8576b"
                          ],
                          [
                            0.6666666666666666,
                            "#ed7953"
                          ],
                          [
                            0.7777777777777778,
                            "#fb9f3a"
                          ],
                          [
                            0.8888888888888888,
                            "#fdca26"
                          ],
                          [
                            1,
                            "#f0f921"
                          ]
                        ],
                        "type": "histogram2dcontour"
                      }
                    ],
                    "mesh3d": [
                      {
                        "colorbar": {
                          "outlinewidth": 0,
                          "ticks": ""
                        },
                        "type": "mesh3d"
                      }
                    ],
                    "parcoords": [
                      {
                        "line": {
                          "colorbar": {
                            "outlinewidth": 0,
                            "ticks": ""
                          }
                        },
                        "type": "parcoords"
                      }
                    ],
                    "pie": [
                      {
                        "automargin": true,
                        "type": "pie"
                      }
                    ],
                    "scatter": [
                      {
                        "marker": {
                          "colorbar": {
                            "outlinewidth": 0,
                            "ticks": ""
                          }
                        },
                        "type": "scatter"
                      }
                    ],
                    "scatter3d": [
                      {
                        "line": {
                          "colorbar": {
                            "outlinewidth": 0,
                            "ticks": ""
                          }
                        },
                        "marker": {
                          "colorbar": {
                            "outlinewidth": 0,
                            "ticks": ""
                          }
                        },
                        "type": "scatter3d"
                      }
                    ],
                    "scattercarpet": [
                      {
                        "marker": {
                          "colorbar": {
                            "outlinewidth": 0,
                            "ticks": ""
                          }
                        },
                        "type": "scattercarpet"
                      }
                    ],
                    "scattergeo": [
                      {
                        "marker": {
                          "colorbar": {
                            "outlinewidth": 0,
                            "ticks": ""
                          }
                        },
                        "type": "scattergeo"
                      }
                    ],
                    "scattergl": [
                      {
                        "marker": {
                          "colorbar": {
                            "outlinewidth": 0,
                            "ticks": ""
                          }
                        },
                        "type": "scattergl"
                      }
                    ],
                    "scattermapbox": [
                      {
                        "marker": {
                          "colorbar": {
                            "outlinewidth": 0,
                            "ticks": ""
                          }
                        },
                        "type": "scattermapbox"
                      }
                    ],
                    "scatterpolar": [
                      {
                        "marker": {
                          "colorbar": {
                            "outlinewidth": 0,
                            "ticks": ""
                          }
                        },
                        "type": "scatterpolar"
                      }
                    ],
                    "scatterpolargl": [
                      {
                        "marker": {
                          "colorbar": {
                            "outlinewidth": 0,
                            "ticks": ""
                          }
                        },
                        "type": "scatterpolargl"
                      }
                    ],
                    "scatterternary": [
                      {
                        "marker": {
                          "colorbar": {
                            "outlinewidth": 0,
                            "ticks": ""
                          }
                        },
                        "type": "scatterternary"
                      }
                    ],
                    "surface": [
                      {
                        "colorbar": {
                          "outlinewidth": 0,
                          "ticks": ""
                        },
                        "colorscale": [
                          [
                            0,
                            "#0d0887"
                          ],
                          [
                            0.1111111111111111,
                            "#46039f"
                          ],
                          [
                            0.2222222222222222,
                            "#7201a8"
                          ],
                          [
                            0.3333333333333333,
                            "#9c179e"
                          ],
                          [
                            0.4444444444444444,
                            "#bd3786"
                          ],
                          [
                            0.5555555555555556,
                            "#d8576b"
                          ],
                          [
                            0.6666666666666666,
                            "#ed7953"
                          ],
                          [
                            0.7777777777777778,
                            "#fb9f3a"
                          ],
                          [
                            0.8888888888888888,
                            "#fdca26"
                          ],
                          [
                            1,
                            "#f0f921"
                          ]
                        ],
                        "type": "surface"
                      }
                    ],
                    "table": [
                      {
                        "cells": {
                          "fill": {
                            "color": "#EBF0F8"
                          },
                          "line": {
                            "color": "white"
                          }
                        },
                        "header": {
                          "fill": {
                            "color": "#C8D4E3"
                          },
                          "line": {
                            "color": "white"
                          }
                        },
                        "type": "table"
                      }
                    ]
                  },
                  "layout": {
                    "annotationdefaults": {
                      "arrowcolor": "#2a3f5f",
                      "arrowhead": 0,
                      "arrowwidth": 1
                    },
                    "autotypenumbers": "strict",
                    "coloraxis": {
                      "colorbar": {
                        "outlinewidth": 0,
                        "ticks": ""
                      }
                    },
                    "colorscale": {
                      "diverging": [
                        [
                          0,
                          "#8e0152"
                        ],
                        [
                          0.1,
                          "#c51b7d"
                        ],
                        [
                          0.2,
                          "#de77ae"
                        ],
                        [
                          0.3,
                          "#f1b6da"
                        ],
                        [
                          0.4,
                          "#fde0ef"
                        ],
                        [
                          0.5,
                          "#f7f7f7"
                        ],
                        [
                          0.6,
                          "#e6f5d0"
                        ],
                        [
                          0.7,
                          "#b8e186"
                        ],
                        [
                          0.8,
                          "#7fbc41"
                        ],
                        [
                          0.9,
                          "#4d9221"
                        ],
                        [
                          1,
                          "#276419"
                        ]
                      ],
                      "sequential": [
                        [
                          0,
                          "#0d0887"
                        ],
                        [
                          0.1111111111111111,
                          "#46039f"
                        ],
                        [
                          0.2222222222222222,
                          "#7201a8"
                        ],
                        [
                          0.3333333333333333,
                          "#9c179e"
                        ],
                        [
                          0.4444444444444444,
                          "#bd3786"
                        ],
                        [
                          0.5555555555555556,
                          "#d8576b"
                        ],
                        [
                          0.6666666666666666,
                          "#ed7953"
                        ],
                        [
                          0.7777777777777778,
                          "#fb9f3a"
                        ],
                        [
                          0.8888888888888888,
                          "#fdca26"
                        ],
                        [
                          1,
                          "#f0f921"
                        ]
                      ],
                      "sequentialminus": [
                        [
                          0,
                          "#0d0887"
                        ],
                        [
                          0.1111111111111111,
                          "#46039f"
                        ],
                        [
                          0.2222222222222222,
                          "#7201a8"
                        ],
                        [
                          0.3333333333333333,
                          "#9c179e"
                        ],
                        [
                          0.4444444444444444,
                          "#bd3786"
                        ],
                        [
                          0.5555555555555556,
                          "#d8576b"
                        ],
                        [
                          0.6666666666666666,
                          "#ed7953"
                        ],
                        [
                          0.7777777777777778,
                          "#fb9f3a"
                        ],
                        [
                          0.8888888888888888,
                          "#fdca26"
                        ],
                        [
                          1,
                          "#f0f921"
                        ]
                      ]
                    },
                    "colorway": [
                      "#636efa",
                      "#EF553B",
                      "#00cc96",
                      "#ab63fa",
                      "#FFA15A",
                      "#19d3f3",
                      "#FF6692",
                      "#B6E880",
                      "#FF97FF",
                      "#FECB52"
                    ],
                    "font": {
                      "color": "#2a3f5f"
                    },
                    "geo": {
                      "bgcolor": "white",
                      "lakecolor": "white",
                      "landcolor": "#E5ECF6",
                      "showlakes": true,
                      "showland": true,
                      "subunitcolor": "white"
                    },
                    "hoverlabel": {
                      "align": "left"
                    },
                    "hovermode": "closest",
                    "mapbox": {
                      "style": "light"
                    },
                    "paper_bgcolor": "white",
                    "plot_bgcolor": "#E5ECF6",
                    "polar": {
                      "angularaxis": {
                        "gridcolor": "white",
                        "linecolor": "white",
                        "ticks": ""
                      },
                      "bgcolor": "#E5ECF6",
                      "radialaxis": {
                        "gridcolor": "white",
                        "linecolor": "white",
                        "ticks": ""
                      }
                    },
                    "scene": {
                      "xaxis": {
                        "backgroundcolor": "#E5ECF6",
                        "gridcolor": "white",
                        "gridwidth": 2,
                        "linecolor": "white",
                        "showbackground": true,
                        "ticks": "",
                        "zerolinecolor": "white"
                      },
                      "yaxis": {
                        "backgroundcolor": "#E5ECF6",
                        "gridcolor": "white",
                        "gridwidth": 2,
                        "linecolor": "white",
                        "showbackground": true,
                        "ticks": "",
                        "zerolinecolor": "white"
                      },
                      "zaxis": {
                        "backgroundcolor": "#E5ECF6",
                        "gridcolor": "white",
                        "gridwidth": 2,
                        "linecolor": "white",
                        "showbackground": true,
                        "ticks": "",
                        "zerolinecolor": "white"
                      }
                    },
                    "shapedefaults": {
                      "line": {
                        "color": "#2a3f5f"
                      }
                    },
                    "ternary": {
                      "aaxis": {
                        "gridcolor": "white",
                        "linecolor": "white",
                        "ticks": ""
                      },
                      "baxis": {
                        "gridcolor": "white",
                        "linecolor": "white",
                        "ticks": ""
                      },
                      "bgcolor": "#E5ECF6",
                      "caxis": {
                        "gridcolor": "white",
                        "linecolor": "white",
                        "ticks": ""
                      }
                    },
                    "title": {
                      "x": 0.05
                    },
                    "xaxis": {
                      "automargin": true,
                      "gridcolor": "white",
                      "linecolor": "white",
                      "ticks": "",
                      "title": {
                        "standoff": 15
                      },
                      "zerolinecolor": "white",
                      "zerolinewidth": 2
                    },
                    "yaxis": {
                      "automargin": true,
                      "gridcolor": "white",
                      "linecolor": "white",
                      "ticks": "",
                      "title": {
                        "standoff": 15
                      },
                      "zerolinecolor": "white",
                      "zerolinewidth": 2
                    }
                  }
                },
                "title": {
                  "text": "Box Plots das colunas numéricas"
                },
                "width": 1000,
                "xaxis": {
                  "anchor": "y",
                  "domain": [
                    0,
                    0.16799999999999998
                  ]
                },
                "xaxis2": {
                  "anchor": "y2",
                  "domain": [
                    0.208,
                    0.376
                  ]
                },
                "xaxis3": {
                  "anchor": "y3",
                  "domain": [
                    0.416,
                    0.584
                  ]
                },
                "xaxis4": {
                  "anchor": "y4",
                  "domain": [
                    0.624,
                    0.792
                  ]
                },
                "xaxis5": {
                  "anchor": "y5",
                  "domain": [
                    0.832,
                    1
                  ]
                },
                "yaxis": {
                  "anchor": "x",
                  "domain": [
                    0,
                    1
                  ]
                },
                "yaxis2": {
                  "anchor": "x2",
                  "domain": [
                    0,
                    1
                  ]
                },
                "yaxis3": {
                  "anchor": "x3",
                  "domain": [
                    0,
                    1
                  ]
                },
                "yaxis4": {
                  "anchor": "x4",
                  "domain": [
                    0,
                    1
                  ]
                },
                "yaxis5": {
                  "anchor": "x5",
                  "domain": [
                    0,
                    1
                  ]
                }
              }
            }
          },
          "metadata": {},
          "output_type": "display_data"
        }
      ],
      "source": [
        "def multiple_plots(df, graph_type, cols=list(train.columns), n_cols=5):\n",
        "    \"\"\"Retorna um objeto Figure (plotly) com um gráfico para cada coluna especificada\n",
        "    \"\"\"\n",
        "    n_rows = int(np.ceil(len(cols) / n_cols))\n",
        "    fig = make_subplots(n_rows, n_cols, subplot_titles=cols)\n",
        "    \n",
        "    i = 1\n",
        "    j = 1\n",
        "    for i in range(1, n_rows + 1):\n",
        "        for j in range(1, n_cols + 1):\n",
        "            col = cols[(i - 1) * n_cols + j - 1]\n",
        "            if graph_type == 'hist':\n",
        "                fig.add_trace(go.Histogram(x=df[col], name=col), row=i, col=j)\n",
        "            elif graph_type == 'box':\n",
        "                fig.add_trace(go.Box(y=df[col], name=\"\"), row=i, col=j)\n",
        "            elif graph_type == 'violin':\n",
        "                fig.add_trace(go.Violin(y=df[col], name=\"\"), row=i, col=j)\n",
        "                    \n",
        "    fig.update_layout(height=400, width=1000)\n",
        "    return fig\n",
        "    \n",
        "\n",
        "fig = multiple_plots(train, \"box\", num_cols, 5)\n",
        "fig.update_layout(title_text=\"Box Plots das colunas numéricas\")\n",
        "fig.show()"
      ]
    },
    {
      "cell_type": "markdown",
      "metadata": {},
      "source": [
        "É possível verificar que todas colunas numéricas (menos \"Pclass\") possuem outliers. Vou exibir um histograma para cada coluna para visualizar melhor esses outliers quando comparados com o resto da distribuição."
      ]
    },
    {
      "cell_type": "code",
      "execution_count": 86,
      "metadata": {
        "execution": {
          "iopub.status.busy": "2022-01-03T16:01:20.022606Z",
          "iopub.status.idle": "2022-01-03T16:01:20.022927Z",
          "shell.execute_reply": "2022-01-03T16:01:20.022773Z",
          "shell.execute_reply.started": "2022-01-03T16:01:20.022751Z"
        },
        "trusted": true
      },
      "outputs": [
        {
          "data": {
            "application/vnd.plotly.v1+json": {
              "config": {
                "plotlyServerURL": "https://plot.ly"
              },
              "data": [
                {
                  "name": "Pclass",
                  "type": "histogram",
                  "x": [
                    1,
                    2,
                    3,
                    3,
                    3,
                    1,
                    1,
                    2,
                    3,
                    1,
                    2,
                    3,
                    2,
                    3,
                    3,
                    2,
                    1,
                    1,
                    2,
                    1,
                    3,
                    3,
                    3,
                    2,
                    3,
                    3,
                    3,
                    3,
                    1,
                    3,
                    3,
                    1,
                    3,
                    1,
                    3,
                    3,
                    3,
                    2,
                    1,
                    2,
                    3,
                    3,
                    2,
                    3,
                    1,
                    3,
                    2,
                    3,
                    1,
                    2,
                    3,
                    2,
                    1,
                    3,
                    3,
                    3,
                    3,
                    1,
                    3,
                    1,
                    2,
                    3,
                    2,
                    3,
                    3,
                    3,
                    3,
                    3,
                    3,
                    3,
                    1,
                    3,
                    2,
                    3,
                    3,
                    1,
                    3,
                    3,
                    1,
                    2,
                    2,
                    1,
                    1,
                    2,
                    3,
                    1,
                    1,
                    3,
                    1,
                    1,
                    3,
                    3,
                    2,
                    2,
                    1,
                    2,
                    3,
                    3,
                    2,
                    1,
                    2,
                    3,
                    3,
                    1,
                    3,
                    2,
                    3,
                    3,
                    3,
                    2,
                    3,
                    3,
                    3,
                    3,
                    3,
                    3,
                    1,
                    3,
                    2,
                    3,
                    3,
                    3,
                    1,
                    2,
                    2,
                    3,
                    1,
                    3,
                    3,
                    1,
                    2,
                    1,
                    2,
                    2,
                    3,
                    3,
                    2,
                    3,
                    2,
                    2,
                    3,
                    1,
                    3,
                    1,
                    3,
                    2,
                    3,
                    3,
                    3,
                    3,
                    3,
                    3,
                    3,
                    3,
                    2,
                    2,
                    1,
                    1,
                    2,
                    3,
                    2,
                    3,
                    3,
                    3,
                    3,
                    3,
                    3,
                    1,
                    3,
                    1,
                    3,
                    1,
                    3,
                    3,
                    2,
                    3,
                    3,
                    1,
                    2,
                    3,
                    3,
                    3,
                    2,
                    3,
                    3,
                    3,
                    3,
                    1,
                    3,
                    3,
                    1,
                    1,
                    2,
                    3,
                    2,
                    3,
                    3,
                    1,
                    3,
                    2,
                    3,
                    1,
                    3,
                    1,
                    1,
                    3,
                    3,
                    2,
                    1,
                    3,
                    3,
                    1,
                    3,
                    1,
                    2,
                    1,
                    1,
                    2,
                    3,
                    2,
                    2,
                    1,
                    3,
                    1,
                    3,
                    2,
                    3,
                    1,
                    3,
                    2,
                    3,
                    3,
                    3,
                    2,
                    2,
                    2,
                    3,
                    1,
                    2,
                    3,
                    1,
                    2,
                    3,
                    2,
                    3,
                    3,
                    3,
                    2,
                    3,
                    1,
                    2,
                    3,
                    1,
                    3,
                    2,
                    1,
                    3,
                    3,
                    3,
                    3,
                    2,
                    3,
                    3,
                    3,
                    3,
                    1,
                    1,
                    2,
                    1,
                    2,
                    2,
                    3,
                    3,
                    3,
                    2,
                    3,
                    3,
                    1,
                    2,
                    3,
                    3,
                    3,
                    3,
                    3,
                    3,
                    2,
                    3,
                    2,
                    3,
                    2,
                    3,
                    1,
                    3,
                    2,
                    3,
                    1,
                    1,
                    1,
                    1,
                    1,
                    3,
                    1,
                    3,
                    1,
                    3,
                    3,
                    3,
                    3,
                    3,
                    2,
                    3,
                    1,
                    3,
                    3,
                    3,
                    2,
                    3,
                    2,
                    1,
                    3,
                    3,
                    2,
                    3,
                    3,
                    3,
                    3,
                    3,
                    3,
                    3,
                    1,
                    3,
                    3,
                    2,
                    1,
                    3,
                    3,
                    3,
                    3,
                    3,
                    3,
                    2,
                    3,
                    3,
                    3,
                    3,
                    1,
                    2,
                    2,
                    1,
                    3,
                    3,
                    1,
                    1,
                    1,
                    3,
                    3,
                    3,
                    3,
                    2,
                    2,
                    3,
                    2,
                    3,
                    3,
                    1,
                    2,
                    3,
                    1,
                    3,
                    3,
                    1,
                    3,
                    3,
                    3,
                    2,
                    3,
                    3,
                    3,
                    3,
                    3,
                    2,
                    3,
                    3,
                    3,
                    3,
                    1,
                    3,
                    1,
                    3,
                    3,
                    3,
                    3,
                    3,
                    3,
                    2,
                    2,
                    3,
                    3,
                    3,
                    3,
                    1,
                    3,
                    3,
                    3,
                    3,
                    2,
                    1,
                    3,
                    3,
                    3,
                    2,
                    1,
                    3,
                    3,
                    3,
                    1,
                    3,
                    2,
                    3,
                    3,
                    3,
                    2,
                    2,
                    3,
                    3,
                    3,
                    2,
                    3,
                    2,
                    1,
                    3,
                    1,
                    3,
                    3,
                    2,
                    3,
                    2,
                    3,
                    1,
                    3,
                    2,
                    3,
                    1,
                    3,
                    2,
                    1,
                    3,
                    1,
                    3,
                    2,
                    2,
                    1,
                    1,
                    3,
                    3,
                    3,
                    3,
                    3,
                    3,
                    3,
                    2,
                    1,
                    3,
                    2,
                    1,
                    2,
                    3,
                    3,
                    3,
                    1,
                    3,
                    3,
                    3,
                    2,
                    2,
                    3,
                    1,
                    3,
                    3,
                    3,
                    3,
                    2,
                    3,
                    3,
                    1,
                    3,
                    2,
                    1,
                    2,
                    2,
                    1,
                    3,
                    3,
                    3,
                    3,
                    3,
                    3,
                    3,
                    2,
                    3,
                    1,
                    3,
                    2,
                    2,
                    1,
                    1,
                    1,
                    1,
                    3,
                    3,
                    1,
                    3,
                    2,
                    3,
                    3,
                    3,
                    3,
                    1,
                    1,
                    1,
                    3,
                    3,
                    3,
                    1,
                    3,
                    2,
                    2,
                    3,
                    1,
                    3,
                    3,
                    3,
                    3,
                    2,
                    3,
                    1,
                    2,
                    1,
                    3,
                    1,
                    3,
                    2,
                    1,
                    3,
                    3,
                    1,
                    1,
                    1,
                    3,
                    3,
                    2,
                    3,
                    3,
                    3,
                    3,
                    3,
                    1,
                    1,
                    3,
                    3,
                    3,
                    3,
                    2,
                    3,
                    2,
                    3,
                    3,
                    3,
                    3,
                    3,
                    2,
                    3,
                    3,
                    2,
                    3,
                    3,
                    3,
                    3,
                    3,
                    3,
                    3,
                    2,
                    1,
                    3,
                    1,
                    3,
                    3,
                    2,
                    2,
                    2,
                    3,
                    3,
                    1,
                    3,
                    1,
                    3,
                    1,
                    3,
                    1,
                    1,
                    1,
                    3,
                    3,
                    3,
                    1,
                    3,
                    1,
                    1,
                    3,
                    1,
                    1,
                    1,
                    3,
                    1,
                    1,
                    1,
                    3,
                    2,
                    3,
                    3,
                    1,
                    1,
                    3,
                    2,
                    1,
                    3,
                    3,
                    3,
                    2,
                    3,
                    3,
                    3,
                    2,
                    1,
                    3,
                    3,
                    3,
                    3,
                    1,
                    3,
                    3,
                    2,
                    3,
                    1,
                    3,
                    1,
                    3,
                    2,
                    3,
                    3,
                    3,
                    3,
                    2,
                    2,
                    1,
                    1,
                    2,
                    3,
                    3,
                    1,
                    3,
                    1,
                    2,
                    3,
                    3,
                    2,
                    3,
                    3,
                    1,
                    3,
                    1,
                    1,
                    3,
                    2,
                    3,
                    3,
                    2,
                    1,
                    2,
                    3,
                    3,
                    3,
                    3,
                    2,
                    2,
                    3,
                    2,
                    3,
                    2,
                    3,
                    2,
                    3,
                    3,
                    3,
                    1,
                    2,
                    3,
                    3,
                    2,
                    3,
                    3,
                    2,
                    3,
                    3,
                    2,
                    1,
                    3,
                    3,
                    1,
                    3,
                    1,
                    1
                  ],
                  "xaxis": "x",
                  "yaxis": "y"
                },
                {
                  "name": "Age",
                  "type": "histogram",
                  "x": [
                    45.5,
                    23,
                    32,
                    26,
                    6,
                    24,
                    45,
                    29,
                    null,
                    null,
                    42,
                    36,
                    33,
                    17,
                    29,
                    50,
                    35,
                    38,
                    34,
                    17,
                    11,
                    61,
                    30,
                    7,
                    63,
                    20,
                    null,
                    29,
                    36,
                    null,
                    50,
                    27,
                    30,
                    33,
                    null,
                    null,
                    2,
                    25,
                    51,
                    25,
                    null,
                    null,
                    24,
                    18,
                    null,
                    25,
                    24,
                    22,
                    0.92,
                    24,
                    26,
                    34,
                    21,
                    null,
                    null,
                    null,
                    22,
                    62,
                    18,
                    42,
                    57,
                    19,
                    42,
                    null,
                    20,
                    34.5,
                    28,
                    null,
                    23,
                    22,
                    52,
                    30,
                    36.5,
                    null,
                    22,
                    50,
                    27,
                    22,
                    51,
                    36,
                    29,
                    22,
                    50,
                    40,
                    27,
                    null,
                    65,
                    17,
                    28,
                    4,
                    null,
                    1,
                    36,
                    43,
                    38,
                    31,
                    29,
                    18,
                    null,
                    39,
                    39,
                    26,
                    20,
                    null,
                    49,
                    23,
                    1,
                    null,
                    null,
                    3,
                    4,
                    19,
                    40.5,
                    1,
                    null,
                    21,
                    54,
                    null,
                    25,
                    26,
                    22,
                    31,
                    49,
                    19,
                    24,
                    16,
                    25,
                    39,
                    47,
                    60,
                    24,
                    null,
                    27,
                    null,
                    38,
                    44,
                    21,
                    24,
                    45,
                    8,
                    8,
                    null,
                    32,
                    50,
                    21,
                    50,
                    23,
                    32,
                    null,
                    21,
                    null,
                    25,
                    15,
                    31,
                    25,
                    54,
                    28,
                    38,
                    41,
                    33,
                    52,
                    16,
                    20,
                    9,
                    null,
                    null,
                    null,
                    54,
                    26,
                    60,
                    null,
                    44,
                    20,
                    null,
                    16,
                    43,
                    17,
                    37,
                    62,
                    8,
                    32,
                    20,
                    28,
                    21,
                    37,
                    17,
                    null,
                    46,
                    null,
                    24,
                    29,
                    56,
                    31,
                    null,
                    32,
                    33,
                    59,
                    58,
                    null,
                    3,
                    null,
                    16,
                    45,
                    43,
                    30,
                    28.5,
                    24,
                    30,
                    36,
                    25,
                    null,
                    50,
                    0.75,
                    24,
                    24,
                    35,
                    30,
                    23,
                    null,
                    27,
                    55,
                    35,
                    null,
                    null,
                    null,
                    23,
                    null,
                    23,
                    51,
                    33,
                    29,
                    null,
                    null,
                    2,
                    14,
                    54,
                    15,
                    22,
                    27,
                    null,
                    null,
                    28,
                    39,
                    2,
                    24,
                    32,
                    45.5,
                    8,
                    26,
                    29,
                    45,
                    36,
                    null,
                    4,
                    16,
                    58,
                    40.5,
                    25,
                    null,
                    51,
                    null,
                    17,
                    null,
                    40,
                    25,
                    47,
                    null,
                    44,
                    23,
                    18,
                    29,
                    12,
                    11,
                    22,
                    19,
                    22,
                    33,
                    56,
                    1,
                    22,
                    null,
                    null,
                    7,
                    4,
                    70.5,
                    18,
                    20,
                    24,
                    null,
                    34,
                    null,
                    31,
                    30,
                    18,
                    9,
                    39,
                    33,
                    70,
                    24,
                    58,
                    21,
                    17,
                    28,
                    24,
                    null,
                    null,
                    42,
                    18,
                    2,
                    34,
                    3,
                    58,
                    32,
                    31,
                    null,
                    27,
                    11,
                    23,
                    40,
                    null,
                    28,
                    28,
                    null,
                    19,
                    30,
                    20,
                    28,
                    36,
                    null,
                    24,
                    28.5,
                    24,
                    42,
                    54,
                    25,
                    7,
                    25,
                    27,
                    24,
                    null,
                    28,
                    19,
                    22,
                    null,
                    null,
                    42,
                    50,
                    3,
                    null,
                    18,
                    18,
                    44,
                    null,
                    null,
                    null,
                    16,
                    null,
                    22,
                    4,
                    null,
                    24,
                    30,
                    29,
                    24,
                    45,
                    32,
                    21,
                    35,
                    null,
                    null,
                    36,
                    41,
                    23,
                    34,
                    null,
                    null,
                    15,
                    null,
                    18,
                    30,
                    32,
                    4,
                    2,
                    null,
                    null,
                    48,
                    31,
                    47,
                    26,
                    9,
                    19,
                    null,
                    22,
                    null,
                    28,
                    24,
                    17,
                    null,
                    null,
                    21,
                    51,
                    3,
                    0.75,
                    null,
                    34,
                    18,
                    44,
                    null,
                    null,
                    37,
                    21,
                    36,
                    32,
                    null,
                    26,
                    80,
                    55.5,
                    60,
                    null,
                    18,
                    14.5,
                    19,
                    4,
                    33,
                    21,
                    10,
                    47,
                    2,
                    29,
                    22,
                    28,
                    null,
                    26,
                    33,
                    27,
                    27,
                    34,
                    null,
                    30,
                    30,
                    null,
                    null,
                    53,
                    32,
                    52,
                    52,
                    39,
                    2,
                    44,
                    51,
                    39,
                    46,
                    17,
                    30,
                    9,
                    27,
                    21,
                    null,
                    26,
                    3,
                    48,
                    36,
                    null,
                    32.5,
                    33,
                    22,
                    19,
                    74,
                    42,
                    40,
                    35,
                    24,
                    39,
                    32.5,
                    1,
                    34,
                    64,
                    25,
                    null,
                    1,
                    45,
                    31,
                    21,
                    25,
                    15,
                    26,
                    30,
                    24,
                    35,
                    70,
                    null,
                    21,
                    18,
                    null,
                    1,
                    null,
                    26,
                    25,
                    null,
                    20,
                    54,
                    22,
                    59,
                    54,
                    27,
                    31,
                    22,
                    33,
                    6,
                    5,
                    39,
                    24.5,
                    54,
                    null,
                    null,
                    30,
                    null,
                    35,
                    21,
                    32,
                    16,
                    22,
                    null,
                    38,
                    null,
                    25,
                    33,
                    null,
                    18,
                    null,
                    null,
                    2,
                    0.42,
                    26,
                    41,
                    48,
                    48,
                    48,
                    4,
                    39,
                    33,
                    29,
                    49,
                    null,
                    null,
                    42,
                    36,
                    61,
                    18,
                    18,
                    0.67,
                    32,
                    null,
                    null,
                    null,
                    16,
                    31,
                    48,
                    22,
                    13,
                    32,
                    28,
                    46,
                    28,
                    42,
                    35,
                    2,
                    31,
                    null,
                    null,
                    19,
                    20,
                    14,
                    34,
                    null,
                    null,
                    51,
                    null,
                    null,
                    null,
                    28,
                    25,
                    19,
                    35,
                    35,
                    9,
                    20,
                    42,
                    30,
                    null,
                    21,
                    47,
                    25,
                    16,
                    45,
                    38,
                    56,
                    null,
                    31,
                    30,
                    null,
                    14,
                    16,
                    40,
                    55,
                    19,
                    45,
                    36,
                    27,
                    49,
                    41,
                    19,
                    33,
                    27,
                    null,
                    35,
                    29,
                    30,
                    34,
                    29,
                    19,
                    35,
                    null,
                    40,
                    62,
                    25,
                    26,
                    18,
                    34,
                    48,
                    28,
                    24,
                    17,
                    38,
                    null,
                    40,
                    22,
                    2,
                    28,
                    18,
                    28,
                    19,
                    null,
                    60,
                    20,
                    45,
                    null,
                    24,
                    null,
                    null,
                    39,
                    26,
                    24,
                    36,
                    37,
                    null,
                    28,
                    19,
                    43,
                    25,
                    47,
                    16,
                    0.83,
                    22,
                    19,
                    28,
                    14,
                    36,
                    29,
                    42,
                    null,
                    27,
                    29,
                    5,
                    22,
                    null,
                    30,
                    62,
                    34,
                    28,
                    null,
                    44,
                    45,
                    19,
                    18,
                    31,
                    null,
                    21,
                    25,
                    32,
                    30,
                    40,
                    33,
                    36,
                    47,
                    34,
                    19,
                    null,
                    50,
                    null,
                    null,
                    null,
                    null,
                    35,
                    35,
                    18,
                    16,
                    21,
                    null,
                    41,
                    14,
                    21
                  ],
                  "xaxis": "x2",
                  "yaxis": "y2"
                },
                {
                  "name": "SibSp",
                  "type": "histogram",
                  "x": [
                    0,
                    0,
                    0,
                    1,
                    4,
                    0,
                    0,
                    1,
                    0,
                    0,
                    0,
                    1,
                    0,
                    1,
                    0,
                    0,
                    1,
                    0,
                    0,
                    1,
                    4,
                    0,
                    0,
                    0,
                    0,
                    0,
                    0,
                    0,
                    1,
                    0,
                    0,
                    0,
                    0,
                    1,
                    0,
                    3,
                    3,
                    1,
                    0,
                    0,
                    0,
                    0,
                    0,
                    1,
                    0,
                    0,
                    0,
                    0,
                    1,
                    1,
                    0,
                    1,
                    2,
                    0,
                    0,
                    0,
                    0,
                    0,
                    0,
                    0,
                    0,
                    0,
                    1,
                    0,
                    0,
                    0,
                    0,
                    0,
                    0,
                    0,
                    0,
                    0,
                    0,
                    0,
                    0,
                    2,
                    0,
                    0,
                    1,
                    0,
                    1,
                    0,
                    1,
                    0,
                    0,
                    0,
                    0,
                    0,
                    0,
                    0,
                    0,
                    1,
                    1,
                    1,
                    0,
                    1,
                    0,
                    0,
                    0,
                    1,
                    0,
                    2,
                    0,
                    1,
                    0,
                    0,
                    4,
                    0,
                    1,
                    1,
                    1,
                    0,
                    0,
                    0,
                    0,
                    0,
                    0,
                    0,
                    1,
                    1,
                    0,
                    1,
                    1,
                    1,
                    0,
                    0,
                    1,
                    0,
                    1,
                    0,
                    0,
                    0,
                    1,
                    0,
                    0,
                    0,
                    0,
                    0,
                    0,
                    1,
                    3,
                    0,
                    0,
                    1,
                    0,
                    0,
                    0,
                    0,
                    0,
                    2,
                    0,
                    0,
                    1,
                    1,
                    0,
                    0,
                    0,
                    0,
                    0,
                    0,
                    0,
                    1,
                    0,
                    4,
                    0,
                    0,
                    0,
                    1,
                    0,
                    1,
                    0,
                    0,
                    1,
                    3,
                    0,
                    1,
                    0,
                    1,
                    0,
                    4,
                    0,
                    1,
                    0,
                    0,
                    2,
                    0,
                    0,
                    1,
                    0,
                    0,
                    1,
                    0,
                    1,
                    0,
                    1,
                    1,
                    0,
                    0,
                    1,
                    1,
                    0,
                    0,
                    1,
                    0,
                    0,
                    0,
                    0,
                    0,
                    0,
                    0,
                    0,
                    0,
                    2,
                    0,
                    1,
                    1,
                    0,
                    0,
                    0,
                    0,
                    0,
                    1,
                    0,
                    0,
                    1,
                    0,
                    0,
                    1,
                    0,
                    0,
                    0,
                    0,
                    8,
                    1,
                    1,
                    1,
                    0,
                    0,
                    0,
                    0,
                    0,
                    1,
                    0,
                    1,
                    1,
                    0,
                    0,
                    0,
                    1,
                    0,
                    1,
                    1,
                    0,
                    0,
                    0,
                    0,
                    0,
                    0,
                    0,
                    0,
                    0,
                    4,
                    0,
                    1,
                    0,
                    0,
                    0,
                    1,
                    3,
                    0,
                    1,
                    1,
                    0,
                    0,
                    0,
                    1,
                    0,
                    0,
                    0,
                    0,
                    0,
                    0,
                    4,
                    0,
                    0,
                    0,
                    1,
                    2,
                    0,
                    0,
                    0,
                    0,
                    0,
                    0,
                    3,
                    1,
                    1,
                    1,
                    0,
                    0,
                    0,
                    1,
                    1,
                    0,
                    0,
                    1,
                    0,
                    1,
                    0,
                    0,
                    4,
                    0,
                    0,
                    0,
                    0,
                    1,
                    5,
                    0,
                    0,
                    0,
                    0,
                    0,
                    1,
                    0,
                    1,
                    0,
                    0,
                    0,
                    0,
                    3,
                    0,
                    0,
                    0,
                    0,
                    0,
                    4,
                    1,
                    0,
                    1,
                    0,
                    0,
                    0,
                    0,
                    0,
                    8,
                    0,
                    0,
                    1,
                    0,
                    2,
                    1,
                    2,
                    0,
                    0,
                    1,
                    0,
                    0,
                    0,
                    1,
                    0,
                    0,
                    0,
                    0,
                    0,
                    1,
                    0,
                    0,
                    0,
                    8,
                    2,
                    0,
                    0,
                    0,
                    1,
                    0,
                    0,
                    0,
                    0,
                    0,
                    0,
                    2,
                    4,
                    4,
                    0,
                    2,
                    0,
                    0,
                    0,
                    1,
                    5,
                    0,
                    0,
                    0,
                    0,
                    0,
                    2,
                    0,
                    1,
                    3,
                    0,
                    0,
                    3,
                    2,
                    0,
                    0,
                    0,
                    0,
                    0,
                    0,
                    0,
                    1,
                    1,
                    0,
                    1,
                    0,
                    0,
                    0,
                    1,
                    0,
                    0,
                    1,
                    0,
                    2,
                    0,
                    0,
                    0,
                    0,
                    4,
                    1,
                    1,
                    1,
                    0,
                    0,
                    0,
                    0,
                    0,
                    0,
                    0,
                    0,
                    1,
                    0,
                    0,
                    2,
                    0,
                    0,
                    1,
                    1,
                    1,
                    0,
                    0,
                    0,
                    0,
                    0,
                    0,
                    2,
                    0,
                    0,
                    0,
                    0,
                    1,
                    0,
                    0,
                    1,
                    0,
                    0,
                    1,
                    0,
                    0,
                    0,
                    0,
                    1,
                    0,
                    0,
                    1,
                    2,
                    0,
                    1,
                    0,
                    0,
                    1,
                    0,
                    1,
                    1,
                    0,
                    0,
                    0,
                    0,
                    0,
                    0,
                    0,
                    0,
                    0,
                    0,
                    0,
                    5,
                    8,
                    0,
                    1,
                    0,
                    0,
                    1,
                    0,
                    0,
                    1,
                    0,
                    1,
                    0,
                    0,
                    0,
                    4,
                    0,
                    0,
                    0,
                    0,
                    0,
                    0,
                    0,
                    0,
                    0,
                    0,
                    0,
                    0,
                    0,
                    1,
                    8,
                    1,
                    1,
                    1,
                    1,
                    1,
                    0,
                    4,
                    0,
                    0,
                    0,
                    1,
                    1,
                    1,
                    4,
                    1,
                    3,
                    0,
                    1,
                    8,
                    0,
                    1,
                    0,
                    0,
                    0,
                    0,
                    1,
                    0,
                    0,
                    0,
                    1,
                    0,
                    1,
                    0,
                    0,
                    0,
                    1,
                    2,
                    0,
                    0,
                    1,
                    0,
                    3,
                    0,
                    1,
                    0,
                    1,
                    0,
                    5,
                    0,
                    0,
                    0,
                    0,
                    0,
                    0,
                    0,
                    0,
                    0,
                    3,
                    0,
                    1,
                    1,
                    0,
                    0,
                    0,
                    0,
                    0,
                    0,
                    1,
                    0,
                    1,
                    0,
                    0,
                    1,
                    0,
                    0,
                    0,
                    0,
                    0,
                    1,
                    0,
                    0,
                    0,
                    1,
                    0,
                    1,
                    0,
                    1,
                    0,
                    1,
                    0,
                    0,
                    1,
                    3,
                    0,
                    0,
                    0,
                    0,
                    8,
                    0,
                    0,
                    1,
                    0,
                    0,
                    1,
                    0,
                    0,
                    2,
                    0,
                    1,
                    0,
                    0,
                    0,
                    0,
                    1,
                    0,
                    0,
                    0,
                    0,
                    1,
                    0,
                    0,
                    0,
                    0,
                    0,
                    1,
                    1,
                    0,
                    2,
                    0,
                    0,
                    0,
                    0,
                    0,
                    0,
                    1,
                    0,
                    0,
                    1,
                    0,
                    0,
                    0,
                    4,
                    0,
                    0,
                    0,
                    0,
                    0,
                    0,
                    1,
                    0,
                    0,
                    0,
                    0,
                    0,
                    0,
                    0,
                    0,
                    0,
                    0,
                    0,
                    0,
                    0,
                    0,
                    0,
                    0,
                    1,
                    0,
                    0,
                    0,
                    1,
                    1,
                    0,
                    0,
                    0,
                    2,
                    1,
                    0,
                    0,
                    0,
                    0,
                    1,
                    5,
                    0,
                    0,
                    2,
                    1,
                    0
                  ],
                  "xaxis": "x3",
                  "yaxis": "y3"
                },
                {
                  "name": "Parch",
                  "type": "histogram",
                  "x": [
                    0,
                    0,
                    0,
                    0,
                    2,
                    1,
                    0,
                    0,
                    0,
                    0,
                    0,
                    1,
                    0,
                    0,
                    0,
                    1,
                    0,
                    0,
                    0,
                    0,
                    2,
                    0,
                    0,
                    2,
                    0,
                    0,
                    2,
                    0,
                    2,
                    0,
                    0,
                    2,
                    0,
                    0,
                    0,
                    1,
                    1,
                    1,
                    1,
                    1,
                    0,
                    0,
                    0,
                    1,
                    0,
                    0,
                    2,
                    0,
                    2,
                    0,
                    0,
                    0,
                    2,
                    0,
                    0,
                    0,
                    0,
                    0,
                    0,
                    0,
                    0,
                    0,
                    0,
                    0,
                    0,
                    0,
                    0,
                    0,
                    0,
                    0,
                    0,
                    0,
                    2,
                    0,
                    0,
                    0,
                    0,
                    0,
                    0,
                    0,
                    0,
                    0,
                    0,
                    0,
                    0,
                    0,
                    0,
                    0,
                    0,
                    2,
                    0,
                    1,
                    2,
                    1,
                    1,
                    1,
                    0,
                    0,
                    0,
                    1,
                    0,
                    0,
                    0,
                    0,
                    0,
                    0,
                    1,
                    0,
                    2,
                    1,
                    1,
                    0,
                    0,
                    2,
                    2,
                    0,
                    0,
                    0,
                    2,
                    0,
                    0,
                    1,
                    0,
                    1,
                    0,
                    0,
                    0,
                    0,
                    0,
                    0,
                    0,
                    0,
                    0,
                    0,
                    0,
                    0,
                    0,
                    2,
                    0,
                    1,
                    1,
                    0,
                    0,
                    0,
                    0,
                    0,
                    0,
                    0,
                    0,
                    2,
                    0,
                    0,
                    1,
                    0,
                    0,
                    0,
                    0,
                    0,
                    1,
                    0,
                    0,
                    1,
                    0,
                    2,
                    0,
                    0,
                    0,
                    0,
                    0,
                    1,
                    0,
                    1,
                    0,
                    1,
                    0,
                    6,
                    0,
                    1,
                    0,
                    1,
                    0,
                    0,
                    0,
                    0,
                    0,
                    0,
                    0,
                    0,
                    0,
                    0,
                    0,
                    1,
                    1,
                    0,
                    0,
                    1,
                    0,
                    0,
                    0,
                    2,
                    0,
                    1,
                    4,
                    1,
                    0,
                    0,
                    0,
                    0,
                    0,
                    0,
                    2,
                    0,
                    1,
                    0,
                    2,
                    0,
                    0,
                    0,
                    0,
                    0,
                    0,
                    0,
                    0,
                    0,
                    0,
                    0,
                    0,
                    0,
                    0,
                    2,
                    4,
                    0,
                    2,
                    1,
                    0,
                    0,
                    0,
                    1,
                    0,
                    0,
                    0,
                    0,
                    0,
                    1,
                    0,
                    0,
                    0,
                    2,
                    2,
                    0,
                    1,
                    0,
                    0,
                    2,
                    0,
                    0,
                    2,
                    0,
                    0,
                    0,
                    0,
                    2,
                    0,
                    1,
                    0,
                    0,
                    0,
                    0,
                    2,
                    0,
                    0,
                    0,
                    0,
                    0,
                    0,
                    0,
                    0,
                    0,
                    2,
                    0,
                    0,
                    0,
                    1,
                    1,
                    0,
                    0,
                    1,
                    0,
                    0,
                    0,
                    0,
                    2,
                    0,
                    0,
                    2,
                    1,
                    0,
                    1,
                    0,
                    1,
                    0,
                    0,
                    1,
                    0,
                    0,
                    0,
                    0,
                    0,
                    1,
                    0,
                    2,
                    0,
                    0,
                    0,
                    0,
                    0,
                    2,
                    0,
                    0,
                    0,
                    0,
                    0,
                    0,
                    0,
                    1,
                    0,
                    0,
                    0,
                    0,
                    2,
                    0,
                    3,
                    0,
                    1,
                    0,
                    1,
                    0,
                    1,
                    0,
                    0,
                    0,
                    0,
                    0,
                    0,
                    2,
                    0,
                    0,
                    1,
                    0,
                    0,
                    1,
                    0,
                    0,
                    0,
                    0,
                    0,
                    0,
                    0,
                    1,
                    0,
                    0,
                    0,
                    2,
                    0,
                    1,
                    0,
                    0,
                    0,
                    2,
                    0,
                    1,
                    5,
                    0,
                    1,
                    0,
                    0,
                    0,
                    0,
                    0,
                    0,
                    0,
                    1,
                    1,
                    0,
                    0,
                    0,
                    0,
                    0,
                    0,
                    2,
                    0,
                    0,
                    0,
                    0,
                    1,
                    3,
                    0,
                    0,
                    1,
                    0,
                    0,
                    1,
                    1,
                    0,
                    0,
                    1,
                    0,
                    0,
                    0,
                    0,
                    0,
                    0,
                    0,
                    2,
                    0,
                    0,
                    0,
                    1,
                    0,
                    0,
                    0,
                    0,
                    1,
                    0,
                    0,
                    2,
                    0,
                    2,
                    0,
                    0,
                    0,
                    0,
                    0,
                    0,
                    0,
                    2,
                    0,
                    0,
                    0,
                    0,
                    0,
                    0,
                    0,
                    0,
                    0,
                    1,
                    5,
                    2,
                    0,
                    0,
                    0,
                    0,
                    2,
                    0,
                    2,
                    0,
                    0,
                    0,
                    0,
                    1,
                    0,
                    0,
                    0,
                    0,
                    0,
                    2,
                    0,
                    0,
                    1,
                    0,
                    1,
                    0,
                    0,
                    0,
                    1,
                    0,
                    4,
                    0,
                    0,
                    2,
                    0,
                    1,
                    0,
                    0,
                    1,
                    0,
                    0,
                    0,
                    0,
                    0,
                    0,
                    0,
                    1,
                    0,
                    2,
                    2,
                    0,
                    0,
                    0,
                    0,
                    0,
                    0,
                    0,
                    3,
                    0,
                    0,
                    0,
                    0,
                    1,
                    2,
                    0,
                    0,
                    0,
                    0,
                    0,
                    0,
                    0,
                    0,
                    0,
                    0,
                    0,
                    0,
                    0,
                    0,
                    2,
                    0,
                    2,
                    0,
                    0,
                    0,
                    0,
                    1,
                    1,
                    0,
                    0,
                    0,
                    2,
                    0,
                    2,
                    0,
                    0,
                    0,
                    1,
                    2,
                    0,
                    0,
                    2,
                    0,
                    0,
                    0,
                    1,
                    0,
                    0,
                    0,
                    0,
                    0,
                    0,
                    0,
                    0,
                    0,
                    0,
                    0,
                    0,
                    0,
                    0,
                    0,
                    2,
                    0,
                    0,
                    0,
                    0,
                    0,
                    2,
                    1,
                    0,
                    0,
                    0,
                    0,
                    0,
                    0,
                    0,
                    0,
                    2,
                    0,
                    0,
                    1,
                    0,
                    0,
                    0,
                    0,
                    0,
                    0,
                    2,
                    0,
                    0,
                    0,
                    0,
                    1,
                    0,
                    0,
                    0,
                    0,
                    0,
                    0,
                    0,
                    0,
                    0,
                    2,
                    0,
                    0,
                    0,
                    0,
                    0,
                    0,
                    0,
                    0,
                    1,
                    0,
                    0,
                    0,
                    0,
                    0,
                    2,
                    0,
                    0,
                    0,
                    0,
                    1,
                    0,
                    0,
                    0,
                    0,
                    0,
                    0,
                    0,
                    0,
                    0,
                    1,
                    0,
                    0,
                    0,
                    0,
                    0,
                    0,
                    0,
                    0,
                    0,
                    0,
                    0,
                    0,
                    5,
                    0,
                    1,
                    0,
                    1,
                    1,
                    0,
                    0,
                    0,
                    0,
                    0,
                    0,
                    1,
                    0,
                    0,
                    0,
                    1,
                    0,
                    0,
                    0,
                    0,
                    0,
                    0,
                    2,
                    0,
                    0,
                    0,
                    0,
                    0,
                    0,
                    0,
                    1,
                    0,
                    0,
                    0,
                    0,
                    0,
                    0,
                    0,
                    0,
                    0,
                    0,
                    0,
                    0,
                    1,
                    0,
                    0,
                    0,
                    0,
                    0,
                    0,
                    0,
                    0,
                    0,
                    0,
                    0,
                    2,
                    0,
                    0,
                    0,
                    2,
                    1
                  ],
                  "xaxis": "x4",
                  "yaxis": "y4"
                },
                {
                  "name": "Fare",
                  "type": "histogram",
                  "x": [
                    28.5,
                    13,
                    7.925,
                    7.8542,
                    31.275,
                    247.5208,
                    26.55,
                    27.7208,
                    7.8958,
                    35.5,
                    13,
                    24.15,
                    12.275,
                    7.0542,
                    9.5,
                    26,
                    90,
                    227.525,
                    13,
                    57,
                    31.275,
                    6.2375,
                    8.6625,
                    26.25,
                    9.5875,
                    7.2292,
                    22.3583,
                    9.4833,
                    120,
                    14.4583,
                    8.05,
                    211.5,
                    7.25,
                    90,
                    7.725,
                    25.4667,
                    21.075,
                    30,
                    61.3792,
                    26,
                    7.25,
                    7.8958,
                    13,
                    20.2125,
                    30.5,
                    7.05,
                    14.5,
                    7.5208,
                    151.55,
                    26,
                    7.925,
                    21,
                    262.375,
                    7.75,
                    7.2292,
                    8.6625,
                    7.775,
                    80,
                    9.8417,
                    227.525,
                    12.35,
                    0,
                    26,
                    7.225,
                    8.6625,
                    6.4375,
                    9.5,
                    8.05,
                    7.8958,
                    7.25,
                    30.5,
                    12.475,
                    26,
                    7.75,
                    7.2292,
                    133.65,
                    6.975,
                    8.05,
                    77.9583,
                    10.5,
                    26,
                    151.55,
                    106.425,
                    13,
                    8.6625,
                    0,
                    26.55,
                    8.6625,
                    26.55,
                    81.8583,
                    7.8958,
                    11.1333,
                    27.75,
                    26.25,
                    153.4625,
                    26.25,
                    8.05,
                    8.3,
                    15.05,
                    110.8833,
                    13,
                    8.6625,
                    7.05,
                    133.65,
                    0,
                    15.0458,
                    39.6875,
                    7.8792,
                    23.45,
                    26,
                    11.1333,
                    7.65,
                    7.75,
                    15.7417,
                    15.2458,
                    7.925,
                    51.8625,
                    15.5,
                    41.5792,
                    14.4542,
                    10.5167,
                    20.525,
                    89.1042,
                    36.75,
                    10.5,
                    8.05,
                    55.4417,
                    24.15,
                    14.5,
                    26.55,
                    13,
                    50,
                    21,
                    13.8625,
                    7.8958,
                    8.05,
                    10.5,
                    16.7,
                    13.5,
                    36.75,
                    21.075,
                    35,
                    8.05,
                    55.9,
                    7.8,
                    10.5,
                    7.925,
                    7.8542,
                    7.75,
                    34.375,
                    7.75,
                    7.225,
                    7.2292,
                    18,
                    13,
                    26,
                    47.1,
                    80,
                    19.5,
                    8.6625,
                    13.5,
                    20.25,
                    8.05,
                    31.3875,
                    8.1125,
                    7.8292,
                    7.8958,
                    59.4,
                    7.8958,
                    79.2,
                    56.4958,
                    57.9792,
                    7.925,
                    25.4667,
                    10.5,
                    46.9,
                    8.6625,
                    52.5542,
                    10.5,
                    29.125,
                    56.4958,
                    9.825,
                    13,
                    7.75,
                    7.925,
                    14.4583,
                    7.75,
                    61.175,
                    15.1,
                    8.05,
                    66.6,
                    83.1583,
                    37.0042,
                    7.75,
                    26,
                    20.525,
                    7.25,
                    26.55,
                    16.1,
                    41.5792,
                    7.8958,
                    57.9792,
                    27.9,
                    211.3375,
                    106.425,
                    16.1,
                    7.7958,
                    13,
                    40.125,
                    7.05,
                    7.75,
                    28.7125,
                    19.2583,
                    49.5042,
                    65,
                    52,
                    86.5,
                    13,
                    7.8958,
                    26,
                    16,
                    53.1,
                    6.8583,
                    79.2,
                    19.9667,
                    13.7917,
                    7.7333,
                    113.275,
                    8.05,
                    26,
                    21.075,
                    7.8958,
                    69.55,
                    26,
                    30.0708,
                    26,
                    8.0292,
                    55,
                    13,
                    7.8958,
                    39.6,
                    24,
                    7.925,
                    26,
                    16.1,
                    7.8958,
                    7.225,
                    26.25,
                    20.575,
                    211.3375,
                    26.25,
                    17.4,
                    26,
                    22.025,
                    26,
                    29.7,
                    14.5,
                    7.65,
                    7.8958,
                    7.0542,
                    0,
                    7.925,
                    6.95,
                    15.5,
                    0,
                    25.5875,
                    26.55,
                    26,
                    263,
                    11.5,
                    21,
                    11.2417,
                    18.7875,
                    7.75,
                    10.5,
                    7.25,
                    7.8958,
                    26.55,
                    37.0042,
                    7.7958,
                    7.2292,
                    7.75,
                    29.125,
                    13.4167,
                    7.75,
                    13,
                    15.7417,
                    73.5,
                    7.225,
                    10.5,
                    7.75,
                    164.8667,
                    7.8958,
                    11.5,
                    27.9,
                    79.65,
                    53.1,
                    71,
                    69.3,
                    153.4625,
                    7.8542,
                    108.9,
                    14.4,
                    83.1583,
                    7.225,
                    15.5,
                    8.6625,
                    6.4958,
                    12.2875,
                    13,
                    31.3875,
                    146.5208,
                    7.75,
                    7.925,
                    7.775,
                    13.8583,
                    46.9,
                    13,
                    0,
                    7.2292,
                    7.8958,
                    13,
                    19.9667,
                    10.1708,
                    24.15,
                    7.8542,
                    56.4958,
                    0,
                    8.05,
                    263,
                    7.2292,
                    19.2583,
                    13,
                    77.2875,
                    7.7417,
                    39.6875,
                    17.8,
                    12.475,
                    15.85,
                    7.25,
                    12.65,
                    14.5,
                    7.25,
                    7.225,
                    69.55,
                    26.2875,
                    13,
                    18.75,
                    227.525,
                    18,
                    7.8542,
                    90,
                    30,
                    42.4,
                    24.15,
                    7.775,
                    7.3125,
                    7.8958,
                    23,
                    13,
                    7.1417,
                    12.35,
                    15.2458,
                    9.5,
                    164.8667,
                    13,
                    7.925,
                    512.3292,
                    69.55,
                    23.25,
                    512.3292,
                    39.6875,
                    7.55,
                    14.4,
                    33,
                    24.15,
                    7.225,
                    8.05,
                    7.775,
                    8.05,
                    73.5,
                    29.125,
                    29.125,
                    8.05,
                    21.6792,
                    25.9292,
                    7.75,
                    34.0208,
                    16.1,
                    46.9,
                    8.05,
                    8.05,
                    9.35,
                    7.225,
                    33,
                    18.75,
                    8.6625,
                    15.5,
                    25.4667,
                    8.05,
                    26.55,
                    21.075,
                    19.2583,
                    7.2292,
                    8.05,
                    23,
                    27.7208,
                    14.5,
                    9.5,
                    9.5875,
                    11.5,
                    78.85,
                    7.925,
                    23.45,
                    7.775,
                    30,
                    8.05,
                    39,
                    7.7333,
                    7.775,
                    14.4542,
                    10.5,
                    39,
                    8.6542,
                    7.7333,
                    24.15,
                    15,
                    31.275,
                    26,
                    66.6,
                    15.85,
                    29.7,
                    18.7875,
                    9.5,
                    10.5,
                    11.1333,
                    13,
                    7.2292,
                    27.75,
                    16.1,
                    12.35,
                    7.775,
                    51.4792,
                    7.925,
                    13,
                    79.65,
                    31.275,
                    151.55,
                    7.925,
                    12.525,
                    26,
                    79.2,
                    110.8833,
                    8.05,
                    34.375,
                    7.7958,
                    8.6625,
                    56.4958,
                    7.8958,
                    15.9,
                    13,
                    135.6333,
                    15.5,
                    13,
                    86.5,
                    41.5792,
                    6.75,
                    7.775,
                    8.4042,
                    153.4625,
                    20.25,
                    8.85,
                    7.925,
                    30.0708,
                    39,
                    6.4958,
                    263,
                    7.775,
                    8.05,
                    20.575,
                    6.975,
                    26.25,
                    9.825,
                    7.8958,
                    211.3375,
                    7.8875,
                    10.5,
                    69.3,
                    10.5,
                    10.5,
                    0,
                    16.1,
                    9.35,
                    8.1375,
                    46.9,
                    69.55,
                    56.4958,
                    7.775,
                    0,
                    9.5,
                    78.2667,
                    8.05,
                    13.5,
                    23,
                    30.5,
                    52,
                    135.6333,
                    5,
                    12.475,
                    31.3875,
                    0,
                    8.05,
                    14,
                    7.55,
                    7.8958,
                    7.2292,
                    7.8792,
                    512.3292,
                    77.9583,
                    30.5,
                    9.5,
                    7.25,
                    7.8958,
                    90,
                    69.55,
                    26,
                    27.75,
                    16.1,
                    108.9,
                    16.1,
                    7.8958,
                    39.6875,
                    8.5167,
                    10.5,
                    7.125,
                    76.7292,
                    65,
                    39.6,
                    31.275,
                    55.9,
                    15.85,
                    10.5,
                    110.8833,
                    69.55,
                    7.2292,
                    52,
                    71,
                    33.5,
                    6.75,
                    7.4958,
                    14.5,
                    56.4958,
                    8.05,
                    8.05,
                    14.4542,
                    8.05,
                    57,
                    26.55,
                    7.225,
                    7.2292,
                    15.85,
                    7.925,
                    26,
                    7.7958,
                    27,
                    8.05,
                    27.9,
                    8.6833,
                    15.5,
                    7.8958,
                    26,
                    8.6625,
                    46.9,
                    23,
                    7.7375,
                    7.75,
                    7.75,
                    7.6292,
                    7.75,
                    7.75,
                    9.5,
                    13,
                    263,
                    7.8958,
                    83.475,
                    15.9,
                    4.0125,
                    13,
                    13,
                    0,
                    7.7958,
                    7.25,
                    151.55,
                    9.2167,
                    83.475,
                    8.6625,
                    35.5,
                    22.3583,
                    50.4958,
                    93.5,
                    27.7208,
                    7.8542,
                    7.7333,
                    9.475,
                    30.5,
                    7.775,
                    26.55,
                    120,
                    7.925,
                    76.7292,
                    134.5,
                    53.1,
                    7.775,
                    53.1,
                    27.7208,
                    26.2875,
                    10.4625,
                    21,
                    8.05,
                    7.8958,
                    30,
                    135.6333,
                    69.55,
                    15.75,
                    26.55,
                    7.925,
                    8.05,
                    14.4542,
                    21,
                    7.8542,
                    7.8958,
                    24.15,
                    12,
                    71.2833,
                    7.2292,
                    7.8958,
                    9,
                    10.4625,
                    82.1708,
                    7.75,
                    22.525,
                    26,
                    8.05,
                    75.25,
                    7.8542,
                    35.5,
                    8.05,
                    13,
                    7.75,
                    15.5,
                    31.275,
                    7.8542,
                    27,
                    13,
                    29.7,
                    55,
                    10.5,
                    7.8958,
                    6.45,
                    91.0792,
                    9,
                    86.5,
                    18.75,
                    7.125,
                    7.8958,
                    13.5,
                    39.6875,
                    7.8958,
                    30,
                    7.65,
                    52,
                    76.7292,
                    7.75,
                    27.75,
                    9.8375,
                    7.75,
                    13,
                    26.55,
                    13,
                    7.8958,
                    7.75,
                    16.1,
                    7.75,
                    13,
                    73.5,
                    7.775,
                    0,
                    7.25,
                    13,
                    8.3625,
                    24,
                    7.225,
                    7.8958,
                    7.4958,
                    52.5542,
                    26,
                    8.05,
                    8.05,
                    10.5,
                    23.25,
                    7.75,
                    0,
                    8.05,
                    8.05,
                    26,
                    227.525,
                    46.9,
                    7.65,
                    31,
                    14.1083,
                    120,
                    77.2875
                  ],
                  "xaxis": "x5",
                  "yaxis": "y5"
                }
              ],
              "layout": {
                "annotations": [
                  {
                    "font": {
                      "size": 16
                    },
                    "showarrow": false,
                    "text": "Pclass",
                    "x": 0.08399999999999999,
                    "xanchor": "center",
                    "xref": "paper",
                    "y": 1,
                    "yanchor": "bottom",
                    "yref": "paper"
                  },
                  {
                    "font": {
                      "size": 16
                    },
                    "showarrow": false,
                    "text": "Age",
                    "x": 0.292,
                    "xanchor": "center",
                    "xref": "paper",
                    "y": 1,
                    "yanchor": "bottom",
                    "yref": "paper"
                  },
                  {
                    "font": {
                      "size": 16
                    },
                    "showarrow": false,
                    "text": "SibSp",
                    "x": 0.5,
                    "xanchor": "center",
                    "xref": "paper",
                    "y": 1,
                    "yanchor": "bottom",
                    "yref": "paper"
                  },
                  {
                    "font": {
                      "size": 16
                    },
                    "showarrow": false,
                    "text": "Parch",
                    "x": 0.708,
                    "xanchor": "center",
                    "xref": "paper",
                    "y": 1,
                    "yanchor": "bottom",
                    "yref": "paper"
                  },
                  {
                    "font": {
                      "size": 16
                    },
                    "showarrow": false,
                    "text": "Fare",
                    "x": 0.9159999999999999,
                    "xanchor": "center",
                    "xref": "paper",
                    "y": 1,
                    "yanchor": "bottom",
                    "yref": "paper"
                  }
                ],
                "height": 400,
                "template": {
                  "data": {
                    "bar": [
                      {
                        "error_x": {
                          "color": "#2a3f5f"
                        },
                        "error_y": {
                          "color": "#2a3f5f"
                        },
                        "marker": {
                          "line": {
                            "color": "#E5ECF6",
                            "width": 0.5
                          },
                          "pattern": {
                            "fillmode": "overlay",
                            "size": 10,
                            "solidity": 0.2
                          }
                        },
                        "type": "bar"
                      }
                    ],
                    "barpolar": [
                      {
                        "marker": {
                          "line": {
                            "color": "#E5ECF6",
                            "width": 0.5
                          },
                          "pattern": {
                            "fillmode": "overlay",
                            "size": 10,
                            "solidity": 0.2
                          }
                        },
                        "type": "barpolar"
                      }
                    ],
                    "carpet": [
                      {
                        "aaxis": {
                          "endlinecolor": "#2a3f5f",
                          "gridcolor": "white",
                          "linecolor": "white",
                          "minorgridcolor": "white",
                          "startlinecolor": "#2a3f5f"
                        },
                        "baxis": {
                          "endlinecolor": "#2a3f5f",
                          "gridcolor": "white",
                          "linecolor": "white",
                          "minorgridcolor": "white",
                          "startlinecolor": "#2a3f5f"
                        },
                        "type": "carpet"
                      }
                    ],
                    "choropleth": [
                      {
                        "colorbar": {
                          "outlinewidth": 0,
                          "ticks": ""
                        },
                        "type": "choropleth"
                      }
                    ],
                    "contour": [
                      {
                        "colorbar": {
                          "outlinewidth": 0,
                          "ticks": ""
                        },
                        "colorscale": [
                          [
                            0,
                            "#0d0887"
                          ],
                          [
                            0.1111111111111111,
                            "#46039f"
                          ],
                          [
                            0.2222222222222222,
                            "#7201a8"
                          ],
                          [
                            0.3333333333333333,
                            "#9c179e"
                          ],
                          [
                            0.4444444444444444,
                            "#bd3786"
                          ],
                          [
                            0.5555555555555556,
                            "#d8576b"
                          ],
                          [
                            0.6666666666666666,
                            "#ed7953"
                          ],
                          [
                            0.7777777777777778,
                            "#fb9f3a"
                          ],
                          [
                            0.8888888888888888,
                            "#fdca26"
                          ],
                          [
                            1,
                            "#f0f921"
                          ]
                        ],
                        "type": "contour"
                      }
                    ],
                    "contourcarpet": [
                      {
                        "colorbar": {
                          "outlinewidth": 0,
                          "ticks": ""
                        },
                        "type": "contourcarpet"
                      }
                    ],
                    "heatmap": [
                      {
                        "colorbar": {
                          "outlinewidth": 0,
                          "ticks": ""
                        },
                        "colorscale": [
                          [
                            0,
                            "#0d0887"
                          ],
                          [
                            0.1111111111111111,
                            "#46039f"
                          ],
                          [
                            0.2222222222222222,
                            "#7201a8"
                          ],
                          [
                            0.3333333333333333,
                            "#9c179e"
                          ],
                          [
                            0.4444444444444444,
                            "#bd3786"
                          ],
                          [
                            0.5555555555555556,
                            "#d8576b"
                          ],
                          [
                            0.6666666666666666,
                            "#ed7953"
                          ],
                          [
                            0.7777777777777778,
                            "#fb9f3a"
                          ],
                          [
                            0.8888888888888888,
                            "#fdca26"
                          ],
                          [
                            1,
                            "#f0f921"
                          ]
                        ],
                        "type": "heatmap"
                      }
                    ],
                    "heatmapgl": [
                      {
                        "colorbar": {
                          "outlinewidth": 0,
                          "ticks": ""
                        },
                        "colorscale": [
                          [
                            0,
                            "#0d0887"
                          ],
                          [
                            0.1111111111111111,
                            "#46039f"
                          ],
                          [
                            0.2222222222222222,
                            "#7201a8"
                          ],
                          [
                            0.3333333333333333,
                            "#9c179e"
                          ],
                          [
                            0.4444444444444444,
                            "#bd3786"
                          ],
                          [
                            0.5555555555555556,
                            "#d8576b"
                          ],
                          [
                            0.6666666666666666,
                            "#ed7953"
                          ],
                          [
                            0.7777777777777778,
                            "#fb9f3a"
                          ],
                          [
                            0.8888888888888888,
                            "#fdca26"
                          ],
                          [
                            1,
                            "#f0f921"
                          ]
                        ],
                        "type": "heatmapgl"
                      }
                    ],
                    "histogram": [
                      {
                        "marker": {
                          "pattern": {
                            "fillmode": "overlay",
                            "size": 10,
                            "solidity": 0.2
                          }
                        },
                        "type": "histogram"
                      }
                    ],
                    "histogram2d": [
                      {
                        "colorbar": {
                          "outlinewidth": 0,
                          "ticks": ""
                        },
                        "colorscale": [
                          [
                            0,
                            "#0d0887"
                          ],
                          [
                            0.1111111111111111,
                            "#46039f"
                          ],
                          [
                            0.2222222222222222,
                            "#7201a8"
                          ],
                          [
                            0.3333333333333333,
                            "#9c179e"
                          ],
                          [
                            0.4444444444444444,
                            "#bd3786"
                          ],
                          [
                            0.5555555555555556,
                            "#d8576b"
                          ],
                          [
                            0.6666666666666666,
                            "#ed7953"
                          ],
                          [
                            0.7777777777777778,
                            "#fb9f3a"
                          ],
                          [
                            0.8888888888888888,
                            "#fdca26"
                          ],
                          [
                            1,
                            "#f0f921"
                          ]
                        ],
                        "type": "histogram2d"
                      }
                    ],
                    "histogram2dcontour": [
                      {
                        "colorbar": {
                          "outlinewidth": 0,
                          "ticks": ""
                        },
                        "colorscale": [
                          [
                            0,
                            "#0d0887"
                          ],
                          [
                            0.1111111111111111,
                            "#46039f"
                          ],
                          [
                            0.2222222222222222,
                            "#7201a8"
                          ],
                          [
                            0.3333333333333333,
                            "#9c179e"
                          ],
                          [
                            0.4444444444444444,
                            "#bd3786"
                          ],
                          [
                            0.5555555555555556,
                            "#d8576b"
                          ],
                          [
                            0.6666666666666666,
                            "#ed7953"
                          ],
                          [
                            0.7777777777777778,
                            "#fb9f3a"
                          ],
                          [
                            0.8888888888888888,
                            "#fdca26"
                          ],
                          [
                            1,
                            "#f0f921"
                          ]
                        ],
                        "type": "histogram2dcontour"
                      }
                    ],
                    "mesh3d": [
                      {
                        "colorbar": {
                          "outlinewidth": 0,
                          "ticks": ""
                        },
                        "type": "mesh3d"
                      }
                    ],
                    "parcoords": [
                      {
                        "line": {
                          "colorbar": {
                            "outlinewidth": 0,
                            "ticks": ""
                          }
                        },
                        "type": "parcoords"
                      }
                    ],
                    "pie": [
                      {
                        "automargin": true,
                        "type": "pie"
                      }
                    ],
                    "scatter": [
                      {
                        "marker": {
                          "colorbar": {
                            "outlinewidth": 0,
                            "ticks": ""
                          }
                        },
                        "type": "scatter"
                      }
                    ],
                    "scatter3d": [
                      {
                        "line": {
                          "colorbar": {
                            "outlinewidth": 0,
                            "ticks": ""
                          }
                        },
                        "marker": {
                          "colorbar": {
                            "outlinewidth": 0,
                            "ticks": ""
                          }
                        },
                        "type": "scatter3d"
                      }
                    ],
                    "scattercarpet": [
                      {
                        "marker": {
                          "colorbar": {
                            "outlinewidth": 0,
                            "ticks": ""
                          }
                        },
                        "type": "scattercarpet"
                      }
                    ],
                    "scattergeo": [
                      {
                        "marker": {
                          "colorbar": {
                            "outlinewidth": 0,
                            "ticks": ""
                          }
                        },
                        "type": "scattergeo"
                      }
                    ],
                    "scattergl": [
                      {
                        "marker": {
                          "colorbar": {
                            "outlinewidth": 0,
                            "ticks": ""
                          }
                        },
                        "type": "scattergl"
                      }
                    ],
                    "scattermapbox": [
                      {
                        "marker": {
                          "colorbar": {
                            "outlinewidth": 0,
                            "ticks": ""
                          }
                        },
                        "type": "scattermapbox"
                      }
                    ],
                    "scatterpolar": [
                      {
                        "marker": {
                          "colorbar": {
                            "outlinewidth": 0,
                            "ticks": ""
                          }
                        },
                        "type": "scatterpolar"
                      }
                    ],
                    "scatterpolargl": [
                      {
                        "marker": {
                          "colorbar": {
                            "outlinewidth": 0,
                            "ticks": ""
                          }
                        },
                        "type": "scatterpolargl"
                      }
                    ],
                    "scatterternary": [
                      {
                        "marker": {
                          "colorbar": {
                            "outlinewidth": 0,
                            "ticks": ""
                          }
                        },
                        "type": "scatterternary"
                      }
                    ],
                    "surface": [
                      {
                        "colorbar": {
                          "outlinewidth": 0,
                          "ticks": ""
                        },
                        "colorscale": [
                          [
                            0,
                            "#0d0887"
                          ],
                          [
                            0.1111111111111111,
                            "#46039f"
                          ],
                          [
                            0.2222222222222222,
                            "#7201a8"
                          ],
                          [
                            0.3333333333333333,
                            "#9c179e"
                          ],
                          [
                            0.4444444444444444,
                            "#bd3786"
                          ],
                          [
                            0.5555555555555556,
                            "#d8576b"
                          ],
                          [
                            0.6666666666666666,
                            "#ed7953"
                          ],
                          [
                            0.7777777777777778,
                            "#fb9f3a"
                          ],
                          [
                            0.8888888888888888,
                            "#fdca26"
                          ],
                          [
                            1,
                            "#f0f921"
                          ]
                        ],
                        "type": "surface"
                      }
                    ],
                    "table": [
                      {
                        "cells": {
                          "fill": {
                            "color": "#EBF0F8"
                          },
                          "line": {
                            "color": "white"
                          }
                        },
                        "header": {
                          "fill": {
                            "color": "#C8D4E3"
                          },
                          "line": {
                            "color": "white"
                          }
                        },
                        "type": "table"
                      }
                    ]
                  },
                  "layout": {
                    "annotationdefaults": {
                      "arrowcolor": "#2a3f5f",
                      "arrowhead": 0,
                      "arrowwidth": 1
                    },
                    "autotypenumbers": "strict",
                    "coloraxis": {
                      "colorbar": {
                        "outlinewidth": 0,
                        "ticks": ""
                      }
                    },
                    "colorscale": {
                      "diverging": [
                        [
                          0,
                          "#8e0152"
                        ],
                        [
                          0.1,
                          "#c51b7d"
                        ],
                        [
                          0.2,
                          "#de77ae"
                        ],
                        [
                          0.3,
                          "#f1b6da"
                        ],
                        [
                          0.4,
                          "#fde0ef"
                        ],
                        [
                          0.5,
                          "#f7f7f7"
                        ],
                        [
                          0.6,
                          "#e6f5d0"
                        ],
                        [
                          0.7,
                          "#b8e186"
                        ],
                        [
                          0.8,
                          "#7fbc41"
                        ],
                        [
                          0.9,
                          "#4d9221"
                        ],
                        [
                          1,
                          "#276419"
                        ]
                      ],
                      "sequential": [
                        [
                          0,
                          "#0d0887"
                        ],
                        [
                          0.1111111111111111,
                          "#46039f"
                        ],
                        [
                          0.2222222222222222,
                          "#7201a8"
                        ],
                        [
                          0.3333333333333333,
                          "#9c179e"
                        ],
                        [
                          0.4444444444444444,
                          "#bd3786"
                        ],
                        [
                          0.5555555555555556,
                          "#d8576b"
                        ],
                        [
                          0.6666666666666666,
                          "#ed7953"
                        ],
                        [
                          0.7777777777777778,
                          "#fb9f3a"
                        ],
                        [
                          0.8888888888888888,
                          "#fdca26"
                        ],
                        [
                          1,
                          "#f0f921"
                        ]
                      ],
                      "sequentialminus": [
                        [
                          0,
                          "#0d0887"
                        ],
                        [
                          0.1111111111111111,
                          "#46039f"
                        ],
                        [
                          0.2222222222222222,
                          "#7201a8"
                        ],
                        [
                          0.3333333333333333,
                          "#9c179e"
                        ],
                        [
                          0.4444444444444444,
                          "#bd3786"
                        ],
                        [
                          0.5555555555555556,
                          "#d8576b"
                        ],
                        [
                          0.6666666666666666,
                          "#ed7953"
                        ],
                        [
                          0.7777777777777778,
                          "#fb9f3a"
                        ],
                        [
                          0.8888888888888888,
                          "#fdca26"
                        ],
                        [
                          1,
                          "#f0f921"
                        ]
                      ]
                    },
                    "colorway": [
                      "#636efa",
                      "#EF553B",
                      "#00cc96",
                      "#ab63fa",
                      "#FFA15A",
                      "#19d3f3",
                      "#FF6692",
                      "#B6E880",
                      "#FF97FF",
                      "#FECB52"
                    ],
                    "font": {
                      "color": "#2a3f5f"
                    },
                    "geo": {
                      "bgcolor": "white",
                      "lakecolor": "white",
                      "landcolor": "#E5ECF6",
                      "showlakes": true,
                      "showland": true,
                      "subunitcolor": "white"
                    },
                    "hoverlabel": {
                      "align": "left"
                    },
                    "hovermode": "closest",
                    "mapbox": {
                      "style": "light"
                    },
                    "paper_bgcolor": "white",
                    "plot_bgcolor": "#E5ECF6",
                    "polar": {
                      "angularaxis": {
                        "gridcolor": "white",
                        "linecolor": "white",
                        "ticks": ""
                      },
                      "bgcolor": "#E5ECF6",
                      "radialaxis": {
                        "gridcolor": "white",
                        "linecolor": "white",
                        "ticks": ""
                      }
                    },
                    "scene": {
                      "xaxis": {
                        "backgroundcolor": "#E5ECF6",
                        "gridcolor": "white",
                        "gridwidth": 2,
                        "linecolor": "white",
                        "showbackground": true,
                        "ticks": "",
                        "zerolinecolor": "white"
                      },
                      "yaxis": {
                        "backgroundcolor": "#E5ECF6",
                        "gridcolor": "white",
                        "gridwidth": 2,
                        "linecolor": "white",
                        "showbackground": true,
                        "ticks": "",
                        "zerolinecolor": "white"
                      },
                      "zaxis": {
                        "backgroundcolor": "#E5ECF6",
                        "gridcolor": "white",
                        "gridwidth": 2,
                        "linecolor": "white",
                        "showbackground": true,
                        "ticks": "",
                        "zerolinecolor": "white"
                      }
                    },
                    "shapedefaults": {
                      "line": {
                        "color": "#2a3f5f"
                      }
                    },
                    "ternary": {
                      "aaxis": {
                        "gridcolor": "white",
                        "linecolor": "white",
                        "ticks": ""
                      },
                      "baxis": {
                        "gridcolor": "white",
                        "linecolor": "white",
                        "ticks": ""
                      },
                      "bgcolor": "#E5ECF6",
                      "caxis": {
                        "gridcolor": "white",
                        "linecolor": "white",
                        "ticks": ""
                      }
                    },
                    "title": {
                      "x": 0.05
                    },
                    "xaxis": {
                      "automargin": true,
                      "gridcolor": "white",
                      "linecolor": "white",
                      "ticks": "",
                      "title": {
                        "standoff": 15
                      },
                      "zerolinecolor": "white",
                      "zerolinewidth": 2
                    },
                    "yaxis": {
                      "automargin": true,
                      "gridcolor": "white",
                      "linecolor": "white",
                      "ticks": "",
                      "title": {
                        "standoff": 15
                      },
                      "zerolinecolor": "white",
                      "zerolinewidth": 2
                    }
                  }
                },
                "title": {
                  "text": "Histogramas das colunas numéricas"
                },
                "width": 1000,
                "xaxis": {
                  "anchor": "y",
                  "domain": [
                    0,
                    0.16799999999999998
                  ]
                },
                "xaxis2": {
                  "anchor": "y2",
                  "domain": [
                    0.208,
                    0.376
                  ]
                },
                "xaxis3": {
                  "anchor": "y3",
                  "domain": [
                    0.416,
                    0.584
                  ]
                },
                "xaxis4": {
                  "anchor": "y4",
                  "domain": [
                    0.624,
                    0.792
                  ]
                },
                "xaxis5": {
                  "anchor": "y5",
                  "domain": [
                    0.832,
                    1
                  ]
                },
                "yaxis": {
                  "anchor": "x",
                  "domain": [
                    0,
                    1
                  ]
                },
                "yaxis2": {
                  "anchor": "x2",
                  "domain": [
                    0,
                    1
                  ]
                },
                "yaxis3": {
                  "anchor": "x3",
                  "domain": [
                    0,
                    1
                  ]
                },
                "yaxis4": {
                  "anchor": "x4",
                  "domain": [
                    0,
                    1
                  ]
                },
                "yaxis5": {
                  "anchor": "x5",
                  "domain": [
                    0,
                    1
                  ]
                }
              }
            }
          },
          "metadata": {},
          "output_type": "display_data"
        }
      ],
      "source": [
        "fig = multiple_plots(train, \"hist\", num_cols)\n",
        "fig.update_layout(title_text=\"Histogramas das colunas numéricas\")\n",
        "fig.show()"
      ]
    },
    {
      "cell_type": "markdown",
      "metadata": {},
      "source": [
        "É possível verificar que em especial \"Fare\" possue muitos outliers. <br>\n",
        "Agora, qual a relação entre essas variáveis e a taxa de sobrevivência dos passageiros? Para isso, vou comparar a taxa média de sobrevivência para cada grupo das variáveis em análise."
      ]
    },
    {
      "cell_type": "code",
      "execution_count": 87,
      "metadata": {
        "execution": {
          "iopub.status.busy": "2022-01-03T16:01:20.023968Z",
          "iopub.status.idle": "2022-01-03T16:01:20.024558Z",
          "shell.execute_reply": "2022-01-03T16:01:20.024342Z",
          "shell.execute_reply.started": "2022-01-03T16:01:20.024315Z"
        },
        "trusted": true
      },
      "outputs": [
        {
          "data": {
            "application/vnd.plotly.v1+json": {
              "config": {
                "plotlyServerURL": "https://plot.ly"
              },
              "data": [
                {
                  "name": "Pclass",
                  "type": "bar",
                  "x": [
                    1,
                    2,
                    3
                  ],
                  "xaxis": "x",
                  "y": [
                    0.6073619631901841,
                    0.48344370860927155,
                    0.24120603015075376
                  ],
                  "yaxis": "y"
                },
                {
                  "mode": "markers",
                  "name": "Age",
                  "type": "scatter",
                  "x": [
                    0.42,
                    0.67,
                    0.75,
                    0.83,
                    0.92,
                    1,
                    2,
                    3,
                    4,
                    5,
                    6,
                    7,
                    8,
                    9,
                    10,
                    11,
                    12,
                    13,
                    14,
                    14.5,
                    15,
                    16,
                    17,
                    18,
                    19,
                    20,
                    21,
                    22,
                    23,
                    24,
                    24.5,
                    25,
                    26,
                    27,
                    28,
                    28.5,
                    29,
                    30,
                    31,
                    32,
                    32.5,
                    33,
                    34,
                    34.5,
                    35,
                    36,
                    36.5,
                    37,
                    38,
                    39,
                    40,
                    40.5,
                    41,
                    42,
                    43,
                    44,
                    45,
                    45.5,
                    46,
                    47,
                    48,
                    49,
                    50,
                    51,
                    52,
                    53,
                    54,
                    55,
                    55.5,
                    56,
                    57,
                    58,
                    59,
                    60,
                    61,
                    62,
                    63,
                    64,
                    65,
                    70,
                    70.5,
                    74,
                    80
                  ],
                  "xaxis": "x2",
                  "y": [
                    1,
                    1,
                    1,
                    1,
                    1,
                    0.7142857142857143,
                    0.3,
                    0.8333333333333334,
                    0.75,
                    1,
                    0.5,
                    0.3333333333333333,
                    0.5,
                    0.2,
                    0,
                    0,
                    1,
                    1,
                    0.4,
                    0,
                    0.75,
                    0.3333333333333333,
                    0.5,
                    0.25,
                    0.2631578947368421,
                    0.25,
                    0.2631578947368421,
                    0.34782608695652173,
                    0.4,
                    0.5769230769230769,
                    0,
                    0.2857142857142857,
                    0.26666666666666666,
                    0.7333333333333333,
                    0.23809523809523808,
                    0,
                    0.4375,
                    0.35,
                    0.46153846153846156,
                    0.5333333333333333,
                    0.5,
                    0.4,
                    0.3076923076923077,
                    0,
                    0.6428571428571429,
                    0.4666666666666667,
                    0,
                    0.25,
                    0.5714285714285714,
                    0.36363636363636365,
                    0.375,
                    0,
                    0.4,
                    0.45454545454545453,
                    0.25,
                    0.42857142857142855,
                    0.4,
                    0,
                    0,
                    0.14285714285714285,
                    0.7142857142857143,
                    0.5,
                    0.4444444444444444,
                    0.2857142857142857,
                    0.25,
                    1,
                    0.375,
                    0.5,
                    0,
                    0.6666666666666666,
                    0,
                    0.75,
                    0,
                    0.5,
                    0,
                    0.5,
                    1,
                    0,
                    0,
                    0,
                    0,
                    0,
                    1
                  ],
                  "yaxis": "y2"
                },
                {
                  "name": "SibSp",
                  "type": "bar",
                  "x": [
                    0,
                    1,
                    2,
                    3,
                    4,
                    5,
                    8
                  ],
                  "xaxis": "x3",
                  "y": [
                    0.3450413223140496,
                    0.5060975609756098,
                    0.4782608695652174,
                    0.3076923076923077,
                    0.1875,
                    0,
                    0
                  ],
                  "yaxis": "y3"
                },
                {
                  "name": "Parch",
                  "type": "bar",
                  "x": [
                    0,
                    1,
                    2,
                    3,
                    4,
                    5,
                    6
                  ],
                  "xaxis": "x4",
                  "y": [
                    0.33826247689463956,
                    0.5319148936170213,
                    0.47761194029850745,
                    1,
                    0,
                    0,
                    0
                  ],
                  "yaxis": "y4"
                },
                {
                  "mode": "markers",
                  "name": "Fare",
                  "type": "scatter",
                  "x": [
                    0,
                    4.0125,
                    5,
                    6.2375,
                    6.4375,
                    6.45,
                    6.4958,
                    6.75,
                    6.8583,
                    6.95,
                    6.975,
                    7.05,
                    7.0542,
                    7.125,
                    7.1417,
                    7.225,
                    7.2292,
                    7.25,
                    7.3125,
                    7.4958,
                    7.5208,
                    7.55,
                    7.6292,
                    7.65,
                    7.725,
                    7.7333,
                    7.7375,
                    7.7417,
                    7.75,
                    7.775,
                    7.7958,
                    7.8,
                    7.8292,
                    7.8542,
                    7.8792,
                    7.8875,
                    7.8958,
                    7.925,
                    8.0292,
                    8.05,
                    8.1125,
                    8.1375,
                    8.3,
                    8.3625,
                    8.4042,
                    8.5167,
                    8.6542,
                    8.6625,
                    8.6833,
                    8.85,
                    9,
                    9.2167,
                    9.35,
                    9.475,
                    9.4833,
                    9.5,
                    9.5875,
                    9.825,
                    9.8375,
                    9.8417,
                    10.1708,
                    10.4625,
                    10.5,
                    10.5167,
                    11.1333,
                    11.2417,
                    11.5,
                    12,
                    12.275,
                    12.2875,
                    12.35,
                    12.475,
                    12.525,
                    12.65,
                    13,
                    13.4167,
                    13.5,
                    13.7917,
                    13.8583,
                    13.8625,
                    14,
                    14.1083,
                    14.4,
                    14.4542,
                    14.4583,
                    14.5,
                    15,
                    15.0458,
                    15.05,
                    15.1,
                    15.2458,
                    15.5,
                    15.7417,
                    15.75,
                    15.85,
                    15.9,
                    16,
                    16.1,
                    16.7,
                    17.4,
                    17.8,
                    18,
                    18.75,
                    18.7875,
                    19.2583,
                    19.5,
                    19.9667,
                    20.2125,
                    20.25,
                    20.525,
                    20.575,
                    21,
                    21.075,
                    21.6792,
                    22.025,
                    22.3583,
                    22.525,
                    23,
                    23.25,
                    23.45,
                    24,
                    24.15,
                    25.4667,
                    25.5875,
                    25.9292,
                    26,
                    26.25,
                    26.2875,
                    26.55,
                    27,
                    27.7208,
                    27.75,
                    27.9,
                    28.5,
                    28.7125,
                    29.125,
                    29.7,
                    30,
                    30.0708,
                    30.5,
                    31,
                    31.275,
                    31.3875,
                    33,
                    33.5,
                    34.0208,
                    34.375,
                    35,
                    35.5,
                    36.75,
                    37.0042,
                    39,
                    39.6,
                    39.6875,
                    40.125,
                    41.5792,
                    42.4,
                    46.9,
                    47.1,
                    49.5042,
                    50,
                    50.4958,
                    51.4792,
                    51.8625,
                    52,
                    52.5542,
                    53.1,
                    55,
                    55.4417,
                    55.9,
                    56.4958,
                    57,
                    57.9792,
                    59.4,
                    61.175,
                    61.3792,
                    65,
                    66.6,
                    69.3,
                    69.55,
                    71,
                    71.2833,
                    73.5,
                    75.25,
                    76.7292,
                    77.2875,
                    77.9583,
                    78.2667,
                    78.85,
                    79.2,
                    79.65,
                    80,
                    81.8583,
                    82.1708,
                    83.1583,
                    83.475,
                    86.5,
                    89.1042,
                    90,
                    91.0792,
                    93.5,
                    106.425,
                    108.9,
                    110.8833,
                    113.275,
                    120,
                    133.65,
                    134.5,
                    135.6333,
                    146.5208,
                    151.55,
                    153.4625,
                    164.8667,
                    211.3375,
                    211.5,
                    227.525,
                    247.5208,
                    262.375,
                    263,
                    512.3292
                  ],
                  "xaxis": "x5",
                  "y": [
                    0.07692307692307693,
                    0,
                    0,
                    0,
                    0,
                    0,
                    0,
                    0,
                    0,
                    0,
                    0.5,
                    0,
                    0,
                    0,
                    1,
                    0.3,
                    0.3076923076923077,
                    0.1,
                    0,
                    0.5,
                    0,
                    0.5,
                    0,
                    0.25,
                    0,
                    0.5,
                    1,
                    0,
                    0.3076923076923077,
                    0.23076923076923078,
                    0.4,
                    0,
                    0,
                    0.2222222222222222,
                    1,
                    0,
                    0.03125,
                    0.47058823529411764,
                    1,
                    0.08571428571428572,
                    1,
                    0,
                    0,
                    0,
                    0,
                    1,
                    0,
                    0.07692307692307693,
                    1,
                    0,
                    0,
                    0,
                    0.5,
                    0,
                    0,
                    0.125,
                    0.5,
                    0,
                    0,
                    1,
                    0,
                    0,
                    0.4117647058823529,
                    0,
                    1,
                    1,
                    0,
                    1,
                    0,
                    1,
                    0.6666666666666666,
                    1,
                    0,
                    1,
                    0.3939393939393939,
                    1,
                    0.25,
                    1,
                    1,
                    1,
                    0,
                    0,
                    0,
                    0,
                    0,
                    0.3333333333333333,
                    0,
                    0,
                    0,
                    0,
                    0.5,
                    0.42857142857142855,
                    1,
                    1,
                    0.5,
                    1,
                    1,
                    0.2222222222222222,
                    1,
                    1,
                    0,
                    0,
                    1,
                    0.5,
                    1,
                    1,
                    0,
                    0,
                    0.5,
                    0.5,
                    0.5,
                    0.2,
                    0,
                    0,
                    1,
                    1,
                    0,
                    1,
                    1,
                    0,
                    0.5,
                    0,
                    0,
                    0,
                    1,
                    0.52,
                    0.6666666666666666,
                    1,
                    0.4166666666666667,
                    0.5,
                    0.25,
                    0.5,
                    0,
                    0,
                    0,
                    0,
                    0.3333333333333333,
                    0.8,
                    0.5,
                    0.8,
                    0,
                    0,
                    0.6666666666666666,
                    0.5,
                    0,
                    0,
                    0,
                    0,
                    0.6666666666666666,
                    0.5,
                    0.5,
                    0.6666666666666666,
                    0.5,
                    0,
                    0,
                    0.6666666666666666,
                    0,
                    0,
                    0,
                    1,
                    0,
                    0,
                    1,
                    0,
                    0.25,
                    1,
                    0.75,
                    1,
                    1,
                    0.5,
                    0.6666666666666666,
                    1,
                    1,
                    1,
                    0,
                    0,
                    1,
                    0.5,
                    1,
                    0,
                    0.5,
                    1,
                    0,
                    1,
                    1,
                    0,
                    1,
                    1,
                    0,
                    0.6666666666666666,
                    0.5,
                    1,
                    1,
                    0,
                    1,
                    0.5,
                    1,
                    1,
                    0.75,
                    1,
                    1,
                    0.5,
                    0.5,
                    0.6666666666666666,
                    1,
                    1,
                    1,
                    1,
                    0.6666666666666666,
                    1,
                    0.5,
                    0.6666666666666666,
                    1,
                    1,
                    0,
                    0.75,
                    0,
                    1,
                    0.5,
                    1
                  ],
                  "yaxis": "y5"
                }
              ],
              "layout": {
                "annotations": [
                  {
                    "font": {
                      "size": 16
                    },
                    "showarrow": false,
                    "text": "Pclass",
                    "x": 0.08399999999999999,
                    "xanchor": "center",
                    "xref": "paper",
                    "y": 1,
                    "yanchor": "bottom",
                    "yref": "paper"
                  },
                  {
                    "font": {
                      "size": 16
                    },
                    "showarrow": false,
                    "text": "Age",
                    "x": 0.292,
                    "xanchor": "center",
                    "xref": "paper",
                    "y": 1,
                    "yanchor": "bottom",
                    "yref": "paper"
                  },
                  {
                    "font": {
                      "size": 16
                    },
                    "showarrow": false,
                    "text": "SibSp",
                    "x": 0.5,
                    "xanchor": "center",
                    "xref": "paper",
                    "y": 1,
                    "yanchor": "bottom",
                    "yref": "paper"
                  },
                  {
                    "font": {
                      "size": 16
                    },
                    "showarrow": false,
                    "text": "Parch",
                    "x": 0.708,
                    "xanchor": "center",
                    "xref": "paper",
                    "y": 1,
                    "yanchor": "bottom",
                    "yref": "paper"
                  },
                  {
                    "font": {
                      "size": 16
                    },
                    "showarrow": false,
                    "text": "Fare",
                    "x": 0.9159999999999999,
                    "xanchor": "center",
                    "xref": "paper",
                    "y": 1,
                    "yanchor": "bottom",
                    "yref": "paper"
                  }
                ],
                "height": 400,
                "template": {
                  "data": {
                    "bar": [
                      {
                        "error_x": {
                          "color": "#2a3f5f"
                        },
                        "error_y": {
                          "color": "#2a3f5f"
                        },
                        "marker": {
                          "line": {
                            "color": "#E5ECF6",
                            "width": 0.5
                          },
                          "pattern": {
                            "fillmode": "overlay",
                            "size": 10,
                            "solidity": 0.2
                          }
                        },
                        "type": "bar"
                      }
                    ],
                    "barpolar": [
                      {
                        "marker": {
                          "line": {
                            "color": "#E5ECF6",
                            "width": 0.5
                          },
                          "pattern": {
                            "fillmode": "overlay",
                            "size": 10,
                            "solidity": 0.2
                          }
                        },
                        "type": "barpolar"
                      }
                    ],
                    "carpet": [
                      {
                        "aaxis": {
                          "endlinecolor": "#2a3f5f",
                          "gridcolor": "white",
                          "linecolor": "white",
                          "minorgridcolor": "white",
                          "startlinecolor": "#2a3f5f"
                        },
                        "baxis": {
                          "endlinecolor": "#2a3f5f",
                          "gridcolor": "white",
                          "linecolor": "white",
                          "minorgridcolor": "white",
                          "startlinecolor": "#2a3f5f"
                        },
                        "type": "carpet"
                      }
                    ],
                    "choropleth": [
                      {
                        "colorbar": {
                          "outlinewidth": 0,
                          "ticks": ""
                        },
                        "type": "choropleth"
                      }
                    ],
                    "contour": [
                      {
                        "colorbar": {
                          "outlinewidth": 0,
                          "ticks": ""
                        },
                        "colorscale": [
                          [
                            0,
                            "#0d0887"
                          ],
                          [
                            0.1111111111111111,
                            "#46039f"
                          ],
                          [
                            0.2222222222222222,
                            "#7201a8"
                          ],
                          [
                            0.3333333333333333,
                            "#9c179e"
                          ],
                          [
                            0.4444444444444444,
                            "#bd3786"
                          ],
                          [
                            0.5555555555555556,
                            "#d8576b"
                          ],
                          [
                            0.6666666666666666,
                            "#ed7953"
                          ],
                          [
                            0.7777777777777778,
                            "#fb9f3a"
                          ],
                          [
                            0.8888888888888888,
                            "#fdca26"
                          ],
                          [
                            1,
                            "#f0f921"
                          ]
                        ],
                        "type": "contour"
                      }
                    ],
                    "contourcarpet": [
                      {
                        "colorbar": {
                          "outlinewidth": 0,
                          "ticks": ""
                        },
                        "type": "contourcarpet"
                      }
                    ],
                    "heatmap": [
                      {
                        "colorbar": {
                          "outlinewidth": 0,
                          "ticks": ""
                        },
                        "colorscale": [
                          [
                            0,
                            "#0d0887"
                          ],
                          [
                            0.1111111111111111,
                            "#46039f"
                          ],
                          [
                            0.2222222222222222,
                            "#7201a8"
                          ],
                          [
                            0.3333333333333333,
                            "#9c179e"
                          ],
                          [
                            0.4444444444444444,
                            "#bd3786"
                          ],
                          [
                            0.5555555555555556,
                            "#d8576b"
                          ],
                          [
                            0.6666666666666666,
                            "#ed7953"
                          ],
                          [
                            0.7777777777777778,
                            "#fb9f3a"
                          ],
                          [
                            0.8888888888888888,
                            "#fdca26"
                          ],
                          [
                            1,
                            "#f0f921"
                          ]
                        ],
                        "type": "heatmap"
                      }
                    ],
                    "heatmapgl": [
                      {
                        "colorbar": {
                          "outlinewidth": 0,
                          "ticks": ""
                        },
                        "colorscale": [
                          [
                            0,
                            "#0d0887"
                          ],
                          [
                            0.1111111111111111,
                            "#46039f"
                          ],
                          [
                            0.2222222222222222,
                            "#7201a8"
                          ],
                          [
                            0.3333333333333333,
                            "#9c179e"
                          ],
                          [
                            0.4444444444444444,
                            "#bd3786"
                          ],
                          [
                            0.5555555555555556,
                            "#d8576b"
                          ],
                          [
                            0.6666666666666666,
                            "#ed7953"
                          ],
                          [
                            0.7777777777777778,
                            "#fb9f3a"
                          ],
                          [
                            0.8888888888888888,
                            "#fdca26"
                          ],
                          [
                            1,
                            "#f0f921"
                          ]
                        ],
                        "type": "heatmapgl"
                      }
                    ],
                    "histogram": [
                      {
                        "marker": {
                          "pattern": {
                            "fillmode": "overlay",
                            "size": 10,
                            "solidity": 0.2
                          }
                        },
                        "type": "histogram"
                      }
                    ],
                    "histogram2d": [
                      {
                        "colorbar": {
                          "outlinewidth": 0,
                          "ticks": ""
                        },
                        "colorscale": [
                          [
                            0,
                            "#0d0887"
                          ],
                          [
                            0.1111111111111111,
                            "#46039f"
                          ],
                          [
                            0.2222222222222222,
                            "#7201a8"
                          ],
                          [
                            0.3333333333333333,
                            "#9c179e"
                          ],
                          [
                            0.4444444444444444,
                            "#bd3786"
                          ],
                          [
                            0.5555555555555556,
                            "#d8576b"
                          ],
                          [
                            0.6666666666666666,
                            "#ed7953"
                          ],
                          [
                            0.7777777777777778,
                            "#fb9f3a"
                          ],
                          [
                            0.8888888888888888,
                            "#fdca26"
                          ],
                          [
                            1,
                            "#f0f921"
                          ]
                        ],
                        "type": "histogram2d"
                      }
                    ],
                    "histogram2dcontour": [
                      {
                        "colorbar": {
                          "outlinewidth": 0,
                          "ticks": ""
                        },
                        "colorscale": [
                          [
                            0,
                            "#0d0887"
                          ],
                          [
                            0.1111111111111111,
                            "#46039f"
                          ],
                          [
                            0.2222222222222222,
                            "#7201a8"
                          ],
                          [
                            0.3333333333333333,
                            "#9c179e"
                          ],
                          [
                            0.4444444444444444,
                            "#bd3786"
                          ],
                          [
                            0.5555555555555556,
                            "#d8576b"
                          ],
                          [
                            0.6666666666666666,
                            "#ed7953"
                          ],
                          [
                            0.7777777777777778,
                            "#fb9f3a"
                          ],
                          [
                            0.8888888888888888,
                            "#fdca26"
                          ],
                          [
                            1,
                            "#f0f921"
                          ]
                        ],
                        "type": "histogram2dcontour"
                      }
                    ],
                    "mesh3d": [
                      {
                        "colorbar": {
                          "outlinewidth": 0,
                          "ticks": ""
                        },
                        "type": "mesh3d"
                      }
                    ],
                    "parcoords": [
                      {
                        "line": {
                          "colorbar": {
                            "outlinewidth": 0,
                            "ticks": ""
                          }
                        },
                        "type": "parcoords"
                      }
                    ],
                    "pie": [
                      {
                        "automargin": true,
                        "type": "pie"
                      }
                    ],
                    "scatter": [
                      {
                        "marker": {
                          "colorbar": {
                            "outlinewidth": 0,
                            "ticks": ""
                          }
                        },
                        "type": "scatter"
                      }
                    ],
                    "scatter3d": [
                      {
                        "line": {
                          "colorbar": {
                            "outlinewidth": 0,
                            "ticks": ""
                          }
                        },
                        "marker": {
                          "colorbar": {
                            "outlinewidth": 0,
                            "ticks": ""
                          }
                        },
                        "type": "scatter3d"
                      }
                    ],
                    "scattercarpet": [
                      {
                        "marker": {
                          "colorbar": {
                            "outlinewidth": 0,
                            "ticks": ""
                          }
                        },
                        "type": "scattercarpet"
                      }
                    ],
                    "scattergeo": [
                      {
                        "marker": {
                          "colorbar": {
                            "outlinewidth": 0,
                            "ticks": ""
                          }
                        },
                        "type": "scattergeo"
                      }
                    ],
                    "scattergl": [
                      {
                        "marker": {
                          "colorbar": {
                            "outlinewidth": 0,
                            "ticks": ""
                          }
                        },
                        "type": "scattergl"
                      }
                    ],
                    "scattermapbox": [
                      {
                        "marker": {
                          "colorbar": {
                            "outlinewidth": 0,
                            "ticks": ""
                          }
                        },
                        "type": "scattermapbox"
                      }
                    ],
                    "scatterpolar": [
                      {
                        "marker": {
                          "colorbar": {
                            "outlinewidth": 0,
                            "ticks": ""
                          }
                        },
                        "type": "scatterpolar"
                      }
                    ],
                    "scatterpolargl": [
                      {
                        "marker": {
                          "colorbar": {
                            "outlinewidth": 0,
                            "ticks": ""
                          }
                        },
                        "type": "scatterpolargl"
                      }
                    ],
                    "scatterternary": [
                      {
                        "marker": {
                          "colorbar": {
                            "outlinewidth": 0,
                            "ticks": ""
                          }
                        },
                        "type": "scatterternary"
                      }
                    ],
                    "surface": [
                      {
                        "colorbar": {
                          "outlinewidth": 0,
                          "ticks": ""
                        },
                        "colorscale": [
                          [
                            0,
                            "#0d0887"
                          ],
                          [
                            0.1111111111111111,
                            "#46039f"
                          ],
                          [
                            0.2222222222222222,
                            "#7201a8"
                          ],
                          [
                            0.3333333333333333,
                            "#9c179e"
                          ],
                          [
                            0.4444444444444444,
                            "#bd3786"
                          ],
                          [
                            0.5555555555555556,
                            "#d8576b"
                          ],
                          [
                            0.6666666666666666,
                            "#ed7953"
                          ],
                          [
                            0.7777777777777778,
                            "#fb9f3a"
                          ],
                          [
                            0.8888888888888888,
                            "#fdca26"
                          ],
                          [
                            1,
                            "#f0f921"
                          ]
                        ],
                        "type": "surface"
                      }
                    ],
                    "table": [
                      {
                        "cells": {
                          "fill": {
                            "color": "#EBF0F8"
                          },
                          "line": {
                            "color": "white"
                          }
                        },
                        "header": {
                          "fill": {
                            "color": "#C8D4E3"
                          },
                          "line": {
                            "color": "white"
                          }
                        },
                        "type": "table"
                      }
                    ]
                  },
                  "layout": {
                    "annotationdefaults": {
                      "arrowcolor": "#2a3f5f",
                      "arrowhead": 0,
                      "arrowwidth": 1
                    },
                    "autotypenumbers": "strict",
                    "coloraxis": {
                      "colorbar": {
                        "outlinewidth": 0,
                        "ticks": ""
                      }
                    },
                    "colorscale": {
                      "diverging": [
                        [
                          0,
                          "#8e0152"
                        ],
                        [
                          0.1,
                          "#c51b7d"
                        ],
                        [
                          0.2,
                          "#de77ae"
                        ],
                        [
                          0.3,
                          "#f1b6da"
                        ],
                        [
                          0.4,
                          "#fde0ef"
                        ],
                        [
                          0.5,
                          "#f7f7f7"
                        ],
                        [
                          0.6,
                          "#e6f5d0"
                        ],
                        [
                          0.7,
                          "#b8e186"
                        ],
                        [
                          0.8,
                          "#7fbc41"
                        ],
                        [
                          0.9,
                          "#4d9221"
                        ],
                        [
                          1,
                          "#276419"
                        ]
                      ],
                      "sequential": [
                        [
                          0,
                          "#0d0887"
                        ],
                        [
                          0.1111111111111111,
                          "#46039f"
                        ],
                        [
                          0.2222222222222222,
                          "#7201a8"
                        ],
                        [
                          0.3333333333333333,
                          "#9c179e"
                        ],
                        [
                          0.4444444444444444,
                          "#bd3786"
                        ],
                        [
                          0.5555555555555556,
                          "#d8576b"
                        ],
                        [
                          0.6666666666666666,
                          "#ed7953"
                        ],
                        [
                          0.7777777777777778,
                          "#fb9f3a"
                        ],
                        [
                          0.8888888888888888,
                          "#fdca26"
                        ],
                        [
                          1,
                          "#f0f921"
                        ]
                      ],
                      "sequentialminus": [
                        [
                          0,
                          "#0d0887"
                        ],
                        [
                          0.1111111111111111,
                          "#46039f"
                        ],
                        [
                          0.2222222222222222,
                          "#7201a8"
                        ],
                        [
                          0.3333333333333333,
                          "#9c179e"
                        ],
                        [
                          0.4444444444444444,
                          "#bd3786"
                        ],
                        [
                          0.5555555555555556,
                          "#d8576b"
                        ],
                        [
                          0.6666666666666666,
                          "#ed7953"
                        ],
                        [
                          0.7777777777777778,
                          "#fb9f3a"
                        ],
                        [
                          0.8888888888888888,
                          "#fdca26"
                        ],
                        [
                          1,
                          "#f0f921"
                        ]
                      ]
                    },
                    "colorway": [
                      "#636efa",
                      "#EF553B",
                      "#00cc96",
                      "#ab63fa",
                      "#FFA15A",
                      "#19d3f3",
                      "#FF6692",
                      "#B6E880",
                      "#FF97FF",
                      "#FECB52"
                    ],
                    "font": {
                      "color": "#2a3f5f"
                    },
                    "geo": {
                      "bgcolor": "white",
                      "lakecolor": "white",
                      "landcolor": "#E5ECF6",
                      "showlakes": true,
                      "showland": true,
                      "subunitcolor": "white"
                    },
                    "hoverlabel": {
                      "align": "left"
                    },
                    "hovermode": "closest",
                    "mapbox": {
                      "style": "light"
                    },
                    "paper_bgcolor": "white",
                    "plot_bgcolor": "#E5ECF6",
                    "polar": {
                      "angularaxis": {
                        "gridcolor": "white",
                        "linecolor": "white",
                        "ticks": ""
                      },
                      "bgcolor": "#E5ECF6",
                      "radialaxis": {
                        "gridcolor": "white",
                        "linecolor": "white",
                        "ticks": ""
                      }
                    },
                    "scene": {
                      "xaxis": {
                        "backgroundcolor": "#E5ECF6",
                        "gridcolor": "white",
                        "gridwidth": 2,
                        "linecolor": "white",
                        "showbackground": true,
                        "ticks": "",
                        "zerolinecolor": "white"
                      },
                      "yaxis": {
                        "backgroundcolor": "#E5ECF6",
                        "gridcolor": "white",
                        "gridwidth": 2,
                        "linecolor": "white",
                        "showbackground": true,
                        "ticks": "",
                        "zerolinecolor": "white"
                      },
                      "zaxis": {
                        "backgroundcolor": "#E5ECF6",
                        "gridcolor": "white",
                        "gridwidth": 2,
                        "linecolor": "white",
                        "showbackground": true,
                        "ticks": "",
                        "zerolinecolor": "white"
                      }
                    },
                    "shapedefaults": {
                      "line": {
                        "color": "#2a3f5f"
                      }
                    },
                    "ternary": {
                      "aaxis": {
                        "gridcolor": "white",
                        "linecolor": "white",
                        "ticks": ""
                      },
                      "baxis": {
                        "gridcolor": "white",
                        "linecolor": "white",
                        "ticks": ""
                      },
                      "bgcolor": "#E5ECF6",
                      "caxis": {
                        "gridcolor": "white",
                        "linecolor": "white",
                        "ticks": ""
                      }
                    },
                    "title": {
                      "x": 0.05
                    },
                    "xaxis": {
                      "automargin": true,
                      "gridcolor": "white",
                      "linecolor": "white",
                      "ticks": "",
                      "title": {
                        "standoff": 15
                      },
                      "zerolinecolor": "white",
                      "zerolinewidth": 2
                    },
                    "yaxis": {
                      "automargin": true,
                      "gridcolor": "white",
                      "linecolor": "white",
                      "ticks": "",
                      "title": {
                        "standoff": 15
                      },
                      "zerolinecolor": "white",
                      "zerolinewidth": 2
                    }
                  }
                },
                "title": {
                  "text": "Média da taxa de sobrevivência em relação com cada coluna numérica"
                },
                "width": 1000,
                "xaxis": {
                  "anchor": "y",
                  "domain": [
                    0,
                    0.16799999999999998
                  ]
                },
                "xaxis2": {
                  "anchor": "y2",
                  "domain": [
                    0.208,
                    0.376
                  ]
                },
                "xaxis3": {
                  "anchor": "y3",
                  "domain": [
                    0.416,
                    0.584
                  ]
                },
                "xaxis4": {
                  "anchor": "y4",
                  "domain": [
                    0.624,
                    0.792
                  ]
                },
                "xaxis5": {
                  "anchor": "y5",
                  "domain": [
                    0.832,
                    1
                  ]
                },
                "yaxis": {
                  "anchor": "x",
                  "domain": [
                    0,
                    1
                  ]
                },
                "yaxis2": {
                  "anchor": "x2",
                  "domain": [
                    0,
                    1
                  ]
                },
                "yaxis3": {
                  "anchor": "x3",
                  "domain": [
                    0,
                    1
                  ]
                },
                "yaxis4": {
                  "anchor": "x4",
                  "domain": [
                    0,
                    1
                  ]
                },
                "yaxis5": {
                  "anchor": "x5",
                  "domain": [
                    0,
                    1
                  ]
                }
              }
            }
          },
          "metadata": {},
          "output_type": "display_data"
        }
      ],
      "source": [
        "fig = make_subplots(rows=1, cols=5, subplot_titles=num_cols)\n",
        "\n",
        "for idx, col in enumerate(num_cols):\n",
        "    if col in [\"Age\", \"Fare\"]:\n",
        "        grouped_df = train[[col, \"Survived\"]].groupby(col).mean()\n",
        "        fig.add_trace(go.Scatter(x=grouped_df.index, y=grouped_df.Survived, name=col, mode=\"markers\"), row=1, col=idx + 1)\n",
        "    else:\n",
        "        grouped_df = train[[col, \"Survived\"]].groupby(col).mean()\n",
        "        fig.add_trace(go.Bar(x=grouped_df.index, y=grouped_df.Survived, name=col), row=1, col=idx + 1)\n",
        "    \n",
        "fig.update_layout(height=400, width=1000, title_text=\"Média da taxa de sobrevivência em relação com cada coluna numérica\")\n",
        "\n",
        "fig.show()"
      ]
    },
    {
      "cell_type": "markdown",
      "metadata": {},
      "source": [
        "Aparentemente, verifica-se uma relação decrescente quanto a taxa de sobrevivência em relação a \"Pclass\", e crescente em relação a \"Parch\". Vou analisar individualmente as colunas para realizar uma análise mais profunda."
      ]
    },
    {
      "cell_type": "markdown",
      "metadata": {},
      "source": [
        "#### Idade"
      ]
    },
    {
      "cell_type": "code",
      "execution_count": 88,
      "metadata": {
        "execution": {
          "iopub.status.busy": "2022-01-03T16:01:20.025422Z",
          "iopub.status.idle": "2022-01-03T16:01:20.025985Z",
          "shell.execute_reply": "2022-01-03T16:01:20.02581Z",
          "shell.execute_reply.started": "2022-01-03T16:01:20.025785Z"
        },
        "trusted": true
      },
      "outputs": [
        {
          "data": {
            "application/vnd.plotly.v1+json": {
              "config": {
                "plotlyServerURL": "https://plot.ly"
              },
              "data": [
                {
                  "alignmentgroup": "True",
                  "bingroup": "x",
                  "hovertemplate": "Survived=0<br>Age=%{x}<br>count=%{y}<extra></extra>",
                  "legendgroup": "0",
                  "marker": {
                    "color": "#363945",
                    "pattern": {
                      "shape": ""
                    }
                  },
                  "name": "0",
                  "offsetgroup": "0",
                  "orientation": "v",
                  "showlegend": true,
                  "type": "histogram",
                  "x": [
                    45.5,
                    23,
                    32,
                    26,
                    6,
                    24,
                    45,
                    29,
                    null,
                    36,
                    33,
                    17,
                    34,
                    11,
                    61,
                    30,
                    29,
                    null,
                    50,
                    27,
                    30,
                    null,
                    null,
                    2,
                    51,
                    null,
                    null,
                    24,
                    18,
                    25,
                    22,
                    34,
                    null,
                    null,
                    57,
                    19,
                    null,
                    20,
                    34.5,
                    28,
                    null,
                    23,
                    22,
                    36.5,
                    null,
                    22,
                    22,
                    36,
                    50,
                    null,
                    65,
                    17,
                    null,
                    36,
                    43,
                    38,
                    29,
                    18,
                    null,
                    39,
                    26,
                    20,
                    49,
                    23,
                    1,
                    null,
                    19,
                    40.5,
                    null,
                    21,
                    54,
                    null,
                    25,
                    26,
                    22,
                    19,
                    24,
                    39,
                    47,
                    60,
                    24,
                    null,
                    27,
                    38,
                    44,
                    8,
                    null,
                    50,
                    21,
                    23,
                    null,
                    21,
                    null,
                    25,
                    15,
                    31,
                    25,
                    54,
                    28,
                    33,
                    52,
                    16,
                    20,
                    9,
                    null,
                    null,
                    26,
                    null,
                    16,
                    43,
                    17,
                    8,
                    20,
                    21,
                    37,
                    17,
                    46,
                    null,
                    24,
                    29,
                    31,
                    33,
                    59,
                    null,
                    45,
                    28.5,
                    24,
                    30,
                    36,
                    25,
                    null,
                    50,
                    23,
                    null,
                    27,
                    null,
                    null,
                    51,
                    29,
                    null,
                    null,
                    54,
                    27,
                    null,
                    null,
                    39,
                    24,
                    32,
                    45.5,
                    26,
                    null,
                    16,
                    58,
                    40.5,
                    25,
                    null,
                    51,
                    null,
                    null,
                    40,
                    47,
                    null,
                    44,
                    18,
                    29,
                    11,
                    19,
                    22,
                    33,
                    56,
                    22,
                    null,
                    null,
                    7,
                    70.5,
                    18,
                    24,
                    null,
                    30,
                    18,
                    9,
                    70,
                    21,
                    28,
                    null,
                    null,
                    42,
                    18,
                    32,
                    11,
                    23,
                    40,
                    null,
                    28,
                    null,
                    19,
                    30,
                    20,
                    28,
                    36,
                    null,
                    28.5,
                    42,
                    54,
                    25,
                    7,
                    25,
                    null,
                    19,
                    22,
                    null,
                    50,
                    null,
                    18,
                    18,
                    44,
                    null,
                    null,
                    16,
                    null,
                    22,
                    24,
                    21,
                    null,
                    41,
                    34,
                    null,
                    null,
                    18,
                    30,
                    32,
                    4,
                    2,
                    null,
                    null,
                    31,
                    47,
                    26,
                    9,
                    null,
                    22,
                    null,
                    28,
                    17,
                    null,
                    null,
                    21,
                    3,
                    null,
                    34,
                    null,
                    null,
                    37,
                    21,
                    36,
                    null,
                    26,
                    55.5,
                    60,
                    null,
                    18,
                    14.5,
                    33,
                    21,
                    10,
                    47,
                    2,
                    28,
                    33,
                    34,
                    30,
                    30,
                    null,
                    32,
                    52,
                    52,
                    39,
                    2,
                    51,
                    39,
                    46,
                    30,
                    9,
                    21,
                    null,
                    26,
                    48,
                    19,
                    74,
                    42,
                    24,
                    32.5,
                    34,
                    64,
                    25,
                    null,
                    45,
                    31,
                    21,
                    25,
                    26,
                    30,
                    35,
                    70,
                    null,
                    21,
                    null,
                    1,
                    null,
                    null,
                    20,
                    22,
                    59,
                    31,
                    22,
                    33,
                    39,
                    24.5,
                    54,
                    null,
                    null,
                    30,
                    16,
                    null,
                    null,
                    25,
                    18,
                    null,
                    null,
                    2,
                    26,
                    41,
                    4,
                    29,
                    49,
                    null,
                    null,
                    42,
                    61,
                    18,
                    null,
                    null,
                    null,
                    16,
                    32,
                    28,
                    46,
                    28,
                    42,
                    35,
                    2,
                    null,
                    20,
                    14,
                    51,
                    null,
                    28,
                    25,
                    19,
                    35,
                    20,
                    30,
                    null,
                    47,
                    25,
                    16,
                    45,
                    38,
                    31,
                    null,
                    14,
                    40,
                    55,
                    19,
                    19,
                    33,
                    null,
                    29,
                    34,
                    null,
                    62,
                    25,
                    26,
                    18,
                    34,
                    48,
                    28,
                    24,
                    null,
                    40,
                    22,
                    2,
                    28,
                    18,
                    28,
                    null,
                    20,
                    45,
                    null,
                    null,
                    39,
                    37,
                    28,
                    19,
                    43,
                    47,
                    22,
                    19,
                    28,
                    14,
                    36,
                    29,
                    42,
                    null,
                    22,
                    null,
                    62,
                    28,
                    null,
                    44,
                    45,
                    19,
                    18,
                    31,
                    null,
                    21,
                    25,
                    32,
                    30,
                    40,
                    33,
                    36,
                    34,
                    19,
                    null,
                    null,
                    null,
                    null,
                    35,
                    35,
                    16,
                    null,
                    41,
                    21
                  ],
                  "xaxis": "x",
                  "yaxis": "y"
                },
                {
                  "alignmentgroup": "True",
                  "bingroup": "x",
                  "hovertemplate": "Survived=1<br>Age=%{x}<br>count=%{y}<extra></extra>",
                  "legendgroup": "1",
                  "marker": {
                    "color": "#B6E880",
                    "pattern": {
                      "shape": ""
                    }
                  },
                  "name": "1",
                  "offsetgroup": "1",
                  "orientation": "v",
                  "showlegend": true,
                  "type": "histogram",
                  "x": [
                    null,
                    42,
                    29,
                    50,
                    35,
                    38,
                    17,
                    7,
                    63,
                    20,
                    null,
                    36,
                    33,
                    25,
                    25,
                    null,
                    24,
                    0.92,
                    24,
                    26,
                    21,
                    null,
                    22,
                    62,
                    18,
                    42,
                    42,
                    52,
                    30,
                    50,
                    27,
                    51,
                    29,
                    22,
                    40,
                    27,
                    28,
                    4,
                    1,
                    31,
                    39,
                    null,
                    null,
                    3,
                    4,
                    1,
                    31,
                    49,
                    16,
                    25,
                    null,
                    21,
                    24,
                    45,
                    8,
                    32,
                    50,
                    32,
                    38,
                    41,
                    null,
                    54,
                    60,
                    null,
                    44,
                    20,
                    37,
                    62,
                    32,
                    28,
                    null,
                    56,
                    null,
                    32,
                    58,
                    null,
                    3,
                    16,
                    43,
                    30,
                    0.75,
                    24,
                    24,
                    35,
                    30,
                    55,
                    35,
                    null,
                    23,
                    null,
                    23,
                    33,
                    2,
                    14,
                    15,
                    22,
                    28,
                    2,
                    8,
                    29,
                    45,
                    36,
                    4,
                    17,
                    25,
                    23,
                    12,
                    22,
                    1,
                    4,
                    20,
                    34,
                    null,
                    31,
                    39,
                    33,
                    24,
                    58,
                    17,
                    24,
                    2,
                    34,
                    3,
                    58,
                    31,
                    null,
                    27,
                    28,
                    24,
                    24,
                    27,
                    24,
                    28,
                    null,
                    42,
                    3,
                    null,
                    4,
                    null,
                    24,
                    30,
                    29,
                    45,
                    32,
                    35,
                    null,
                    36,
                    23,
                    null,
                    15,
                    48,
                    19,
                    24,
                    51,
                    0.75,
                    18,
                    44,
                    32,
                    80,
                    19,
                    4,
                    29,
                    22,
                    null,
                    26,
                    27,
                    27,
                    null,
                    null,
                    53,
                    44,
                    17,
                    27,
                    3,
                    36,
                    null,
                    32.5,
                    33,
                    22,
                    40,
                    35,
                    39,
                    1,
                    1,
                    15,
                    24,
                    18,
                    26,
                    25,
                    54,
                    54,
                    27,
                    6,
                    5,
                    null,
                    35,
                    21,
                    32,
                    22,
                    38,
                    33,
                    null,
                    0.42,
                    48,
                    48,
                    48,
                    39,
                    33,
                    36,
                    18,
                    0.67,
                    32,
                    31,
                    48,
                    22,
                    13,
                    31,
                    null,
                    19,
                    34,
                    null,
                    null,
                    null,
                    null,
                    35,
                    9,
                    42,
                    21,
                    56,
                    null,
                    30,
                    16,
                    45,
                    36,
                    27,
                    49,
                    41,
                    27,
                    35,
                    30,
                    29,
                    19,
                    35,
                    40,
                    17,
                    38,
                    19,
                    60,
                    24,
                    null,
                    26,
                    24,
                    36,
                    null,
                    25,
                    16,
                    0.83,
                    27,
                    29,
                    5,
                    30,
                    34,
                    47,
                    50,
                    null,
                    18,
                    21,
                    14
                  ],
                  "xaxis": "x",
                  "yaxis": "y"
                }
              ],
              "layout": {
                "barmode": "relative",
                "height": 400,
                "legend": {
                  "title": {
                    "text": "Survived"
                  },
                  "tracegroupgap": 0
                },
                "margin": {
                  "t": 60
                },
                "template": {
                  "data": {
                    "bar": [
                      {
                        "error_x": {
                          "color": "#2a3f5f"
                        },
                        "error_y": {
                          "color": "#2a3f5f"
                        },
                        "marker": {
                          "line": {
                            "color": "#E5ECF6",
                            "width": 0.5
                          },
                          "pattern": {
                            "fillmode": "overlay",
                            "size": 10,
                            "solidity": 0.2
                          }
                        },
                        "type": "bar"
                      }
                    ],
                    "barpolar": [
                      {
                        "marker": {
                          "line": {
                            "color": "#E5ECF6",
                            "width": 0.5
                          },
                          "pattern": {
                            "fillmode": "overlay",
                            "size": 10,
                            "solidity": 0.2
                          }
                        },
                        "type": "barpolar"
                      }
                    ],
                    "carpet": [
                      {
                        "aaxis": {
                          "endlinecolor": "#2a3f5f",
                          "gridcolor": "white",
                          "linecolor": "white",
                          "minorgridcolor": "white",
                          "startlinecolor": "#2a3f5f"
                        },
                        "baxis": {
                          "endlinecolor": "#2a3f5f",
                          "gridcolor": "white",
                          "linecolor": "white",
                          "minorgridcolor": "white",
                          "startlinecolor": "#2a3f5f"
                        },
                        "type": "carpet"
                      }
                    ],
                    "choropleth": [
                      {
                        "colorbar": {
                          "outlinewidth": 0,
                          "ticks": ""
                        },
                        "type": "choropleth"
                      }
                    ],
                    "contour": [
                      {
                        "colorbar": {
                          "outlinewidth": 0,
                          "ticks": ""
                        },
                        "colorscale": [
                          [
                            0,
                            "#0d0887"
                          ],
                          [
                            0.1111111111111111,
                            "#46039f"
                          ],
                          [
                            0.2222222222222222,
                            "#7201a8"
                          ],
                          [
                            0.3333333333333333,
                            "#9c179e"
                          ],
                          [
                            0.4444444444444444,
                            "#bd3786"
                          ],
                          [
                            0.5555555555555556,
                            "#d8576b"
                          ],
                          [
                            0.6666666666666666,
                            "#ed7953"
                          ],
                          [
                            0.7777777777777778,
                            "#fb9f3a"
                          ],
                          [
                            0.8888888888888888,
                            "#fdca26"
                          ],
                          [
                            1,
                            "#f0f921"
                          ]
                        ],
                        "type": "contour"
                      }
                    ],
                    "contourcarpet": [
                      {
                        "colorbar": {
                          "outlinewidth": 0,
                          "ticks": ""
                        },
                        "type": "contourcarpet"
                      }
                    ],
                    "heatmap": [
                      {
                        "colorbar": {
                          "outlinewidth": 0,
                          "ticks": ""
                        },
                        "colorscale": [
                          [
                            0,
                            "#0d0887"
                          ],
                          [
                            0.1111111111111111,
                            "#46039f"
                          ],
                          [
                            0.2222222222222222,
                            "#7201a8"
                          ],
                          [
                            0.3333333333333333,
                            "#9c179e"
                          ],
                          [
                            0.4444444444444444,
                            "#bd3786"
                          ],
                          [
                            0.5555555555555556,
                            "#d8576b"
                          ],
                          [
                            0.6666666666666666,
                            "#ed7953"
                          ],
                          [
                            0.7777777777777778,
                            "#fb9f3a"
                          ],
                          [
                            0.8888888888888888,
                            "#fdca26"
                          ],
                          [
                            1,
                            "#f0f921"
                          ]
                        ],
                        "type": "heatmap"
                      }
                    ],
                    "heatmapgl": [
                      {
                        "colorbar": {
                          "outlinewidth": 0,
                          "ticks": ""
                        },
                        "colorscale": [
                          [
                            0,
                            "#0d0887"
                          ],
                          [
                            0.1111111111111111,
                            "#46039f"
                          ],
                          [
                            0.2222222222222222,
                            "#7201a8"
                          ],
                          [
                            0.3333333333333333,
                            "#9c179e"
                          ],
                          [
                            0.4444444444444444,
                            "#bd3786"
                          ],
                          [
                            0.5555555555555556,
                            "#d8576b"
                          ],
                          [
                            0.6666666666666666,
                            "#ed7953"
                          ],
                          [
                            0.7777777777777778,
                            "#fb9f3a"
                          ],
                          [
                            0.8888888888888888,
                            "#fdca26"
                          ],
                          [
                            1,
                            "#f0f921"
                          ]
                        ],
                        "type": "heatmapgl"
                      }
                    ],
                    "histogram": [
                      {
                        "marker": {
                          "pattern": {
                            "fillmode": "overlay",
                            "size": 10,
                            "solidity": 0.2
                          }
                        },
                        "type": "histogram"
                      }
                    ],
                    "histogram2d": [
                      {
                        "colorbar": {
                          "outlinewidth": 0,
                          "ticks": ""
                        },
                        "colorscale": [
                          [
                            0,
                            "#0d0887"
                          ],
                          [
                            0.1111111111111111,
                            "#46039f"
                          ],
                          [
                            0.2222222222222222,
                            "#7201a8"
                          ],
                          [
                            0.3333333333333333,
                            "#9c179e"
                          ],
                          [
                            0.4444444444444444,
                            "#bd3786"
                          ],
                          [
                            0.5555555555555556,
                            "#d8576b"
                          ],
                          [
                            0.6666666666666666,
                            "#ed7953"
                          ],
                          [
                            0.7777777777777778,
                            "#fb9f3a"
                          ],
                          [
                            0.8888888888888888,
                            "#fdca26"
                          ],
                          [
                            1,
                            "#f0f921"
                          ]
                        ],
                        "type": "histogram2d"
                      }
                    ],
                    "histogram2dcontour": [
                      {
                        "colorbar": {
                          "outlinewidth": 0,
                          "ticks": ""
                        },
                        "colorscale": [
                          [
                            0,
                            "#0d0887"
                          ],
                          [
                            0.1111111111111111,
                            "#46039f"
                          ],
                          [
                            0.2222222222222222,
                            "#7201a8"
                          ],
                          [
                            0.3333333333333333,
                            "#9c179e"
                          ],
                          [
                            0.4444444444444444,
                            "#bd3786"
                          ],
                          [
                            0.5555555555555556,
                            "#d8576b"
                          ],
                          [
                            0.6666666666666666,
                            "#ed7953"
                          ],
                          [
                            0.7777777777777778,
                            "#fb9f3a"
                          ],
                          [
                            0.8888888888888888,
                            "#fdca26"
                          ],
                          [
                            1,
                            "#f0f921"
                          ]
                        ],
                        "type": "histogram2dcontour"
                      }
                    ],
                    "mesh3d": [
                      {
                        "colorbar": {
                          "outlinewidth": 0,
                          "ticks": ""
                        },
                        "type": "mesh3d"
                      }
                    ],
                    "parcoords": [
                      {
                        "line": {
                          "colorbar": {
                            "outlinewidth": 0,
                            "ticks": ""
                          }
                        },
                        "type": "parcoords"
                      }
                    ],
                    "pie": [
                      {
                        "automargin": true,
                        "type": "pie"
                      }
                    ],
                    "scatter": [
                      {
                        "marker": {
                          "colorbar": {
                            "outlinewidth": 0,
                            "ticks": ""
                          }
                        },
                        "type": "scatter"
                      }
                    ],
                    "scatter3d": [
                      {
                        "line": {
                          "colorbar": {
                            "outlinewidth": 0,
                            "ticks": ""
                          }
                        },
                        "marker": {
                          "colorbar": {
                            "outlinewidth": 0,
                            "ticks": ""
                          }
                        },
                        "type": "scatter3d"
                      }
                    ],
                    "scattercarpet": [
                      {
                        "marker": {
                          "colorbar": {
                            "outlinewidth": 0,
                            "ticks": ""
                          }
                        },
                        "type": "scattercarpet"
                      }
                    ],
                    "scattergeo": [
                      {
                        "marker": {
                          "colorbar": {
                            "outlinewidth": 0,
                            "ticks": ""
                          }
                        },
                        "type": "scattergeo"
                      }
                    ],
                    "scattergl": [
                      {
                        "marker": {
                          "colorbar": {
                            "outlinewidth": 0,
                            "ticks": ""
                          }
                        },
                        "type": "scattergl"
                      }
                    ],
                    "scattermapbox": [
                      {
                        "marker": {
                          "colorbar": {
                            "outlinewidth": 0,
                            "ticks": ""
                          }
                        },
                        "type": "scattermapbox"
                      }
                    ],
                    "scatterpolar": [
                      {
                        "marker": {
                          "colorbar": {
                            "outlinewidth": 0,
                            "ticks": ""
                          }
                        },
                        "type": "scatterpolar"
                      }
                    ],
                    "scatterpolargl": [
                      {
                        "marker": {
                          "colorbar": {
                            "outlinewidth": 0,
                            "ticks": ""
                          }
                        },
                        "type": "scatterpolargl"
                      }
                    ],
                    "scatterternary": [
                      {
                        "marker": {
                          "colorbar": {
                            "outlinewidth": 0,
                            "ticks": ""
                          }
                        },
                        "type": "scatterternary"
                      }
                    ],
                    "surface": [
                      {
                        "colorbar": {
                          "outlinewidth": 0,
                          "ticks": ""
                        },
                        "colorscale": [
                          [
                            0,
                            "#0d0887"
                          ],
                          [
                            0.1111111111111111,
                            "#46039f"
                          ],
                          [
                            0.2222222222222222,
                            "#7201a8"
                          ],
                          [
                            0.3333333333333333,
                            "#9c179e"
                          ],
                          [
                            0.4444444444444444,
                            "#bd3786"
                          ],
                          [
                            0.5555555555555556,
                            "#d8576b"
                          ],
                          [
                            0.6666666666666666,
                            "#ed7953"
                          ],
                          [
                            0.7777777777777778,
                            "#fb9f3a"
                          ],
                          [
                            0.8888888888888888,
                            "#fdca26"
                          ],
                          [
                            1,
                            "#f0f921"
                          ]
                        ],
                        "type": "surface"
                      }
                    ],
                    "table": [
                      {
                        "cells": {
                          "fill": {
                            "color": "#EBF0F8"
                          },
                          "line": {
                            "color": "white"
                          }
                        },
                        "header": {
                          "fill": {
                            "color": "#C8D4E3"
                          },
                          "line": {
                            "color": "white"
                          }
                        },
                        "type": "table"
                      }
                    ]
                  },
                  "layout": {
                    "annotationdefaults": {
                      "arrowcolor": "#2a3f5f",
                      "arrowhead": 0,
                      "arrowwidth": 1
                    },
                    "autotypenumbers": "strict",
                    "coloraxis": {
                      "colorbar": {
                        "outlinewidth": 0,
                        "ticks": ""
                      }
                    },
                    "colorscale": {
                      "diverging": [
                        [
                          0,
                          "#8e0152"
                        ],
                        [
                          0.1,
                          "#c51b7d"
                        ],
                        [
                          0.2,
                          "#de77ae"
                        ],
                        [
                          0.3,
                          "#f1b6da"
                        ],
                        [
                          0.4,
                          "#fde0ef"
                        ],
                        [
                          0.5,
                          "#f7f7f7"
                        ],
                        [
                          0.6,
                          "#e6f5d0"
                        ],
                        [
                          0.7,
                          "#b8e186"
                        ],
                        [
                          0.8,
                          "#7fbc41"
                        ],
                        [
                          0.9,
                          "#4d9221"
                        ],
                        [
                          1,
                          "#276419"
                        ]
                      ],
                      "sequential": [
                        [
                          0,
                          "#0d0887"
                        ],
                        [
                          0.1111111111111111,
                          "#46039f"
                        ],
                        [
                          0.2222222222222222,
                          "#7201a8"
                        ],
                        [
                          0.3333333333333333,
                          "#9c179e"
                        ],
                        [
                          0.4444444444444444,
                          "#bd3786"
                        ],
                        [
                          0.5555555555555556,
                          "#d8576b"
                        ],
                        [
                          0.6666666666666666,
                          "#ed7953"
                        ],
                        [
                          0.7777777777777778,
                          "#fb9f3a"
                        ],
                        [
                          0.8888888888888888,
                          "#fdca26"
                        ],
                        [
                          1,
                          "#f0f921"
                        ]
                      ],
                      "sequentialminus": [
                        [
                          0,
                          "#0d0887"
                        ],
                        [
                          0.1111111111111111,
                          "#46039f"
                        ],
                        [
                          0.2222222222222222,
                          "#7201a8"
                        ],
                        [
                          0.3333333333333333,
                          "#9c179e"
                        ],
                        [
                          0.4444444444444444,
                          "#bd3786"
                        ],
                        [
                          0.5555555555555556,
                          "#d8576b"
                        ],
                        [
                          0.6666666666666666,
                          "#ed7953"
                        ],
                        [
                          0.7777777777777778,
                          "#fb9f3a"
                        ],
                        [
                          0.8888888888888888,
                          "#fdca26"
                        ],
                        [
                          1,
                          "#f0f921"
                        ]
                      ]
                    },
                    "colorway": [
                      "#636efa",
                      "#EF553B",
                      "#00cc96",
                      "#ab63fa",
                      "#FFA15A",
                      "#19d3f3",
                      "#FF6692",
                      "#B6E880",
                      "#FF97FF",
                      "#FECB52"
                    ],
                    "font": {
                      "color": "#2a3f5f"
                    },
                    "geo": {
                      "bgcolor": "white",
                      "lakecolor": "white",
                      "landcolor": "#E5ECF6",
                      "showlakes": true,
                      "showland": true,
                      "subunitcolor": "white"
                    },
                    "hoverlabel": {
                      "align": "left"
                    },
                    "hovermode": "closest",
                    "mapbox": {
                      "style": "light"
                    },
                    "paper_bgcolor": "white",
                    "plot_bgcolor": "#E5ECF6",
                    "polar": {
                      "angularaxis": {
                        "gridcolor": "white",
                        "linecolor": "white",
                        "ticks": ""
                      },
                      "bgcolor": "#E5ECF6",
                      "radialaxis": {
                        "gridcolor": "white",
                        "linecolor": "white",
                        "ticks": ""
                      }
                    },
                    "scene": {
                      "xaxis": {
                        "backgroundcolor": "#E5ECF6",
                        "gridcolor": "white",
                        "gridwidth": 2,
                        "linecolor": "white",
                        "showbackground": true,
                        "ticks": "",
                        "zerolinecolor": "white"
                      },
                      "yaxis": {
                        "backgroundcolor": "#E5ECF6",
                        "gridcolor": "white",
                        "gridwidth": 2,
                        "linecolor": "white",
                        "showbackground": true,
                        "ticks": "",
                        "zerolinecolor": "white"
                      },
                      "zaxis": {
                        "backgroundcolor": "#E5ECF6",
                        "gridcolor": "white",
                        "gridwidth": 2,
                        "linecolor": "white",
                        "showbackground": true,
                        "ticks": "",
                        "zerolinecolor": "white"
                      }
                    },
                    "shapedefaults": {
                      "line": {
                        "color": "#2a3f5f"
                      }
                    },
                    "ternary": {
                      "aaxis": {
                        "gridcolor": "white",
                        "linecolor": "white",
                        "ticks": ""
                      },
                      "baxis": {
                        "gridcolor": "white",
                        "linecolor": "white",
                        "ticks": ""
                      },
                      "bgcolor": "#E5ECF6",
                      "caxis": {
                        "gridcolor": "white",
                        "linecolor": "white",
                        "ticks": ""
                      }
                    },
                    "title": {
                      "x": 0.05
                    },
                    "xaxis": {
                      "automargin": true,
                      "gridcolor": "white",
                      "linecolor": "white",
                      "ticks": "",
                      "title": {
                        "standoff": 15
                      },
                      "zerolinecolor": "white",
                      "zerolinewidth": 2
                    },
                    "yaxis": {
                      "automargin": true,
                      "gridcolor": "white",
                      "linecolor": "white",
                      "ticks": "",
                      "title": {
                        "standoff": 15
                      },
                      "zerolinecolor": "white",
                      "zerolinewidth": 2
                    }
                  }
                },
                "title": {
                  "text": "Sobrevivência em relação à idade"
                },
                "width": 800,
                "xaxis": {
                  "anchor": "y",
                  "domain": [
                    0,
                    1
                  ],
                  "title": {
                    "text": "Age"
                  }
                },
                "yaxis": {
                  "anchor": "x",
                  "domain": [
                    0,
                    1
                  ],
                  "title": {
                    "text": "count"
                  }
                }
              }
            }
          },
          "metadata": {},
          "output_type": "display_data"
        }
      ],
      "source": [
        "fig = px.histogram(train, x=\"Age\", \n",
        "                   color=\"Survived\", color_discrete_sequence=[\"#363945\", \"#B6E880\"])\n",
        "fig.update_layout(height=400, width=800, title_text=\"Sobrevivência em relação à idade\")\n",
        "fig.show()"
      ]
    },
    {
      "cell_type": "markdown",
      "metadata": {},
      "source": [
        "#### Tarifa paga"
      ]
    },
    {
      "cell_type": "code",
      "execution_count": 89,
      "metadata": {
        "execution": {
          "iopub.status.busy": "2022-01-03T16:01:20.030566Z",
          "iopub.status.idle": "2022-01-03T16:01:20.030892Z",
          "shell.execute_reply": "2022-01-03T16:01:20.030741Z",
          "shell.execute_reply.started": "2022-01-03T16:01:20.030719Z"
        },
        "trusted": true
      },
      "outputs": [
        {
          "data": {
            "application/vnd.plotly.v1+json": {
              "config": {
                "plotlyServerURL": "https://plot.ly"
              },
              "data": [
                {
                  "alignmentgroup": "True",
                  "bingroup": "x",
                  "hovertemplate": "Survived=0<br>Fare=%{x}<br>count=%{y}<extra></extra>",
                  "legendgroup": "0",
                  "marker": {
                    "color": "#363945",
                    "pattern": {
                      "shape": ""
                    }
                  },
                  "name": "0",
                  "nbinsx": 20,
                  "offsetgroup": "0",
                  "orientation": "v",
                  "showlegend": true,
                  "type": "histogram",
                  "x": [
                    28.5,
                    13,
                    7.925,
                    7.8542,
                    31.275,
                    247.5208,
                    26.55,
                    27.7208,
                    7.8958,
                    24.15,
                    12.275,
                    7.0542,
                    13,
                    31.275,
                    6.2375,
                    8.6625,
                    9.4833,
                    14.4583,
                    8.05,
                    211.5,
                    7.25,
                    7.725,
                    25.4667,
                    21.075,
                    61.3792,
                    7.25,
                    7.8958,
                    13,
                    20.2125,
                    7.05,
                    7.5208,
                    21,
                    7.75,
                    8.6625,
                    12.35,
                    0,
                    7.225,
                    8.6625,
                    6.4375,
                    9.5,
                    8.05,
                    7.8958,
                    7.25,
                    26,
                    7.75,
                    7.2292,
                    8.05,
                    10.5,
                    106.425,
                    0,
                    26.55,
                    8.6625,
                    7.8958,
                    27.75,
                    26.25,
                    153.4625,
                    8.05,
                    8.3,
                    15.05,
                    13,
                    8.6625,
                    7.05,
                    0,
                    15.0458,
                    39.6875,
                    23.45,
                    7.65,
                    7.75,
                    15.2458,
                    7.925,
                    51.8625,
                    15.5,
                    41.5792,
                    14.4542,
                    10.5167,
                    36.75,
                    10.5,
                    24.15,
                    14.5,
                    26.55,
                    13,
                    50,
                    21,
                    7.8958,
                    8.05,
                    21.075,
                    35,
                    55.9,
                    7.8,
                    7.925,
                    7.75,
                    34.375,
                    7.75,
                    7.225,
                    7.2292,
                    18,
                    13,
                    26,
                    47.1,
                    8.6625,
                    13.5,
                    20.25,
                    8.05,
                    31.3875,
                    7.8292,
                    7.8958,
                    7.8958,
                    25.4667,
                    10.5,
                    46.9,
                    8.6625,
                    29.125,
                    9.825,
                    7.75,
                    7.925,
                    14.4583,
                    61.175,
                    15.1,
                    8.05,
                    66.6,
                    37.0042,
                    20.525,
                    7.25,
                    7.8958,
                    27.9,
                    16.1,
                    7.7958,
                    13,
                    40.125,
                    7.05,
                    7.75,
                    28.7125,
                    13,
                    7.8958,
                    26,
                    6.8583,
                    19.9667,
                    8.05,
                    21.075,
                    7.8958,
                    69.55,
                    26,
                    13,
                    7.8958,
                    39.6,
                    7.925,
                    16.1,
                    7.8958,
                    7.225,
                    20.575,
                    26,
                    26,
                    29.7,
                    14.5,
                    7.65,
                    7.8958,
                    7.0542,
                    0,
                    6.95,
                    15.5,
                    25.5875,
                    26.55,
                    26,
                    11.5,
                    21,
                    18.7875,
                    10.5,
                    7.25,
                    7.8958,
                    26.55,
                    7.7958,
                    7.2292,
                    7.75,
                    29.125,
                    7.75,
                    13,
                    73.5,
                    7.225,
                    7.8958,
                    11.5,
                    27.9,
                    71,
                    7.8542,
                    14.4,
                    7.225,
                    15.5,
                    8.6625,
                    6.4958,
                    7.75,
                    46.9,
                    13,
                    0,
                    7.2292,
                    7.8958,
                    19.9667,
                    10.1708,
                    24.15,
                    7.8542,
                    56.4958,
                    0,
                    8.05,
                    7.2292,
                    13,
                    77.2875,
                    7.7417,
                    39.6875,
                    17.8,
                    7.25,
                    14.5,
                    7.25,
                    69.55,
                    13,
                    227.525,
                    18,
                    7.8542,
                    90,
                    42.4,
                    24.15,
                    7.775,
                    7.3125,
                    7.8958,
                    9.5,
                    7.925,
                    69.55,
                    39.6875,
                    14.4,
                    24.15,
                    8.05,
                    7.775,
                    8.05,
                    73.5,
                    29.125,
                    29.125,
                    8.05,
                    21.6792,
                    7.75,
                    34.0208,
                    16.1,
                    46.9,
                    8.05,
                    9.35,
                    7.225,
                    33,
                    8.6625,
                    15.5,
                    25.4667,
                    8.05,
                    21.075,
                    7.2292,
                    8.05,
                    14.5,
                    9.5,
                    9.5875,
                    11.5,
                    78.85,
                    23.45,
                    7.775,
                    8.05,
                    39,
                    7.7333,
                    7.775,
                    14.4542,
                    8.6542,
                    7.7333,
                    24.15,
                    15,
                    31.275,
                    15.85,
                    9.5,
                    13,
                    27.75,
                    16.1,
                    7.775,
                    7.925,
                    13,
                    79.65,
                    31.275,
                    151.55,
                    12.525,
                    26,
                    79.2,
                    8.05,
                    34.375,
                    8.6625,
                    56.4958,
                    7.8958,
                    13,
                    6.75,
                    7.775,
                    8.4042,
                    8.85,
                    30.0708,
                    6.4958,
                    263,
                    7.775,
                    8.05,
                    6.975,
                    26.25,
                    9.825,
                    7.8958,
                    7.8875,
                    10.5,
                    10.5,
                    10.5,
                    0,
                    16.1,
                    8.1375,
                    46.9,
                    69.55,
                    0,
                    9.5,
                    8.05,
                    13.5,
                    52,
                    135.6333,
                    5,
                    0,
                    8.05,
                    14,
                    7.55,
                    7.8958,
                    7.2292,
                    9.5,
                    7.8958,
                    69.55,
                    26,
                    108.9,
                    16.1,
                    7.8958,
                    39.6875,
                    10.5,
                    7.125,
                    31.275,
                    10.5,
                    110.8833,
                    69.55,
                    7.2292,
                    52,
                    33.5,
                    6.75,
                    8.05,
                    8.05,
                    14.4542,
                    8.05,
                    15.85,
                    7.925,
                    26,
                    7.7958,
                    27,
                    8.05,
                    27.9,
                    7.8958,
                    8.6625,
                    46.9,
                    7.75,
                    7.6292,
                    9.5,
                    13,
                    263,
                    7.8958,
                    4.0125,
                    13,
                    0,
                    7.25,
                    151.55,
                    9.2167,
                    83.475,
                    8.6625,
                    50.4958,
                    27.7208,
                    7.8542,
                    9.475,
                    30.5,
                    7.775,
                    53.1,
                    7.775,
                    27.7208,
                    10.4625,
                    8.05,
                    69.55,
                    26.55,
                    7.925,
                    8.05,
                    14.4542,
                    21,
                    7.8542,
                    7.8958,
                    24.15,
                    7.2292,
                    7.8958,
                    9,
                    10.4625,
                    82.1708,
                    7.75,
                    22.525,
                    8.05,
                    7.8542,
                    35.5,
                    8.05,
                    7.75,
                    31.275,
                    29.7,
                    10.5,
                    7.8958,
                    6.45,
                    9,
                    7.125,
                    7.8958,
                    13.5,
                    39.6875,
                    7.8958,
                    30,
                    7.65,
                    52,
                    9.8375,
                    7.75,
                    26.55,
                    7.8958,
                    7.75,
                    16.1,
                    7.75,
                    13,
                    73.5,
                    7.775,
                    0,
                    7.25,
                    13,
                    8.3625,
                    24,
                    7.225,
                    7.8958,
                    7.4958,
                    26,
                    8.05,
                    8.05,
                    7.75,
                    0,
                    8.05,
                    8.05,
                    26,
                    46.9,
                    31,
                    14.1083,
                    77.2875
                  ],
                  "xaxis": "x",
                  "yaxis": "y"
                },
                {
                  "alignmentgroup": "True",
                  "bingroup": "x",
                  "hovertemplate": "Survived=1<br>Fare=%{x}<br>count=%{y}<extra></extra>",
                  "legendgroup": "1",
                  "marker": {
                    "color": "#B6E880",
                    "pattern": {
                      "shape": ""
                    }
                  },
                  "name": "1",
                  "nbinsx": 20,
                  "offsetgroup": "1",
                  "orientation": "v",
                  "showlegend": true,
                  "type": "histogram",
                  "x": [
                    35.5,
                    13,
                    9.5,
                    26,
                    90,
                    227.525,
                    57,
                    26.25,
                    9.5875,
                    7.2292,
                    22.3583,
                    120,
                    90,
                    30,
                    26,
                    30.5,
                    14.5,
                    151.55,
                    26,
                    7.925,
                    262.375,
                    7.2292,
                    7.775,
                    80,
                    9.8417,
                    227.525,
                    26,
                    30.5,
                    12.475,
                    133.65,
                    6.975,
                    77.9583,
                    26,
                    151.55,
                    13,
                    8.6625,
                    26.55,
                    81.8583,
                    11.1333,
                    26.25,
                    110.8833,
                    133.65,
                    7.8792,
                    26,
                    11.1333,
                    15.7417,
                    20.525,
                    89.1042,
                    8.05,
                    55.4417,
                    13.8625,
                    10.5,
                    16.7,
                    13.5,
                    36.75,
                    8.05,
                    10.5,
                    7.8542,
                    80,
                    19.5,
                    8.1125,
                    59.4,
                    79.2,
                    56.4958,
                    57.9792,
                    7.925,
                    52.5542,
                    10.5,
                    56.4958,
                    13,
                    7.75,
                    83.1583,
                    7.75,
                    26,
                    26.55,
                    16.1,
                    41.5792,
                    57.9792,
                    211.3375,
                    106.425,
                    19.2583,
                    49.5042,
                    65,
                    52,
                    86.5,
                    16,
                    53.1,
                    79.2,
                    13.7917,
                    7.7333,
                    113.275,
                    26,
                    26,
                    30.0708,
                    8.0292,
                    55,
                    24,
                    26,
                    26.25,
                    211.3375,
                    26.25,
                    17.4,
                    22.025,
                    7.925,
                    0,
                    263,
                    11.2417,
                    7.75,
                    37.0042,
                    13.4167,
                    15.7417,
                    10.5,
                    7.75,
                    164.8667,
                    79.65,
                    53.1,
                    69.3,
                    153.4625,
                    108.9,
                    83.1583,
                    12.2875,
                    13,
                    31.3875,
                    146.5208,
                    7.925,
                    7.775,
                    13.8583,
                    13,
                    263,
                    19.2583,
                    12.475,
                    15.85,
                    12.65,
                    7.225,
                    26.2875,
                    18.75,
                    30,
                    23,
                    13,
                    7.1417,
                    12.35,
                    15.2458,
                    164.8667,
                    13,
                    512.3292,
                    23.25,
                    512.3292,
                    7.55,
                    33,
                    7.225,
                    25.9292,
                    8.05,
                    18.75,
                    26.55,
                    19.2583,
                    23,
                    27.7208,
                    7.925,
                    30,
                    10.5,
                    39,
                    26,
                    66.6,
                    29.7,
                    18.7875,
                    10.5,
                    11.1333,
                    7.2292,
                    12.35,
                    51.4792,
                    7.925,
                    110.8833,
                    7.7958,
                    15.9,
                    135.6333,
                    15.5,
                    13,
                    86.5,
                    41.5792,
                    153.4625,
                    20.25,
                    7.925,
                    39,
                    20.575,
                    211.3375,
                    69.3,
                    9.35,
                    56.4958,
                    7.775,
                    78.2667,
                    23,
                    30.5,
                    12.475,
                    31.3875,
                    7.8792,
                    512.3292,
                    77.9583,
                    30.5,
                    7.25,
                    90,
                    27.75,
                    16.1,
                    8.5167,
                    76.7292,
                    65,
                    39.6,
                    55.9,
                    15.85,
                    71,
                    7.4958,
                    14.5,
                    56.4958,
                    57,
                    26.55,
                    7.225,
                    7.2292,
                    8.6833,
                    15.5,
                    26,
                    23,
                    7.7375,
                    7.75,
                    7.75,
                    7.75,
                    83.475,
                    15.9,
                    13,
                    7.7958,
                    35.5,
                    22.3583,
                    93.5,
                    7.7333,
                    26.55,
                    120,
                    7.925,
                    76.7292,
                    134.5,
                    53.1,
                    26.2875,
                    21,
                    7.8958,
                    30,
                    135.6333,
                    15.75,
                    12,
                    71.2833,
                    26,
                    75.25,
                    13,
                    15.5,
                    7.8542,
                    27,
                    13,
                    55,
                    91.0792,
                    86.5,
                    18.75,
                    76.7292,
                    7.75,
                    27.75,
                    13,
                    13,
                    52.5542,
                    10.5,
                    23.25,
                    227.525,
                    7.65,
                    120
                  ],
                  "xaxis": "x",
                  "yaxis": "y"
                }
              ],
              "layout": {
                "barmode": "relative",
                "height": 400,
                "legend": {
                  "title": {
                    "text": "Survived"
                  },
                  "tracegroupgap": 0
                },
                "margin": {
                  "t": 60
                },
                "template": {
                  "data": {
                    "bar": [
                      {
                        "error_x": {
                          "color": "#2a3f5f"
                        },
                        "error_y": {
                          "color": "#2a3f5f"
                        },
                        "marker": {
                          "line": {
                            "color": "#E5ECF6",
                            "width": 0.5
                          },
                          "pattern": {
                            "fillmode": "overlay",
                            "size": 10,
                            "solidity": 0.2
                          }
                        },
                        "type": "bar"
                      }
                    ],
                    "barpolar": [
                      {
                        "marker": {
                          "line": {
                            "color": "#E5ECF6",
                            "width": 0.5
                          },
                          "pattern": {
                            "fillmode": "overlay",
                            "size": 10,
                            "solidity": 0.2
                          }
                        },
                        "type": "barpolar"
                      }
                    ],
                    "carpet": [
                      {
                        "aaxis": {
                          "endlinecolor": "#2a3f5f",
                          "gridcolor": "white",
                          "linecolor": "white",
                          "minorgridcolor": "white",
                          "startlinecolor": "#2a3f5f"
                        },
                        "baxis": {
                          "endlinecolor": "#2a3f5f",
                          "gridcolor": "white",
                          "linecolor": "white",
                          "minorgridcolor": "white",
                          "startlinecolor": "#2a3f5f"
                        },
                        "type": "carpet"
                      }
                    ],
                    "choropleth": [
                      {
                        "colorbar": {
                          "outlinewidth": 0,
                          "ticks": ""
                        },
                        "type": "choropleth"
                      }
                    ],
                    "contour": [
                      {
                        "colorbar": {
                          "outlinewidth": 0,
                          "ticks": ""
                        },
                        "colorscale": [
                          [
                            0,
                            "#0d0887"
                          ],
                          [
                            0.1111111111111111,
                            "#46039f"
                          ],
                          [
                            0.2222222222222222,
                            "#7201a8"
                          ],
                          [
                            0.3333333333333333,
                            "#9c179e"
                          ],
                          [
                            0.4444444444444444,
                            "#bd3786"
                          ],
                          [
                            0.5555555555555556,
                            "#d8576b"
                          ],
                          [
                            0.6666666666666666,
                            "#ed7953"
                          ],
                          [
                            0.7777777777777778,
                            "#fb9f3a"
                          ],
                          [
                            0.8888888888888888,
                            "#fdca26"
                          ],
                          [
                            1,
                            "#f0f921"
                          ]
                        ],
                        "type": "contour"
                      }
                    ],
                    "contourcarpet": [
                      {
                        "colorbar": {
                          "outlinewidth": 0,
                          "ticks": ""
                        },
                        "type": "contourcarpet"
                      }
                    ],
                    "heatmap": [
                      {
                        "colorbar": {
                          "outlinewidth": 0,
                          "ticks": ""
                        },
                        "colorscale": [
                          [
                            0,
                            "#0d0887"
                          ],
                          [
                            0.1111111111111111,
                            "#46039f"
                          ],
                          [
                            0.2222222222222222,
                            "#7201a8"
                          ],
                          [
                            0.3333333333333333,
                            "#9c179e"
                          ],
                          [
                            0.4444444444444444,
                            "#bd3786"
                          ],
                          [
                            0.5555555555555556,
                            "#d8576b"
                          ],
                          [
                            0.6666666666666666,
                            "#ed7953"
                          ],
                          [
                            0.7777777777777778,
                            "#fb9f3a"
                          ],
                          [
                            0.8888888888888888,
                            "#fdca26"
                          ],
                          [
                            1,
                            "#f0f921"
                          ]
                        ],
                        "type": "heatmap"
                      }
                    ],
                    "heatmapgl": [
                      {
                        "colorbar": {
                          "outlinewidth": 0,
                          "ticks": ""
                        },
                        "colorscale": [
                          [
                            0,
                            "#0d0887"
                          ],
                          [
                            0.1111111111111111,
                            "#46039f"
                          ],
                          [
                            0.2222222222222222,
                            "#7201a8"
                          ],
                          [
                            0.3333333333333333,
                            "#9c179e"
                          ],
                          [
                            0.4444444444444444,
                            "#bd3786"
                          ],
                          [
                            0.5555555555555556,
                            "#d8576b"
                          ],
                          [
                            0.6666666666666666,
                            "#ed7953"
                          ],
                          [
                            0.7777777777777778,
                            "#fb9f3a"
                          ],
                          [
                            0.8888888888888888,
                            "#fdca26"
                          ],
                          [
                            1,
                            "#f0f921"
                          ]
                        ],
                        "type": "heatmapgl"
                      }
                    ],
                    "histogram": [
                      {
                        "marker": {
                          "pattern": {
                            "fillmode": "overlay",
                            "size": 10,
                            "solidity": 0.2
                          }
                        },
                        "type": "histogram"
                      }
                    ],
                    "histogram2d": [
                      {
                        "colorbar": {
                          "outlinewidth": 0,
                          "ticks": ""
                        },
                        "colorscale": [
                          [
                            0,
                            "#0d0887"
                          ],
                          [
                            0.1111111111111111,
                            "#46039f"
                          ],
                          [
                            0.2222222222222222,
                            "#7201a8"
                          ],
                          [
                            0.3333333333333333,
                            "#9c179e"
                          ],
                          [
                            0.4444444444444444,
                            "#bd3786"
                          ],
                          [
                            0.5555555555555556,
                            "#d8576b"
                          ],
                          [
                            0.6666666666666666,
                            "#ed7953"
                          ],
                          [
                            0.7777777777777778,
                            "#fb9f3a"
                          ],
                          [
                            0.8888888888888888,
                            "#fdca26"
                          ],
                          [
                            1,
                            "#f0f921"
                          ]
                        ],
                        "type": "histogram2d"
                      }
                    ],
                    "histogram2dcontour": [
                      {
                        "colorbar": {
                          "outlinewidth": 0,
                          "ticks": ""
                        },
                        "colorscale": [
                          [
                            0,
                            "#0d0887"
                          ],
                          [
                            0.1111111111111111,
                            "#46039f"
                          ],
                          [
                            0.2222222222222222,
                            "#7201a8"
                          ],
                          [
                            0.3333333333333333,
                            "#9c179e"
                          ],
                          [
                            0.4444444444444444,
                            "#bd3786"
                          ],
                          [
                            0.5555555555555556,
                            "#d8576b"
                          ],
                          [
                            0.6666666666666666,
                            "#ed7953"
                          ],
                          [
                            0.7777777777777778,
                            "#fb9f3a"
                          ],
                          [
                            0.8888888888888888,
                            "#fdca26"
                          ],
                          [
                            1,
                            "#f0f921"
                          ]
                        ],
                        "type": "histogram2dcontour"
                      }
                    ],
                    "mesh3d": [
                      {
                        "colorbar": {
                          "outlinewidth": 0,
                          "ticks": ""
                        },
                        "type": "mesh3d"
                      }
                    ],
                    "parcoords": [
                      {
                        "line": {
                          "colorbar": {
                            "outlinewidth": 0,
                            "ticks": ""
                          }
                        },
                        "type": "parcoords"
                      }
                    ],
                    "pie": [
                      {
                        "automargin": true,
                        "type": "pie"
                      }
                    ],
                    "scatter": [
                      {
                        "marker": {
                          "colorbar": {
                            "outlinewidth": 0,
                            "ticks": ""
                          }
                        },
                        "type": "scatter"
                      }
                    ],
                    "scatter3d": [
                      {
                        "line": {
                          "colorbar": {
                            "outlinewidth": 0,
                            "ticks": ""
                          }
                        },
                        "marker": {
                          "colorbar": {
                            "outlinewidth": 0,
                            "ticks": ""
                          }
                        },
                        "type": "scatter3d"
                      }
                    ],
                    "scattercarpet": [
                      {
                        "marker": {
                          "colorbar": {
                            "outlinewidth": 0,
                            "ticks": ""
                          }
                        },
                        "type": "scattercarpet"
                      }
                    ],
                    "scattergeo": [
                      {
                        "marker": {
                          "colorbar": {
                            "outlinewidth": 0,
                            "ticks": ""
                          }
                        },
                        "type": "scattergeo"
                      }
                    ],
                    "scattergl": [
                      {
                        "marker": {
                          "colorbar": {
                            "outlinewidth": 0,
                            "ticks": ""
                          }
                        },
                        "type": "scattergl"
                      }
                    ],
                    "scattermapbox": [
                      {
                        "marker": {
                          "colorbar": {
                            "outlinewidth": 0,
                            "ticks": ""
                          }
                        },
                        "type": "scattermapbox"
                      }
                    ],
                    "scatterpolar": [
                      {
                        "marker": {
                          "colorbar": {
                            "outlinewidth": 0,
                            "ticks": ""
                          }
                        },
                        "type": "scatterpolar"
                      }
                    ],
                    "scatterpolargl": [
                      {
                        "marker": {
                          "colorbar": {
                            "outlinewidth": 0,
                            "ticks": ""
                          }
                        },
                        "type": "scatterpolargl"
                      }
                    ],
                    "scatterternary": [
                      {
                        "marker": {
                          "colorbar": {
                            "outlinewidth": 0,
                            "ticks": ""
                          }
                        },
                        "type": "scatterternary"
                      }
                    ],
                    "surface": [
                      {
                        "colorbar": {
                          "outlinewidth": 0,
                          "ticks": ""
                        },
                        "colorscale": [
                          [
                            0,
                            "#0d0887"
                          ],
                          [
                            0.1111111111111111,
                            "#46039f"
                          ],
                          [
                            0.2222222222222222,
                            "#7201a8"
                          ],
                          [
                            0.3333333333333333,
                            "#9c179e"
                          ],
                          [
                            0.4444444444444444,
                            "#bd3786"
                          ],
                          [
                            0.5555555555555556,
                            "#d8576b"
                          ],
                          [
                            0.6666666666666666,
                            "#ed7953"
                          ],
                          [
                            0.7777777777777778,
                            "#fb9f3a"
                          ],
                          [
                            0.8888888888888888,
                            "#fdca26"
                          ],
                          [
                            1,
                            "#f0f921"
                          ]
                        ],
                        "type": "surface"
                      }
                    ],
                    "table": [
                      {
                        "cells": {
                          "fill": {
                            "color": "#EBF0F8"
                          },
                          "line": {
                            "color": "white"
                          }
                        },
                        "header": {
                          "fill": {
                            "color": "#C8D4E3"
                          },
                          "line": {
                            "color": "white"
                          }
                        },
                        "type": "table"
                      }
                    ]
                  },
                  "layout": {
                    "annotationdefaults": {
                      "arrowcolor": "#2a3f5f",
                      "arrowhead": 0,
                      "arrowwidth": 1
                    },
                    "autotypenumbers": "strict",
                    "coloraxis": {
                      "colorbar": {
                        "outlinewidth": 0,
                        "ticks": ""
                      }
                    },
                    "colorscale": {
                      "diverging": [
                        [
                          0,
                          "#8e0152"
                        ],
                        [
                          0.1,
                          "#c51b7d"
                        ],
                        [
                          0.2,
                          "#de77ae"
                        ],
                        [
                          0.3,
                          "#f1b6da"
                        ],
                        [
                          0.4,
                          "#fde0ef"
                        ],
                        [
                          0.5,
                          "#f7f7f7"
                        ],
                        [
                          0.6,
                          "#e6f5d0"
                        ],
                        [
                          0.7,
                          "#b8e186"
                        ],
                        [
                          0.8,
                          "#7fbc41"
                        ],
                        [
                          0.9,
                          "#4d9221"
                        ],
                        [
                          1,
                          "#276419"
                        ]
                      ],
                      "sequential": [
                        [
                          0,
                          "#0d0887"
                        ],
                        [
                          0.1111111111111111,
                          "#46039f"
                        ],
                        [
                          0.2222222222222222,
                          "#7201a8"
                        ],
                        [
                          0.3333333333333333,
                          "#9c179e"
                        ],
                        [
                          0.4444444444444444,
                          "#bd3786"
                        ],
                        [
                          0.5555555555555556,
                          "#d8576b"
                        ],
                        [
                          0.6666666666666666,
                          "#ed7953"
                        ],
                        [
                          0.7777777777777778,
                          "#fb9f3a"
                        ],
                        [
                          0.8888888888888888,
                          "#fdca26"
                        ],
                        [
                          1,
                          "#f0f921"
                        ]
                      ],
                      "sequentialminus": [
                        [
                          0,
                          "#0d0887"
                        ],
                        [
                          0.1111111111111111,
                          "#46039f"
                        ],
                        [
                          0.2222222222222222,
                          "#7201a8"
                        ],
                        [
                          0.3333333333333333,
                          "#9c179e"
                        ],
                        [
                          0.4444444444444444,
                          "#bd3786"
                        ],
                        [
                          0.5555555555555556,
                          "#d8576b"
                        ],
                        [
                          0.6666666666666666,
                          "#ed7953"
                        ],
                        [
                          0.7777777777777778,
                          "#fb9f3a"
                        ],
                        [
                          0.8888888888888888,
                          "#fdca26"
                        ],
                        [
                          1,
                          "#f0f921"
                        ]
                      ]
                    },
                    "colorway": [
                      "#636efa",
                      "#EF553B",
                      "#00cc96",
                      "#ab63fa",
                      "#FFA15A",
                      "#19d3f3",
                      "#FF6692",
                      "#B6E880",
                      "#FF97FF",
                      "#FECB52"
                    ],
                    "font": {
                      "color": "#2a3f5f"
                    },
                    "geo": {
                      "bgcolor": "white",
                      "lakecolor": "white",
                      "landcolor": "#E5ECF6",
                      "showlakes": true,
                      "showland": true,
                      "subunitcolor": "white"
                    },
                    "hoverlabel": {
                      "align": "left"
                    },
                    "hovermode": "closest",
                    "mapbox": {
                      "style": "light"
                    },
                    "paper_bgcolor": "white",
                    "plot_bgcolor": "#E5ECF6",
                    "polar": {
                      "angularaxis": {
                        "gridcolor": "white",
                        "linecolor": "white",
                        "ticks": ""
                      },
                      "bgcolor": "#E5ECF6",
                      "radialaxis": {
                        "gridcolor": "white",
                        "linecolor": "white",
                        "ticks": ""
                      }
                    },
                    "scene": {
                      "xaxis": {
                        "backgroundcolor": "#E5ECF6",
                        "gridcolor": "white",
                        "gridwidth": 2,
                        "linecolor": "white",
                        "showbackground": true,
                        "ticks": "",
                        "zerolinecolor": "white"
                      },
                      "yaxis": {
                        "backgroundcolor": "#E5ECF6",
                        "gridcolor": "white",
                        "gridwidth": 2,
                        "linecolor": "white",
                        "showbackground": true,
                        "ticks": "",
                        "zerolinecolor": "white"
                      },
                      "zaxis": {
                        "backgroundcolor": "#E5ECF6",
                        "gridcolor": "white",
                        "gridwidth": 2,
                        "linecolor": "white",
                        "showbackground": true,
                        "ticks": "",
                        "zerolinecolor": "white"
                      }
                    },
                    "shapedefaults": {
                      "line": {
                        "color": "#2a3f5f"
                      }
                    },
                    "ternary": {
                      "aaxis": {
                        "gridcolor": "white",
                        "linecolor": "white",
                        "ticks": ""
                      },
                      "baxis": {
                        "gridcolor": "white",
                        "linecolor": "white",
                        "ticks": ""
                      },
                      "bgcolor": "#E5ECF6",
                      "caxis": {
                        "gridcolor": "white",
                        "linecolor": "white",
                        "ticks": ""
                      }
                    },
                    "title": {
                      "x": 0.05
                    },
                    "xaxis": {
                      "automargin": true,
                      "gridcolor": "white",
                      "linecolor": "white",
                      "ticks": "",
                      "title": {
                        "standoff": 15
                      },
                      "zerolinecolor": "white",
                      "zerolinewidth": 2
                    },
                    "yaxis": {
                      "automargin": true,
                      "gridcolor": "white",
                      "linecolor": "white",
                      "ticks": "",
                      "title": {
                        "standoff": 15
                      },
                      "zerolinecolor": "white",
                      "zerolinewidth": 2
                    }
                  }
                },
                "title": {
                  "text": "Sobrevivência em relação à tarifa paga"
                },
                "width": 800,
                "xaxis": {
                  "anchor": "y",
                  "domain": [
                    0,
                    1
                  ],
                  "title": {
                    "text": "Fare"
                  }
                },
                "yaxis": {
                  "anchor": "x",
                  "domain": [
                    0,
                    1
                  ],
                  "title": {
                    "text": "count"
                  }
                }
              }
            }
          },
          "metadata": {},
          "output_type": "display_data"
        }
      ],
      "source": [
        "fig = px.histogram(train, x=\"Fare\", color=\"Survived\", nbins=20,\n",
        "                   color_discrete_sequence=[\"#363945\", \"#B6E880\"])\n",
        "fig.update_layout(height=400, width=800, title_text=\"Sobrevivência em relação à tarifa paga\")\n",
        "fig.show()"
      ]
    },
    {
      "cell_type": "code",
      "execution_count": 90,
      "metadata": {
        "execution": {
          "iopub.status.busy": "2022-01-03T16:01:20.032154Z",
          "iopub.status.idle": "2022-01-03T16:01:20.032782Z",
          "shell.execute_reply": "2022-01-03T16:01:20.032614Z",
          "shell.execute_reply.started": "2022-01-03T16:01:20.032588Z"
        },
        "trusted": true
      },
      "outputs": [
        {
          "data": {
            "application/vnd.plotly.v1+json": {
              "config": {
                "plotlyServerURL": "https://plot.ly"
              },
              "data": [
                {
                  "alignmentgroup": "True",
                  "hovertemplate": "Survived=0<br>Fare=%{y}<extra></extra>",
                  "legendgroup": "0",
                  "marker": {
                    "color": "#363945"
                  },
                  "name": "0",
                  "notched": false,
                  "offsetgroup": "0",
                  "orientation": "v",
                  "showlegend": true,
                  "type": "box",
                  "x0": " ",
                  "xaxis": "x",
                  "y": [
                    28.5,
                    13,
                    7.925,
                    7.8542,
                    31.275,
                    247.5208,
                    26.55,
                    27.7208,
                    7.8958,
                    24.15,
                    12.275,
                    7.0542,
                    13,
                    31.275,
                    6.2375,
                    8.6625,
                    9.4833,
                    14.4583,
                    8.05,
                    211.5,
                    7.25,
                    7.725,
                    25.4667,
                    21.075,
                    61.3792,
                    7.25,
                    7.8958,
                    13,
                    20.2125,
                    7.05,
                    7.5208,
                    21,
                    7.75,
                    8.6625,
                    12.35,
                    0,
                    7.225,
                    8.6625,
                    6.4375,
                    9.5,
                    8.05,
                    7.8958,
                    7.25,
                    26,
                    7.75,
                    7.2292,
                    8.05,
                    10.5,
                    106.425,
                    0,
                    26.55,
                    8.6625,
                    7.8958,
                    27.75,
                    26.25,
                    153.4625,
                    8.05,
                    8.3,
                    15.05,
                    13,
                    8.6625,
                    7.05,
                    0,
                    15.0458,
                    39.6875,
                    23.45,
                    7.65,
                    7.75,
                    15.2458,
                    7.925,
                    51.8625,
                    15.5,
                    41.5792,
                    14.4542,
                    10.5167,
                    36.75,
                    10.5,
                    24.15,
                    14.5,
                    26.55,
                    13,
                    50,
                    21,
                    7.8958,
                    8.05,
                    21.075,
                    35,
                    55.9,
                    7.8,
                    7.925,
                    7.75,
                    34.375,
                    7.75,
                    7.225,
                    7.2292,
                    18,
                    13,
                    26,
                    47.1,
                    8.6625,
                    13.5,
                    20.25,
                    8.05,
                    31.3875,
                    7.8292,
                    7.8958,
                    7.8958,
                    25.4667,
                    10.5,
                    46.9,
                    8.6625,
                    29.125,
                    9.825,
                    7.75,
                    7.925,
                    14.4583,
                    61.175,
                    15.1,
                    8.05,
                    66.6,
                    37.0042,
                    20.525,
                    7.25,
                    7.8958,
                    27.9,
                    16.1,
                    7.7958,
                    13,
                    40.125,
                    7.05,
                    7.75,
                    28.7125,
                    13,
                    7.8958,
                    26,
                    6.8583,
                    19.9667,
                    8.05,
                    21.075,
                    7.8958,
                    69.55,
                    26,
                    13,
                    7.8958,
                    39.6,
                    7.925,
                    16.1,
                    7.8958,
                    7.225,
                    20.575,
                    26,
                    26,
                    29.7,
                    14.5,
                    7.65,
                    7.8958,
                    7.0542,
                    0,
                    6.95,
                    15.5,
                    25.5875,
                    26.55,
                    26,
                    11.5,
                    21,
                    18.7875,
                    10.5,
                    7.25,
                    7.8958,
                    26.55,
                    7.7958,
                    7.2292,
                    7.75,
                    29.125,
                    7.75,
                    13,
                    73.5,
                    7.225,
                    7.8958,
                    11.5,
                    27.9,
                    71,
                    7.8542,
                    14.4,
                    7.225,
                    15.5,
                    8.6625,
                    6.4958,
                    7.75,
                    46.9,
                    13,
                    0,
                    7.2292,
                    7.8958,
                    19.9667,
                    10.1708,
                    24.15,
                    7.8542,
                    56.4958,
                    0,
                    8.05,
                    7.2292,
                    13,
                    77.2875,
                    7.7417,
                    39.6875,
                    17.8,
                    7.25,
                    14.5,
                    7.25,
                    69.55,
                    13,
                    227.525,
                    18,
                    7.8542,
                    90,
                    42.4,
                    24.15,
                    7.775,
                    7.3125,
                    7.8958,
                    9.5,
                    7.925,
                    69.55,
                    39.6875,
                    14.4,
                    24.15,
                    8.05,
                    7.775,
                    8.05,
                    73.5,
                    29.125,
                    29.125,
                    8.05,
                    21.6792,
                    7.75,
                    34.0208,
                    16.1,
                    46.9,
                    8.05,
                    9.35,
                    7.225,
                    33,
                    8.6625,
                    15.5,
                    25.4667,
                    8.05,
                    21.075,
                    7.2292,
                    8.05,
                    14.5,
                    9.5,
                    9.5875,
                    11.5,
                    78.85,
                    23.45,
                    7.775,
                    8.05,
                    39,
                    7.7333,
                    7.775,
                    14.4542,
                    8.6542,
                    7.7333,
                    24.15,
                    15,
                    31.275,
                    15.85,
                    9.5,
                    13,
                    27.75,
                    16.1,
                    7.775,
                    7.925,
                    13,
                    79.65,
                    31.275,
                    151.55,
                    12.525,
                    26,
                    79.2,
                    8.05,
                    34.375,
                    8.6625,
                    56.4958,
                    7.8958,
                    13,
                    6.75,
                    7.775,
                    8.4042,
                    8.85,
                    30.0708,
                    6.4958,
                    263,
                    7.775,
                    8.05,
                    6.975,
                    26.25,
                    9.825,
                    7.8958,
                    7.8875,
                    10.5,
                    10.5,
                    10.5,
                    0,
                    16.1,
                    8.1375,
                    46.9,
                    69.55,
                    0,
                    9.5,
                    8.05,
                    13.5,
                    52,
                    135.6333,
                    5,
                    0,
                    8.05,
                    14,
                    7.55,
                    7.8958,
                    7.2292,
                    9.5,
                    7.8958,
                    69.55,
                    26,
                    108.9,
                    16.1,
                    7.8958,
                    39.6875,
                    10.5,
                    7.125,
                    31.275,
                    10.5,
                    110.8833,
                    69.55,
                    7.2292,
                    52,
                    33.5,
                    6.75,
                    8.05,
                    8.05,
                    14.4542,
                    8.05,
                    15.85,
                    7.925,
                    26,
                    7.7958,
                    27,
                    8.05,
                    27.9,
                    7.8958,
                    8.6625,
                    46.9,
                    7.75,
                    7.6292,
                    9.5,
                    13,
                    263,
                    7.8958,
                    4.0125,
                    13,
                    0,
                    7.25,
                    151.55,
                    9.2167,
                    83.475,
                    8.6625,
                    50.4958,
                    27.7208,
                    7.8542,
                    9.475,
                    30.5,
                    7.775,
                    53.1,
                    7.775,
                    27.7208,
                    10.4625,
                    8.05,
                    69.55,
                    26.55,
                    7.925,
                    8.05,
                    14.4542,
                    21,
                    7.8542,
                    7.8958,
                    24.15,
                    7.2292,
                    7.8958,
                    9,
                    10.4625,
                    82.1708,
                    7.75,
                    22.525,
                    8.05,
                    7.8542,
                    35.5,
                    8.05,
                    7.75,
                    31.275,
                    29.7,
                    10.5,
                    7.8958,
                    6.45,
                    9,
                    7.125,
                    7.8958,
                    13.5,
                    39.6875,
                    7.8958,
                    30,
                    7.65,
                    52,
                    9.8375,
                    7.75,
                    26.55,
                    7.8958,
                    7.75,
                    16.1,
                    7.75,
                    13,
                    73.5,
                    7.775,
                    0,
                    7.25,
                    13,
                    8.3625,
                    24,
                    7.225,
                    7.8958,
                    7.4958,
                    26,
                    8.05,
                    8.05,
                    7.75,
                    0,
                    8.05,
                    8.05,
                    26,
                    46.9,
                    31,
                    14.1083,
                    77.2875
                  ],
                  "y0": " ",
                  "yaxis": "y"
                },
                {
                  "alignmentgroup": "True",
                  "hovertemplate": "Survived=1<br>Fare=%{y}<extra></extra>",
                  "legendgroup": "1",
                  "marker": {
                    "color": "#B6E880"
                  },
                  "name": "1",
                  "notched": false,
                  "offsetgroup": "1",
                  "orientation": "v",
                  "showlegend": true,
                  "type": "box",
                  "x0": " ",
                  "xaxis": "x",
                  "y": [
                    35.5,
                    13,
                    9.5,
                    26,
                    90,
                    227.525,
                    57,
                    26.25,
                    9.5875,
                    7.2292,
                    22.3583,
                    120,
                    90,
                    30,
                    26,
                    30.5,
                    14.5,
                    151.55,
                    26,
                    7.925,
                    262.375,
                    7.2292,
                    7.775,
                    80,
                    9.8417,
                    227.525,
                    26,
                    30.5,
                    12.475,
                    133.65,
                    6.975,
                    77.9583,
                    26,
                    151.55,
                    13,
                    8.6625,
                    26.55,
                    81.8583,
                    11.1333,
                    26.25,
                    110.8833,
                    133.65,
                    7.8792,
                    26,
                    11.1333,
                    15.7417,
                    20.525,
                    89.1042,
                    8.05,
                    55.4417,
                    13.8625,
                    10.5,
                    16.7,
                    13.5,
                    36.75,
                    8.05,
                    10.5,
                    7.8542,
                    80,
                    19.5,
                    8.1125,
                    59.4,
                    79.2,
                    56.4958,
                    57.9792,
                    7.925,
                    52.5542,
                    10.5,
                    56.4958,
                    13,
                    7.75,
                    83.1583,
                    7.75,
                    26,
                    26.55,
                    16.1,
                    41.5792,
                    57.9792,
                    211.3375,
                    106.425,
                    19.2583,
                    49.5042,
                    65,
                    52,
                    86.5,
                    16,
                    53.1,
                    79.2,
                    13.7917,
                    7.7333,
                    113.275,
                    26,
                    26,
                    30.0708,
                    8.0292,
                    55,
                    24,
                    26,
                    26.25,
                    211.3375,
                    26.25,
                    17.4,
                    22.025,
                    7.925,
                    0,
                    263,
                    11.2417,
                    7.75,
                    37.0042,
                    13.4167,
                    15.7417,
                    10.5,
                    7.75,
                    164.8667,
                    79.65,
                    53.1,
                    69.3,
                    153.4625,
                    108.9,
                    83.1583,
                    12.2875,
                    13,
                    31.3875,
                    146.5208,
                    7.925,
                    7.775,
                    13.8583,
                    13,
                    263,
                    19.2583,
                    12.475,
                    15.85,
                    12.65,
                    7.225,
                    26.2875,
                    18.75,
                    30,
                    23,
                    13,
                    7.1417,
                    12.35,
                    15.2458,
                    164.8667,
                    13,
                    512.3292,
                    23.25,
                    512.3292,
                    7.55,
                    33,
                    7.225,
                    25.9292,
                    8.05,
                    18.75,
                    26.55,
                    19.2583,
                    23,
                    27.7208,
                    7.925,
                    30,
                    10.5,
                    39,
                    26,
                    66.6,
                    29.7,
                    18.7875,
                    10.5,
                    11.1333,
                    7.2292,
                    12.35,
                    51.4792,
                    7.925,
                    110.8833,
                    7.7958,
                    15.9,
                    135.6333,
                    15.5,
                    13,
                    86.5,
                    41.5792,
                    153.4625,
                    20.25,
                    7.925,
                    39,
                    20.575,
                    211.3375,
                    69.3,
                    9.35,
                    56.4958,
                    7.775,
                    78.2667,
                    23,
                    30.5,
                    12.475,
                    31.3875,
                    7.8792,
                    512.3292,
                    77.9583,
                    30.5,
                    7.25,
                    90,
                    27.75,
                    16.1,
                    8.5167,
                    76.7292,
                    65,
                    39.6,
                    55.9,
                    15.85,
                    71,
                    7.4958,
                    14.5,
                    56.4958,
                    57,
                    26.55,
                    7.225,
                    7.2292,
                    8.6833,
                    15.5,
                    26,
                    23,
                    7.7375,
                    7.75,
                    7.75,
                    7.75,
                    83.475,
                    15.9,
                    13,
                    7.7958,
                    35.5,
                    22.3583,
                    93.5,
                    7.7333,
                    26.55,
                    120,
                    7.925,
                    76.7292,
                    134.5,
                    53.1,
                    26.2875,
                    21,
                    7.8958,
                    30,
                    135.6333,
                    15.75,
                    12,
                    71.2833,
                    26,
                    75.25,
                    13,
                    15.5,
                    7.8542,
                    27,
                    13,
                    55,
                    91.0792,
                    86.5,
                    18.75,
                    76.7292,
                    7.75,
                    27.75,
                    13,
                    13,
                    52.5542,
                    10.5,
                    23.25,
                    227.525,
                    7.65,
                    120
                  ],
                  "y0": " ",
                  "yaxis": "y"
                }
              ],
              "layout": {
                "boxmode": "group",
                "height": 400,
                "legend": {
                  "title": {
                    "text": "Survived"
                  },
                  "tracegroupgap": 0
                },
                "margin": {
                  "t": 60
                },
                "template": {
                  "data": {
                    "bar": [
                      {
                        "error_x": {
                          "color": "#2a3f5f"
                        },
                        "error_y": {
                          "color": "#2a3f5f"
                        },
                        "marker": {
                          "line": {
                            "color": "#E5ECF6",
                            "width": 0.5
                          },
                          "pattern": {
                            "fillmode": "overlay",
                            "size": 10,
                            "solidity": 0.2
                          }
                        },
                        "type": "bar"
                      }
                    ],
                    "barpolar": [
                      {
                        "marker": {
                          "line": {
                            "color": "#E5ECF6",
                            "width": 0.5
                          },
                          "pattern": {
                            "fillmode": "overlay",
                            "size": 10,
                            "solidity": 0.2
                          }
                        },
                        "type": "barpolar"
                      }
                    ],
                    "carpet": [
                      {
                        "aaxis": {
                          "endlinecolor": "#2a3f5f",
                          "gridcolor": "white",
                          "linecolor": "white",
                          "minorgridcolor": "white",
                          "startlinecolor": "#2a3f5f"
                        },
                        "baxis": {
                          "endlinecolor": "#2a3f5f",
                          "gridcolor": "white",
                          "linecolor": "white",
                          "minorgridcolor": "white",
                          "startlinecolor": "#2a3f5f"
                        },
                        "type": "carpet"
                      }
                    ],
                    "choropleth": [
                      {
                        "colorbar": {
                          "outlinewidth": 0,
                          "ticks": ""
                        },
                        "type": "choropleth"
                      }
                    ],
                    "contour": [
                      {
                        "colorbar": {
                          "outlinewidth": 0,
                          "ticks": ""
                        },
                        "colorscale": [
                          [
                            0,
                            "#0d0887"
                          ],
                          [
                            0.1111111111111111,
                            "#46039f"
                          ],
                          [
                            0.2222222222222222,
                            "#7201a8"
                          ],
                          [
                            0.3333333333333333,
                            "#9c179e"
                          ],
                          [
                            0.4444444444444444,
                            "#bd3786"
                          ],
                          [
                            0.5555555555555556,
                            "#d8576b"
                          ],
                          [
                            0.6666666666666666,
                            "#ed7953"
                          ],
                          [
                            0.7777777777777778,
                            "#fb9f3a"
                          ],
                          [
                            0.8888888888888888,
                            "#fdca26"
                          ],
                          [
                            1,
                            "#f0f921"
                          ]
                        ],
                        "type": "contour"
                      }
                    ],
                    "contourcarpet": [
                      {
                        "colorbar": {
                          "outlinewidth": 0,
                          "ticks": ""
                        },
                        "type": "contourcarpet"
                      }
                    ],
                    "heatmap": [
                      {
                        "colorbar": {
                          "outlinewidth": 0,
                          "ticks": ""
                        },
                        "colorscale": [
                          [
                            0,
                            "#0d0887"
                          ],
                          [
                            0.1111111111111111,
                            "#46039f"
                          ],
                          [
                            0.2222222222222222,
                            "#7201a8"
                          ],
                          [
                            0.3333333333333333,
                            "#9c179e"
                          ],
                          [
                            0.4444444444444444,
                            "#bd3786"
                          ],
                          [
                            0.5555555555555556,
                            "#d8576b"
                          ],
                          [
                            0.6666666666666666,
                            "#ed7953"
                          ],
                          [
                            0.7777777777777778,
                            "#fb9f3a"
                          ],
                          [
                            0.8888888888888888,
                            "#fdca26"
                          ],
                          [
                            1,
                            "#f0f921"
                          ]
                        ],
                        "type": "heatmap"
                      }
                    ],
                    "heatmapgl": [
                      {
                        "colorbar": {
                          "outlinewidth": 0,
                          "ticks": ""
                        },
                        "colorscale": [
                          [
                            0,
                            "#0d0887"
                          ],
                          [
                            0.1111111111111111,
                            "#46039f"
                          ],
                          [
                            0.2222222222222222,
                            "#7201a8"
                          ],
                          [
                            0.3333333333333333,
                            "#9c179e"
                          ],
                          [
                            0.4444444444444444,
                            "#bd3786"
                          ],
                          [
                            0.5555555555555556,
                            "#d8576b"
                          ],
                          [
                            0.6666666666666666,
                            "#ed7953"
                          ],
                          [
                            0.7777777777777778,
                            "#fb9f3a"
                          ],
                          [
                            0.8888888888888888,
                            "#fdca26"
                          ],
                          [
                            1,
                            "#f0f921"
                          ]
                        ],
                        "type": "heatmapgl"
                      }
                    ],
                    "histogram": [
                      {
                        "marker": {
                          "pattern": {
                            "fillmode": "overlay",
                            "size": 10,
                            "solidity": 0.2
                          }
                        },
                        "type": "histogram"
                      }
                    ],
                    "histogram2d": [
                      {
                        "colorbar": {
                          "outlinewidth": 0,
                          "ticks": ""
                        },
                        "colorscale": [
                          [
                            0,
                            "#0d0887"
                          ],
                          [
                            0.1111111111111111,
                            "#46039f"
                          ],
                          [
                            0.2222222222222222,
                            "#7201a8"
                          ],
                          [
                            0.3333333333333333,
                            "#9c179e"
                          ],
                          [
                            0.4444444444444444,
                            "#bd3786"
                          ],
                          [
                            0.5555555555555556,
                            "#d8576b"
                          ],
                          [
                            0.6666666666666666,
                            "#ed7953"
                          ],
                          [
                            0.7777777777777778,
                            "#fb9f3a"
                          ],
                          [
                            0.8888888888888888,
                            "#fdca26"
                          ],
                          [
                            1,
                            "#f0f921"
                          ]
                        ],
                        "type": "histogram2d"
                      }
                    ],
                    "histogram2dcontour": [
                      {
                        "colorbar": {
                          "outlinewidth": 0,
                          "ticks": ""
                        },
                        "colorscale": [
                          [
                            0,
                            "#0d0887"
                          ],
                          [
                            0.1111111111111111,
                            "#46039f"
                          ],
                          [
                            0.2222222222222222,
                            "#7201a8"
                          ],
                          [
                            0.3333333333333333,
                            "#9c179e"
                          ],
                          [
                            0.4444444444444444,
                            "#bd3786"
                          ],
                          [
                            0.5555555555555556,
                            "#d8576b"
                          ],
                          [
                            0.6666666666666666,
                            "#ed7953"
                          ],
                          [
                            0.7777777777777778,
                            "#fb9f3a"
                          ],
                          [
                            0.8888888888888888,
                            "#fdca26"
                          ],
                          [
                            1,
                            "#f0f921"
                          ]
                        ],
                        "type": "histogram2dcontour"
                      }
                    ],
                    "mesh3d": [
                      {
                        "colorbar": {
                          "outlinewidth": 0,
                          "ticks": ""
                        },
                        "type": "mesh3d"
                      }
                    ],
                    "parcoords": [
                      {
                        "line": {
                          "colorbar": {
                            "outlinewidth": 0,
                            "ticks": ""
                          }
                        },
                        "type": "parcoords"
                      }
                    ],
                    "pie": [
                      {
                        "automargin": true,
                        "type": "pie"
                      }
                    ],
                    "scatter": [
                      {
                        "marker": {
                          "colorbar": {
                            "outlinewidth": 0,
                            "ticks": ""
                          }
                        },
                        "type": "scatter"
                      }
                    ],
                    "scatter3d": [
                      {
                        "line": {
                          "colorbar": {
                            "outlinewidth": 0,
                            "ticks": ""
                          }
                        },
                        "marker": {
                          "colorbar": {
                            "outlinewidth": 0,
                            "ticks": ""
                          }
                        },
                        "type": "scatter3d"
                      }
                    ],
                    "scattercarpet": [
                      {
                        "marker": {
                          "colorbar": {
                            "outlinewidth": 0,
                            "ticks": ""
                          }
                        },
                        "type": "scattercarpet"
                      }
                    ],
                    "scattergeo": [
                      {
                        "marker": {
                          "colorbar": {
                            "outlinewidth": 0,
                            "ticks": ""
                          }
                        },
                        "type": "scattergeo"
                      }
                    ],
                    "scattergl": [
                      {
                        "marker": {
                          "colorbar": {
                            "outlinewidth": 0,
                            "ticks": ""
                          }
                        },
                        "type": "scattergl"
                      }
                    ],
                    "scattermapbox": [
                      {
                        "marker": {
                          "colorbar": {
                            "outlinewidth": 0,
                            "ticks": ""
                          }
                        },
                        "type": "scattermapbox"
                      }
                    ],
                    "scatterpolar": [
                      {
                        "marker": {
                          "colorbar": {
                            "outlinewidth": 0,
                            "ticks": ""
                          }
                        },
                        "type": "scatterpolar"
                      }
                    ],
                    "scatterpolargl": [
                      {
                        "marker": {
                          "colorbar": {
                            "outlinewidth": 0,
                            "ticks": ""
                          }
                        },
                        "type": "scatterpolargl"
                      }
                    ],
                    "scatterternary": [
                      {
                        "marker": {
                          "colorbar": {
                            "outlinewidth": 0,
                            "ticks": ""
                          }
                        },
                        "type": "scatterternary"
                      }
                    ],
                    "surface": [
                      {
                        "colorbar": {
                          "outlinewidth": 0,
                          "ticks": ""
                        },
                        "colorscale": [
                          [
                            0,
                            "#0d0887"
                          ],
                          [
                            0.1111111111111111,
                            "#46039f"
                          ],
                          [
                            0.2222222222222222,
                            "#7201a8"
                          ],
                          [
                            0.3333333333333333,
                            "#9c179e"
                          ],
                          [
                            0.4444444444444444,
                            "#bd3786"
                          ],
                          [
                            0.5555555555555556,
                            "#d8576b"
                          ],
                          [
                            0.6666666666666666,
                            "#ed7953"
                          ],
                          [
                            0.7777777777777778,
                            "#fb9f3a"
                          ],
                          [
                            0.8888888888888888,
                            "#fdca26"
                          ],
                          [
                            1,
                            "#f0f921"
                          ]
                        ],
                        "type": "surface"
                      }
                    ],
                    "table": [
                      {
                        "cells": {
                          "fill": {
                            "color": "#EBF0F8"
                          },
                          "line": {
                            "color": "white"
                          }
                        },
                        "header": {
                          "fill": {
                            "color": "#C8D4E3"
                          },
                          "line": {
                            "color": "white"
                          }
                        },
                        "type": "table"
                      }
                    ]
                  },
                  "layout": {
                    "annotationdefaults": {
                      "arrowcolor": "#2a3f5f",
                      "arrowhead": 0,
                      "arrowwidth": 1
                    },
                    "autotypenumbers": "strict",
                    "coloraxis": {
                      "colorbar": {
                        "outlinewidth": 0,
                        "ticks": ""
                      }
                    },
                    "colorscale": {
                      "diverging": [
                        [
                          0,
                          "#8e0152"
                        ],
                        [
                          0.1,
                          "#c51b7d"
                        ],
                        [
                          0.2,
                          "#de77ae"
                        ],
                        [
                          0.3,
                          "#f1b6da"
                        ],
                        [
                          0.4,
                          "#fde0ef"
                        ],
                        [
                          0.5,
                          "#f7f7f7"
                        ],
                        [
                          0.6,
                          "#e6f5d0"
                        ],
                        [
                          0.7,
                          "#b8e186"
                        ],
                        [
                          0.8,
                          "#7fbc41"
                        ],
                        [
                          0.9,
                          "#4d9221"
                        ],
                        [
                          1,
                          "#276419"
                        ]
                      ],
                      "sequential": [
                        [
                          0,
                          "#0d0887"
                        ],
                        [
                          0.1111111111111111,
                          "#46039f"
                        ],
                        [
                          0.2222222222222222,
                          "#7201a8"
                        ],
                        [
                          0.3333333333333333,
                          "#9c179e"
                        ],
                        [
                          0.4444444444444444,
                          "#bd3786"
                        ],
                        [
                          0.5555555555555556,
                          "#d8576b"
                        ],
                        [
                          0.6666666666666666,
                          "#ed7953"
                        ],
                        [
                          0.7777777777777778,
                          "#fb9f3a"
                        ],
                        [
                          0.8888888888888888,
                          "#fdca26"
                        ],
                        [
                          1,
                          "#f0f921"
                        ]
                      ],
                      "sequentialminus": [
                        [
                          0,
                          "#0d0887"
                        ],
                        [
                          0.1111111111111111,
                          "#46039f"
                        ],
                        [
                          0.2222222222222222,
                          "#7201a8"
                        ],
                        [
                          0.3333333333333333,
                          "#9c179e"
                        ],
                        [
                          0.4444444444444444,
                          "#bd3786"
                        ],
                        [
                          0.5555555555555556,
                          "#d8576b"
                        ],
                        [
                          0.6666666666666666,
                          "#ed7953"
                        ],
                        [
                          0.7777777777777778,
                          "#fb9f3a"
                        ],
                        [
                          0.8888888888888888,
                          "#fdca26"
                        ],
                        [
                          1,
                          "#f0f921"
                        ]
                      ]
                    },
                    "colorway": [
                      "#636efa",
                      "#EF553B",
                      "#00cc96",
                      "#ab63fa",
                      "#FFA15A",
                      "#19d3f3",
                      "#FF6692",
                      "#B6E880",
                      "#FF97FF",
                      "#FECB52"
                    ],
                    "font": {
                      "color": "#2a3f5f"
                    },
                    "geo": {
                      "bgcolor": "white",
                      "lakecolor": "white",
                      "landcolor": "#E5ECF6",
                      "showlakes": true,
                      "showland": true,
                      "subunitcolor": "white"
                    },
                    "hoverlabel": {
                      "align": "left"
                    },
                    "hovermode": "closest",
                    "mapbox": {
                      "style": "light"
                    },
                    "paper_bgcolor": "white",
                    "plot_bgcolor": "#E5ECF6",
                    "polar": {
                      "angularaxis": {
                        "gridcolor": "white",
                        "linecolor": "white",
                        "ticks": ""
                      },
                      "bgcolor": "#E5ECF6",
                      "radialaxis": {
                        "gridcolor": "white",
                        "linecolor": "white",
                        "ticks": ""
                      }
                    },
                    "scene": {
                      "xaxis": {
                        "backgroundcolor": "#E5ECF6",
                        "gridcolor": "white",
                        "gridwidth": 2,
                        "linecolor": "white",
                        "showbackground": true,
                        "ticks": "",
                        "zerolinecolor": "white"
                      },
                      "yaxis": {
                        "backgroundcolor": "#E5ECF6",
                        "gridcolor": "white",
                        "gridwidth": 2,
                        "linecolor": "white",
                        "showbackground": true,
                        "ticks": "",
                        "zerolinecolor": "white"
                      },
                      "zaxis": {
                        "backgroundcolor": "#E5ECF6",
                        "gridcolor": "white",
                        "gridwidth": 2,
                        "linecolor": "white",
                        "showbackground": true,
                        "ticks": "",
                        "zerolinecolor": "white"
                      }
                    },
                    "shapedefaults": {
                      "line": {
                        "color": "#2a3f5f"
                      }
                    },
                    "ternary": {
                      "aaxis": {
                        "gridcolor": "white",
                        "linecolor": "white",
                        "ticks": ""
                      },
                      "baxis": {
                        "gridcolor": "white",
                        "linecolor": "white",
                        "ticks": ""
                      },
                      "bgcolor": "#E5ECF6",
                      "caxis": {
                        "gridcolor": "white",
                        "linecolor": "white",
                        "ticks": ""
                      }
                    },
                    "title": {
                      "x": 0.05
                    },
                    "xaxis": {
                      "automargin": true,
                      "gridcolor": "white",
                      "linecolor": "white",
                      "ticks": "",
                      "title": {
                        "standoff": 15
                      },
                      "zerolinecolor": "white",
                      "zerolinewidth": 2
                    },
                    "yaxis": {
                      "automargin": true,
                      "gridcolor": "white",
                      "linecolor": "white",
                      "ticks": "",
                      "title": {
                        "standoff": 15
                      },
                      "zerolinecolor": "white",
                      "zerolinewidth": 2
                    }
                  }
                },
                "title": {
                  "text": "Sobrevivência em relação à tarifa paga"
                },
                "width": 800,
                "xaxis": {
                  "anchor": "y",
                  "domain": [
                    0,
                    1
                  ]
                },
                "yaxis": {
                  "anchor": "x",
                  "domain": [
                    0,
                    1
                  ],
                  "title": {
                    "text": "Fare"
                  }
                }
              }
            }
          },
          "metadata": {},
          "output_type": "display_data"
        }
      ],
      "source": [
        "fig = px.box(train, y=\"Fare\", color=\"Survived\", color_discrete_sequence=[\"#363945\", \"#B6E880\"])\n",
        "fig.update_layout(height=400, width=800, title_text=\"Sobrevivência em relação à tarifa paga\")\n",
        "fig.show()"
      ]
    },
    {
      "cell_type": "markdown",
      "metadata": {},
      "source": [
        "Aparentemente, pessoas que pagaram mais caro pela passagem sobreviveram mais. Apesar de haver muitos outliers, estão presentes tanto com \"Survived\" == 1 quanto com \"Survived\" == 0. Mas há um outlier muito extremo (\"Fare\" ~= 512). Vou removê-lo."
      ]
    },
    {
      "cell_type": "code",
      "execution_count": 91,
      "metadata": {},
      "outputs": [],
      "source": [
        "train = train[train.Fare < 512]"
      ]
    },
    {
      "cell_type": "code",
      "execution_count": 92,
      "metadata": {},
      "outputs": [
        {
          "data": {
            "application/vnd.plotly.v1+json": {
              "config": {
                "plotlyServerURL": "https://plot.ly"
              },
              "data": [
                {
                  "alignmentgroup": "True",
                  "hovertemplate": "Survived=0<br>Fare=%{y}<extra></extra>",
                  "legendgroup": "0",
                  "marker": {
                    "color": "#363945"
                  },
                  "name": "0",
                  "notched": false,
                  "offsetgroup": "0",
                  "orientation": "v",
                  "showlegend": true,
                  "type": "box",
                  "x0": " ",
                  "xaxis": "x",
                  "y": [
                    28.5,
                    13,
                    7.925,
                    7.8542,
                    31.275,
                    247.5208,
                    26.55,
                    27.7208,
                    7.8958,
                    24.15,
                    12.275,
                    7.0542,
                    13,
                    31.275,
                    6.2375,
                    8.6625,
                    9.4833,
                    14.4583,
                    8.05,
                    211.5,
                    7.25,
                    7.725,
                    25.4667,
                    21.075,
                    61.3792,
                    7.25,
                    7.8958,
                    13,
                    20.2125,
                    7.05,
                    7.5208,
                    21,
                    7.75,
                    8.6625,
                    12.35,
                    0,
                    7.225,
                    8.6625,
                    6.4375,
                    9.5,
                    8.05,
                    7.8958,
                    7.25,
                    26,
                    7.75,
                    7.2292,
                    8.05,
                    10.5,
                    106.425,
                    0,
                    26.55,
                    8.6625,
                    7.8958,
                    27.75,
                    26.25,
                    153.4625,
                    8.05,
                    8.3,
                    15.05,
                    13,
                    8.6625,
                    7.05,
                    0,
                    15.0458,
                    39.6875,
                    23.45,
                    7.65,
                    7.75,
                    15.2458,
                    7.925,
                    51.8625,
                    15.5,
                    41.5792,
                    14.4542,
                    10.5167,
                    36.75,
                    10.5,
                    24.15,
                    14.5,
                    26.55,
                    13,
                    50,
                    21,
                    7.8958,
                    8.05,
                    21.075,
                    35,
                    55.9,
                    7.8,
                    7.925,
                    7.75,
                    34.375,
                    7.75,
                    7.225,
                    7.2292,
                    18,
                    13,
                    26,
                    47.1,
                    8.6625,
                    13.5,
                    20.25,
                    8.05,
                    31.3875,
                    7.8292,
                    7.8958,
                    7.8958,
                    25.4667,
                    10.5,
                    46.9,
                    8.6625,
                    29.125,
                    9.825,
                    7.75,
                    7.925,
                    14.4583,
                    61.175,
                    15.1,
                    8.05,
                    66.6,
                    37.0042,
                    20.525,
                    7.25,
                    7.8958,
                    27.9,
                    16.1,
                    7.7958,
                    13,
                    40.125,
                    7.05,
                    7.75,
                    28.7125,
                    13,
                    7.8958,
                    26,
                    6.8583,
                    19.9667,
                    8.05,
                    21.075,
                    7.8958,
                    69.55,
                    26,
                    13,
                    7.8958,
                    39.6,
                    7.925,
                    16.1,
                    7.8958,
                    7.225,
                    20.575,
                    26,
                    26,
                    29.7,
                    14.5,
                    7.65,
                    7.8958,
                    7.0542,
                    0,
                    6.95,
                    15.5,
                    25.5875,
                    26.55,
                    26,
                    11.5,
                    21,
                    18.7875,
                    10.5,
                    7.25,
                    7.8958,
                    26.55,
                    7.7958,
                    7.2292,
                    7.75,
                    29.125,
                    7.75,
                    13,
                    73.5,
                    7.225,
                    7.8958,
                    11.5,
                    27.9,
                    71,
                    7.8542,
                    14.4,
                    7.225,
                    15.5,
                    8.6625,
                    6.4958,
                    7.75,
                    46.9,
                    13,
                    0,
                    7.2292,
                    7.8958,
                    19.9667,
                    10.1708,
                    24.15,
                    7.8542,
                    56.4958,
                    0,
                    8.05,
                    7.2292,
                    13,
                    77.2875,
                    7.7417,
                    39.6875,
                    17.8,
                    7.25,
                    14.5,
                    7.25,
                    69.55,
                    13,
                    227.525,
                    18,
                    7.8542,
                    90,
                    42.4,
                    24.15,
                    7.775,
                    7.3125,
                    7.8958,
                    9.5,
                    7.925,
                    69.55,
                    39.6875,
                    14.4,
                    24.15,
                    8.05,
                    7.775,
                    8.05,
                    73.5,
                    29.125,
                    29.125,
                    8.05,
                    21.6792,
                    7.75,
                    34.0208,
                    16.1,
                    46.9,
                    8.05,
                    9.35,
                    7.225,
                    33,
                    8.6625,
                    15.5,
                    25.4667,
                    8.05,
                    21.075,
                    7.2292,
                    8.05,
                    14.5,
                    9.5,
                    9.5875,
                    11.5,
                    78.85,
                    23.45,
                    7.775,
                    8.05,
                    39,
                    7.7333,
                    7.775,
                    14.4542,
                    8.6542,
                    7.7333,
                    24.15,
                    15,
                    31.275,
                    15.85,
                    9.5,
                    13,
                    27.75,
                    16.1,
                    7.775,
                    7.925,
                    13,
                    79.65,
                    31.275,
                    151.55,
                    12.525,
                    26,
                    79.2,
                    8.05,
                    34.375,
                    8.6625,
                    56.4958,
                    7.8958,
                    13,
                    6.75,
                    7.775,
                    8.4042,
                    8.85,
                    30.0708,
                    6.4958,
                    263,
                    7.775,
                    8.05,
                    6.975,
                    26.25,
                    9.825,
                    7.8958,
                    7.8875,
                    10.5,
                    10.5,
                    10.5,
                    0,
                    16.1,
                    8.1375,
                    46.9,
                    69.55,
                    0,
                    9.5,
                    8.05,
                    13.5,
                    52,
                    135.6333,
                    5,
                    0,
                    8.05,
                    14,
                    7.55,
                    7.8958,
                    7.2292,
                    9.5,
                    7.8958,
                    69.55,
                    26,
                    108.9,
                    16.1,
                    7.8958,
                    39.6875,
                    10.5,
                    7.125,
                    31.275,
                    10.5,
                    110.8833,
                    69.55,
                    7.2292,
                    52,
                    33.5,
                    6.75,
                    8.05,
                    8.05,
                    14.4542,
                    8.05,
                    15.85,
                    7.925,
                    26,
                    7.7958,
                    27,
                    8.05,
                    27.9,
                    7.8958,
                    8.6625,
                    46.9,
                    7.75,
                    7.6292,
                    9.5,
                    13,
                    263,
                    7.8958,
                    4.0125,
                    13,
                    0,
                    7.25,
                    151.55,
                    9.2167,
                    83.475,
                    8.6625,
                    50.4958,
                    27.7208,
                    7.8542,
                    9.475,
                    30.5,
                    7.775,
                    53.1,
                    7.775,
                    27.7208,
                    10.4625,
                    8.05,
                    69.55,
                    26.55,
                    7.925,
                    8.05,
                    14.4542,
                    21,
                    7.8542,
                    7.8958,
                    24.15,
                    7.2292,
                    7.8958,
                    9,
                    10.4625,
                    82.1708,
                    7.75,
                    22.525,
                    8.05,
                    7.8542,
                    35.5,
                    8.05,
                    7.75,
                    31.275,
                    29.7,
                    10.5,
                    7.8958,
                    6.45,
                    9,
                    7.125,
                    7.8958,
                    13.5,
                    39.6875,
                    7.8958,
                    30,
                    7.65,
                    52,
                    9.8375,
                    7.75,
                    26.55,
                    7.8958,
                    7.75,
                    16.1,
                    7.75,
                    13,
                    73.5,
                    7.775,
                    0,
                    7.25,
                    13,
                    8.3625,
                    24,
                    7.225,
                    7.8958,
                    7.4958,
                    26,
                    8.05,
                    8.05,
                    7.75,
                    0,
                    8.05,
                    8.05,
                    26,
                    46.9,
                    31,
                    14.1083,
                    77.2875
                  ],
                  "y0": " ",
                  "yaxis": "y"
                },
                {
                  "alignmentgroup": "True",
                  "hovertemplate": "Survived=1<br>Fare=%{y}<extra></extra>",
                  "legendgroup": "1",
                  "marker": {
                    "color": "#B6E880"
                  },
                  "name": "1",
                  "notched": false,
                  "offsetgroup": "1",
                  "orientation": "v",
                  "showlegend": true,
                  "type": "box",
                  "x0": " ",
                  "xaxis": "x",
                  "y": [
                    35.5,
                    13,
                    9.5,
                    26,
                    90,
                    227.525,
                    57,
                    26.25,
                    9.5875,
                    7.2292,
                    22.3583,
                    120,
                    90,
                    30,
                    26,
                    30.5,
                    14.5,
                    151.55,
                    26,
                    7.925,
                    262.375,
                    7.2292,
                    7.775,
                    80,
                    9.8417,
                    227.525,
                    26,
                    30.5,
                    12.475,
                    133.65,
                    6.975,
                    77.9583,
                    26,
                    151.55,
                    13,
                    8.6625,
                    26.55,
                    81.8583,
                    11.1333,
                    26.25,
                    110.8833,
                    133.65,
                    7.8792,
                    26,
                    11.1333,
                    15.7417,
                    20.525,
                    89.1042,
                    8.05,
                    55.4417,
                    13.8625,
                    10.5,
                    16.7,
                    13.5,
                    36.75,
                    8.05,
                    10.5,
                    7.8542,
                    80,
                    19.5,
                    8.1125,
                    59.4,
                    79.2,
                    56.4958,
                    57.9792,
                    7.925,
                    52.5542,
                    10.5,
                    56.4958,
                    13,
                    7.75,
                    83.1583,
                    7.75,
                    26,
                    26.55,
                    16.1,
                    41.5792,
                    57.9792,
                    211.3375,
                    106.425,
                    19.2583,
                    49.5042,
                    65,
                    52,
                    86.5,
                    16,
                    53.1,
                    79.2,
                    13.7917,
                    7.7333,
                    113.275,
                    26,
                    26,
                    30.0708,
                    8.0292,
                    55,
                    24,
                    26,
                    26.25,
                    211.3375,
                    26.25,
                    17.4,
                    22.025,
                    7.925,
                    0,
                    263,
                    11.2417,
                    7.75,
                    37.0042,
                    13.4167,
                    15.7417,
                    10.5,
                    7.75,
                    164.8667,
                    79.65,
                    53.1,
                    69.3,
                    153.4625,
                    108.9,
                    83.1583,
                    12.2875,
                    13,
                    31.3875,
                    146.5208,
                    7.925,
                    7.775,
                    13.8583,
                    13,
                    263,
                    19.2583,
                    12.475,
                    15.85,
                    12.65,
                    7.225,
                    26.2875,
                    18.75,
                    30,
                    23,
                    13,
                    7.1417,
                    12.35,
                    15.2458,
                    164.8667,
                    13,
                    23.25,
                    7.55,
                    33,
                    7.225,
                    25.9292,
                    8.05,
                    18.75,
                    26.55,
                    19.2583,
                    23,
                    27.7208,
                    7.925,
                    30,
                    10.5,
                    39,
                    26,
                    66.6,
                    29.7,
                    18.7875,
                    10.5,
                    11.1333,
                    7.2292,
                    12.35,
                    51.4792,
                    7.925,
                    110.8833,
                    7.7958,
                    15.9,
                    135.6333,
                    15.5,
                    13,
                    86.5,
                    41.5792,
                    153.4625,
                    20.25,
                    7.925,
                    39,
                    20.575,
                    211.3375,
                    69.3,
                    9.35,
                    56.4958,
                    7.775,
                    78.2667,
                    23,
                    30.5,
                    12.475,
                    31.3875,
                    7.8792,
                    77.9583,
                    30.5,
                    7.25,
                    90,
                    27.75,
                    16.1,
                    8.5167,
                    76.7292,
                    65,
                    39.6,
                    55.9,
                    15.85,
                    71,
                    7.4958,
                    14.5,
                    56.4958,
                    57,
                    26.55,
                    7.225,
                    7.2292,
                    8.6833,
                    15.5,
                    26,
                    23,
                    7.7375,
                    7.75,
                    7.75,
                    7.75,
                    83.475,
                    15.9,
                    13,
                    7.7958,
                    35.5,
                    22.3583,
                    93.5,
                    7.7333,
                    26.55,
                    120,
                    7.925,
                    76.7292,
                    134.5,
                    53.1,
                    26.2875,
                    21,
                    7.8958,
                    30,
                    135.6333,
                    15.75,
                    12,
                    71.2833,
                    26,
                    75.25,
                    13,
                    15.5,
                    7.8542,
                    27,
                    13,
                    55,
                    91.0792,
                    86.5,
                    18.75,
                    76.7292,
                    7.75,
                    27.75,
                    13,
                    13,
                    52.5542,
                    10.5,
                    23.25,
                    227.525,
                    7.65,
                    120
                  ],
                  "y0": " ",
                  "yaxis": "y"
                }
              ],
              "layout": {
                "boxmode": "group",
                "height": 400,
                "legend": {
                  "title": {
                    "text": "Survived"
                  },
                  "tracegroupgap": 0
                },
                "margin": {
                  "t": 60
                },
                "template": {
                  "data": {
                    "bar": [
                      {
                        "error_x": {
                          "color": "#2a3f5f"
                        },
                        "error_y": {
                          "color": "#2a3f5f"
                        },
                        "marker": {
                          "line": {
                            "color": "#E5ECF6",
                            "width": 0.5
                          },
                          "pattern": {
                            "fillmode": "overlay",
                            "size": 10,
                            "solidity": 0.2
                          }
                        },
                        "type": "bar"
                      }
                    ],
                    "barpolar": [
                      {
                        "marker": {
                          "line": {
                            "color": "#E5ECF6",
                            "width": 0.5
                          },
                          "pattern": {
                            "fillmode": "overlay",
                            "size": 10,
                            "solidity": 0.2
                          }
                        },
                        "type": "barpolar"
                      }
                    ],
                    "carpet": [
                      {
                        "aaxis": {
                          "endlinecolor": "#2a3f5f",
                          "gridcolor": "white",
                          "linecolor": "white",
                          "minorgridcolor": "white",
                          "startlinecolor": "#2a3f5f"
                        },
                        "baxis": {
                          "endlinecolor": "#2a3f5f",
                          "gridcolor": "white",
                          "linecolor": "white",
                          "minorgridcolor": "white",
                          "startlinecolor": "#2a3f5f"
                        },
                        "type": "carpet"
                      }
                    ],
                    "choropleth": [
                      {
                        "colorbar": {
                          "outlinewidth": 0,
                          "ticks": ""
                        },
                        "type": "choropleth"
                      }
                    ],
                    "contour": [
                      {
                        "colorbar": {
                          "outlinewidth": 0,
                          "ticks": ""
                        },
                        "colorscale": [
                          [
                            0,
                            "#0d0887"
                          ],
                          [
                            0.1111111111111111,
                            "#46039f"
                          ],
                          [
                            0.2222222222222222,
                            "#7201a8"
                          ],
                          [
                            0.3333333333333333,
                            "#9c179e"
                          ],
                          [
                            0.4444444444444444,
                            "#bd3786"
                          ],
                          [
                            0.5555555555555556,
                            "#d8576b"
                          ],
                          [
                            0.6666666666666666,
                            "#ed7953"
                          ],
                          [
                            0.7777777777777778,
                            "#fb9f3a"
                          ],
                          [
                            0.8888888888888888,
                            "#fdca26"
                          ],
                          [
                            1,
                            "#f0f921"
                          ]
                        ],
                        "type": "contour"
                      }
                    ],
                    "contourcarpet": [
                      {
                        "colorbar": {
                          "outlinewidth": 0,
                          "ticks": ""
                        },
                        "type": "contourcarpet"
                      }
                    ],
                    "heatmap": [
                      {
                        "colorbar": {
                          "outlinewidth": 0,
                          "ticks": ""
                        },
                        "colorscale": [
                          [
                            0,
                            "#0d0887"
                          ],
                          [
                            0.1111111111111111,
                            "#46039f"
                          ],
                          [
                            0.2222222222222222,
                            "#7201a8"
                          ],
                          [
                            0.3333333333333333,
                            "#9c179e"
                          ],
                          [
                            0.4444444444444444,
                            "#bd3786"
                          ],
                          [
                            0.5555555555555556,
                            "#d8576b"
                          ],
                          [
                            0.6666666666666666,
                            "#ed7953"
                          ],
                          [
                            0.7777777777777778,
                            "#fb9f3a"
                          ],
                          [
                            0.8888888888888888,
                            "#fdca26"
                          ],
                          [
                            1,
                            "#f0f921"
                          ]
                        ],
                        "type": "heatmap"
                      }
                    ],
                    "heatmapgl": [
                      {
                        "colorbar": {
                          "outlinewidth": 0,
                          "ticks": ""
                        },
                        "colorscale": [
                          [
                            0,
                            "#0d0887"
                          ],
                          [
                            0.1111111111111111,
                            "#46039f"
                          ],
                          [
                            0.2222222222222222,
                            "#7201a8"
                          ],
                          [
                            0.3333333333333333,
                            "#9c179e"
                          ],
                          [
                            0.4444444444444444,
                            "#bd3786"
                          ],
                          [
                            0.5555555555555556,
                            "#d8576b"
                          ],
                          [
                            0.6666666666666666,
                            "#ed7953"
                          ],
                          [
                            0.7777777777777778,
                            "#fb9f3a"
                          ],
                          [
                            0.8888888888888888,
                            "#fdca26"
                          ],
                          [
                            1,
                            "#f0f921"
                          ]
                        ],
                        "type": "heatmapgl"
                      }
                    ],
                    "histogram": [
                      {
                        "marker": {
                          "pattern": {
                            "fillmode": "overlay",
                            "size": 10,
                            "solidity": 0.2
                          }
                        },
                        "type": "histogram"
                      }
                    ],
                    "histogram2d": [
                      {
                        "colorbar": {
                          "outlinewidth": 0,
                          "ticks": ""
                        },
                        "colorscale": [
                          [
                            0,
                            "#0d0887"
                          ],
                          [
                            0.1111111111111111,
                            "#46039f"
                          ],
                          [
                            0.2222222222222222,
                            "#7201a8"
                          ],
                          [
                            0.3333333333333333,
                            "#9c179e"
                          ],
                          [
                            0.4444444444444444,
                            "#bd3786"
                          ],
                          [
                            0.5555555555555556,
                            "#d8576b"
                          ],
                          [
                            0.6666666666666666,
                            "#ed7953"
                          ],
                          [
                            0.7777777777777778,
                            "#fb9f3a"
                          ],
                          [
                            0.8888888888888888,
                            "#fdca26"
                          ],
                          [
                            1,
                            "#f0f921"
                          ]
                        ],
                        "type": "histogram2d"
                      }
                    ],
                    "histogram2dcontour": [
                      {
                        "colorbar": {
                          "outlinewidth": 0,
                          "ticks": ""
                        },
                        "colorscale": [
                          [
                            0,
                            "#0d0887"
                          ],
                          [
                            0.1111111111111111,
                            "#46039f"
                          ],
                          [
                            0.2222222222222222,
                            "#7201a8"
                          ],
                          [
                            0.3333333333333333,
                            "#9c179e"
                          ],
                          [
                            0.4444444444444444,
                            "#bd3786"
                          ],
                          [
                            0.5555555555555556,
                            "#d8576b"
                          ],
                          [
                            0.6666666666666666,
                            "#ed7953"
                          ],
                          [
                            0.7777777777777778,
                            "#fb9f3a"
                          ],
                          [
                            0.8888888888888888,
                            "#fdca26"
                          ],
                          [
                            1,
                            "#f0f921"
                          ]
                        ],
                        "type": "histogram2dcontour"
                      }
                    ],
                    "mesh3d": [
                      {
                        "colorbar": {
                          "outlinewidth": 0,
                          "ticks": ""
                        },
                        "type": "mesh3d"
                      }
                    ],
                    "parcoords": [
                      {
                        "line": {
                          "colorbar": {
                            "outlinewidth": 0,
                            "ticks": ""
                          }
                        },
                        "type": "parcoords"
                      }
                    ],
                    "pie": [
                      {
                        "automargin": true,
                        "type": "pie"
                      }
                    ],
                    "scatter": [
                      {
                        "marker": {
                          "colorbar": {
                            "outlinewidth": 0,
                            "ticks": ""
                          }
                        },
                        "type": "scatter"
                      }
                    ],
                    "scatter3d": [
                      {
                        "line": {
                          "colorbar": {
                            "outlinewidth": 0,
                            "ticks": ""
                          }
                        },
                        "marker": {
                          "colorbar": {
                            "outlinewidth": 0,
                            "ticks": ""
                          }
                        },
                        "type": "scatter3d"
                      }
                    ],
                    "scattercarpet": [
                      {
                        "marker": {
                          "colorbar": {
                            "outlinewidth": 0,
                            "ticks": ""
                          }
                        },
                        "type": "scattercarpet"
                      }
                    ],
                    "scattergeo": [
                      {
                        "marker": {
                          "colorbar": {
                            "outlinewidth": 0,
                            "ticks": ""
                          }
                        },
                        "type": "scattergeo"
                      }
                    ],
                    "scattergl": [
                      {
                        "marker": {
                          "colorbar": {
                            "outlinewidth": 0,
                            "ticks": ""
                          }
                        },
                        "type": "scattergl"
                      }
                    ],
                    "scattermapbox": [
                      {
                        "marker": {
                          "colorbar": {
                            "outlinewidth": 0,
                            "ticks": ""
                          }
                        },
                        "type": "scattermapbox"
                      }
                    ],
                    "scatterpolar": [
                      {
                        "marker": {
                          "colorbar": {
                            "outlinewidth": 0,
                            "ticks": ""
                          }
                        },
                        "type": "scatterpolar"
                      }
                    ],
                    "scatterpolargl": [
                      {
                        "marker": {
                          "colorbar": {
                            "outlinewidth": 0,
                            "ticks": ""
                          }
                        },
                        "type": "scatterpolargl"
                      }
                    ],
                    "scatterternary": [
                      {
                        "marker": {
                          "colorbar": {
                            "outlinewidth": 0,
                            "ticks": ""
                          }
                        },
                        "type": "scatterternary"
                      }
                    ],
                    "surface": [
                      {
                        "colorbar": {
                          "outlinewidth": 0,
                          "ticks": ""
                        },
                        "colorscale": [
                          [
                            0,
                            "#0d0887"
                          ],
                          [
                            0.1111111111111111,
                            "#46039f"
                          ],
                          [
                            0.2222222222222222,
                            "#7201a8"
                          ],
                          [
                            0.3333333333333333,
                            "#9c179e"
                          ],
                          [
                            0.4444444444444444,
                            "#bd3786"
                          ],
                          [
                            0.5555555555555556,
                            "#d8576b"
                          ],
                          [
                            0.6666666666666666,
                            "#ed7953"
                          ],
                          [
                            0.7777777777777778,
                            "#fb9f3a"
                          ],
                          [
                            0.8888888888888888,
                            "#fdca26"
                          ],
                          [
                            1,
                            "#f0f921"
                          ]
                        ],
                        "type": "surface"
                      }
                    ],
                    "table": [
                      {
                        "cells": {
                          "fill": {
                            "color": "#EBF0F8"
                          },
                          "line": {
                            "color": "white"
                          }
                        },
                        "header": {
                          "fill": {
                            "color": "#C8D4E3"
                          },
                          "line": {
                            "color": "white"
                          }
                        },
                        "type": "table"
                      }
                    ]
                  },
                  "layout": {
                    "annotationdefaults": {
                      "arrowcolor": "#2a3f5f",
                      "arrowhead": 0,
                      "arrowwidth": 1
                    },
                    "autotypenumbers": "strict",
                    "coloraxis": {
                      "colorbar": {
                        "outlinewidth": 0,
                        "ticks": ""
                      }
                    },
                    "colorscale": {
                      "diverging": [
                        [
                          0,
                          "#8e0152"
                        ],
                        [
                          0.1,
                          "#c51b7d"
                        ],
                        [
                          0.2,
                          "#de77ae"
                        ],
                        [
                          0.3,
                          "#f1b6da"
                        ],
                        [
                          0.4,
                          "#fde0ef"
                        ],
                        [
                          0.5,
                          "#f7f7f7"
                        ],
                        [
                          0.6,
                          "#e6f5d0"
                        ],
                        [
                          0.7,
                          "#b8e186"
                        ],
                        [
                          0.8,
                          "#7fbc41"
                        ],
                        [
                          0.9,
                          "#4d9221"
                        ],
                        [
                          1,
                          "#276419"
                        ]
                      ],
                      "sequential": [
                        [
                          0,
                          "#0d0887"
                        ],
                        [
                          0.1111111111111111,
                          "#46039f"
                        ],
                        [
                          0.2222222222222222,
                          "#7201a8"
                        ],
                        [
                          0.3333333333333333,
                          "#9c179e"
                        ],
                        [
                          0.4444444444444444,
                          "#bd3786"
                        ],
                        [
                          0.5555555555555556,
                          "#d8576b"
                        ],
                        [
                          0.6666666666666666,
                          "#ed7953"
                        ],
                        [
                          0.7777777777777778,
                          "#fb9f3a"
                        ],
                        [
                          0.8888888888888888,
                          "#fdca26"
                        ],
                        [
                          1,
                          "#f0f921"
                        ]
                      ],
                      "sequentialminus": [
                        [
                          0,
                          "#0d0887"
                        ],
                        [
                          0.1111111111111111,
                          "#46039f"
                        ],
                        [
                          0.2222222222222222,
                          "#7201a8"
                        ],
                        [
                          0.3333333333333333,
                          "#9c179e"
                        ],
                        [
                          0.4444444444444444,
                          "#bd3786"
                        ],
                        [
                          0.5555555555555556,
                          "#d8576b"
                        ],
                        [
                          0.6666666666666666,
                          "#ed7953"
                        ],
                        [
                          0.7777777777777778,
                          "#fb9f3a"
                        ],
                        [
                          0.8888888888888888,
                          "#fdca26"
                        ],
                        [
                          1,
                          "#f0f921"
                        ]
                      ]
                    },
                    "colorway": [
                      "#636efa",
                      "#EF553B",
                      "#00cc96",
                      "#ab63fa",
                      "#FFA15A",
                      "#19d3f3",
                      "#FF6692",
                      "#B6E880",
                      "#FF97FF",
                      "#FECB52"
                    ],
                    "font": {
                      "color": "#2a3f5f"
                    },
                    "geo": {
                      "bgcolor": "white",
                      "lakecolor": "white",
                      "landcolor": "#E5ECF6",
                      "showlakes": true,
                      "showland": true,
                      "subunitcolor": "white"
                    },
                    "hoverlabel": {
                      "align": "left"
                    },
                    "hovermode": "closest",
                    "mapbox": {
                      "style": "light"
                    },
                    "paper_bgcolor": "white",
                    "plot_bgcolor": "#E5ECF6",
                    "polar": {
                      "angularaxis": {
                        "gridcolor": "white",
                        "linecolor": "white",
                        "ticks": ""
                      },
                      "bgcolor": "#E5ECF6",
                      "radialaxis": {
                        "gridcolor": "white",
                        "linecolor": "white",
                        "ticks": ""
                      }
                    },
                    "scene": {
                      "xaxis": {
                        "backgroundcolor": "#E5ECF6",
                        "gridcolor": "white",
                        "gridwidth": 2,
                        "linecolor": "white",
                        "showbackground": true,
                        "ticks": "",
                        "zerolinecolor": "white"
                      },
                      "yaxis": {
                        "backgroundcolor": "#E5ECF6",
                        "gridcolor": "white",
                        "gridwidth": 2,
                        "linecolor": "white",
                        "showbackground": true,
                        "ticks": "",
                        "zerolinecolor": "white"
                      },
                      "zaxis": {
                        "backgroundcolor": "#E5ECF6",
                        "gridcolor": "white",
                        "gridwidth": 2,
                        "linecolor": "white",
                        "showbackground": true,
                        "ticks": "",
                        "zerolinecolor": "white"
                      }
                    },
                    "shapedefaults": {
                      "line": {
                        "color": "#2a3f5f"
                      }
                    },
                    "ternary": {
                      "aaxis": {
                        "gridcolor": "white",
                        "linecolor": "white",
                        "ticks": ""
                      },
                      "baxis": {
                        "gridcolor": "white",
                        "linecolor": "white",
                        "ticks": ""
                      },
                      "bgcolor": "#E5ECF6",
                      "caxis": {
                        "gridcolor": "white",
                        "linecolor": "white",
                        "ticks": ""
                      }
                    },
                    "title": {
                      "x": 0.05
                    },
                    "xaxis": {
                      "automargin": true,
                      "gridcolor": "white",
                      "linecolor": "white",
                      "ticks": "",
                      "title": {
                        "standoff": 15
                      },
                      "zerolinecolor": "white",
                      "zerolinewidth": 2
                    },
                    "yaxis": {
                      "automargin": true,
                      "gridcolor": "white",
                      "linecolor": "white",
                      "ticks": "",
                      "title": {
                        "standoff": 15
                      },
                      "zerolinecolor": "white",
                      "zerolinewidth": 2
                    }
                  }
                },
                "title": {
                  "text": "Sobrevivência em relação à tarifa paga"
                },
                "width": 800,
                "xaxis": {
                  "anchor": "y",
                  "domain": [
                    0,
                    1
                  ]
                },
                "yaxis": {
                  "anchor": "x",
                  "domain": [
                    0,
                    1
                  ],
                  "title": {
                    "text": "Fare"
                  }
                }
              }
            }
          },
          "metadata": {},
          "output_type": "display_data"
        }
      ],
      "source": [
        "fig = px.box(train, y=\"Fare\", color=\"Survived\", color_discrete_sequence=[\"#363945\", \"#B6E880\"])\n",
        "fig.update_layout(height=400, width=800, title_text=\"Sobrevivência em relação à tarifa paga\")\n",
        "fig.show()"
      ]
    },
    {
      "cell_type": "markdown",
      "metadata": {},
      "source": [
        "Agora ficou mais evidente como aqueles que pagaram mais tiveram uma taxa de sobrevivência maior."
      ]
    },
    {
      "cell_type": "markdown",
      "metadata": {},
      "source": [
        "#### Classe do passageiro"
      ]
    },
    {
      "cell_type": "code",
      "execution_count": 93,
      "metadata": {
        "execution": {
          "iopub.status.busy": "2022-01-03T16:01:20.033806Z",
          "iopub.status.idle": "2022-01-03T16:01:20.034554Z",
          "shell.execute_reply": "2022-01-03T16:01:20.034327Z",
          "shell.execute_reply.started": "2022-01-03T16:01:20.034304Z"
        },
        "trusted": true
      },
      "outputs": [
        {
          "data": {
            "application/vnd.plotly.v1+json": {
              "config": {
                "plotlyServerURL": "https://plot.ly"
              },
              "data": [
                {
                  "alignmentgroup": "True",
                  "bingroup": "x",
                  "hovertemplate": "Survived=0<br>Pclass=%{x}<br>count=%{y}<extra></extra>",
                  "legendgroup": "0",
                  "marker": {
                    "color": "#363945",
                    "pattern": {
                      "shape": ""
                    }
                  },
                  "name": "0",
                  "offsetgroup": "0",
                  "orientation": "v",
                  "showlegend": true,
                  "type": "histogram",
                  "x": [
                    1,
                    2,
                    3,
                    3,
                    3,
                    1,
                    1,
                    2,
                    3,
                    3,
                    2,
                    3,
                    2,
                    3,
                    3,
                    3,
                    3,
                    3,
                    3,
                    1,
                    3,
                    3,
                    3,
                    3,
                    1,
                    3,
                    3,
                    2,
                    3,
                    3,
                    3,
                    2,
                    3,
                    3,
                    2,
                    3,
                    3,
                    3,
                    3,
                    3,
                    3,
                    3,
                    3,
                    2,
                    3,
                    3,
                    3,
                    2,
                    1,
                    1,
                    1,
                    3,
                    3,
                    2,
                    2,
                    1,
                    3,
                    3,
                    2,
                    2,
                    3,
                    3,
                    3,
                    2,
                    3,
                    3,
                    3,
                    3,
                    3,
                    3,
                    1,
                    3,
                    2,
                    3,
                    3,
                    2,
                    2,
                    3,
                    3,
                    1,
                    2,
                    1,
                    2,
                    3,
                    3,
                    3,
                    1,
                    1,
                    3,
                    3,
                    3,
                    3,
                    3,
                    3,
                    3,
                    3,
                    2,
                    2,
                    1,
                    3,
                    2,
                    3,
                    3,
                    3,
                    3,
                    3,
                    3,
                    3,
                    2,
                    3,
                    3,
                    3,
                    3,
                    3,
                    3,
                    3,
                    1,
                    3,
                    3,
                    1,
                    2,
                    3,
                    3,
                    3,
                    3,
                    3,
                    3,
                    2,
                    1,
                    3,
                    3,
                    1,
                    2,
                    3,
                    2,
                    3,
                    3,
                    3,
                    3,
                    3,
                    3,
                    2,
                    2,
                    3,
                    1,
                    3,
                    3,
                    3,
                    3,
                    3,
                    1,
                    2,
                    1,
                    3,
                    3,
                    3,
                    3,
                    2,
                    3,
                    3,
                    1,
                    1,
                    2,
                    2,
                    2,
                    3,
                    2,
                    3,
                    3,
                    1,
                    3,
                    3,
                    3,
                    3,
                    3,
                    2,
                    2,
                    3,
                    3,
                    2,
                    3,
                    1,
                    3,
                    3,
                    3,
                    3,
                    3,
                    3,
                    3,
                    3,
                    2,
                    1,
                    3,
                    3,
                    3,
                    3,
                    3,
                    3,
                    3,
                    3,
                    3,
                    3,
                    2,
                    1,
                    3,
                    3,
                    3,
                    3,
                    3,
                    3,
                    3,
                    2,
                    1,
                    3,
                    3,
                    1,
                    1,
                    3,
                    3,
                    3,
                    3,
                    3,
                    3,
                    3,
                    3,
                    3,
                    3,
                    3,
                    3,
                    3,
                    2,
                    3,
                    3,
                    3,
                    3,
                    3,
                    1,
                    3,
                    3,
                    3,
                    3,
                    3,
                    2,
                    3,
                    3,
                    3,
                    3,
                    3,
                    3,
                    3,
                    3,
                    3,
                    3,
                    2,
                    1,
                    3,
                    3,
                    3,
                    2,
                    3,
                    3,
                    3,
                    3,
                    3,
                    3,
                    2,
                    3,
                    3,
                    3,
                    2,
                    1,
                    3,
                    3,
                    3,
                    2,
                    1,
                    3,
                    1,
                    2,
                    2,
                    1,
                    3,
                    3,
                    3,
                    3,
                    3,
                    2,
                    3,
                    3,
                    3,
                    3,
                    2,
                    3,
                    1,
                    3,
                    3,
                    3,
                    2,
                    3,
                    3,
                    3,
                    2,
                    2,
                    2,
                    1,
                    3,
                    3,
                    3,
                    3,
                    2,
                    3,
                    3,
                    2,
                    1,
                    1,
                    1,
                    1,
                    3,
                    2,
                    3,
                    3,
                    3,
                    3,
                    3,
                    3,
                    2,
                    1,
                    3,
                    3,
                    3,
                    2,
                    3,
                    3,
                    2,
                    1,
                    3,
                    3,
                    1,
                    1,
                    3,
                    3,
                    3,
                    3,
                    3,
                    3,
                    3,
                    2,
                    3,
                    2,
                    3,
                    3,
                    3,
                    3,
                    3,
                    3,
                    3,
                    3,
                    2,
                    1,
                    3,
                    3,
                    2,
                    2,
                    3,
                    1,
                    3,
                    1,
                    3,
                    1,
                    1,
                    3,
                    3,
                    1,
                    3,
                    1,
                    3,
                    1,
                    3,
                    3,
                    3,
                    1,
                    3,
                    3,
                    3,
                    2,
                    3,
                    3,
                    3,
                    3,
                    3,
                    3,
                    3,
                    1,
                    3,
                    3,
                    3,
                    3,
                    1,
                    3,
                    3,
                    3,
                    1,
                    2,
                    3,
                    3,
                    3,
                    3,
                    3,
                    2,
                    3,
                    3,
                    1,
                    3,
                    1,
                    3,
                    3,
                    1,
                    3,
                    3,
                    3,
                    3,
                    2,
                    2,
                    3,
                    2,
                    3,
                    2,
                    3,
                    2,
                    3,
                    3,
                    3,
                    2,
                    3,
                    3,
                    3,
                    2,
                    3,
                    3,
                    2,
                    3,
                    1,
                    3,
                    1
                  ],
                  "xaxis": "x",
                  "yaxis": "y"
                },
                {
                  "alignmentgroup": "True",
                  "bingroup": "x",
                  "hovertemplate": "Survived=1<br>Pclass=%{x}<br>count=%{y}<extra></extra>",
                  "legendgroup": "1",
                  "marker": {
                    "color": "#B6E880",
                    "pattern": {
                      "shape": ""
                    }
                  },
                  "name": "1",
                  "offsetgroup": "1",
                  "orientation": "v",
                  "showlegend": true,
                  "type": "histogram",
                  "x": [
                    1,
                    2,
                    3,
                    2,
                    1,
                    1,
                    1,
                    2,
                    3,
                    3,
                    3,
                    1,
                    1,
                    2,
                    2,
                    1,
                    2,
                    1,
                    2,
                    3,
                    1,
                    3,
                    3,
                    1,
                    3,
                    1,
                    2,
                    1,
                    3,
                    1,
                    3,
                    1,
                    2,
                    1,
                    2,
                    3,
                    1,
                    1,
                    3,
                    2,
                    1,
                    1,
                    3,
                    2,
                    3,
                    3,
                    3,
                    1,
                    3,
                    1,
                    2,
                    2,
                    3,
                    2,
                    2,
                    3,
                    2,
                    3,
                    1,
                    2,
                    3,
                    1,
                    1,
                    3,
                    1,
                    3,
                    1,
                    2,
                    3,
                    2,
                    3,
                    1,
                    3,
                    2,
                    1,
                    3,
                    2,
                    1,
                    1,
                    1,
                    3,
                    1,
                    2,
                    1,
                    1,
                    2,
                    1,
                    1,
                    2,
                    3,
                    1,
                    2,
                    2,
                    2,
                    3,
                    1,
                    2,
                    2,
                    2,
                    1,
                    2,
                    3,
                    3,
                    3,
                    3,
                    1,
                    3,
                    3,
                    2,
                    3,
                    3,
                    2,
                    3,
                    1,
                    1,
                    1,
                    1,
                    1,
                    1,
                    1,
                    3,
                    2,
                    3,
                    1,
                    3,
                    3,
                    2,
                    2,
                    1,
                    3,
                    3,
                    3,
                    2,
                    3,
                    1,
                    2,
                    1,
                    2,
                    2,
                    3,
                    2,
                    3,
                    1,
                    2,
                    3,
                    3,
                    2,
                    3,
                    1,
                    3,
                    2,
                    1,
                    3,
                    2,
                    1,
                    3,
                    1,
                    2,
                    2,
                    2,
                    1,
                    1,
                    3,
                    2,
                    3,
                    3,
                    2,
                    1,
                    3,
                    1,
                    3,
                    3,
                    1,
                    3,
                    2,
                    1,
                    2,
                    1,
                    3,
                    3,
                    2,
                    3,
                    1,
                    1,
                    3,
                    3,
                    3,
                    1,
                    2,
                    1,
                    3,
                    3,
                    3,
                    1,
                    1,
                    3,
                    1,
                    2,
                    3,
                    3,
                    1,
                    2,
                    1,
                    1,
                    3,
                    1,
                    3,
                    2,
                    3,
                    1,
                    1,
                    3,
                    3,
                    3,
                    3,
                    2,
                    2,
                    3,
                    3,
                    3,
                    3,
                    1,
                    3,
                    2,
                    3,
                    1,
                    3,
                    1,
                    3,
                    1,
                    1,
                    3,
                    1,
                    1,
                    1,
                    1,
                    2,
                    3,
                    1,
                    1,
                    2,
                    2,
                    1,
                    2,
                    1,
                    2,
                    3,
                    3,
                    2,
                    2,
                    1,
                    1,
                    1,
                    2,
                    1,
                    3,
                    2,
                    2,
                    2,
                    1,
                    2,
                    3,
                    1,
                    3,
                    1
                  ],
                  "xaxis": "x",
                  "yaxis": "y"
                }
              ],
              "layout": {
                "barmode": "relative",
                "height": 400,
                "legend": {
                  "title": {
                    "text": "Survived"
                  },
                  "tracegroupgap": 0
                },
                "margin": {
                  "t": 60
                },
                "template": {
                  "data": {
                    "bar": [
                      {
                        "error_x": {
                          "color": "#2a3f5f"
                        },
                        "error_y": {
                          "color": "#2a3f5f"
                        },
                        "marker": {
                          "line": {
                            "color": "#E5ECF6",
                            "width": 0.5
                          },
                          "pattern": {
                            "fillmode": "overlay",
                            "size": 10,
                            "solidity": 0.2
                          }
                        },
                        "type": "bar"
                      }
                    ],
                    "barpolar": [
                      {
                        "marker": {
                          "line": {
                            "color": "#E5ECF6",
                            "width": 0.5
                          },
                          "pattern": {
                            "fillmode": "overlay",
                            "size": 10,
                            "solidity": 0.2
                          }
                        },
                        "type": "barpolar"
                      }
                    ],
                    "carpet": [
                      {
                        "aaxis": {
                          "endlinecolor": "#2a3f5f",
                          "gridcolor": "white",
                          "linecolor": "white",
                          "minorgridcolor": "white",
                          "startlinecolor": "#2a3f5f"
                        },
                        "baxis": {
                          "endlinecolor": "#2a3f5f",
                          "gridcolor": "white",
                          "linecolor": "white",
                          "minorgridcolor": "white",
                          "startlinecolor": "#2a3f5f"
                        },
                        "type": "carpet"
                      }
                    ],
                    "choropleth": [
                      {
                        "colorbar": {
                          "outlinewidth": 0,
                          "ticks": ""
                        },
                        "type": "choropleth"
                      }
                    ],
                    "contour": [
                      {
                        "colorbar": {
                          "outlinewidth": 0,
                          "ticks": ""
                        },
                        "colorscale": [
                          [
                            0,
                            "#0d0887"
                          ],
                          [
                            0.1111111111111111,
                            "#46039f"
                          ],
                          [
                            0.2222222222222222,
                            "#7201a8"
                          ],
                          [
                            0.3333333333333333,
                            "#9c179e"
                          ],
                          [
                            0.4444444444444444,
                            "#bd3786"
                          ],
                          [
                            0.5555555555555556,
                            "#d8576b"
                          ],
                          [
                            0.6666666666666666,
                            "#ed7953"
                          ],
                          [
                            0.7777777777777778,
                            "#fb9f3a"
                          ],
                          [
                            0.8888888888888888,
                            "#fdca26"
                          ],
                          [
                            1,
                            "#f0f921"
                          ]
                        ],
                        "type": "contour"
                      }
                    ],
                    "contourcarpet": [
                      {
                        "colorbar": {
                          "outlinewidth": 0,
                          "ticks": ""
                        },
                        "type": "contourcarpet"
                      }
                    ],
                    "heatmap": [
                      {
                        "colorbar": {
                          "outlinewidth": 0,
                          "ticks": ""
                        },
                        "colorscale": [
                          [
                            0,
                            "#0d0887"
                          ],
                          [
                            0.1111111111111111,
                            "#46039f"
                          ],
                          [
                            0.2222222222222222,
                            "#7201a8"
                          ],
                          [
                            0.3333333333333333,
                            "#9c179e"
                          ],
                          [
                            0.4444444444444444,
                            "#bd3786"
                          ],
                          [
                            0.5555555555555556,
                            "#d8576b"
                          ],
                          [
                            0.6666666666666666,
                            "#ed7953"
                          ],
                          [
                            0.7777777777777778,
                            "#fb9f3a"
                          ],
                          [
                            0.8888888888888888,
                            "#fdca26"
                          ],
                          [
                            1,
                            "#f0f921"
                          ]
                        ],
                        "type": "heatmap"
                      }
                    ],
                    "heatmapgl": [
                      {
                        "colorbar": {
                          "outlinewidth": 0,
                          "ticks": ""
                        },
                        "colorscale": [
                          [
                            0,
                            "#0d0887"
                          ],
                          [
                            0.1111111111111111,
                            "#46039f"
                          ],
                          [
                            0.2222222222222222,
                            "#7201a8"
                          ],
                          [
                            0.3333333333333333,
                            "#9c179e"
                          ],
                          [
                            0.4444444444444444,
                            "#bd3786"
                          ],
                          [
                            0.5555555555555556,
                            "#d8576b"
                          ],
                          [
                            0.6666666666666666,
                            "#ed7953"
                          ],
                          [
                            0.7777777777777778,
                            "#fb9f3a"
                          ],
                          [
                            0.8888888888888888,
                            "#fdca26"
                          ],
                          [
                            1,
                            "#f0f921"
                          ]
                        ],
                        "type": "heatmapgl"
                      }
                    ],
                    "histogram": [
                      {
                        "marker": {
                          "pattern": {
                            "fillmode": "overlay",
                            "size": 10,
                            "solidity": 0.2
                          }
                        },
                        "type": "histogram"
                      }
                    ],
                    "histogram2d": [
                      {
                        "colorbar": {
                          "outlinewidth": 0,
                          "ticks": ""
                        },
                        "colorscale": [
                          [
                            0,
                            "#0d0887"
                          ],
                          [
                            0.1111111111111111,
                            "#46039f"
                          ],
                          [
                            0.2222222222222222,
                            "#7201a8"
                          ],
                          [
                            0.3333333333333333,
                            "#9c179e"
                          ],
                          [
                            0.4444444444444444,
                            "#bd3786"
                          ],
                          [
                            0.5555555555555556,
                            "#d8576b"
                          ],
                          [
                            0.6666666666666666,
                            "#ed7953"
                          ],
                          [
                            0.7777777777777778,
                            "#fb9f3a"
                          ],
                          [
                            0.8888888888888888,
                            "#fdca26"
                          ],
                          [
                            1,
                            "#f0f921"
                          ]
                        ],
                        "type": "histogram2d"
                      }
                    ],
                    "histogram2dcontour": [
                      {
                        "colorbar": {
                          "outlinewidth": 0,
                          "ticks": ""
                        },
                        "colorscale": [
                          [
                            0,
                            "#0d0887"
                          ],
                          [
                            0.1111111111111111,
                            "#46039f"
                          ],
                          [
                            0.2222222222222222,
                            "#7201a8"
                          ],
                          [
                            0.3333333333333333,
                            "#9c179e"
                          ],
                          [
                            0.4444444444444444,
                            "#bd3786"
                          ],
                          [
                            0.5555555555555556,
                            "#d8576b"
                          ],
                          [
                            0.6666666666666666,
                            "#ed7953"
                          ],
                          [
                            0.7777777777777778,
                            "#fb9f3a"
                          ],
                          [
                            0.8888888888888888,
                            "#fdca26"
                          ],
                          [
                            1,
                            "#f0f921"
                          ]
                        ],
                        "type": "histogram2dcontour"
                      }
                    ],
                    "mesh3d": [
                      {
                        "colorbar": {
                          "outlinewidth": 0,
                          "ticks": ""
                        },
                        "type": "mesh3d"
                      }
                    ],
                    "parcoords": [
                      {
                        "line": {
                          "colorbar": {
                            "outlinewidth": 0,
                            "ticks": ""
                          }
                        },
                        "type": "parcoords"
                      }
                    ],
                    "pie": [
                      {
                        "automargin": true,
                        "type": "pie"
                      }
                    ],
                    "scatter": [
                      {
                        "marker": {
                          "colorbar": {
                            "outlinewidth": 0,
                            "ticks": ""
                          }
                        },
                        "type": "scatter"
                      }
                    ],
                    "scatter3d": [
                      {
                        "line": {
                          "colorbar": {
                            "outlinewidth": 0,
                            "ticks": ""
                          }
                        },
                        "marker": {
                          "colorbar": {
                            "outlinewidth": 0,
                            "ticks": ""
                          }
                        },
                        "type": "scatter3d"
                      }
                    ],
                    "scattercarpet": [
                      {
                        "marker": {
                          "colorbar": {
                            "outlinewidth": 0,
                            "ticks": ""
                          }
                        },
                        "type": "scattercarpet"
                      }
                    ],
                    "scattergeo": [
                      {
                        "marker": {
                          "colorbar": {
                            "outlinewidth": 0,
                            "ticks": ""
                          }
                        },
                        "type": "scattergeo"
                      }
                    ],
                    "scattergl": [
                      {
                        "marker": {
                          "colorbar": {
                            "outlinewidth": 0,
                            "ticks": ""
                          }
                        },
                        "type": "scattergl"
                      }
                    ],
                    "scattermapbox": [
                      {
                        "marker": {
                          "colorbar": {
                            "outlinewidth": 0,
                            "ticks": ""
                          }
                        },
                        "type": "scattermapbox"
                      }
                    ],
                    "scatterpolar": [
                      {
                        "marker": {
                          "colorbar": {
                            "outlinewidth": 0,
                            "ticks": ""
                          }
                        },
                        "type": "scatterpolar"
                      }
                    ],
                    "scatterpolargl": [
                      {
                        "marker": {
                          "colorbar": {
                            "outlinewidth": 0,
                            "ticks": ""
                          }
                        },
                        "type": "scatterpolargl"
                      }
                    ],
                    "scatterternary": [
                      {
                        "marker": {
                          "colorbar": {
                            "outlinewidth": 0,
                            "ticks": ""
                          }
                        },
                        "type": "scatterternary"
                      }
                    ],
                    "surface": [
                      {
                        "colorbar": {
                          "outlinewidth": 0,
                          "ticks": ""
                        },
                        "colorscale": [
                          [
                            0,
                            "#0d0887"
                          ],
                          [
                            0.1111111111111111,
                            "#46039f"
                          ],
                          [
                            0.2222222222222222,
                            "#7201a8"
                          ],
                          [
                            0.3333333333333333,
                            "#9c179e"
                          ],
                          [
                            0.4444444444444444,
                            "#bd3786"
                          ],
                          [
                            0.5555555555555556,
                            "#d8576b"
                          ],
                          [
                            0.6666666666666666,
                            "#ed7953"
                          ],
                          [
                            0.7777777777777778,
                            "#fb9f3a"
                          ],
                          [
                            0.8888888888888888,
                            "#fdca26"
                          ],
                          [
                            1,
                            "#f0f921"
                          ]
                        ],
                        "type": "surface"
                      }
                    ],
                    "table": [
                      {
                        "cells": {
                          "fill": {
                            "color": "#EBF0F8"
                          },
                          "line": {
                            "color": "white"
                          }
                        },
                        "header": {
                          "fill": {
                            "color": "#C8D4E3"
                          },
                          "line": {
                            "color": "white"
                          }
                        },
                        "type": "table"
                      }
                    ]
                  },
                  "layout": {
                    "annotationdefaults": {
                      "arrowcolor": "#2a3f5f",
                      "arrowhead": 0,
                      "arrowwidth": 1
                    },
                    "autotypenumbers": "strict",
                    "coloraxis": {
                      "colorbar": {
                        "outlinewidth": 0,
                        "ticks": ""
                      }
                    },
                    "colorscale": {
                      "diverging": [
                        [
                          0,
                          "#8e0152"
                        ],
                        [
                          0.1,
                          "#c51b7d"
                        ],
                        [
                          0.2,
                          "#de77ae"
                        ],
                        [
                          0.3,
                          "#f1b6da"
                        ],
                        [
                          0.4,
                          "#fde0ef"
                        ],
                        [
                          0.5,
                          "#f7f7f7"
                        ],
                        [
                          0.6,
                          "#e6f5d0"
                        ],
                        [
                          0.7,
                          "#b8e186"
                        ],
                        [
                          0.8,
                          "#7fbc41"
                        ],
                        [
                          0.9,
                          "#4d9221"
                        ],
                        [
                          1,
                          "#276419"
                        ]
                      ],
                      "sequential": [
                        [
                          0,
                          "#0d0887"
                        ],
                        [
                          0.1111111111111111,
                          "#46039f"
                        ],
                        [
                          0.2222222222222222,
                          "#7201a8"
                        ],
                        [
                          0.3333333333333333,
                          "#9c179e"
                        ],
                        [
                          0.4444444444444444,
                          "#bd3786"
                        ],
                        [
                          0.5555555555555556,
                          "#d8576b"
                        ],
                        [
                          0.6666666666666666,
                          "#ed7953"
                        ],
                        [
                          0.7777777777777778,
                          "#fb9f3a"
                        ],
                        [
                          0.8888888888888888,
                          "#fdca26"
                        ],
                        [
                          1,
                          "#f0f921"
                        ]
                      ],
                      "sequentialminus": [
                        [
                          0,
                          "#0d0887"
                        ],
                        [
                          0.1111111111111111,
                          "#46039f"
                        ],
                        [
                          0.2222222222222222,
                          "#7201a8"
                        ],
                        [
                          0.3333333333333333,
                          "#9c179e"
                        ],
                        [
                          0.4444444444444444,
                          "#bd3786"
                        ],
                        [
                          0.5555555555555556,
                          "#d8576b"
                        ],
                        [
                          0.6666666666666666,
                          "#ed7953"
                        ],
                        [
                          0.7777777777777778,
                          "#fb9f3a"
                        ],
                        [
                          0.8888888888888888,
                          "#fdca26"
                        ],
                        [
                          1,
                          "#f0f921"
                        ]
                      ]
                    },
                    "colorway": [
                      "#636efa",
                      "#EF553B",
                      "#00cc96",
                      "#ab63fa",
                      "#FFA15A",
                      "#19d3f3",
                      "#FF6692",
                      "#B6E880",
                      "#FF97FF",
                      "#FECB52"
                    ],
                    "font": {
                      "color": "#2a3f5f"
                    },
                    "geo": {
                      "bgcolor": "white",
                      "lakecolor": "white",
                      "landcolor": "#E5ECF6",
                      "showlakes": true,
                      "showland": true,
                      "subunitcolor": "white"
                    },
                    "hoverlabel": {
                      "align": "left"
                    },
                    "hovermode": "closest",
                    "mapbox": {
                      "style": "light"
                    },
                    "paper_bgcolor": "white",
                    "plot_bgcolor": "#E5ECF6",
                    "polar": {
                      "angularaxis": {
                        "gridcolor": "white",
                        "linecolor": "white",
                        "ticks": ""
                      },
                      "bgcolor": "#E5ECF6",
                      "radialaxis": {
                        "gridcolor": "white",
                        "linecolor": "white",
                        "ticks": ""
                      }
                    },
                    "scene": {
                      "xaxis": {
                        "backgroundcolor": "#E5ECF6",
                        "gridcolor": "white",
                        "gridwidth": 2,
                        "linecolor": "white",
                        "showbackground": true,
                        "ticks": "",
                        "zerolinecolor": "white"
                      },
                      "yaxis": {
                        "backgroundcolor": "#E5ECF6",
                        "gridcolor": "white",
                        "gridwidth": 2,
                        "linecolor": "white",
                        "showbackground": true,
                        "ticks": "",
                        "zerolinecolor": "white"
                      },
                      "zaxis": {
                        "backgroundcolor": "#E5ECF6",
                        "gridcolor": "white",
                        "gridwidth": 2,
                        "linecolor": "white",
                        "showbackground": true,
                        "ticks": "",
                        "zerolinecolor": "white"
                      }
                    },
                    "shapedefaults": {
                      "line": {
                        "color": "#2a3f5f"
                      }
                    },
                    "ternary": {
                      "aaxis": {
                        "gridcolor": "white",
                        "linecolor": "white",
                        "ticks": ""
                      },
                      "baxis": {
                        "gridcolor": "white",
                        "linecolor": "white",
                        "ticks": ""
                      },
                      "bgcolor": "#E5ECF6",
                      "caxis": {
                        "gridcolor": "white",
                        "linecolor": "white",
                        "ticks": ""
                      }
                    },
                    "title": {
                      "x": 0.05
                    },
                    "xaxis": {
                      "automargin": true,
                      "gridcolor": "white",
                      "linecolor": "white",
                      "ticks": "",
                      "title": {
                        "standoff": 15
                      },
                      "zerolinecolor": "white",
                      "zerolinewidth": 2
                    },
                    "yaxis": {
                      "automargin": true,
                      "gridcolor": "white",
                      "linecolor": "white",
                      "ticks": "",
                      "title": {
                        "standoff": 15
                      },
                      "zerolinecolor": "white",
                      "zerolinewidth": 2
                    }
                  }
                },
                "title": {
                  "text": "Sobrevivência em relação à classe do passageiro"
                },
                "width": 800,
                "xaxis": {
                  "anchor": "y",
                  "domain": [
                    0,
                    1
                  ],
                  "title": {
                    "text": "Pclass"
                  }
                },
                "yaxis": {
                  "anchor": "x",
                  "domain": [
                    0,
                    1
                  ],
                  "title": {
                    "text": "count"
                  }
                }
              }
            }
          },
          "metadata": {},
          "output_type": "display_data"
        }
      ],
      "source": [
        "fig = px.histogram(train, x=\"Pclass\", color=\"Survived\", color_discrete_sequence=[\"#363945\", \"#B6E880\"])\n",
        "fig.update_layout(height=400, width=800, title_text=\"Sobrevivência em relação à classe do passageiro\")\n",
        "fig.show()"
      ]
    },
    {
      "cell_type": "markdown",
      "metadata": {},
      "source": [
        "As classes mais altas (1 e 2) apresentaram uma taxa de sobrevivência muito superior comparada a mais baixa (3). Será que há uma relação entre o preço da passagem e a classe do passageiro?"
      ]
    },
    {
      "cell_type": "code",
      "execution_count": 96,
      "metadata": {},
      "outputs": [
        {
          "data": {
            "application/vnd.plotly.v1+json": {
              "config": {
                "plotlyServerURL": "https://plot.ly"
              },
              "data": [
                {
                  "alignmentgroup": "True",
                  "hovertemplate": "Pclass=%{x}<br>Fare=%{y}<extra></extra>",
                  "legendgroup": "",
                  "marker": {
                    "color": "#636efa"
                  },
                  "name": "",
                  "notched": false,
                  "offsetgroup": "",
                  "orientation": "v",
                  "showlegend": false,
                  "type": "box",
                  "x": [
                    1,
                    2,
                    3,
                    3,
                    3,
                    1,
                    1,
                    2,
                    3,
                    1,
                    2,
                    3,
                    2,
                    3,
                    3,
                    2,
                    1,
                    1,
                    2,
                    1,
                    3,
                    3,
                    3,
                    2,
                    3,
                    3,
                    3,
                    3,
                    1,
                    3,
                    3,
                    1,
                    3,
                    1,
                    3,
                    3,
                    3,
                    2,
                    1,
                    2,
                    3,
                    3,
                    2,
                    3,
                    1,
                    3,
                    2,
                    3,
                    1,
                    2,
                    3,
                    2,
                    1,
                    3,
                    3,
                    3,
                    3,
                    1,
                    3,
                    1,
                    2,
                    3,
                    2,
                    3,
                    3,
                    3,
                    3,
                    3,
                    3,
                    3,
                    1,
                    3,
                    2,
                    3,
                    3,
                    1,
                    3,
                    3,
                    1,
                    2,
                    2,
                    1,
                    1,
                    2,
                    3,
                    1,
                    1,
                    3,
                    1,
                    1,
                    3,
                    3,
                    2,
                    2,
                    1,
                    2,
                    3,
                    3,
                    2,
                    1,
                    2,
                    3,
                    3,
                    1,
                    3,
                    2,
                    3,
                    3,
                    3,
                    2,
                    3,
                    3,
                    3,
                    3,
                    3,
                    3,
                    1,
                    3,
                    2,
                    3,
                    3,
                    3,
                    1,
                    2,
                    2,
                    3,
                    1,
                    3,
                    3,
                    1,
                    2,
                    1,
                    2,
                    2,
                    3,
                    3,
                    2,
                    3,
                    2,
                    2,
                    3,
                    1,
                    3,
                    1,
                    3,
                    2,
                    3,
                    3,
                    3,
                    3,
                    3,
                    3,
                    3,
                    3,
                    2,
                    2,
                    1,
                    1,
                    2,
                    3,
                    2,
                    3,
                    3,
                    3,
                    3,
                    3,
                    3,
                    1,
                    3,
                    1,
                    3,
                    1,
                    3,
                    3,
                    2,
                    3,
                    3,
                    1,
                    2,
                    3,
                    3,
                    3,
                    2,
                    3,
                    3,
                    3,
                    3,
                    1,
                    3,
                    3,
                    1,
                    1,
                    2,
                    3,
                    2,
                    3,
                    3,
                    1,
                    3,
                    2,
                    3,
                    1,
                    3,
                    1,
                    1,
                    3,
                    3,
                    2,
                    1,
                    3,
                    3,
                    1,
                    3,
                    1,
                    2,
                    1,
                    1,
                    2,
                    3,
                    2,
                    2,
                    1,
                    3,
                    1,
                    3,
                    2,
                    3,
                    1,
                    3,
                    2,
                    3,
                    3,
                    3,
                    2,
                    2,
                    2,
                    3,
                    1,
                    2,
                    3,
                    1,
                    2,
                    3,
                    2,
                    3,
                    3,
                    3,
                    2,
                    3,
                    1,
                    2,
                    3,
                    1,
                    3,
                    2,
                    1,
                    3,
                    3,
                    3,
                    3,
                    2,
                    3,
                    3,
                    3,
                    3,
                    1,
                    1,
                    2,
                    1,
                    2,
                    2,
                    3,
                    3,
                    3,
                    2,
                    3,
                    3,
                    1,
                    2,
                    3,
                    3,
                    3,
                    3,
                    3,
                    3,
                    2,
                    3,
                    2,
                    3,
                    2,
                    3,
                    1,
                    3,
                    2,
                    3,
                    1,
                    1,
                    1,
                    1,
                    1,
                    3,
                    1,
                    3,
                    1,
                    3,
                    3,
                    3,
                    3,
                    3,
                    2,
                    3,
                    1,
                    3,
                    3,
                    3,
                    2,
                    3,
                    2,
                    1,
                    3,
                    3,
                    2,
                    3,
                    3,
                    3,
                    3,
                    3,
                    3,
                    3,
                    1,
                    3,
                    3,
                    2,
                    1,
                    3,
                    3,
                    3,
                    3,
                    3,
                    3,
                    2,
                    3,
                    3,
                    3,
                    3,
                    1,
                    2,
                    2,
                    1,
                    3,
                    3,
                    1,
                    1,
                    1,
                    3,
                    3,
                    3,
                    3,
                    2,
                    2,
                    3,
                    2,
                    3,
                    3,
                    1,
                    2,
                    3,
                    3,
                    3,
                    3,
                    3,
                    3,
                    2,
                    3,
                    3,
                    3,
                    3,
                    3,
                    2,
                    3,
                    3,
                    3,
                    3,
                    1,
                    3,
                    1,
                    3,
                    3,
                    3,
                    3,
                    3,
                    3,
                    2,
                    2,
                    3,
                    3,
                    3,
                    3,
                    1,
                    3,
                    3,
                    3,
                    3,
                    2,
                    1,
                    3,
                    3,
                    3,
                    2,
                    1,
                    3,
                    3,
                    3,
                    1,
                    3,
                    2,
                    3,
                    3,
                    3,
                    2,
                    2,
                    3,
                    3,
                    3,
                    2,
                    3,
                    2,
                    1,
                    3,
                    1,
                    3,
                    3,
                    2,
                    3,
                    2,
                    3,
                    1,
                    3,
                    2,
                    3,
                    1,
                    3,
                    2,
                    1,
                    3,
                    1,
                    3,
                    2,
                    2,
                    1,
                    1,
                    3,
                    3,
                    3,
                    3,
                    3,
                    3,
                    3,
                    2,
                    1,
                    3,
                    2,
                    1,
                    2,
                    3,
                    3,
                    3,
                    1,
                    3,
                    3,
                    3,
                    2,
                    2,
                    3,
                    1,
                    3,
                    3,
                    3,
                    3,
                    2,
                    3,
                    3,
                    1,
                    3,
                    2,
                    1,
                    2,
                    2,
                    1,
                    3,
                    3,
                    3,
                    3,
                    3,
                    3,
                    3,
                    2,
                    3,
                    1,
                    3,
                    2,
                    2,
                    1,
                    1,
                    1,
                    1,
                    3,
                    3,
                    1,
                    3,
                    2,
                    3,
                    3,
                    3,
                    3,
                    1,
                    1,
                    3,
                    3,
                    3,
                    1,
                    3,
                    2,
                    2,
                    3,
                    1,
                    3,
                    3,
                    3,
                    3,
                    2,
                    3,
                    1,
                    2,
                    1,
                    3,
                    1,
                    3,
                    2,
                    1,
                    3,
                    3,
                    1,
                    1,
                    1,
                    3,
                    3,
                    2,
                    3,
                    3,
                    3,
                    3,
                    3,
                    1,
                    1,
                    3,
                    3,
                    3,
                    3,
                    2,
                    3,
                    2,
                    3,
                    3,
                    3,
                    3,
                    3,
                    2,
                    3,
                    3,
                    2,
                    3,
                    3,
                    3,
                    3,
                    3,
                    3,
                    3,
                    2,
                    1,
                    3,
                    1,
                    3,
                    3,
                    2,
                    2,
                    2,
                    3,
                    3,
                    1,
                    3,
                    1,
                    3,
                    1,
                    3,
                    1,
                    1,
                    1,
                    3,
                    3,
                    3,
                    1,
                    3,
                    1,
                    1,
                    3,
                    1,
                    1,
                    1,
                    3,
                    1,
                    1,
                    1,
                    3,
                    2,
                    3,
                    3,
                    1,
                    1,
                    3,
                    2,
                    1,
                    3,
                    3,
                    3,
                    2,
                    3,
                    3,
                    3,
                    2,
                    1,
                    3,
                    3,
                    3,
                    3,
                    1,
                    3,
                    3,
                    2,
                    3,
                    1,
                    3,
                    1,
                    3,
                    2,
                    3,
                    3,
                    3,
                    3,
                    2,
                    2,
                    1,
                    1,
                    2,
                    3,
                    3,
                    1,
                    3,
                    1,
                    2,
                    3,
                    3,
                    2,
                    3,
                    3,
                    1,
                    3,
                    1,
                    1,
                    3,
                    2,
                    3,
                    3,
                    2,
                    1,
                    2,
                    3,
                    3,
                    3,
                    3,
                    2,
                    2,
                    3,
                    2,
                    3,
                    2,
                    3,
                    2,
                    3,
                    3,
                    3,
                    1,
                    2,
                    3,
                    3,
                    2,
                    3,
                    3,
                    2,
                    3,
                    3,
                    2,
                    1,
                    3,
                    3,
                    1,
                    3,
                    1,
                    1
                  ],
                  "x0": " ",
                  "xaxis": "x",
                  "y": [
                    28.5,
                    13,
                    7.925,
                    7.8542,
                    31.275,
                    247.5208,
                    26.55,
                    27.7208,
                    7.8958,
                    35.5,
                    13,
                    24.15,
                    12.275,
                    7.0542,
                    9.5,
                    26,
                    90,
                    227.525,
                    13,
                    57,
                    31.275,
                    6.2375,
                    8.6625,
                    26.25,
                    9.5875,
                    7.2292,
                    22.3583,
                    9.4833,
                    120,
                    14.4583,
                    8.05,
                    211.5,
                    7.25,
                    90,
                    7.725,
                    25.4667,
                    21.075,
                    30,
                    61.3792,
                    26,
                    7.25,
                    7.8958,
                    13,
                    20.2125,
                    30.5,
                    7.05,
                    14.5,
                    7.5208,
                    151.55,
                    26,
                    7.925,
                    21,
                    262.375,
                    7.75,
                    7.2292,
                    8.6625,
                    7.775,
                    80,
                    9.8417,
                    227.525,
                    12.35,
                    0,
                    26,
                    7.225,
                    8.6625,
                    6.4375,
                    9.5,
                    8.05,
                    7.8958,
                    7.25,
                    30.5,
                    12.475,
                    26,
                    7.75,
                    7.2292,
                    133.65,
                    6.975,
                    8.05,
                    77.9583,
                    10.5,
                    26,
                    151.55,
                    106.425,
                    13,
                    8.6625,
                    0,
                    26.55,
                    8.6625,
                    26.55,
                    81.8583,
                    7.8958,
                    11.1333,
                    27.75,
                    26.25,
                    153.4625,
                    26.25,
                    8.05,
                    8.3,
                    15.05,
                    110.8833,
                    13,
                    8.6625,
                    7.05,
                    133.65,
                    0,
                    15.0458,
                    39.6875,
                    7.8792,
                    23.45,
                    26,
                    11.1333,
                    7.65,
                    7.75,
                    15.7417,
                    15.2458,
                    7.925,
                    51.8625,
                    15.5,
                    41.5792,
                    14.4542,
                    10.5167,
                    20.525,
                    89.1042,
                    36.75,
                    10.5,
                    8.05,
                    55.4417,
                    24.15,
                    14.5,
                    26.55,
                    13,
                    50,
                    21,
                    13.8625,
                    7.8958,
                    8.05,
                    10.5,
                    16.7,
                    13.5,
                    36.75,
                    21.075,
                    35,
                    8.05,
                    55.9,
                    7.8,
                    10.5,
                    7.925,
                    7.8542,
                    7.75,
                    34.375,
                    7.75,
                    7.225,
                    7.2292,
                    18,
                    13,
                    26,
                    47.1,
                    80,
                    19.5,
                    8.6625,
                    13.5,
                    20.25,
                    8.05,
                    31.3875,
                    8.1125,
                    7.8292,
                    7.8958,
                    59.4,
                    7.8958,
                    79.2,
                    56.4958,
                    57.9792,
                    7.925,
                    25.4667,
                    10.5,
                    46.9,
                    8.6625,
                    52.5542,
                    10.5,
                    29.125,
                    56.4958,
                    9.825,
                    13,
                    7.75,
                    7.925,
                    14.4583,
                    7.75,
                    61.175,
                    15.1,
                    8.05,
                    66.6,
                    83.1583,
                    37.0042,
                    7.75,
                    26,
                    20.525,
                    7.25,
                    26.55,
                    16.1,
                    41.5792,
                    7.8958,
                    57.9792,
                    27.9,
                    211.3375,
                    106.425,
                    16.1,
                    7.7958,
                    13,
                    40.125,
                    7.05,
                    7.75,
                    28.7125,
                    19.2583,
                    49.5042,
                    65,
                    52,
                    86.5,
                    13,
                    7.8958,
                    26,
                    16,
                    53.1,
                    6.8583,
                    79.2,
                    19.9667,
                    13.7917,
                    7.7333,
                    113.275,
                    8.05,
                    26,
                    21.075,
                    7.8958,
                    69.55,
                    26,
                    30.0708,
                    26,
                    8.0292,
                    55,
                    13,
                    7.8958,
                    39.6,
                    24,
                    7.925,
                    26,
                    16.1,
                    7.8958,
                    7.225,
                    26.25,
                    20.575,
                    211.3375,
                    26.25,
                    17.4,
                    26,
                    22.025,
                    26,
                    29.7,
                    14.5,
                    7.65,
                    7.8958,
                    7.0542,
                    0,
                    7.925,
                    6.95,
                    15.5,
                    0,
                    25.5875,
                    26.55,
                    26,
                    263,
                    11.5,
                    21,
                    11.2417,
                    18.7875,
                    7.75,
                    10.5,
                    7.25,
                    7.8958,
                    26.55,
                    37.0042,
                    7.7958,
                    7.2292,
                    7.75,
                    29.125,
                    13.4167,
                    7.75,
                    13,
                    15.7417,
                    73.5,
                    7.225,
                    10.5,
                    7.75,
                    164.8667,
                    7.8958,
                    11.5,
                    27.9,
                    79.65,
                    53.1,
                    71,
                    69.3,
                    153.4625,
                    7.8542,
                    108.9,
                    14.4,
                    83.1583,
                    7.225,
                    15.5,
                    8.6625,
                    6.4958,
                    12.2875,
                    13,
                    31.3875,
                    146.5208,
                    7.75,
                    7.925,
                    7.775,
                    13.8583,
                    46.9,
                    13,
                    0,
                    7.2292,
                    7.8958,
                    13,
                    19.9667,
                    10.1708,
                    24.15,
                    7.8542,
                    56.4958,
                    0,
                    8.05,
                    263,
                    7.2292,
                    19.2583,
                    13,
                    77.2875,
                    7.7417,
                    39.6875,
                    17.8,
                    12.475,
                    15.85,
                    7.25,
                    12.65,
                    14.5,
                    7.25,
                    7.225,
                    69.55,
                    26.2875,
                    13,
                    18.75,
                    227.525,
                    18,
                    7.8542,
                    90,
                    30,
                    42.4,
                    24.15,
                    7.775,
                    7.3125,
                    7.8958,
                    23,
                    13,
                    7.1417,
                    12.35,
                    15.2458,
                    9.5,
                    164.8667,
                    13,
                    7.925,
                    69.55,
                    23.25,
                    39.6875,
                    7.55,
                    14.4,
                    33,
                    24.15,
                    7.225,
                    8.05,
                    7.775,
                    8.05,
                    73.5,
                    29.125,
                    29.125,
                    8.05,
                    21.6792,
                    25.9292,
                    7.75,
                    34.0208,
                    16.1,
                    46.9,
                    8.05,
                    8.05,
                    9.35,
                    7.225,
                    33,
                    18.75,
                    8.6625,
                    15.5,
                    25.4667,
                    8.05,
                    26.55,
                    21.075,
                    19.2583,
                    7.2292,
                    8.05,
                    23,
                    27.7208,
                    14.5,
                    9.5,
                    9.5875,
                    11.5,
                    78.85,
                    7.925,
                    23.45,
                    7.775,
                    30,
                    8.05,
                    39,
                    7.7333,
                    7.775,
                    14.4542,
                    10.5,
                    39,
                    8.6542,
                    7.7333,
                    24.15,
                    15,
                    31.275,
                    26,
                    66.6,
                    15.85,
                    29.7,
                    18.7875,
                    9.5,
                    10.5,
                    11.1333,
                    13,
                    7.2292,
                    27.75,
                    16.1,
                    12.35,
                    7.775,
                    51.4792,
                    7.925,
                    13,
                    79.65,
                    31.275,
                    151.55,
                    7.925,
                    12.525,
                    26,
                    79.2,
                    110.8833,
                    8.05,
                    34.375,
                    7.7958,
                    8.6625,
                    56.4958,
                    7.8958,
                    15.9,
                    13,
                    135.6333,
                    15.5,
                    13,
                    86.5,
                    41.5792,
                    6.75,
                    7.775,
                    8.4042,
                    153.4625,
                    20.25,
                    8.85,
                    7.925,
                    30.0708,
                    39,
                    6.4958,
                    263,
                    7.775,
                    8.05,
                    20.575,
                    6.975,
                    26.25,
                    9.825,
                    7.8958,
                    211.3375,
                    7.8875,
                    10.5,
                    69.3,
                    10.5,
                    10.5,
                    0,
                    16.1,
                    9.35,
                    8.1375,
                    46.9,
                    69.55,
                    56.4958,
                    7.775,
                    0,
                    9.5,
                    78.2667,
                    8.05,
                    13.5,
                    23,
                    30.5,
                    52,
                    135.6333,
                    5,
                    12.475,
                    31.3875,
                    0,
                    8.05,
                    14,
                    7.55,
                    7.8958,
                    7.2292,
                    7.8792,
                    77.9583,
                    30.5,
                    9.5,
                    7.25,
                    7.8958,
                    90,
                    69.55,
                    26,
                    27.75,
                    16.1,
                    108.9,
                    16.1,
                    7.8958,
                    39.6875,
                    8.5167,
                    10.5,
                    7.125,
                    76.7292,
                    65,
                    39.6,
                    31.275,
                    55.9,
                    15.85,
                    10.5,
                    110.8833,
                    69.55,
                    7.2292,
                    52,
                    71,
                    33.5,
                    6.75,
                    7.4958,
                    14.5,
                    56.4958,
                    8.05,
                    8.05,
                    14.4542,
                    8.05,
                    57,
                    26.55,
                    7.225,
                    7.2292,
                    15.85,
                    7.925,
                    26,
                    7.7958,
                    27,
                    8.05,
                    27.9,
                    8.6833,
                    15.5,
                    7.8958,
                    26,
                    8.6625,
                    46.9,
                    23,
                    7.7375,
                    7.75,
                    7.75,
                    7.6292,
                    7.75,
                    7.75,
                    9.5,
                    13,
                    263,
                    7.8958,
                    83.475,
                    15.9,
                    4.0125,
                    13,
                    13,
                    0,
                    7.7958,
                    7.25,
                    151.55,
                    9.2167,
                    83.475,
                    8.6625,
                    35.5,
                    22.3583,
                    50.4958,
                    93.5,
                    27.7208,
                    7.8542,
                    7.7333,
                    9.475,
                    30.5,
                    7.775,
                    26.55,
                    120,
                    7.925,
                    76.7292,
                    134.5,
                    53.1,
                    7.775,
                    53.1,
                    27.7208,
                    26.2875,
                    10.4625,
                    21,
                    8.05,
                    7.8958,
                    30,
                    135.6333,
                    69.55,
                    15.75,
                    26.55,
                    7.925,
                    8.05,
                    14.4542,
                    21,
                    7.8542,
                    7.8958,
                    24.15,
                    12,
                    71.2833,
                    7.2292,
                    7.8958,
                    9,
                    10.4625,
                    82.1708,
                    7.75,
                    22.525,
                    26,
                    8.05,
                    75.25,
                    7.8542,
                    35.5,
                    8.05,
                    13,
                    7.75,
                    15.5,
                    31.275,
                    7.8542,
                    27,
                    13,
                    29.7,
                    55,
                    10.5,
                    7.8958,
                    6.45,
                    91.0792,
                    9,
                    86.5,
                    18.75,
                    7.125,
                    7.8958,
                    13.5,
                    39.6875,
                    7.8958,
                    30,
                    7.65,
                    52,
                    76.7292,
                    7.75,
                    27.75,
                    9.8375,
                    7.75,
                    13,
                    26.55,
                    13,
                    7.8958,
                    7.75,
                    16.1,
                    7.75,
                    13,
                    73.5,
                    7.775,
                    0,
                    7.25,
                    13,
                    8.3625,
                    24,
                    7.225,
                    7.8958,
                    7.4958,
                    52.5542,
                    26,
                    8.05,
                    8.05,
                    10.5,
                    23.25,
                    7.75,
                    0,
                    8.05,
                    8.05,
                    26,
                    227.525,
                    46.9,
                    7.65,
                    31,
                    14.1083,
                    120,
                    77.2875
                  ],
                  "y0": " ",
                  "yaxis": "y"
                }
              ],
              "layout": {
                "boxmode": "group",
                "height": 400,
                "legend": {
                  "tracegroupgap": 0
                },
                "margin": {
                  "t": 60
                },
                "template": {
                  "data": {
                    "bar": [
                      {
                        "error_x": {
                          "color": "#2a3f5f"
                        },
                        "error_y": {
                          "color": "#2a3f5f"
                        },
                        "marker": {
                          "line": {
                            "color": "#E5ECF6",
                            "width": 0.5
                          },
                          "pattern": {
                            "fillmode": "overlay",
                            "size": 10,
                            "solidity": 0.2
                          }
                        },
                        "type": "bar"
                      }
                    ],
                    "barpolar": [
                      {
                        "marker": {
                          "line": {
                            "color": "#E5ECF6",
                            "width": 0.5
                          },
                          "pattern": {
                            "fillmode": "overlay",
                            "size": 10,
                            "solidity": 0.2
                          }
                        },
                        "type": "barpolar"
                      }
                    ],
                    "carpet": [
                      {
                        "aaxis": {
                          "endlinecolor": "#2a3f5f",
                          "gridcolor": "white",
                          "linecolor": "white",
                          "minorgridcolor": "white",
                          "startlinecolor": "#2a3f5f"
                        },
                        "baxis": {
                          "endlinecolor": "#2a3f5f",
                          "gridcolor": "white",
                          "linecolor": "white",
                          "minorgridcolor": "white",
                          "startlinecolor": "#2a3f5f"
                        },
                        "type": "carpet"
                      }
                    ],
                    "choropleth": [
                      {
                        "colorbar": {
                          "outlinewidth": 0,
                          "ticks": ""
                        },
                        "type": "choropleth"
                      }
                    ],
                    "contour": [
                      {
                        "colorbar": {
                          "outlinewidth": 0,
                          "ticks": ""
                        },
                        "colorscale": [
                          [
                            0,
                            "#0d0887"
                          ],
                          [
                            0.1111111111111111,
                            "#46039f"
                          ],
                          [
                            0.2222222222222222,
                            "#7201a8"
                          ],
                          [
                            0.3333333333333333,
                            "#9c179e"
                          ],
                          [
                            0.4444444444444444,
                            "#bd3786"
                          ],
                          [
                            0.5555555555555556,
                            "#d8576b"
                          ],
                          [
                            0.6666666666666666,
                            "#ed7953"
                          ],
                          [
                            0.7777777777777778,
                            "#fb9f3a"
                          ],
                          [
                            0.8888888888888888,
                            "#fdca26"
                          ],
                          [
                            1,
                            "#f0f921"
                          ]
                        ],
                        "type": "contour"
                      }
                    ],
                    "contourcarpet": [
                      {
                        "colorbar": {
                          "outlinewidth": 0,
                          "ticks": ""
                        },
                        "type": "contourcarpet"
                      }
                    ],
                    "heatmap": [
                      {
                        "colorbar": {
                          "outlinewidth": 0,
                          "ticks": ""
                        },
                        "colorscale": [
                          [
                            0,
                            "#0d0887"
                          ],
                          [
                            0.1111111111111111,
                            "#46039f"
                          ],
                          [
                            0.2222222222222222,
                            "#7201a8"
                          ],
                          [
                            0.3333333333333333,
                            "#9c179e"
                          ],
                          [
                            0.4444444444444444,
                            "#bd3786"
                          ],
                          [
                            0.5555555555555556,
                            "#d8576b"
                          ],
                          [
                            0.6666666666666666,
                            "#ed7953"
                          ],
                          [
                            0.7777777777777778,
                            "#fb9f3a"
                          ],
                          [
                            0.8888888888888888,
                            "#fdca26"
                          ],
                          [
                            1,
                            "#f0f921"
                          ]
                        ],
                        "type": "heatmap"
                      }
                    ],
                    "heatmapgl": [
                      {
                        "colorbar": {
                          "outlinewidth": 0,
                          "ticks": ""
                        },
                        "colorscale": [
                          [
                            0,
                            "#0d0887"
                          ],
                          [
                            0.1111111111111111,
                            "#46039f"
                          ],
                          [
                            0.2222222222222222,
                            "#7201a8"
                          ],
                          [
                            0.3333333333333333,
                            "#9c179e"
                          ],
                          [
                            0.4444444444444444,
                            "#bd3786"
                          ],
                          [
                            0.5555555555555556,
                            "#d8576b"
                          ],
                          [
                            0.6666666666666666,
                            "#ed7953"
                          ],
                          [
                            0.7777777777777778,
                            "#fb9f3a"
                          ],
                          [
                            0.8888888888888888,
                            "#fdca26"
                          ],
                          [
                            1,
                            "#f0f921"
                          ]
                        ],
                        "type": "heatmapgl"
                      }
                    ],
                    "histogram": [
                      {
                        "marker": {
                          "pattern": {
                            "fillmode": "overlay",
                            "size": 10,
                            "solidity": 0.2
                          }
                        },
                        "type": "histogram"
                      }
                    ],
                    "histogram2d": [
                      {
                        "colorbar": {
                          "outlinewidth": 0,
                          "ticks": ""
                        },
                        "colorscale": [
                          [
                            0,
                            "#0d0887"
                          ],
                          [
                            0.1111111111111111,
                            "#46039f"
                          ],
                          [
                            0.2222222222222222,
                            "#7201a8"
                          ],
                          [
                            0.3333333333333333,
                            "#9c179e"
                          ],
                          [
                            0.4444444444444444,
                            "#bd3786"
                          ],
                          [
                            0.5555555555555556,
                            "#d8576b"
                          ],
                          [
                            0.6666666666666666,
                            "#ed7953"
                          ],
                          [
                            0.7777777777777778,
                            "#fb9f3a"
                          ],
                          [
                            0.8888888888888888,
                            "#fdca26"
                          ],
                          [
                            1,
                            "#f0f921"
                          ]
                        ],
                        "type": "histogram2d"
                      }
                    ],
                    "histogram2dcontour": [
                      {
                        "colorbar": {
                          "outlinewidth": 0,
                          "ticks": ""
                        },
                        "colorscale": [
                          [
                            0,
                            "#0d0887"
                          ],
                          [
                            0.1111111111111111,
                            "#46039f"
                          ],
                          [
                            0.2222222222222222,
                            "#7201a8"
                          ],
                          [
                            0.3333333333333333,
                            "#9c179e"
                          ],
                          [
                            0.4444444444444444,
                            "#bd3786"
                          ],
                          [
                            0.5555555555555556,
                            "#d8576b"
                          ],
                          [
                            0.6666666666666666,
                            "#ed7953"
                          ],
                          [
                            0.7777777777777778,
                            "#fb9f3a"
                          ],
                          [
                            0.8888888888888888,
                            "#fdca26"
                          ],
                          [
                            1,
                            "#f0f921"
                          ]
                        ],
                        "type": "histogram2dcontour"
                      }
                    ],
                    "mesh3d": [
                      {
                        "colorbar": {
                          "outlinewidth": 0,
                          "ticks": ""
                        },
                        "type": "mesh3d"
                      }
                    ],
                    "parcoords": [
                      {
                        "line": {
                          "colorbar": {
                            "outlinewidth": 0,
                            "ticks": ""
                          }
                        },
                        "type": "parcoords"
                      }
                    ],
                    "pie": [
                      {
                        "automargin": true,
                        "type": "pie"
                      }
                    ],
                    "scatter": [
                      {
                        "marker": {
                          "colorbar": {
                            "outlinewidth": 0,
                            "ticks": ""
                          }
                        },
                        "type": "scatter"
                      }
                    ],
                    "scatter3d": [
                      {
                        "line": {
                          "colorbar": {
                            "outlinewidth": 0,
                            "ticks": ""
                          }
                        },
                        "marker": {
                          "colorbar": {
                            "outlinewidth": 0,
                            "ticks": ""
                          }
                        },
                        "type": "scatter3d"
                      }
                    ],
                    "scattercarpet": [
                      {
                        "marker": {
                          "colorbar": {
                            "outlinewidth": 0,
                            "ticks": ""
                          }
                        },
                        "type": "scattercarpet"
                      }
                    ],
                    "scattergeo": [
                      {
                        "marker": {
                          "colorbar": {
                            "outlinewidth": 0,
                            "ticks": ""
                          }
                        },
                        "type": "scattergeo"
                      }
                    ],
                    "scattergl": [
                      {
                        "marker": {
                          "colorbar": {
                            "outlinewidth": 0,
                            "ticks": ""
                          }
                        },
                        "type": "scattergl"
                      }
                    ],
                    "scattermapbox": [
                      {
                        "marker": {
                          "colorbar": {
                            "outlinewidth": 0,
                            "ticks": ""
                          }
                        },
                        "type": "scattermapbox"
                      }
                    ],
                    "scatterpolar": [
                      {
                        "marker": {
                          "colorbar": {
                            "outlinewidth": 0,
                            "ticks": ""
                          }
                        },
                        "type": "scatterpolar"
                      }
                    ],
                    "scatterpolargl": [
                      {
                        "marker": {
                          "colorbar": {
                            "outlinewidth": 0,
                            "ticks": ""
                          }
                        },
                        "type": "scatterpolargl"
                      }
                    ],
                    "scatterternary": [
                      {
                        "marker": {
                          "colorbar": {
                            "outlinewidth": 0,
                            "ticks": ""
                          }
                        },
                        "type": "scatterternary"
                      }
                    ],
                    "surface": [
                      {
                        "colorbar": {
                          "outlinewidth": 0,
                          "ticks": ""
                        },
                        "colorscale": [
                          [
                            0,
                            "#0d0887"
                          ],
                          [
                            0.1111111111111111,
                            "#46039f"
                          ],
                          [
                            0.2222222222222222,
                            "#7201a8"
                          ],
                          [
                            0.3333333333333333,
                            "#9c179e"
                          ],
                          [
                            0.4444444444444444,
                            "#bd3786"
                          ],
                          [
                            0.5555555555555556,
                            "#d8576b"
                          ],
                          [
                            0.6666666666666666,
                            "#ed7953"
                          ],
                          [
                            0.7777777777777778,
                            "#fb9f3a"
                          ],
                          [
                            0.8888888888888888,
                            "#fdca26"
                          ],
                          [
                            1,
                            "#f0f921"
                          ]
                        ],
                        "type": "surface"
                      }
                    ],
                    "table": [
                      {
                        "cells": {
                          "fill": {
                            "color": "#EBF0F8"
                          },
                          "line": {
                            "color": "white"
                          }
                        },
                        "header": {
                          "fill": {
                            "color": "#C8D4E3"
                          },
                          "line": {
                            "color": "white"
                          }
                        },
                        "type": "table"
                      }
                    ]
                  },
                  "layout": {
                    "annotationdefaults": {
                      "arrowcolor": "#2a3f5f",
                      "arrowhead": 0,
                      "arrowwidth": 1
                    },
                    "autotypenumbers": "strict",
                    "coloraxis": {
                      "colorbar": {
                        "outlinewidth": 0,
                        "ticks": ""
                      }
                    },
                    "colorscale": {
                      "diverging": [
                        [
                          0,
                          "#8e0152"
                        ],
                        [
                          0.1,
                          "#c51b7d"
                        ],
                        [
                          0.2,
                          "#de77ae"
                        ],
                        [
                          0.3,
                          "#f1b6da"
                        ],
                        [
                          0.4,
                          "#fde0ef"
                        ],
                        [
                          0.5,
                          "#f7f7f7"
                        ],
                        [
                          0.6,
                          "#e6f5d0"
                        ],
                        [
                          0.7,
                          "#b8e186"
                        ],
                        [
                          0.8,
                          "#7fbc41"
                        ],
                        [
                          0.9,
                          "#4d9221"
                        ],
                        [
                          1,
                          "#276419"
                        ]
                      ],
                      "sequential": [
                        [
                          0,
                          "#0d0887"
                        ],
                        [
                          0.1111111111111111,
                          "#46039f"
                        ],
                        [
                          0.2222222222222222,
                          "#7201a8"
                        ],
                        [
                          0.3333333333333333,
                          "#9c179e"
                        ],
                        [
                          0.4444444444444444,
                          "#bd3786"
                        ],
                        [
                          0.5555555555555556,
                          "#d8576b"
                        ],
                        [
                          0.6666666666666666,
                          "#ed7953"
                        ],
                        [
                          0.7777777777777778,
                          "#fb9f3a"
                        ],
                        [
                          0.8888888888888888,
                          "#fdca26"
                        ],
                        [
                          1,
                          "#f0f921"
                        ]
                      ],
                      "sequentialminus": [
                        [
                          0,
                          "#0d0887"
                        ],
                        [
                          0.1111111111111111,
                          "#46039f"
                        ],
                        [
                          0.2222222222222222,
                          "#7201a8"
                        ],
                        [
                          0.3333333333333333,
                          "#9c179e"
                        ],
                        [
                          0.4444444444444444,
                          "#bd3786"
                        ],
                        [
                          0.5555555555555556,
                          "#d8576b"
                        ],
                        [
                          0.6666666666666666,
                          "#ed7953"
                        ],
                        [
                          0.7777777777777778,
                          "#fb9f3a"
                        ],
                        [
                          0.8888888888888888,
                          "#fdca26"
                        ],
                        [
                          1,
                          "#f0f921"
                        ]
                      ]
                    },
                    "colorway": [
                      "#636efa",
                      "#EF553B",
                      "#00cc96",
                      "#ab63fa",
                      "#FFA15A",
                      "#19d3f3",
                      "#FF6692",
                      "#B6E880",
                      "#FF97FF",
                      "#FECB52"
                    ],
                    "font": {
                      "color": "#2a3f5f"
                    },
                    "geo": {
                      "bgcolor": "white",
                      "lakecolor": "white",
                      "landcolor": "#E5ECF6",
                      "showlakes": true,
                      "showland": true,
                      "subunitcolor": "white"
                    },
                    "hoverlabel": {
                      "align": "left"
                    },
                    "hovermode": "closest",
                    "mapbox": {
                      "style": "light"
                    },
                    "paper_bgcolor": "white",
                    "plot_bgcolor": "#E5ECF6",
                    "polar": {
                      "angularaxis": {
                        "gridcolor": "white",
                        "linecolor": "white",
                        "ticks": ""
                      },
                      "bgcolor": "#E5ECF6",
                      "radialaxis": {
                        "gridcolor": "white",
                        "linecolor": "white",
                        "ticks": ""
                      }
                    },
                    "scene": {
                      "xaxis": {
                        "backgroundcolor": "#E5ECF6",
                        "gridcolor": "white",
                        "gridwidth": 2,
                        "linecolor": "white",
                        "showbackground": true,
                        "ticks": "",
                        "zerolinecolor": "white"
                      },
                      "yaxis": {
                        "backgroundcolor": "#E5ECF6",
                        "gridcolor": "white",
                        "gridwidth": 2,
                        "linecolor": "white",
                        "showbackground": true,
                        "ticks": "",
                        "zerolinecolor": "white"
                      },
                      "zaxis": {
                        "backgroundcolor": "#E5ECF6",
                        "gridcolor": "white",
                        "gridwidth": 2,
                        "linecolor": "white",
                        "showbackground": true,
                        "ticks": "",
                        "zerolinecolor": "white"
                      }
                    },
                    "shapedefaults": {
                      "line": {
                        "color": "#2a3f5f"
                      }
                    },
                    "ternary": {
                      "aaxis": {
                        "gridcolor": "white",
                        "linecolor": "white",
                        "ticks": ""
                      },
                      "baxis": {
                        "gridcolor": "white",
                        "linecolor": "white",
                        "ticks": ""
                      },
                      "bgcolor": "#E5ECF6",
                      "caxis": {
                        "gridcolor": "white",
                        "linecolor": "white",
                        "ticks": ""
                      }
                    },
                    "title": {
                      "x": 0.05
                    },
                    "xaxis": {
                      "automargin": true,
                      "gridcolor": "white",
                      "linecolor": "white",
                      "ticks": "",
                      "title": {
                        "standoff": 15
                      },
                      "zerolinecolor": "white",
                      "zerolinewidth": 2
                    },
                    "yaxis": {
                      "automargin": true,
                      "gridcolor": "white",
                      "linecolor": "white",
                      "ticks": "",
                      "title": {
                        "standoff": 15
                      },
                      "zerolinecolor": "white",
                      "zerolinewidth": 2
                    }
                  }
                },
                "title": {
                  "text": "Preço da passagem em relação a classe do passageiro"
                },
                "width": 800,
                "xaxis": {
                  "anchor": "y",
                  "domain": [
                    0,
                    1
                  ],
                  "title": {
                    "text": "Pclass"
                  }
                },
                "yaxis": {
                  "anchor": "x",
                  "domain": [
                    0,
                    1
                  ],
                  "title": {
                    "text": "Fare"
                  }
                }
              }
            }
          },
          "metadata": {},
          "output_type": "display_data"
        }
      ],
      "source": [
        "fig = px.box(train, x=\"Pclass\", y=\"Fare\")\n",
        "fig.update_layout(height=400, width=800, title_text=\"Preço da passagem em relação a classe do passageiro\")\n",
        "fig.show()"
      ]
    },
    {
      "cell_type": "markdown",
      "metadata": {},
      "source": [
        "Há uma relação muito forte! Não há necessidade então de utilizar ambas colunas. Como \"Pclass\" na realidade é uma variável categórica, vou mantê-la e remover \"Fare\". Mas para isso, preciso alterar o tipo da coluna \"Pclass\" para ser tratada como objeto, e não numérica."
      ]
    },
    {
      "cell_type": "code",
      "execution_count": 98,
      "metadata": {},
      "outputs": [],
      "source": [
        "train[\"Pclass\"] = train[\"Pclass\"].astype(\"category\")\n",
        "cols.remove(\"Fare\")"
      ]
    },
    {
      "cell_type": "markdown",
      "metadata": {},
      "source": [
        "#### nº de familiares"
      ]
    },
    {
      "cell_type": "code",
      "execution_count": 102,
      "metadata": {
        "execution": {
          "iopub.status.busy": "2022-01-03T16:01:20.035495Z",
          "iopub.status.idle": "2022-01-03T16:01:20.036106Z",
          "shell.execute_reply": "2022-01-03T16:01:20.035943Z",
          "shell.execute_reply.started": "2022-01-03T16:01:20.035909Z"
        },
        "trusted": true
      },
      "outputs": [
        {
          "data": {
            "application/vnd.plotly.v1+json": {
              "config": {
                "plotlyServerURL": "https://plot.ly"
              },
              "data": [
                {
                  "alignmentgroup": "True",
                  "bingroup": "x",
                  "hovertemplate": "Survived=0<br>SibSp=%{x}<br>count=%{y}<extra></extra>",
                  "legendgroup": "0",
                  "marker": {
                    "color": "#363945",
                    "pattern": {
                      "shape": ""
                    }
                  },
                  "name": "0",
                  "offsetgroup": "0",
                  "orientation": "v",
                  "showlegend": true,
                  "type": "histogram",
                  "x": [
                    0,
                    0,
                    0,
                    1,
                    4,
                    0,
                    0,
                    1,
                    0,
                    1,
                    0,
                    1,
                    0,
                    4,
                    0,
                    0,
                    0,
                    0,
                    0,
                    0,
                    0,
                    0,
                    3,
                    3,
                    0,
                    0,
                    0,
                    0,
                    1,
                    0,
                    0,
                    1,
                    0,
                    0,
                    0,
                    0,
                    0,
                    0,
                    0,
                    0,
                    0,
                    0,
                    0,
                    0,
                    0,
                    0,
                    0,
                    0,
                    1,
                    0,
                    0,
                    0,
                    0,
                    1,
                    1,
                    0,
                    0,
                    0,
                    0,
                    0,
                    2,
                    0,
                    0,
                    0,
                    4,
                    1,
                    0,
                    0,
                    0,
                    0,
                    0,
                    0,
                    1,
                    1,
                    0,
                    1,
                    0,
                    0,
                    1,
                    0,
                    0,
                    0,
                    1,
                    0,
                    0,
                    3,
                    0,
                    1,
                    0,
                    0,
                    0,
                    2,
                    0,
                    0,
                    1,
                    1,
                    0,
                    0,
                    0,
                    0,
                    0,
                    1,
                    0,
                    4,
                    0,
                    0,
                    0,
                    3,
                    0,
                    1,
                    0,
                    4,
                    1,
                    0,
                    2,
                    0,
                    1,
                    0,
                    0,
                    1,
                    1,
                    1,
                    0,
                    0,
                    1,
                    0,
                    0,
                    0,
                    0,
                    0,
                    0,
                    0,
                    0,
                    0,
                    0,
                    0,
                    1,
                    0,
                    0,
                    0,
                    8,
                    1,
                    0,
                    0,
                    0,
                    0,
                    1,
                    0,
                    0,
                    1,
                    0,
                    0,
                    0,
                    0,
                    0,
                    0,
                    0,
                    0,
                    0,
                    1,
                    0,
                    0,
                    1,
                    0,
                    1,
                    0,
                    0,
                    1,
                    0,
                    0,
                    0,
                    0,
                    0,
                    4,
                    0,
                    0,
                    2,
                    0,
                    0,
                    0,
                    3,
                    1,
                    0,
                    1,
                    0,
                    1,
                    0,
                    1,
                    0,
                    5,
                    0,
                    0,
                    0,
                    0,
                    1,
                    0,
                    1,
                    0,
                    0,
                    0,
                    0,
                    0,
                    0,
                    0,
                    0,
                    4,
                    1,
                    0,
                    0,
                    0,
                    8,
                    0,
                    0,
                    2,
                    1,
                    2,
                    0,
                    1,
                    0,
                    0,
                    0,
                    0,
                    0,
                    8,
                    0,
                    1,
                    0,
                    0,
                    0,
                    0,
                    2,
                    4,
                    4,
                    0,
                    2,
                    0,
                    0,
                    1,
                    5,
                    0,
                    0,
                    0,
                    0,
                    0,
                    1,
                    3,
                    0,
                    3,
                    0,
                    0,
                    0,
                    0,
                    0,
                    1,
                    1,
                    1,
                    0,
                    0,
                    1,
                    0,
                    0,
                    1,
                    0,
                    0,
                    0,
                    0,
                    4,
                    1,
                    0,
                    0,
                    0,
                    1,
                    0,
                    0,
                    0,
                    1,
                    1,
                    1,
                    0,
                    0,
                    0,
                    0,
                    2,
                    0,
                    0,
                    0,
                    0,
                    0,
                    0,
                    0,
                    0,
                    1,
                    0,
                    1,
                    0,
                    0,
                    0,
                    1,
                    1,
                    0,
                    0,
                    0,
                    0,
                    0,
                    0,
                    0,
                    0,
                    5,
                    8,
                    0,
                    0,
                    0,
                    0,
                    1,
                    0,
                    0,
                    0,
                    0,
                    0,
                    0,
                    0,
                    0,
                    0,
                    0,
                    8,
                    1,
                    1,
                    1,
                    0,
                    4,
                    0,
                    0,
                    4,
                    0,
                    1,
                    8,
                    0,
                    1,
                    0,
                    0,
                    0,
                    0,
                    1,
                    0,
                    1,
                    2,
                    0,
                    0,
                    1,
                    0,
                    3,
                    0,
                    0,
                    5,
                    0,
                    0,
                    0,
                    0,
                    3,
                    0,
                    0,
                    0,
                    0,
                    0,
                    1,
                    0,
                    1,
                    0,
                    0,
                    0,
                    0,
                    1,
                    0,
                    0,
                    1,
                    0,
                    0,
                    1,
                    0,
                    8,
                    0,
                    1,
                    0,
                    0,
                    1,
                    0,
                    0,
                    2,
                    0,
                    0,
                    0,
                    0,
                    1,
                    0,
                    0,
                    0,
                    0,
                    0,
                    0,
                    0,
                    1,
                    0,
                    0,
                    0,
                    0,
                    0,
                    0,
                    0,
                    0,
                    4,
                    0,
                    0,
                    0,
                    0,
                    0,
                    0,
                    0,
                    0,
                    0,
                    0,
                    0,
                    0,
                    0,
                    0,
                    0,
                    0,
                    0,
                    0,
                    1,
                    0,
                    0,
                    0,
                    1,
                    0,
                    0,
                    1,
                    0,
                    0,
                    0,
                    0,
                    5,
                    0,
                    2,
                    0
                  ],
                  "xaxis": "x",
                  "yaxis": "y"
                },
                {
                  "alignmentgroup": "True",
                  "bingroup": "x",
                  "hovertemplate": "Survived=1<br>SibSp=%{x}<br>count=%{y}<extra></extra>",
                  "legendgroup": "1",
                  "marker": {
                    "color": "#B6E880",
                    "pattern": {
                      "shape": ""
                    }
                  },
                  "name": "1",
                  "offsetgroup": "1",
                  "orientation": "v",
                  "showlegend": true,
                  "type": "histogram",
                  "x": [
                    0,
                    0,
                    0,
                    0,
                    1,
                    0,
                    1,
                    0,
                    0,
                    0,
                    0,
                    1,
                    1,
                    1,
                    0,
                    0,
                    0,
                    1,
                    1,
                    0,
                    2,
                    0,
                    0,
                    0,
                    0,
                    0,
                    1,
                    0,
                    0,
                    2,
                    0,
                    1,
                    1,
                    0,
                    0,
                    0,
                    0,
                    0,
                    1,
                    1,
                    1,
                    1,
                    0,
                    1,
                    1,
                    0,
                    1,
                    1,
                    0,
                    1,
                    0,
                    0,
                    0,
                    0,
                    1,
                    0,
                    0,
                    0,
                    0,
                    0,
                    0,
                    1,
                    1,
                    0,
                    0,
                    1,
                    1,
                    0,
                    0,
                    0,
                    0,
                    0,
                    0,
                    1,
                    0,
                    1,
                    1,
                    0,
                    0,
                    0,
                    2,
                    0,
                    1,
                    1,
                    0,
                    0,
                    1,
                    0,
                    0,
                    0,
                    1,
                    0,
                    1,
                    1,
                    0,
                    0,
                    1,
                    1,
                    0,
                    0,
                    1,
                    1,
                    0,
                    4,
                    0,
                    3,
                    1,
                    0,
                    0,
                    0,
                    1,
                    0,
                    0,
                    0,
                    1,
                    1,
                    0,
                    0,
                    1,
                    0,
                    0,
                    0,
                    4,
                    0,
                    0,
                    0,
                    1,
                    0,
                    3,
                    0,
                    0,
                    1,
                    0,
                    0,
                    0,
                    1,
                    0,
                    1,
                    0,
                    0,
                    0,
                    0,
                    1,
                    0,
                    2,
                    0,
                    0,
                    0,
                    0,
                    0,
                    2,
                    0,
                    2,
                    0,
                    0,
                    0,
                    0,
                    0,
                    2,
                    1,
                    1,
                    0,
                    0,
                    0,
                    0,
                    0,
                    0,
                    2,
                    0,
                    0,
                    0,
                    1,
                    0,
                    1,
                    0,
                    0,
                    1,
                    0,
                    1,
                    0,
                    2,
                    1,
                    0,
                    0,
                    0,
                    0,
                    1,
                    1,
                    1,
                    0,
                    0,
                    4,
                    0,
                    0,
                    0,
                    0,
                    1,
                    1,
                    1,
                    0,
                    1,
                    1,
                    1,
                    1,
                    3,
                    0,
                    0,
                    1,
                    0,
                    1,
                    0,
                    0,
                    0,
                    0,
                    1,
                    1,
                    0,
                    0,
                    0,
                    0,
                    0,
                    1,
                    1,
                    0,
                    0,
                    0,
                    1,
                    0,
                    0,
                    0,
                    1,
                    0,
                    1,
                    0,
                    1,
                    0,
                    3,
                    0,
                    0,
                    0,
                    0,
                    0,
                    1,
                    0,
                    1,
                    0,
                    1,
                    0,
                    2,
                    0,
                    0,
                    1,
                    0,
                    1,
                    0,
                    0,
                    1,
                    0,
                    0,
                    1,
                    0,
                    2,
                    1,
                    0,
                    1
                  ],
                  "xaxis": "x",
                  "yaxis": "y"
                }
              ],
              "layout": {
                "barmode": "relative",
                "height": 400,
                "legend": {
                  "title": {
                    "text": "Survived"
                  },
                  "tracegroupgap": 0
                },
                "margin": {
                  "t": 60
                },
                "template": {
                  "data": {
                    "bar": [
                      {
                        "error_x": {
                          "color": "#2a3f5f"
                        },
                        "error_y": {
                          "color": "#2a3f5f"
                        },
                        "marker": {
                          "line": {
                            "color": "#E5ECF6",
                            "width": 0.5
                          },
                          "pattern": {
                            "fillmode": "overlay",
                            "size": 10,
                            "solidity": 0.2
                          }
                        },
                        "type": "bar"
                      }
                    ],
                    "barpolar": [
                      {
                        "marker": {
                          "line": {
                            "color": "#E5ECF6",
                            "width": 0.5
                          },
                          "pattern": {
                            "fillmode": "overlay",
                            "size": 10,
                            "solidity": 0.2
                          }
                        },
                        "type": "barpolar"
                      }
                    ],
                    "carpet": [
                      {
                        "aaxis": {
                          "endlinecolor": "#2a3f5f",
                          "gridcolor": "white",
                          "linecolor": "white",
                          "minorgridcolor": "white",
                          "startlinecolor": "#2a3f5f"
                        },
                        "baxis": {
                          "endlinecolor": "#2a3f5f",
                          "gridcolor": "white",
                          "linecolor": "white",
                          "minorgridcolor": "white",
                          "startlinecolor": "#2a3f5f"
                        },
                        "type": "carpet"
                      }
                    ],
                    "choropleth": [
                      {
                        "colorbar": {
                          "outlinewidth": 0,
                          "ticks": ""
                        },
                        "type": "choropleth"
                      }
                    ],
                    "contour": [
                      {
                        "colorbar": {
                          "outlinewidth": 0,
                          "ticks": ""
                        },
                        "colorscale": [
                          [
                            0,
                            "#0d0887"
                          ],
                          [
                            0.1111111111111111,
                            "#46039f"
                          ],
                          [
                            0.2222222222222222,
                            "#7201a8"
                          ],
                          [
                            0.3333333333333333,
                            "#9c179e"
                          ],
                          [
                            0.4444444444444444,
                            "#bd3786"
                          ],
                          [
                            0.5555555555555556,
                            "#d8576b"
                          ],
                          [
                            0.6666666666666666,
                            "#ed7953"
                          ],
                          [
                            0.7777777777777778,
                            "#fb9f3a"
                          ],
                          [
                            0.8888888888888888,
                            "#fdca26"
                          ],
                          [
                            1,
                            "#f0f921"
                          ]
                        ],
                        "type": "contour"
                      }
                    ],
                    "contourcarpet": [
                      {
                        "colorbar": {
                          "outlinewidth": 0,
                          "ticks": ""
                        },
                        "type": "contourcarpet"
                      }
                    ],
                    "heatmap": [
                      {
                        "colorbar": {
                          "outlinewidth": 0,
                          "ticks": ""
                        },
                        "colorscale": [
                          [
                            0,
                            "#0d0887"
                          ],
                          [
                            0.1111111111111111,
                            "#46039f"
                          ],
                          [
                            0.2222222222222222,
                            "#7201a8"
                          ],
                          [
                            0.3333333333333333,
                            "#9c179e"
                          ],
                          [
                            0.4444444444444444,
                            "#bd3786"
                          ],
                          [
                            0.5555555555555556,
                            "#d8576b"
                          ],
                          [
                            0.6666666666666666,
                            "#ed7953"
                          ],
                          [
                            0.7777777777777778,
                            "#fb9f3a"
                          ],
                          [
                            0.8888888888888888,
                            "#fdca26"
                          ],
                          [
                            1,
                            "#f0f921"
                          ]
                        ],
                        "type": "heatmap"
                      }
                    ],
                    "heatmapgl": [
                      {
                        "colorbar": {
                          "outlinewidth": 0,
                          "ticks": ""
                        },
                        "colorscale": [
                          [
                            0,
                            "#0d0887"
                          ],
                          [
                            0.1111111111111111,
                            "#46039f"
                          ],
                          [
                            0.2222222222222222,
                            "#7201a8"
                          ],
                          [
                            0.3333333333333333,
                            "#9c179e"
                          ],
                          [
                            0.4444444444444444,
                            "#bd3786"
                          ],
                          [
                            0.5555555555555556,
                            "#d8576b"
                          ],
                          [
                            0.6666666666666666,
                            "#ed7953"
                          ],
                          [
                            0.7777777777777778,
                            "#fb9f3a"
                          ],
                          [
                            0.8888888888888888,
                            "#fdca26"
                          ],
                          [
                            1,
                            "#f0f921"
                          ]
                        ],
                        "type": "heatmapgl"
                      }
                    ],
                    "histogram": [
                      {
                        "marker": {
                          "pattern": {
                            "fillmode": "overlay",
                            "size": 10,
                            "solidity": 0.2
                          }
                        },
                        "type": "histogram"
                      }
                    ],
                    "histogram2d": [
                      {
                        "colorbar": {
                          "outlinewidth": 0,
                          "ticks": ""
                        },
                        "colorscale": [
                          [
                            0,
                            "#0d0887"
                          ],
                          [
                            0.1111111111111111,
                            "#46039f"
                          ],
                          [
                            0.2222222222222222,
                            "#7201a8"
                          ],
                          [
                            0.3333333333333333,
                            "#9c179e"
                          ],
                          [
                            0.4444444444444444,
                            "#bd3786"
                          ],
                          [
                            0.5555555555555556,
                            "#d8576b"
                          ],
                          [
                            0.6666666666666666,
                            "#ed7953"
                          ],
                          [
                            0.7777777777777778,
                            "#fb9f3a"
                          ],
                          [
                            0.8888888888888888,
                            "#fdca26"
                          ],
                          [
                            1,
                            "#f0f921"
                          ]
                        ],
                        "type": "histogram2d"
                      }
                    ],
                    "histogram2dcontour": [
                      {
                        "colorbar": {
                          "outlinewidth": 0,
                          "ticks": ""
                        },
                        "colorscale": [
                          [
                            0,
                            "#0d0887"
                          ],
                          [
                            0.1111111111111111,
                            "#46039f"
                          ],
                          [
                            0.2222222222222222,
                            "#7201a8"
                          ],
                          [
                            0.3333333333333333,
                            "#9c179e"
                          ],
                          [
                            0.4444444444444444,
                            "#bd3786"
                          ],
                          [
                            0.5555555555555556,
                            "#d8576b"
                          ],
                          [
                            0.6666666666666666,
                            "#ed7953"
                          ],
                          [
                            0.7777777777777778,
                            "#fb9f3a"
                          ],
                          [
                            0.8888888888888888,
                            "#fdca26"
                          ],
                          [
                            1,
                            "#f0f921"
                          ]
                        ],
                        "type": "histogram2dcontour"
                      }
                    ],
                    "mesh3d": [
                      {
                        "colorbar": {
                          "outlinewidth": 0,
                          "ticks": ""
                        },
                        "type": "mesh3d"
                      }
                    ],
                    "parcoords": [
                      {
                        "line": {
                          "colorbar": {
                            "outlinewidth": 0,
                            "ticks": ""
                          }
                        },
                        "type": "parcoords"
                      }
                    ],
                    "pie": [
                      {
                        "automargin": true,
                        "type": "pie"
                      }
                    ],
                    "scatter": [
                      {
                        "marker": {
                          "colorbar": {
                            "outlinewidth": 0,
                            "ticks": ""
                          }
                        },
                        "type": "scatter"
                      }
                    ],
                    "scatter3d": [
                      {
                        "line": {
                          "colorbar": {
                            "outlinewidth": 0,
                            "ticks": ""
                          }
                        },
                        "marker": {
                          "colorbar": {
                            "outlinewidth": 0,
                            "ticks": ""
                          }
                        },
                        "type": "scatter3d"
                      }
                    ],
                    "scattercarpet": [
                      {
                        "marker": {
                          "colorbar": {
                            "outlinewidth": 0,
                            "ticks": ""
                          }
                        },
                        "type": "scattercarpet"
                      }
                    ],
                    "scattergeo": [
                      {
                        "marker": {
                          "colorbar": {
                            "outlinewidth": 0,
                            "ticks": ""
                          }
                        },
                        "type": "scattergeo"
                      }
                    ],
                    "scattergl": [
                      {
                        "marker": {
                          "colorbar": {
                            "outlinewidth": 0,
                            "ticks": ""
                          }
                        },
                        "type": "scattergl"
                      }
                    ],
                    "scattermapbox": [
                      {
                        "marker": {
                          "colorbar": {
                            "outlinewidth": 0,
                            "ticks": ""
                          }
                        },
                        "type": "scattermapbox"
                      }
                    ],
                    "scatterpolar": [
                      {
                        "marker": {
                          "colorbar": {
                            "outlinewidth": 0,
                            "ticks": ""
                          }
                        },
                        "type": "scatterpolar"
                      }
                    ],
                    "scatterpolargl": [
                      {
                        "marker": {
                          "colorbar": {
                            "outlinewidth": 0,
                            "ticks": ""
                          }
                        },
                        "type": "scatterpolargl"
                      }
                    ],
                    "scatterternary": [
                      {
                        "marker": {
                          "colorbar": {
                            "outlinewidth": 0,
                            "ticks": ""
                          }
                        },
                        "type": "scatterternary"
                      }
                    ],
                    "surface": [
                      {
                        "colorbar": {
                          "outlinewidth": 0,
                          "ticks": ""
                        },
                        "colorscale": [
                          [
                            0,
                            "#0d0887"
                          ],
                          [
                            0.1111111111111111,
                            "#46039f"
                          ],
                          [
                            0.2222222222222222,
                            "#7201a8"
                          ],
                          [
                            0.3333333333333333,
                            "#9c179e"
                          ],
                          [
                            0.4444444444444444,
                            "#bd3786"
                          ],
                          [
                            0.5555555555555556,
                            "#d8576b"
                          ],
                          [
                            0.6666666666666666,
                            "#ed7953"
                          ],
                          [
                            0.7777777777777778,
                            "#fb9f3a"
                          ],
                          [
                            0.8888888888888888,
                            "#fdca26"
                          ],
                          [
                            1,
                            "#f0f921"
                          ]
                        ],
                        "type": "surface"
                      }
                    ],
                    "table": [
                      {
                        "cells": {
                          "fill": {
                            "color": "#EBF0F8"
                          },
                          "line": {
                            "color": "white"
                          }
                        },
                        "header": {
                          "fill": {
                            "color": "#C8D4E3"
                          },
                          "line": {
                            "color": "white"
                          }
                        },
                        "type": "table"
                      }
                    ]
                  },
                  "layout": {
                    "annotationdefaults": {
                      "arrowcolor": "#2a3f5f",
                      "arrowhead": 0,
                      "arrowwidth": 1
                    },
                    "autotypenumbers": "strict",
                    "coloraxis": {
                      "colorbar": {
                        "outlinewidth": 0,
                        "ticks": ""
                      }
                    },
                    "colorscale": {
                      "diverging": [
                        [
                          0,
                          "#8e0152"
                        ],
                        [
                          0.1,
                          "#c51b7d"
                        ],
                        [
                          0.2,
                          "#de77ae"
                        ],
                        [
                          0.3,
                          "#f1b6da"
                        ],
                        [
                          0.4,
                          "#fde0ef"
                        ],
                        [
                          0.5,
                          "#f7f7f7"
                        ],
                        [
                          0.6,
                          "#e6f5d0"
                        ],
                        [
                          0.7,
                          "#b8e186"
                        ],
                        [
                          0.8,
                          "#7fbc41"
                        ],
                        [
                          0.9,
                          "#4d9221"
                        ],
                        [
                          1,
                          "#276419"
                        ]
                      ],
                      "sequential": [
                        [
                          0,
                          "#0d0887"
                        ],
                        [
                          0.1111111111111111,
                          "#46039f"
                        ],
                        [
                          0.2222222222222222,
                          "#7201a8"
                        ],
                        [
                          0.3333333333333333,
                          "#9c179e"
                        ],
                        [
                          0.4444444444444444,
                          "#bd3786"
                        ],
                        [
                          0.5555555555555556,
                          "#d8576b"
                        ],
                        [
                          0.6666666666666666,
                          "#ed7953"
                        ],
                        [
                          0.7777777777777778,
                          "#fb9f3a"
                        ],
                        [
                          0.8888888888888888,
                          "#fdca26"
                        ],
                        [
                          1,
                          "#f0f921"
                        ]
                      ],
                      "sequentialminus": [
                        [
                          0,
                          "#0d0887"
                        ],
                        [
                          0.1111111111111111,
                          "#46039f"
                        ],
                        [
                          0.2222222222222222,
                          "#7201a8"
                        ],
                        [
                          0.3333333333333333,
                          "#9c179e"
                        ],
                        [
                          0.4444444444444444,
                          "#bd3786"
                        ],
                        [
                          0.5555555555555556,
                          "#d8576b"
                        ],
                        [
                          0.6666666666666666,
                          "#ed7953"
                        ],
                        [
                          0.7777777777777778,
                          "#fb9f3a"
                        ],
                        [
                          0.8888888888888888,
                          "#fdca26"
                        ],
                        [
                          1,
                          "#f0f921"
                        ]
                      ]
                    },
                    "colorway": [
                      "#636efa",
                      "#EF553B",
                      "#00cc96",
                      "#ab63fa",
                      "#FFA15A",
                      "#19d3f3",
                      "#FF6692",
                      "#B6E880",
                      "#FF97FF",
                      "#FECB52"
                    ],
                    "font": {
                      "color": "#2a3f5f"
                    },
                    "geo": {
                      "bgcolor": "white",
                      "lakecolor": "white",
                      "landcolor": "#E5ECF6",
                      "showlakes": true,
                      "showland": true,
                      "subunitcolor": "white"
                    },
                    "hoverlabel": {
                      "align": "left"
                    },
                    "hovermode": "closest",
                    "mapbox": {
                      "style": "light"
                    },
                    "paper_bgcolor": "white",
                    "plot_bgcolor": "#E5ECF6",
                    "polar": {
                      "angularaxis": {
                        "gridcolor": "white",
                        "linecolor": "white",
                        "ticks": ""
                      },
                      "bgcolor": "#E5ECF6",
                      "radialaxis": {
                        "gridcolor": "white",
                        "linecolor": "white",
                        "ticks": ""
                      }
                    },
                    "scene": {
                      "xaxis": {
                        "backgroundcolor": "#E5ECF6",
                        "gridcolor": "white",
                        "gridwidth": 2,
                        "linecolor": "white",
                        "showbackground": true,
                        "ticks": "",
                        "zerolinecolor": "white"
                      },
                      "yaxis": {
                        "backgroundcolor": "#E5ECF6",
                        "gridcolor": "white",
                        "gridwidth": 2,
                        "linecolor": "white",
                        "showbackground": true,
                        "ticks": "",
                        "zerolinecolor": "white"
                      },
                      "zaxis": {
                        "backgroundcolor": "#E5ECF6",
                        "gridcolor": "white",
                        "gridwidth": 2,
                        "linecolor": "white",
                        "showbackground": true,
                        "ticks": "",
                        "zerolinecolor": "white"
                      }
                    },
                    "shapedefaults": {
                      "line": {
                        "color": "#2a3f5f"
                      }
                    },
                    "ternary": {
                      "aaxis": {
                        "gridcolor": "white",
                        "linecolor": "white",
                        "ticks": ""
                      },
                      "baxis": {
                        "gridcolor": "white",
                        "linecolor": "white",
                        "ticks": ""
                      },
                      "bgcolor": "#E5ECF6",
                      "caxis": {
                        "gridcolor": "white",
                        "linecolor": "white",
                        "ticks": ""
                      }
                    },
                    "title": {
                      "x": 0.05
                    },
                    "xaxis": {
                      "automargin": true,
                      "gridcolor": "white",
                      "linecolor": "white",
                      "ticks": "",
                      "title": {
                        "standoff": 15
                      },
                      "zerolinecolor": "white",
                      "zerolinewidth": 2
                    },
                    "yaxis": {
                      "automargin": true,
                      "gridcolor": "white",
                      "linecolor": "white",
                      "ticks": "",
                      "title": {
                        "standoff": 15
                      },
                      "zerolinecolor": "white",
                      "zerolinewidth": 2
                    }
                  }
                },
                "title": {
                  "text": "Sobrevivência em relação à quantidade familiares"
                },
                "width": 800,
                "xaxis": {
                  "anchor": "y",
                  "domain": [
                    0,
                    1
                  ],
                  "title": {
                    "text": "SibSp"
                  }
                },
                "yaxis": {
                  "anchor": "x",
                  "domain": [
                    0,
                    1
                  ],
                  "title": {
                    "text": "count"
                  }
                }
              }
            }
          },
          "metadata": {},
          "output_type": "display_data"
        }
      ],
      "source": [
        "fig = px.histogram(train, x=\"SibSp\", color=\"Survived\", color_discrete_sequence=[\"#363945\", \"#B6E880\"])\n",
        "fig.update_layout(height=400, width=800, title_text=\"Sobrevivência em relação à quantidade de irmãos/cônjuges\")\n",
        "fig.show()"
      ]
    },
    {
      "cell_type": "code",
      "execution_count": 101,
      "metadata": {
        "execution": {
          "iopub.status.busy": "2022-01-03T16:01:20.037353Z",
          "iopub.status.idle": "2022-01-03T16:01:20.037722Z",
          "shell.execute_reply": "2022-01-03T16:01:20.037565Z",
          "shell.execute_reply.started": "2022-01-03T16:01:20.037539Z"
        },
        "trusted": true
      },
      "outputs": [
        {
          "data": {
            "application/vnd.plotly.v1+json": {
              "config": {
                "plotlyServerURL": "https://plot.ly"
              },
              "data": [
                {
                  "alignmentgroup": "True",
                  "bingroup": "x",
                  "hovertemplate": "Survived=0<br>Parch=%{x}<br>count=%{y}<extra></extra>",
                  "legendgroup": "0",
                  "marker": {
                    "color": "#363945",
                    "pattern": {
                      "shape": ""
                    }
                  },
                  "name": "0",
                  "offsetgroup": "0",
                  "orientation": "v",
                  "showlegend": true,
                  "type": "histogram",
                  "x": [
                    0,
                    0,
                    0,
                    0,
                    2,
                    1,
                    0,
                    0,
                    0,
                    1,
                    0,
                    0,
                    0,
                    2,
                    0,
                    0,
                    0,
                    0,
                    0,
                    2,
                    0,
                    0,
                    1,
                    1,
                    1,
                    0,
                    0,
                    0,
                    1,
                    0,
                    0,
                    0,
                    0,
                    0,
                    0,
                    0,
                    0,
                    0,
                    0,
                    0,
                    0,
                    0,
                    0,
                    2,
                    0,
                    0,
                    0,
                    0,
                    0,
                    0,
                    0,
                    0,
                    0,
                    2,
                    1,
                    1,
                    0,
                    0,
                    0,
                    0,
                    0,
                    0,
                    0,
                    0,
                    1,
                    2,
                    0,
                    0,
                    2,
                    0,
                    0,
                    0,
                    2,
                    0,
                    0,
                    1,
                    0,
                    0,
                    0,
                    0,
                    0,
                    0,
                    0,
                    0,
                    0,
                    1,
                    0,
                    0,
                    0,
                    0,
                    0,
                    2,
                    0,
                    0,
                    1,
                    0,
                    0,
                    0,
                    0,
                    0,
                    0,
                    1,
                    0,
                    2,
                    0,
                    0,
                    0,
                    1,
                    0,
                    6,
                    0,
                    1,
                    0,
                    0,
                    0,
                    0,
                    0,
                    0,
                    0,
                    0,
                    1,
                    1,
                    0,
                    0,
                    4,
                    0,
                    0,
                    0,
                    0,
                    0,
                    2,
                    0,
                    0,
                    0,
                    0,
                    0,
                    0,
                    0,
                    4,
                    0,
                    2,
                    0,
                    0,
                    0,
                    0,
                    0,
                    0,
                    0,
                    0,
                    2,
                    0,
                    0,
                    0,
                    2,
                    0,
                    0,
                    0,
                    0,
                    0,
                    1,
                    0,
                    0,
                    0,
                    0,
                    0,
                    0,
                    0,
                    0,
                    0,
                    0,
                    0,
                    0,
                    0,
                    1,
                    0,
                    0,
                    0,
                    0,
                    0,
                    0,
                    2,
                    1,
                    0,
                    1,
                    0,
                    0,
                    0,
                    0,
                    0,
                    2,
                    0,
                    0,
                    0,
                    0,
                    0,
                    0,
                    1,
                    0,
                    0,
                    0,
                    0,
                    0,
                    0,
                    1,
                    0,
                    1,
                    0,
                    0,
                    0,
                    0,
                    2,
                    0,
                    0,
                    0,
                    1,
                    0,
                    0,
                    0,
                    0,
                    0,
                    0,
                    0,
                    0,
                    2,
                    5,
                    1,
                    0,
                    0,
                    0,
                    0,
                    0,
                    1,
                    1,
                    0,
                    0,
                    0,
                    0,
                    0,
                    2,
                    0,
                    0,
                    0,
                    1,
                    0,
                    0,
                    1,
                    0,
                    1,
                    0,
                    0,
                    0,
                    0,
                    0,
                    0,
                    0,
                    2,
                    0,
                    0,
                    1,
                    0,
                    0,
                    0,
                    0,
                    0,
                    2,
                    0,
                    2,
                    0,
                    0,
                    0,
                    0,
                    0,
                    0,
                    0,
                    0,
                    1,
                    5,
                    2,
                    0,
                    0,
                    0,
                    0,
                    2,
                    0,
                    0,
                    0,
                    0,
                    0,
                    0,
                    1,
                    0,
                    0,
                    0,
                    4,
                    0,
                    0,
                    0,
                    1,
                    0,
                    0,
                    0,
                    0,
                    0,
                    0,
                    0,
                    0,
                    0,
                    2,
                    2,
                    0,
                    0,
                    0,
                    0,
                    0,
                    0,
                    0,
                    0,
                    0,
                    0,
                    0,
                    0,
                    0,
                    0,
                    0,
                    2,
                    0,
                    0,
                    0,
                    0,
                    1,
                    0,
                    0,
                    2,
                    0,
                    1,
                    2,
                    0,
                    0,
                    0,
                    0,
                    0,
                    0,
                    0,
                    0,
                    0,
                    0,
                    0,
                    0,
                    0,
                    0,
                    2,
                    0,
                    0,
                    2,
                    0,
                    0,
                    0,
                    0,
                    2,
                    0,
                    0,
                    0,
                    0,
                    0,
                    2,
                    0,
                    0,
                    0,
                    0,
                    0,
                    0,
                    0,
                    0,
                    0,
                    0,
                    0,
                    0,
                    1,
                    0,
                    2,
                    0,
                    0,
                    0,
                    1,
                    0,
                    0,
                    0,
                    0,
                    0,
                    0,
                    0,
                    1,
                    0,
                    0,
                    0,
                    0,
                    0,
                    0,
                    0,
                    0,
                    5,
                    1,
                    0,
                    0,
                    0,
                    0,
                    0,
                    0,
                    0,
                    1,
                    0,
                    0,
                    0,
                    0,
                    0,
                    0,
                    0,
                    0,
                    0,
                    1,
                    0,
                    0,
                    0,
                    0,
                    0,
                    0,
                    0,
                    0,
                    0,
                    0,
                    0,
                    0,
                    0,
                    0,
                    0,
                    0,
                    0,
                    0,
                    0,
                    0,
                    2,
                    0,
                    0,
                    1
                  ],
                  "xaxis": "x",
                  "yaxis": "y"
                },
                {
                  "alignmentgroup": "True",
                  "bingroup": "x",
                  "hovertemplate": "Survived=1<br>Parch=%{x}<br>count=%{y}<extra></extra>",
                  "legendgroup": "1",
                  "marker": {
                    "color": "#B6E880",
                    "pattern": {
                      "shape": ""
                    }
                  },
                  "name": "1",
                  "offsetgroup": "1",
                  "orientation": "v",
                  "showlegend": true,
                  "type": "histogram",
                  "x": [
                    0,
                    0,
                    0,
                    1,
                    0,
                    0,
                    0,
                    2,
                    0,
                    0,
                    2,
                    2,
                    0,
                    1,
                    1,
                    0,
                    2,
                    2,
                    0,
                    0,
                    2,
                    0,
                    0,
                    0,
                    0,
                    0,
                    0,
                    0,
                    0,
                    0,
                    0,
                    0,
                    0,
                    0,
                    0,
                    0,
                    0,
                    2,
                    1,
                    1,
                    1,
                    0,
                    0,
                    1,
                    1,
                    2,
                    1,
                    0,
                    0,
                    0,
                    0,
                    0,
                    2,
                    0,
                    1,
                    0,
                    0,
                    0,
                    0,
                    1,
                    0,
                    0,
                    1,
                    0,
                    1,
                    0,
                    1,
                    0,
                    0,
                    0,
                    0,
                    1,
                    0,
                    0,
                    0,
                    0,
                    2,
                    1,
                    1,
                    0,
                    1,
                    0,
                    2,
                    0,
                    0,
                    0,
                    0,
                    0,
                    0,
                    0,
                    0,
                    2,
                    1,
                    0,
                    0,
                    1,
                    0,
                    1,
                    2,
                    0,
                    1,
                    0,
                    2,
                    2,
                    0,
                    2,
                    0,
                    0,
                    2,
                    1,
                    1,
                    0,
                    0,
                    2,
                    1,
                    0,
                    0,
                    1,
                    0,
                    0,
                    1,
                    0,
                    2,
                    0,
                    0,
                    0,
                    0,
                    0,
                    2,
                    3,
                    1,
                    0,
                    0,
                    0,
                    0,
                    1,
                    0,
                    1,
                    0,
                    0,
                    0,
                    2,
                    1,
                    0,
                    0,
                    0,
                    0,
                    0,
                    0,
                    0,
                    3,
                    0,
                    1,
                    1,
                    0,
                    0,
                    0,
                    0,
                    1,
                    0,
                    0,
                    0,
                    0,
                    0,
                    2,
                    0,
                    0,
                    0,
                    0,
                    2,
                    0,
                    1,
                    0,
                    0,
                    0,
                    0,
                    2,
                    0,
                    1,
                    0,
                    1,
                    2,
                    1,
                    0,
                    1,
                    0,
                    0,
                    0,
                    3,
                    0,
                    1,
                    2,
                    0,
                    0,
                    0,
                    0,
                    0,
                    2,
                    0,
                    1,
                    0,
                    2,
                    0,
                    0,
                    0,
                    2,
                    0,
                    1,
                    0,
                    0,
                    0,
                    0,
                    0,
                    0,
                    0,
                    0,
                    1,
                    0,
                    0,
                    0,
                    0,
                    0,
                    1,
                    0,
                    0,
                    0,
                    1,
                    0,
                    0,
                    0,
                    2,
                    0,
                    0,
                    0,
                    0,
                    0,
                    0,
                    0,
                    0,
                    0,
                    0,
                    0,
                    0,
                    0,
                    0,
                    0,
                    0,
                    0,
                    1,
                    0,
                    1,
                    0,
                    0,
                    1,
                    0,
                    0,
                    2,
                    0,
                    0,
                    1,
                    0,
                    0,
                    0,
                    0,
                    2
                  ],
                  "xaxis": "x",
                  "yaxis": "y"
                }
              ],
              "layout": {
                "barmode": "relative",
                "height": 400,
                "legend": {
                  "title": {
                    "text": "Survived"
                  },
                  "tracegroupgap": 0
                },
                "margin": {
                  "t": 60
                },
                "template": {
                  "data": {
                    "bar": [
                      {
                        "error_x": {
                          "color": "#2a3f5f"
                        },
                        "error_y": {
                          "color": "#2a3f5f"
                        },
                        "marker": {
                          "line": {
                            "color": "#E5ECF6",
                            "width": 0.5
                          },
                          "pattern": {
                            "fillmode": "overlay",
                            "size": 10,
                            "solidity": 0.2
                          }
                        },
                        "type": "bar"
                      }
                    ],
                    "barpolar": [
                      {
                        "marker": {
                          "line": {
                            "color": "#E5ECF6",
                            "width": 0.5
                          },
                          "pattern": {
                            "fillmode": "overlay",
                            "size": 10,
                            "solidity": 0.2
                          }
                        },
                        "type": "barpolar"
                      }
                    ],
                    "carpet": [
                      {
                        "aaxis": {
                          "endlinecolor": "#2a3f5f",
                          "gridcolor": "white",
                          "linecolor": "white",
                          "minorgridcolor": "white",
                          "startlinecolor": "#2a3f5f"
                        },
                        "baxis": {
                          "endlinecolor": "#2a3f5f",
                          "gridcolor": "white",
                          "linecolor": "white",
                          "minorgridcolor": "white",
                          "startlinecolor": "#2a3f5f"
                        },
                        "type": "carpet"
                      }
                    ],
                    "choropleth": [
                      {
                        "colorbar": {
                          "outlinewidth": 0,
                          "ticks": ""
                        },
                        "type": "choropleth"
                      }
                    ],
                    "contour": [
                      {
                        "colorbar": {
                          "outlinewidth": 0,
                          "ticks": ""
                        },
                        "colorscale": [
                          [
                            0,
                            "#0d0887"
                          ],
                          [
                            0.1111111111111111,
                            "#46039f"
                          ],
                          [
                            0.2222222222222222,
                            "#7201a8"
                          ],
                          [
                            0.3333333333333333,
                            "#9c179e"
                          ],
                          [
                            0.4444444444444444,
                            "#bd3786"
                          ],
                          [
                            0.5555555555555556,
                            "#d8576b"
                          ],
                          [
                            0.6666666666666666,
                            "#ed7953"
                          ],
                          [
                            0.7777777777777778,
                            "#fb9f3a"
                          ],
                          [
                            0.8888888888888888,
                            "#fdca26"
                          ],
                          [
                            1,
                            "#f0f921"
                          ]
                        ],
                        "type": "contour"
                      }
                    ],
                    "contourcarpet": [
                      {
                        "colorbar": {
                          "outlinewidth": 0,
                          "ticks": ""
                        },
                        "type": "contourcarpet"
                      }
                    ],
                    "heatmap": [
                      {
                        "colorbar": {
                          "outlinewidth": 0,
                          "ticks": ""
                        },
                        "colorscale": [
                          [
                            0,
                            "#0d0887"
                          ],
                          [
                            0.1111111111111111,
                            "#46039f"
                          ],
                          [
                            0.2222222222222222,
                            "#7201a8"
                          ],
                          [
                            0.3333333333333333,
                            "#9c179e"
                          ],
                          [
                            0.4444444444444444,
                            "#bd3786"
                          ],
                          [
                            0.5555555555555556,
                            "#d8576b"
                          ],
                          [
                            0.6666666666666666,
                            "#ed7953"
                          ],
                          [
                            0.7777777777777778,
                            "#fb9f3a"
                          ],
                          [
                            0.8888888888888888,
                            "#fdca26"
                          ],
                          [
                            1,
                            "#f0f921"
                          ]
                        ],
                        "type": "heatmap"
                      }
                    ],
                    "heatmapgl": [
                      {
                        "colorbar": {
                          "outlinewidth": 0,
                          "ticks": ""
                        },
                        "colorscale": [
                          [
                            0,
                            "#0d0887"
                          ],
                          [
                            0.1111111111111111,
                            "#46039f"
                          ],
                          [
                            0.2222222222222222,
                            "#7201a8"
                          ],
                          [
                            0.3333333333333333,
                            "#9c179e"
                          ],
                          [
                            0.4444444444444444,
                            "#bd3786"
                          ],
                          [
                            0.5555555555555556,
                            "#d8576b"
                          ],
                          [
                            0.6666666666666666,
                            "#ed7953"
                          ],
                          [
                            0.7777777777777778,
                            "#fb9f3a"
                          ],
                          [
                            0.8888888888888888,
                            "#fdca26"
                          ],
                          [
                            1,
                            "#f0f921"
                          ]
                        ],
                        "type": "heatmapgl"
                      }
                    ],
                    "histogram": [
                      {
                        "marker": {
                          "pattern": {
                            "fillmode": "overlay",
                            "size": 10,
                            "solidity": 0.2
                          }
                        },
                        "type": "histogram"
                      }
                    ],
                    "histogram2d": [
                      {
                        "colorbar": {
                          "outlinewidth": 0,
                          "ticks": ""
                        },
                        "colorscale": [
                          [
                            0,
                            "#0d0887"
                          ],
                          [
                            0.1111111111111111,
                            "#46039f"
                          ],
                          [
                            0.2222222222222222,
                            "#7201a8"
                          ],
                          [
                            0.3333333333333333,
                            "#9c179e"
                          ],
                          [
                            0.4444444444444444,
                            "#bd3786"
                          ],
                          [
                            0.5555555555555556,
                            "#d8576b"
                          ],
                          [
                            0.6666666666666666,
                            "#ed7953"
                          ],
                          [
                            0.7777777777777778,
                            "#fb9f3a"
                          ],
                          [
                            0.8888888888888888,
                            "#fdca26"
                          ],
                          [
                            1,
                            "#f0f921"
                          ]
                        ],
                        "type": "histogram2d"
                      }
                    ],
                    "histogram2dcontour": [
                      {
                        "colorbar": {
                          "outlinewidth": 0,
                          "ticks": ""
                        },
                        "colorscale": [
                          [
                            0,
                            "#0d0887"
                          ],
                          [
                            0.1111111111111111,
                            "#46039f"
                          ],
                          [
                            0.2222222222222222,
                            "#7201a8"
                          ],
                          [
                            0.3333333333333333,
                            "#9c179e"
                          ],
                          [
                            0.4444444444444444,
                            "#bd3786"
                          ],
                          [
                            0.5555555555555556,
                            "#d8576b"
                          ],
                          [
                            0.6666666666666666,
                            "#ed7953"
                          ],
                          [
                            0.7777777777777778,
                            "#fb9f3a"
                          ],
                          [
                            0.8888888888888888,
                            "#fdca26"
                          ],
                          [
                            1,
                            "#f0f921"
                          ]
                        ],
                        "type": "histogram2dcontour"
                      }
                    ],
                    "mesh3d": [
                      {
                        "colorbar": {
                          "outlinewidth": 0,
                          "ticks": ""
                        },
                        "type": "mesh3d"
                      }
                    ],
                    "parcoords": [
                      {
                        "line": {
                          "colorbar": {
                            "outlinewidth": 0,
                            "ticks": ""
                          }
                        },
                        "type": "parcoords"
                      }
                    ],
                    "pie": [
                      {
                        "automargin": true,
                        "type": "pie"
                      }
                    ],
                    "scatter": [
                      {
                        "marker": {
                          "colorbar": {
                            "outlinewidth": 0,
                            "ticks": ""
                          }
                        },
                        "type": "scatter"
                      }
                    ],
                    "scatter3d": [
                      {
                        "line": {
                          "colorbar": {
                            "outlinewidth": 0,
                            "ticks": ""
                          }
                        },
                        "marker": {
                          "colorbar": {
                            "outlinewidth": 0,
                            "ticks": ""
                          }
                        },
                        "type": "scatter3d"
                      }
                    ],
                    "scattercarpet": [
                      {
                        "marker": {
                          "colorbar": {
                            "outlinewidth": 0,
                            "ticks": ""
                          }
                        },
                        "type": "scattercarpet"
                      }
                    ],
                    "scattergeo": [
                      {
                        "marker": {
                          "colorbar": {
                            "outlinewidth": 0,
                            "ticks": ""
                          }
                        },
                        "type": "scattergeo"
                      }
                    ],
                    "scattergl": [
                      {
                        "marker": {
                          "colorbar": {
                            "outlinewidth": 0,
                            "ticks": ""
                          }
                        },
                        "type": "scattergl"
                      }
                    ],
                    "scattermapbox": [
                      {
                        "marker": {
                          "colorbar": {
                            "outlinewidth": 0,
                            "ticks": ""
                          }
                        },
                        "type": "scattermapbox"
                      }
                    ],
                    "scatterpolar": [
                      {
                        "marker": {
                          "colorbar": {
                            "outlinewidth": 0,
                            "ticks": ""
                          }
                        },
                        "type": "scatterpolar"
                      }
                    ],
                    "scatterpolargl": [
                      {
                        "marker": {
                          "colorbar": {
                            "outlinewidth": 0,
                            "ticks": ""
                          }
                        },
                        "type": "scatterpolargl"
                      }
                    ],
                    "scatterternary": [
                      {
                        "marker": {
                          "colorbar": {
                            "outlinewidth": 0,
                            "ticks": ""
                          }
                        },
                        "type": "scatterternary"
                      }
                    ],
                    "surface": [
                      {
                        "colorbar": {
                          "outlinewidth": 0,
                          "ticks": ""
                        },
                        "colorscale": [
                          [
                            0,
                            "#0d0887"
                          ],
                          [
                            0.1111111111111111,
                            "#46039f"
                          ],
                          [
                            0.2222222222222222,
                            "#7201a8"
                          ],
                          [
                            0.3333333333333333,
                            "#9c179e"
                          ],
                          [
                            0.4444444444444444,
                            "#bd3786"
                          ],
                          [
                            0.5555555555555556,
                            "#d8576b"
                          ],
                          [
                            0.6666666666666666,
                            "#ed7953"
                          ],
                          [
                            0.7777777777777778,
                            "#fb9f3a"
                          ],
                          [
                            0.8888888888888888,
                            "#fdca26"
                          ],
                          [
                            1,
                            "#f0f921"
                          ]
                        ],
                        "type": "surface"
                      }
                    ],
                    "table": [
                      {
                        "cells": {
                          "fill": {
                            "color": "#EBF0F8"
                          },
                          "line": {
                            "color": "white"
                          }
                        },
                        "header": {
                          "fill": {
                            "color": "#C8D4E3"
                          },
                          "line": {
                            "color": "white"
                          }
                        },
                        "type": "table"
                      }
                    ]
                  },
                  "layout": {
                    "annotationdefaults": {
                      "arrowcolor": "#2a3f5f",
                      "arrowhead": 0,
                      "arrowwidth": 1
                    },
                    "autotypenumbers": "strict",
                    "coloraxis": {
                      "colorbar": {
                        "outlinewidth": 0,
                        "ticks": ""
                      }
                    },
                    "colorscale": {
                      "diverging": [
                        [
                          0,
                          "#8e0152"
                        ],
                        [
                          0.1,
                          "#c51b7d"
                        ],
                        [
                          0.2,
                          "#de77ae"
                        ],
                        [
                          0.3,
                          "#f1b6da"
                        ],
                        [
                          0.4,
                          "#fde0ef"
                        ],
                        [
                          0.5,
                          "#f7f7f7"
                        ],
                        [
                          0.6,
                          "#e6f5d0"
                        ],
                        [
                          0.7,
                          "#b8e186"
                        ],
                        [
                          0.8,
                          "#7fbc41"
                        ],
                        [
                          0.9,
                          "#4d9221"
                        ],
                        [
                          1,
                          "#276419"
                        ]
                      ],
                      "sequential": [
                        [
                          0,
                          "#0d0887"
                        ],
                        [
                          0.1111111111111111,
                          "#46039f"
                        ],
                        [
                          0.2222222222222222,
                          "#7201a8"
                        ],
                        [
                          0.3333333333333333,
                          "#9c179e"
                        ],
                        [
                          0.4444444444444444,
                          "#bd3786"
                        ],
                        [
                          0.5555555555555556,
                          "#d8576b"
                        ],
                        [
                          0.6666666666666666,
                          "#ed7953"
                        ],
                        [
                          0.7777777777777778,
                          "#fb9f3a"
                        ],
                        [
                          0.8888888888888888,
                          "#fdca26"
                        ],
                        [
                          1,
                          "#f0f921"
                        ]
                      ],
                      "sequentialminus": [
                        [
                          0,
                          "#0d0887"
                        ],
                        [
                          0.1111111111111111,
                          "#46039f"
                        ],
                        [
                          0.2222222222222222,
                          "#7201a8"
                        ],
                        [
                          0.3333333333333333,
                          "#9c179e"
                        ],
                        [
                          0.4444444444444444,
                          "#bd3786"
                        ],
                        [
                          0.5555555555555556,
                          "#d8576b"
                        ],
                        [
                          0.6666666666666666,
                          "#ed7953"
                        ],
                        [
                          0.7777777777777778,
                          "#fb9f3a"
                        ],
                        [
                          0.8888888888888888,
                          "#fdca26"
                        ],
                        [
                          1,
                          "#f0f921"
                        ]
                      ]
                    },
                    "colorway": [
                      "#636efa",
                      "#EF553B",
                      "#00cc96",
                      "#ab63fa",
                      "#FFA15A",
                      "#19d3f3",
                      "#FF6692",
                      "#B6E880",
                      "#FF97FF",
                      "#FECB52"
                    ],
                    "font": {
                      "color": "#2a3f5f"
                    },
                    "geo": {
                      "bgcolor": "white",
                      "lakecolor": "white",
                      "landcolor": "#E5ECF6",
                      "showlakes": true,
                      "showland": true,
                      "subunitcolor": "white"
                    },
                    "hoverlabel": {
                      "align": "left"
                    },
                    "hovermode": "closest",
                    "mapbox": {
                      "style": "light"
                    },
                    "paper_bgcolor": "white",
                    "plot_bgcolor": "#E5ECF6",
                    "polar": {
                      "angularaxis": {
                        "gridcolor": "white",
                        "linecolor": "white",
                        "ticks": ""
                      },
                      "bgcolor": "#E5ECF6",
                      "radialaxis": {
                        "gridcolor": "white",
                        "linecolor": "white",
                        "ticks": ""
                      }
                    },
                    "scene": {
                      "xaxis": {
                        "backgroundcolor": "#E5ECF6",
                        "gridcolor": "white",
                        "gridwidth": 2,
                        "linecolor": "white",
                        "showbackground": true,
                        "ticks": "",
                        "zerolinecolor": "white"
                      },
                      "yaxis": {
                        "backgroundcolor": "#E5ECF6",
                        "gridcolor": "white",
                        "gridwidth": 2,
                        "linecolor": "white",
                        "showbackground": true,
                        "ticks": "",
                        "zerolinecolor": "white"
                      },
                      "zaxis": {
                        "backgroundcolor": "#E5ECF6",
                        "gridcolor": "white",
                        "gridwidth": 2,
                        "linecolor": "white",
                        "showbackground": true,
                        "ticks": "",
                        "zerolinecolor": "white"
                      }
                    },
                    "shapedefaults": {
                      "line": {
                        "color": "#2a3f5f"
                      }
                    },
                    "ternary": {
                      "aaxis": {
                        "gridcolor": "white",
                        "linecolor": "white",
                        "ticks": ""
                      },
                      "baxis": {
                        "gridcolor": "white",
                        "linecolor": "white",
                        "ticks": ""
                      },
                      "bgcolor": "#E5ECF6",
                      "caxis": {
                        "gridcolor": "white",
                        "linecolor": "white",
                        "ticks": ""
                      }
                    },
                    "title": {
                      "x": 0.05
                    },
                    "xaxis": {
                      "automargin": true,
                      "gridcolor": "white",
                      "linecolor": "white",
                      "ticks": "",
                      "title": {
                        "standoff": 15
                      },
                      "zerolinecolor": "white",
                      "zerolinewidth": 2
                    },
                    "yaxis": {
                      "automargin": true,
                      "gridcolor": "white",
                      "linecolor": "white",
                      "ticks": "",
                      "title": {
                        "standoff": 15
                      },
                      "zerolinecolor": "white",
                      "zerolinewidth": 2
                    }
                  }
                },
                "title": {
                  "text": "Survival by Nº of Parents/Children"
                },
                "width": 800,
                "xaxis": {
                  "anchor": "y",
                  "domain": [
                    0,
                    1
                  ],
                  "title": {
                    "text": "Parch"
                  }
                },
                "yaxis": {
                  "anchor": "x",
                  "domain": [
                    0,
                    1
                  ],
                  "title": {
                    "text": "count"
                  }
                }
              }
            }
          },
          "metadata": {},
          "output_type": "display_data"
        }
      ],
      "source": [
        "fig = px.histogram(train, x=\"Parch\", color=\"Survived\", color_discrete_sequence=[\"#363945\", \"#B6E880\"])\n",
        "fig.update_layout(height=400, width=800, title_text=\"Sobrevivência em relação à quantidade de pais/filhos\")\n",
        "fig.show()"
      ]
    },
    {
      "cell_type": "markdown",
      "metadata": {},
      "source": [
        "As duas variáveis em análise acima possuem um comportamento muito semelhante. Vou adicioná-las em apenas uma coluna que representa o número de familiares."
      ]
    },
    {
      "cell_type": "code",
      "execution_count": 104,
      "metadata": {},
      "outputs": [],
      "source": [
        "train[\"n_family\"] = train[\"SibSp\"] + train[\"Parch\"]\n",
        "cols.remove(\"SibSp\")\n",
        "cols.remove(\"Parch\")\n",
        "cols.append(\"n_family\")"
      ]
    },
    {
      "cell_type": "markdown",
      "metadata": {},
      "source": [
        "Agora vamos analisar as colunas categóricas."
      ]
    },
    {
      "cell_type": "markdown",
      "metadata": {},
      "source": [
        "### Colunas categóricas"
      ]
    },
    {
      "cell_type": "code",
      "execution_count": 105,
      "metadata": {
        "execution": {
          "iopub.status.busy": "2022-01-03T16:01:20.039003Z",
          "iopub.status.idle": "2022-01-03T16:01:20.039357Z",
          "shell.execute_reply": "2022-01-03T16:01:20.039189Z",
          "shell.execute_reply.started": "2022-01-03T16:01:20.039161Z"
        },
        "trusted": true
      },
      "outputs": [
        {
          "data": {
            "text/html": [
              "<div>\n",
              "<style scoped>\n",
              "    .dataframe tbody tr th:only-of-type {\n",
              "        vertical-align: middle;\n",
              "    }\n",
              "\n",
              "    .dataframe tbody tr th {\n",
              "        vertical-align: top;\n",
              "    }\n",
              "\n",
              "    .dataframe thead th {\n",
              "        text-align: right;\n",
              "    }\n",
              "</style>\n",
              "<table border=\"1\" class=\"dataframe\">\n",
              "  <thead>\n",
              "    <tr style=\"text-align: right;\">\n",
              "      <th></th>\n",
              "      <th>Name</th>\n",
              "      <th>Sex</th>\n",
              "      <th>Ticket</th>\n",
              "      <th>Embarked</th>\n",
              "    </tr>\n",
              "    <tr>\n",
              "      <th>PassengerId</th>\n",
              "      <th></th>\n",
              "      <th></th>\n",
              "      <th></th>\n",
              "      <th></th>\n",
              "    </tr>\n",
              "  </thead>\n",
              "  <tbody>\n",
              "    <tr>\n",
              "      <th>332</th>\n",
              "      <td>Partner, Mr. Austen</td>\n",
              "      <td>male</td>\n",
              "      <td>113043</td>\n",
              "      <td>S</td>\n",
              "    </tr>\n",
              "    <tr>\n",
              "      <th>734</th>\n",
              "      <td>Berriman, Mr. William John</td>\n",
              "      <td>male</td>\n",
              "      <td>28425</td>\n",
              "      <td>S</td>\n",
              "    </tr>\n",
              "    <tr>\n",
              "      <th>383</th>\n",
              "      <td>Tikkanen, Mr. Juho</td>\n",
              "      <td>male</td>\n",
              "      <td>STON/O 2. 3101293</td>\n",
              "      <td>S</td>\n",
              "    </tr>\n",
              "    <tr>\n",
              "      <th>705</th>\n",
              "      <td>Hansen, Mr. Henrik Juul</td>\n",
              "      <td>male</td>\n",
              "      <td>350025</td>\n",
              "      <td>S</td>\n",
              "    </tr>\n",
              "    <tr>\n",
              "      <th>814</th>\n",
              "      <td>Andersson, Miss. Ebba Iris Alfrida</td>\n",
              "      <td>female</td>\n",
              "      <td>347082</td>\n",
              "      <td>S</td>\n",
              "    </tr>\n",
              "  </tbody>\n",
              "</table>\n",
              "</div>"
            ],
            "text/plain": [
              "                                           Name     Sex             Ticket  \\\n",
              "PassengerId                                                                  \n",
              "332                         Partner, Mr. Austen    male             113043   \n",
              "734                  Berriman, Mr. William John    male              28425   \n",
              "383                          Tikkanen, Mr. Juho    male  STON/O 2. 3101293   \n",
              "705                     Hansen, Mr. Henrik Juul    male             350025   \n",
              "814          Andersson, Miss. Ebba Iris Alfrida  female             347082   \n",
              "\n",
              "            Embarked  \n",
              "PassengerId           \n",
              "332                S  \n",
              "734                S  \n",
              "383                S  \n",
              "705                S  \n",
              "814                S  "
            ]
          },
          "execution_count": 105,
          "metadata": {},
          "output_type": "execute_result"
        }
      ],
      "source": [
        "train[obj_cols].head()"
      ]
    },
    {
      "cell_type": "markdown",
      "metadata": {},
      "source": [
        "\"Name\" não é uma coluna categórica, então vou removè-la. Mas observando seu conteúdo, cada passageiro possue um título pelo qual é chamado (\"Mr\", \"Miss\", etc.). Será que esse título tem alguma relação com a taxa de sobrevivência?"
      ]
    },
    {
      "cell_type": "code",
      "execution_count": 107,
      "metadata": {},
      "outputs": [],
      "source": [
        "cols.remove(\"Name\")\n",
        "obj_cols.remove(\"Name\")"
      ]
    },
    {
      "cell_type": "code",
      "execution_count": 119,
      "metadata": {},
      "outputs": [],
      "source": [
        "def get_title(name):\n",
        "    name = name.split(\" \")\n",
        "    title = name[1]\n",
        "    if title in [\"Mr.\", \"Mrs.\", \"Miss.\", \"Master.\"]:\n",
        "        return title\n",
        "    else:\n",
        "        return \"Other\""
      ]
    },
    {
      "cell_type": "code",
      "execution_count": 120,
      "metadata": {},
      "outputs": [
        {
          "data": {
            "text/plain": [
              "Mr.        404\n",
              "Miss.      139\n",
              "Mrs.        92\n",
              "Other       41\n",
              "Master.     33\n",
              "Name: title, dtype: int64"
            ]
          },
          "execution_count": 120,
          "metadata": {},
          "output_type": "execute_result"
        }
      ],
      "source": [
        "train[\"title\"] = train.Name.map(get_title)\n",
        "train.title.value_counts()"
      ]
    },
    {
      "cell_type": "code",
      "execution_count": 122,
      "metadata": {},
      "outputs": [
        {
          "data": {
            "application/vnd.plotly.v1+json": {
              "config": {
                "plotlyServerURL": "https://plot.ly"
              },
              "data": [
                {
                  "alignmentgroup": "True",
                  "bingroup": "x",
                  "hovertemplate": "Survived=0<br>title=%{x}<br>count=%{y}<extra></extra>",
                  "legendgroup": "0",
                  "marker": {
                    "color": "#363945",
                    "pattern": {
                      "shape": ""
                    }
                  },
                  "name": "0",
                  "offsetgroup": "0",
                  "orientation": "v",
                  "showlegend": true,
                  "type": "histogram",
                  "x": [
                    "Mr.",
                    "Mr.",
                    "Mr.",
                    "Mr.",
                    "Miss.",
                    "Mr.",
                    "Other",
                    "Other",
                    "Mr.",
                    "Other",
                    "Mr.",
                    "Mr.",
                    "Mr.",
                    "Miss.",
                    "Mr.",
                    "Miss.",
                    "Mr.",
                    "Mr.",
                    "Mr.",
                    "Mr.",
                    "Mr.",
                    "Mr.",
                    "Miss.",
                    "Master.",
                    "Mr.",
                    "Mr.",
                    "Mr.",
                    "Miss.",
                    "Mr.",
                    "Mr.",
                    "Mr.",
                    "Mr.",
                    "Mr.",
                    "Mr.",
                    "Other",
                    "Mr.",
                    "Mr.",
                    "Miss.",
                    "Mr.",
                    "Other",
                    "Mr.",
                    "Mr.",
                    "Mr.",
                    "Mr.",
                    "Mr.",
                    "Mr.",
                    "Mr.",
                    "Mr.",
                    "Mr.",
                    "Mr.",
                    "Mr.",
                    "Mr.",
                    "Mr.",
                    "Mr.",
                    "Mr.",
                    "Mr.",
                    "Mr.",
                    "Mr.",
                    "Mr.",
                    "Mr.",
                    "Mr.",
                    "Mr.",
                    "Mr.",
                    "Mr.",
                    "Master.",
                    "Mr.",
                    "Mr.",
                    "Mr.",
                    "Mrs.",
                    "Mr.",
                    "Mr.",
                    "Mr.",
                    "Mr.",
                    "Mr.",
                    "Miss.",
                    "Mr.",
                    "Mr.",
                    "Mr.",
                    "Mrs.",
                    "Other",
                    "Mr.",
                    "Mr.",
                    "Mrs.",
                    "Mr.",
                    "Mr.",
                    "Miss.",
                    "Mr.",
                    "Mr.",
                    "Mr.",
                    "Miss.",
                    "Miss.",
                    "Miss.",
                    "Mr.",
                    "Mr.",
                    "Mr.",
                    "Other",
                    "Mr.",
                    "Mr.",
                    "Mr.",
                    "Mr.",
                    "Mr.",
                    "Mr.",
                    "Mr.",
                    "Master.",
                    "Mr.",
                    "Mr.",
                    "Mr.",
                    "Master.",
                    "Mr.",
                    "Mrs.",
                    "Mr.",
                    "Master.",
                    "Miss.",
                    "Miss.",
                    "Mr.",
                    "Miss.",
                    "Mr.",
                    "Mr.",
                    "Mr.",
                    "Mr.",
                    "Mr.",
                    "Mr.",
                    "Mr.",
                    "Mr.",
                    "Mrs.",
                    "Mr.",
                    "Mr.",
                    "Mr.",
                    "Mr.",
                    "Mr.",
                    "Miss.",
                    "Miss.",
                    "Mr.",
                    "Mr.",
                    "Mr.",
                    "Mr.",
                    "Mr.",
                    "Mr.",
                    "Mrs.",
                    "Mr.",
                    "Mr.",
                    "Other",
                    "Mr.",
                    "Mr.",
                    "Other",
                    "Mr.",
                    "Mr.",
                    "Mr.",
                    "Mr.",
                    "Mr.",
                    "Mr.",
                    "Mr.",
                    "Mr.",
                    "Other",
                    "Mr.",
                    "Mr.",
                    "Mr.",
                    "Mr.",
                    "Mr.",
                    "Mr.",
                    "Mr.",
                    "Mr.",
                    "Mr.",
                    "Mr.",
                    "Mr.",
                    "Mr.",
                    "Mr.",
                    "Mr.",
                    "Mr.",
                    "Mr.",
                    "Mr.",
                    "Mr.",
                    "Mr.",
                    "Master.",
                    "Mr.",
                    "Mr.",
                    "Mr.",
                    "Mr.",
                    "Mr.",
                    "Mr.",
                    "Miss.",
                    "Other",
                    "Mr.",
                    "Mrs.",
                    "Mr.",
                    "Mr.",
                    "Mr.",
                    "Mr.",
                    "Mr.",
                    "Master.",
                    "Mr.",
                    "Mr.",
                    "Mr.",
                    "Miss.",
                    "Mr.",
                    "Mr.",
                    "Other",
                    "Mr.",
                    "Mr.",
                    "Mr.",
                    "Mr.",
                    "Mr.",
                    "Other",
                    "Mr.",
                    "Mr.",
                    "Master.",
                    "Mr.",
                    "Mr.",
                    "Mr.",
                    "Mr.",
                    "Miss.",
                    "Mr.",
                    "Mr.",
                    "Other",
                    "Mr.",
                    "Other",
                    "Mr.",
                    "Mr.",
                    "Mr.",
                    "Mr.",
                    "Mr.",
                    "Mr.",
                    "Mr.",
                    "Miss.",
                    "Mrs.",
                    "Mr.",
                    "Mr.",
                    "Mr.",
                    "Miss.",
                    "Mr.",
                    "Mr.",
                    "Master.",
                    "Master.",
                    "Mr.",
                    "Mr.",
                    "Mr.",
                    "Mr.",
                    "Mrs.",
                    "Master.",
                    "Mr.",
                    "Mr.",
                    "Mr.",
                    "Other",
                    "Mr.",
                    "Mr.",
                    "Miss.",
                    "Mr.",
                    "Miss.",
                    "Mr.",
                    "Mr.",
                    "Mr.",
                    "Other",
                    "Miss.",
                    "Mr.",
                    "Mr.",
                    "Miss.",
                    "Mr.",
                    "Mr.",
                    "Mr.",
                    "Mr.",
                    "Mr.",
                    "Miss.",
                    "Mr.",
                    "Mr.",
                    "Other",
                    "Mr.",
                    "Miss.",
                    "Mr.",
                    "Other",
                    "Mr.",
                    "Mr.",
                    "Mr.",
                    "Mr.",
                    "Mr.",
                    "Mr.",
                    "Mr.",
                    "Mrs.",
                    "Miss.",
                    "Other",
                    "Mr.",
                    "Mr.",
                    "Mr.",
                    "Miss.",
                    "Mr.",
                    "Mr.",
                    "Mr.",
                    "Mr.",
                    "Mr.",
                    "Mr.",
                    "Mr.",
                    "Miss.",
                    "Mr.",
                    "Mr.",
                    "Mr.",
                    "Miss.",
                    "Mrs.",
                    "Mr.",
                    "Mr.",
                    "Miss.",
                    "Mr.",
                    "Mr.",
                    "Mr.",
                    "Mr.",
                    "Mr.",
                    "Mr.",
                    "Mr.",
                    "Miss.",
                    "Master.",
                    "Miss.",
                    "Mr.",
                    "Mr.",
                    "Mr.",
                    "Mr.",
                    "Mr.",
                    "Mr.",
                    "Mr.",
                    "Mr.",
                    "Mr.",
                    "Other",
                    "Mr.",
                    "Mr.",
                    "Other",
                    "Other",
                    "Mr.",
                    "Mr.",
                    "Mr.",
                    "Other",
                    "Mr.",
                    "Mr.",
                    "Master.",
                    "Mr.",
                    "Mr.",
                    "Master.",
                    "Mr.",
                    "Mr.",
                    "Master.",
                    "Mr.",
                    "Mr.",
                    "Other",
                    "Miss.",
                    "Mr.",
                    "Mr.",
                    "Miss.",
                    "Mr.",
                    "Mr.",
                    "Mr.",
                    "Mr.",
                    "Mr.",
                    "Mr.",
                    "Mr.",
                    "Miss.",
                    "Mr.",
                    "Mr.",
                    "Mr.",
                    "Mr.",
                    "Miss.",
                    "Other",
                    "Mr.",
                    "Mr.",
                    "Mr.",
                    "Mr.",
                    "Mr.",
                    "Mr.",
                    "Mr.",
                    "Mrs.",
                    "Mr.",
                    "Mr.",
                    "Mr.",
                    "Mr.",
                    "Mr.",
                    "Miss.",
                    "Mrs.",
                    "Mr.",
                    "Mr.",
                    "Mr.",
                    "Mr.",
                    "Mr.",
                    "Mrs.",
                    "Mr.",
                    "Mr.",
                    "Mr.",
                    "Miss.",
                    "Mr.",
                    "Miss.",
                    "Mr.",
                    "Mr.",
                    "Mr.",
                    "Mr.",
                    "Mr.",
                    "Mr.",
                    "Mr.",
                    "Miss.",
                    "Mr.",
                    "Mr.",
                    "Mr.",
                    "Mr.",
                    "Mr.",
                    "Mr.",
                    "Miss.",
                    "Mr.",
                    "Mr.",
                    "Mr.",
                    "Mr.",
                    "Mr.",
                    "Mr.",
                    "Other",
                    "Mr.",
                    "Mr.",
                    "Mr.",
                    "Mr.",
                    "Mr.",
                    "Mr.",
                    "Mr.",
                    "Mr.",
                    "Miss.",
                    "Mr.",
                    "Mr.",
                    "Mr.",
                    "Mr.",
                    "Mr.",
                    "Miss.",
                    "Mr.",
                    "Mr.",
                    "Mr.",
                    "Mr.",
                    "Mr.",
                    "Mr.",
                    "Mr.",
                    "Mr.",
                    "Mr.",
                    "Mr.",
                    "Mr.",
                    "Mr.",
                    "Mr.",
                    "Mr.",
                    "Mr.",
                    "Mr.",
                    "Mr.",
                    "Mr.",
                    "Mr.",
                    "Miss.",
                    "Mr.",
                    "Mr.",
                    "Mr."
                  ],
                  "xaxis": "x",
                  "yaxis": "y"
                },
                {
                  "alignmentgroup": "True",
                  "bingroup": "x",
                  "hovertemplate": "Survived=1<br>title=%{x}<br>count=%{y}<extra></extra>",
                  "legendgroup": "1",
                  "marker": {
                    "color": "#B6E880",
                    "pattern": {
                      "shape": ""
                    }
                  },
                  "name": "1",
                  "offsetgroup": "1",
                  "orientation": "v",
                  "showlegend": true,
                  "type": "histogram",
                  "x": [
                    "Mr.",
                    "Mrs.",
                    "Mr.",
                    "Mrs.",
                    "Mrs.",
                    "Miss.",
                    "Mrs.",
                    "Miss.",
                    "Mrs.",
                    "Mr.",
                    "Mrs.",
                    "Mr.",
                    "Miss.",
                    "Miss.",
                    "Mrs.",
                    "Mr.",
                    "Mrs.",
                    "Master.",
                    "Mrs.",
                    "Miss.",
                    "Miss.",
                    "Mrs.",
                    "Miss.",
                    "Mrs.",
                    "Miss.",
                    "Miss.",
                    "Mrs.",
                    "Other",
                    "Miss.",
                    "Other",
                    "Mr.",
                    "Mrs.",
                    "Mrs.",
                    "Miss.",
                    "Miss.",
                    "Mr.",
                    "Mr.",
                    "Master.",
                    "Miss.",
                    "Mrs.",
                    "Mrs.",
                    "Mrs.",
                    "Miss.",
                    "Master.",
                    "Master.",
                    "Miss.",
                    "Mrs.",
                    "Mr.",
                    "Mr.",
                    "Mr.",
                    "Other",
                    "Miss.",
                    "Mrs.",
                    "Mrs.",
                    "Master.",
                    "Mr.",
                    "Miss.",
                    "Mr.",
                    "Miss.",
                    "Mrs.",
                    "Mr.",
                    "Mrs.",
                    "Mr.",
                    "Mr.",
                    "Mrs.",
                    "Mr.",
                    "Mr.",
                    "Mr.",
                    "Mr.",
                    "Miss.",
                    "Miss.",
                    "Mrs.",
                    "Mr.",
                    "Mr.",
                    "Miss.",
                    "Mrs.",
                    "Miss.",
                    "Miss.",
                    "Mrs.",
                    "Miss.",
                    "Miss.",
                    "Other",
                    "Miss.",
                    "Mrs.",
                    "Miss.",
                    "Mrs.",
                    "Mrs.",
                    "Mrs.",
                    "Mrs.",
                    "Miss.",
                    "Miss.",
                    "Mrs.",
                    "Miss.",
                    "Mrs.",
                    "Miss.",
                    "Miss.",
                    "Mrs.",
                    "Master.",
                    "Miss.",
                    "Miss.",
                    "Mrs.",
                    "Other",
                    "Miss.",
                    "Miss.",
                    "Mr.",
                    "Miss.",
                    "Master.",
                    "Miss.",
                    "Master.",
                    "Miss.",
                    "Mr.",
                    "Mrs.",
                    "Miss.",
                    "Miss.",
                    "Mrs.",
                    "Mrs.",
                    "Other",
                    "Mrs.",
                    "Other",
                    "Miss.",
                    "Miss.",
                    "Miss.",
                    "Master.",
                    "Miss.",
                    "Mr.",
                    "Mr.",
                    "Other",
                    "Other",
                    "Miss.",
                    "Mrs.",
                    "Mrs.",
                    "Mrs.",
                    "Mrs.",
                    "Mrs.",
                    "Mr.",
                    "Master.",
                    "Mr.",
                    "Miss.",
                    "Mr.",
                    "Mr.",
                    "Miss.",
                    "Mrs.",
                    "Mrs.",
                    "Mrs.",
                    "Mr.",
                    "Miss.",
                    "Miss.",
                    "Miss.",
                    "Mrs.",
                    "Mr.",
                    "Mrs.",
                    "Mr.",
                    "Miss.",
                    "Miss.",
                    "Mrs.",
                    "Mr.",
                    "Mr.",
                    "Mr.",
                    "Miss.",
                    "Mrs.",
                    "Mrs.",
                    "Mr.",
                    "Mr.",
                    "Miss.",
                    "Mrs.",
                    "Mr.",
                    "Miss.",
                    "Mrs.",
                    "Mr.",
                    "Mr.",
                    "Mr.",
                    "Master.",
                    "Miss.",
                    "Mrs.",
                    "Miss.",
                    "Other",
                    "Mrs.",
                    "Miss.",
                    "Mrs.",
                    "Mr.",
                    "Master.",
                    "Master.",
                    "Miss.",
                    "Other",
                    "Mrs.",
                    "Mr.",
                    "Mr.",
                    "Miss.",
                    "Mrs.",
                    "Mr.",
                    "Master.",
                    "Miss.",
                    "Miss.",
                    "Miss.",
                    "Other",
                    "Miss.",
                    "Mr.",
                    "Mrs.",
                    "Mrs.",
                    "Master.",
                    "Mr.",
                    "Mrs.",
                    "Other",
                    "Mrs.",
                    "Mrs.",
                    "Miss.",
                    "Miss.",
                    "Master.",
                    "Mr.",
                    "Mr.",
                    "Mr.",
                    "Mr.",
                    "Miss.",
                    "Mrs.",
                    "Miss.",
                    "Mrs.",
                    "Mrs.",
                    "Miss.",
                    "Miss.",
                    "Miss.",
                    "Miss.",
                    "Mrs.",
                    "Master.",
                    "Mr.",
                    "Mr.",
                    "Other",
                    "Miss.",
                    "Miss.",
                    "Miss.",
                    "Mr.",
                    "Mrs.",
                    "Miss.",
                    "Mrs.",
                    "Miss.",
                    "Mr.",
                    "Mr.",
                    "Mrs.",
                    "Mr.",
                    "Miss.",
                    "Miss.",
                    "Mrs.",
                    "Miss.",
                    "Mrs.",
                    "Miss.",
                    "Mrs.",
                    "Miss.",
                    "Miss.",
                    "Miss.",
                    "Mrs.",
                    "Miss.",
                    "Mrs.",
                    "Mr.",
                    "Miss.",
                    "Master.",
                    "Mr.",
                    "Mr.",
                    "Miss.",
                    "Miss.",
                    "Mr.",
                    "Mrs.",
                    "Miss.",
                    "Miss.",
                    "Mrs.",
                    "Miss.",
                    "Miss."
                  ],
                  "xaxis": "x",
                  "yaxis": "y"
                }
              ],
              "layout": {
                "barmode": "relative",
                "height": 400,
                "legend": {
                  "title": {
                    "text": "Survived"
                  },
                  "tracegroupgap": 0
                },
                "margin": {
                  "t": 60
                },
                "template": {
                  "data": {
                    "bar": [
                      {
                        "error_x": {
                          "color": "#2a3f5f"
                        },
                        "error_y": {
                          "color": "#2a3f5f"
                        },
                        "marker": {
                          "line": {
                            "color": "#E5ECF6",
                            "width": 0.5
                          },
                          "pattern": {
                            "fillmode": "overlay",
                            "size": 10,
                            "solidity": 0.2
                          }
                        },
                        "type": "bar"
                      }
                    ],
                    "barpolar": [
                      {
                        "marker": {
                          "line": {
                            "color": "#E5ECF6",
                            "width": 0.5
                          },
                          "pattern": {
                            "fillmode": "overlay",
                            "size": 10,
                            "solidity": 0.2
                          }
                        },
                        "type": "barpolar"
                      }
                    ],
                    "carpet": [
                      {
                        "aaxis": {
                          "endlinecolor": "#2a3f5f",
                          "gridcolor": "white",
                          "linecolor": "white",
                          "minorgridcolor": "white",
                          "startlinecolor": "#2a3f5f"
                        },
                        "baxis": {
                          "endlinecolor": "#2a3f5f",
                          "gridcolor": "white",
                          "linecolor": "white",
                          "minorgridcolor": "white",
                          "startlinecolor": "#2a3f5f"
                        },
                        "type": "carpet"
                      }
                    ],
                    "choropleth": [
                      {
                        "colorbar": {
                          "outlinewidth": 0,
                          "ticks": ""
                        },
                        "type": "choropleth"
                      }
                    ],
                    "contour": [
                      {
                        "colorbar": {
                          "outlinewidth": 0,
                          "ticks": ""
                        },
                        "colorscale": [
                          [
                            0,
                            "#0d0887"
                          ],
                          [
                            0.1111111111111111,
                            "#46039f"
                          ],
                          [
                            0.2222222222222222,
                            "#7201a8"
                          ],
                          [
                            0.3333333333333333,
                            "#9c179e"
                          ],
                          [
                            0.4444444444444444,
                            "#bd3786"
                          ],
                          [
                            0.5555555555555556,
                            "#d8576b"
                          ],
                          [
                            0.6666666666666666,
                            "#ed7953"
                          ],
                          [
                            0.7777777777777778,
                            "#fb9f3a"
                          ],
                          [
                            0.8888888888888888,
                            "#fdca26"
                          ],
                          [
                            1,
                            "#f0f921"
                          ]
                        ],
                        "type": "contour"
                      }
                    ],
                    "contourcarpet": [
                      {
                        "colorbar": {
                          "outlinewidth": 0,
                          "ticks": ""
                        },
                        "type": "contourcarpet"
                      }
                    ],
                    "heatmap": [
                      {
                        "colorbar": {
                          "outlinewidth": 0,
                          "ticks": ""
                        },
                        "colorscale": [
                          [
                            0,
                            "#0d0887"
                          ],
                          [
                            0.1111111111111111,
                            "#46039f"
                          ],
                          [
                            0.2222222222222222,
                            "#7201a8"
                          ],
                          [
                            0.3333333333333333,
                            "#9c179e"
                          ],
                          [
                            0.4444444444444444,
                            "#bd3786"
                          ],
                          [
                            0.5555555555555556,
                            "#d8576b"
                          ],
                          [
                            0.6666666666666666,
                            "#ed7953"
                          ],
                          [
                            0.7777777777777778,
                            "#fb9f3a"
                          ],
                          [
                            0.8888888888888888,
                            "#fdca26"
                          ],
                          [
                            1,
                            "#f0f921"
                          ]
                        ],
                        "type": "heatmap"
                      }
                    ],
                    "heatmapgl": [
                      {
                        "colorbar": {
                          "outlinewidth": 0,
                          "ticks": ""
                        },
                        "colorscale": [
                          [
                            0,
                            "#0d0887"
                          ],
                          [
                            0.1111111111111111,
                            "#46039f"
                          ],
                          [
                            0.2222222222222222,
                            "#7201a8"
                          ],
                          [
                            0.3333333333333333,
                            "#9c179e"
                          ],
                          [
                            0.4444444444444444,
                            "#bd3786"
                          ],
                          [
                            0.5555555555555556,
                            "#d8576b"
                          ],
                          [
                            0.6666666666666666,
                            "#ed7953"
                          ],
                          [
                            0.7777777777777778,
                            "#fb9f3a"
                          ],
                          [
                            0.8888888888888888,
                            "#fdca26"
                          ],
                          [
                            1,
                            "#f0f921"
                          ]
                        ],
                        "type": "heatmapgl"
                      }
                    ],
                    "histogram": [
                      {
                        "marker": {
                          "pattern": {
                            "fillmode": "overlay",
                            "size": 10,
                            "solidity": 0.2
                          }
                        },
                        "type": "histogram"
                      }
                    ],
                    "histogram2d": [
                      {
                        "colorbar": {
                          "outlinewidth": 0,
                          "ticks": ""
                        },
                        "colorscale": [
                          [
                            0,
                            "#0d0887"
                          ],
                          [
                            0.1111111111111111,
                            "#46039f"
                          ],
                          [
                            0.2222222222222222,
                            "#7201a8"
                          ],
                          [
                            0.3333333333333333,
                            "#9c179e"
                          ],
                          [
                            0.4444444444444444,
                            "#bd3786"
                          ],
                          [
                            0.5555555555555556,
                            "#d8576b"
                          ],
                          [
                            0.6666666666666666,
                            "#ed7953"
                          ],
                          [
                            0.7777777777777778,
                            "#fb9f3a"
                          ],
                          [
                            0.8888888888888888,
                            "#fdca26"
                          ],
                          [
                            1,
                            "#f0f921"
                          ]
                        ],
                        "type": "histogram2d"
                      }
                    ],
                    "histogram2dcontour": [
                      {
                        "colorbar": {
                          "outlinewidth": 0,
                          "ticks": ""
                        },
                        "colorscale": [
                          [
                            0,
                            "#0d0887"
                          ],
                          [
                            0.1111111111111111,
                            "#46039f"
                          ],
                          [
                            0.2222222222222222,
                            "#7201a8"
                          ],
                          [
                            0.3333333333333333,
                            "#9c179e"
                          ],
                          [
                            0.4444444444444444,
                            "#bd3786"
                          ],
                          [
                            0.5555555555555556,
                            "#d8576b"
                          ],
                          [
                            0.6666666666666666,
                            "#ed7953"
                          ],
                          [
                            0.7777777777777778,
                            "#fb9f3a"
                          ],
                          [
                            0.8888888888888888,
                            "#fdca26"
                          ],
                          [
                            1,
                            "#f0f921"
                          ]
                        ],
                        "type": "histogram2dcontour"
                      }
                    ],
                    "mesh3d": [
                      {
                        "colorbar": {
                          "outlinewidth": 0,
                          "ticks": ""
                        },
                        "type": "mesh3d"
                      }
                    ],
                    "parcoords": [
                      {
                        "line": {
                          "colorbar": {
                            "outlinewidth": 0,
                            "ticks": ""
                          }
                        },
                        "type": "parcoords"
                      }
                    ],
                    "pie": [
                      {
                        "automargin": true,
                        "type": "pie"
                      }
                    ],
                    "scatter": [
                      {
                        "marker": {
                          "colorbar": {
                            "outlinewidth": 0,
                            "ticks": ""
                          }
                        },
                        "type": "scatter"
                      }
                    ],
                    "scatter3d": [
                      {
                        "line": {
                          "colorbar": {
                            "outlinewidth": 0,
                            "ticks": ""
                          }
                        },
                        "marker": {
                          "colorbar": {
                            "outlinewidth": 0,
                            "ticks": ""
                          }
                        },
                        "type": "scatter3d"
                      }
                    ],
                    "scattercarpet": [
                      {
                        "marker": {
                          "colorbar": {
                            "outlinewidth": 0,
                            "ticks": ""
                          }
                        },
                        "type": "scattercarpet"
                      }
                    ],
                    "scattergeo": [
                      {
                        "marker": {
                          "colorbar": {
                            "outlinewidth": 0,
                            "ticks": ""
                          }
                        },
                        "type": "scattergeo"
                      }
                    ],
                    "scattergl": [
                      {
                        "marker": {
                          "colorbar": {
                            "outlinewidth": 0,
                            "ticks": ""
                          }
                        },
                        "type": "scattergl"
                      }
                    ],
                    "scattermapbox": [
                      {
                        "marker": {
                          "colorbar": {
                            "outlinewidth": 0,
                            "ticks": ""
                          }
                        },
                        "type": "scattermapbox"
                      }
                    ],
                    "scatterpolar": [
                      {
                        "marker": {
                          "colorbar": {
                            "outlinewidth": 0,
                            "ticks": ""
                          }
                        },
                        "type": "scatterpolar"
                      }
                    ],
                    "scatterpolargl": [
                      {
                        "marker": {
                          "colorbar": {
                            "outlinewidth": 0,
                            "ticks": ""
                          }
                        },
                        "type": "scatterpolargl"
                      }
                    ],
                    "scatterternary": [
                      {
                        "marker": {
                          "colorbar": {
                            "outlinewidth": 0,
                            "ticks": ""
                          }
                        },
                        "type": "scatterternary"
                      }
                    ],
                    "surface": [
                      {
                        "colorbar": {
                          "outlinewidth": 0,
                          "ticks": ""
                        },
                        "colorscale": [
                          [
                            0,
                            "#0d0887"
                          ],
                          [
                            0.1111111111111111,
                            "#46039f"
                          ],
                          [
                            0.2222222222222222,
                            "#7201a8"
                          ],
                          [
                            0.3333333333333333,
                            "#9c179e"
                          ],
                          [
                            0.4444444444444444,
                            "#bd3786"
                          ],
                          [
                            0.5555555555555556,
                            "#d8576b"
                          ],
                          [
                            0.6666666666666666,
                            "#ed7953"
                          ],
                          [
                            0.7777777777777778,
                            "#fb9f3a"
                          ],
                          [
                            0.8888888888888888,
                            "#fdca26"
                          ],
                          [
                            1,
                            "#f0f921"
                          ]
                        ],
                        "type": "surface"
                      }
                    ],
                    "table": [
                      {
                        "cells": {
                          "fill": {
                            "color": "#EBF0F8"
                          },
                          "line": {
                            "color": "white"
                          }
                        },
                        "header": {
                          "fill": {
                            "color": "#C8D4E3"
                          },
                          "line": {
                            "color": "white"
                          }
                        },
                        "type": "table"
                      }
                    ]
                  },
                  "layout": {
                    "annotationdefaults": {
                      "arrowcolor": "#2a3f5f",
                      "arrowhead": 0,
                      "arrowwidth": 1
                    },
                    "autotypenumbers": "strict",
                    "coloraxis": {
                      "colorbar": {
                        "outlinewidth": 0,
                        "ticks": ""
                      }
                    },
                    "colorscale": {
                      "diverging": [
                        [
                          0,
                          "#8e0152"
                        ],
                        [
                          0.1,
                          "#c51b7d"
                        ],
                        [
                          0.2,
                          "#de77ae"
                        ],
                        [
                          0.3,
                          "#f1b6da"
                        ],
                        [
                          0.4,
                          "#fde0ef"
                        ],
                        [
                          0.5,
                          "#f7f7f7"
                        ],
                        [
                          0.6,
                          "#e6f5d0"
                        ],
                        [
                          0.7,
                          "#b8e186"
                        ],
                        [
                          0.8,
                          "#7fbc41"
                        ],
                        [
                          0.9,
                          "#4d9221"
                        ],
                        [
                          1,
                          "#276419"
                        ]
                      ],
                      "sequential": [
                        [
                          0,
                          "#0d0887"
                        ],
                        [
                          0.1111111111111111,
                          "#46039f"
                        ],
                        [
                          0.2222222222222222,
                          "#7201a8"
                        ],
                        [
                          0.3333333333333333,
                          "#9c179e"
                        ],
                        [
                          0.4444444444444444,
                          "#bd3786"
                        ],
                        [
                          0.5555555555555556,
                          "#d8576b"
                        ],
                        [
                          0.6666666666666666,
                          "#ed7953"
                        ],
                        [
                          0.7777777777777778,
                          "#fb9f3a"
                        ],
                        [
                          0.8888888888888888,
                          "#fdca26"
                        ],
                        [
                          1,
                          "#f0f921"
                        ]
                      ],
                      "sequentialminus": [
                        [
                          0,
                          "#0d0887"
                        ],
                        [
                          0.1111111111111111,
                          "#46039f"
                        ],
                        [
                          0.2222222222222222,
                          "#7201a8"
                        ],
                        [
                          0.3333333333333333,
                          "#9c179e"
                        ],
                        [
                          0.4444444444444444,
                          "#bd3786"
                        ],
                        [
                          0.5555555555555556,
                          "#d8576b"
                        ],
                        [
                          0.6666666666666666,
                          "#ed7953"
                        ],
                        [
                          0.7777777777777778,
                          "#fb9f3a"
                        ],
                        [
                          0.8888888888888888,
                          "#fdca26"
                        ],
                        [
                          1,
                          "#f0f921"
                        ]
                      ]
                    },
                    "colorway": [
                      "#636efa",
                      "#EF553B",
                      "#00cc96",
                      "#ab63fa",
                      "#FFA15A",
                      "#19d3f3",
                      "#FF6692",
                      "#B6E880",
                      "#FF97FF",
                      "#FECB52"
                    ],
                    "font": {
                      "color": "#2a3f5f"
                    },
                    "geo": {
                      "bgcolor": "white",
                      "lakecolor": "white",
                      "landcolor": "#E5ECF6",
                      "showlakes": true,
                      "showland": true,
                      "subunitcolor": "white"
                    },
                    "hoverlabel": {
                      "align": "left"
                    },
                    "hovermode": "closest",
                    "mapbox": {
                      "style": "light"
                    },
                    "paper_bgcolor": "white",
                    "plot_bgcolor": "#E5ECF6",
                    "polar": {
                      "angularaxis": {
                        "gridcolor": "white",
                        "linecolor": "white",
                        "ticks": ""
                      },
                      "bgcolor": "#E5ECF6",
                      "radialaxis": {
                        "gridcolor": "white",
                        "linecolor": "white",
                        "ticks": ""
                      }
                    },
                    "scene": {
                      "xaxis": {
                        "backgroundcolor": "#E5ECF6",
                        "gridcolor": "white",
                        "gridwidth": 2,
                        "linecolor": "white",
                        "showbackground": true,
                        "ticks": "",
                        "zerolinecolor": "white"
                      },
                      "yaxis": {
                        "backgroundcolor": "#E5ECF6",
                        "gridcolor": "white",
                        "gridwidth": 2,
                        "linecolor": "white",
                        "showbackground": true,
                        "ticks": "",
                        "zerolinecolor": "white"
                      },
                      "zaxis": {
                        "backgroundcolor": "#E5ECF6",
                        "gridcolor": "white",
                        "gridwidth": 2,
                        "linecolor": "white",
                        "showbackground": true,
                        "ticks": "",
                        "zerolinecolor": "white"
                      }
                    },
                    "shapedefaults": {
                      "line": {
                        "color": "#2a3f5f"
                      }
                    },
                    "ternary": {
                      "aaxis": {
                        "gridcolor": "white",
                        "linecolor": "white",
                        "ticks": ""
                      },
                      "baxis": {
                        "gridcolor": "white",
                        "linecolor": "white",
                        "ticks": ""
                      },
                      "bgcolor": "#E5ECF6",
                      "caxis": {
                        "gridcolor": "white",
                        "linecolor": "white",
                        "ticks": ""
                      }
                    },
                    "title": {
                      "x": 0.05
                    },
                    "xaxis": {
                      "automargin": true,
                      "gridcolor": "white",
                      "linecolor": "white",
                      "ticks": "",
                      "title": {
                        "standoff": 15
                      },
                      "zerolinecolor": "white",
                      "zerolinewidth": 2
                    },
                    "yaxis": {
                      "automargin": true,
                      "gridcolor": "white",
                      "linecolor": "white",
                      "ticks": "",
                      "title": {
                        "standoff": 15
                      },
                      "zerolinecolor": "white",
                      "zerolinewidth": 2
                    }
                  }
                },
                "title": {
                  "text": "Sobrevivência em relação a como o passageiro é chamado (título)"
                },
                "width": 800,
                "xaxis": {
                  "anchor": "y",
                  "domain": [
                    0,
                    1
                  ],
                  "title": {
                    "text": "title"
                  }
                },
                "yaxis": {
                  "anchor": "x",
                  "domain": [
                    0,
                    1
                  ],
                  "title": {
                    "text": "count"
                  }
                }
              }
            }
          },
          "metadata": {},
          "output_type": "display_data"
        }
      ],
      "source": [
        "fig = px.histogram(train, x=\"title\", color=\"Survived\", color_discrete_sequence=[\"#363945\", \"#B6E880\"])\n",
        "fig.update_layout(height=400, width=800, title_text=\"Sobrevivência em relação a como o passageiro é chamado (título)\")\n",
        "fig.show()"
      ]
    },
    {
      "cell_type": "markdown",
      "metadata": {},
      "source": [
        "Passageiros chamados de \"Mr.\" viveram muito menos do que outros."
      ]
    },
    {
      "cell_type": "code",
      "execution_count": 125,
      "metadata": {},
      "outputs": [],
      "source": [
        "cols.append(\"title\")"
      ]
    },
    {
      "cell_type": "code",
      "execution_count": 110,
      "metadata": {
        "execution": {
          "iopub.status.busy": "2022-01-03T16:01:20.040508Z",
          "iopub.status.idle": "2022-01-03T16:01:20.04085Z",
          "shell.execute_reply": "2022-01-03T16:01:20.040686Z",
          "shell.execute_reply.started": "2022-01-03T16:01:20.040659Z"
        },
        "trusted": true
      },
      "outputs": [
        {
          "data": {
            "text/html": [
              "<div>\n",
              "<style scoped>\n",
              "    .dataframe tbody tr th:only-of-type {\n",
              "        vertical-align: middle;\n",
              "    }\n",
              "\n",
              "    .dataframe tbody tr th {\n",
              "        vertical-align: top;\n",
              "    }\n",
              "\n",
              "    .dataframe thead th {\n",
              "        text-align: right;\n",
              "    }\n",
              "</style>\n",
              "<table border=\"1\" class=\"dataframe\">\n",
              "  <thead>\n",
              "    <tr style=\"text-align: right;\">\n",
              "      <th></th>\n",
              "      <th>Sex</th>\n",
              "      <th>Ticket</th>\n",
              "      <th>Embarked</th>\n",
              "    </tr>\n",
              "  </thead>\n",
              "  <tbody>\n",
              "    <tr>\n",
              "      <th>count</th>\n",
              "      <td>709</td>\n",
              "      <td>709</td>\n",
              "      <td>707</td>\n",
              "    </tr>\n",
              "    <tr>\n",
              "      <th>unique</th>\n",
              "      <td>2</td>\n",
              "      <td>557</td>\n",
              "      <td>3</td>\n",
              "    </tr>\n",
              "    <tr>\n",
              "      <th>top</th>\n",
              "      <td>male</td>\n",
              "      <td>CA. 2343</td>\n",
              "      <td>S</td>\n",
              "    </tr>\n",
              "    <tr>\n",
              "      <th>freq</th>\n",
              "      <td>465</td>\n",
              "      <td>7</td>\n",
              "      <td>525</td>\n",
              "    </tr>\n",
              "  </tbody>\n",
              "</table>\n",
              "</div>"
            ],
            "text/plain": [
              "         Sex    Ticket Embarked\n",
              "count    709       709      707\n",
              "unique     2       557        3\n",
              "top     male  CA. 2343        S\n",
              "freq     465         7      525"
            ]
          },
          "execution_count": 110,
          "metadata": {},
          "output_type": "execute_result"
        }
      ],
      "source": [
        "train[obj_cols].describe()"
      ]
    },
    {
      "cell_type": "markdown",
      "metadata": {},
      "source": [
        "Analisando a tabela acima, \"Ticket\" possue muitos valores únicos (assim como \"Name\"). Vou removê-la também."
      ]
    },
    {
      "cell_type": "code",
      "execution_count": 111,
      "metadata": {
        "execution": {
          "iopub.status.busy": "2022-01-03T16:01:20.042109Z",
          "iopub.status.idle": "2022-01-03T16:01:20.042547Z",
          "shell.execute_reply": "2022-01-03T16:01:20.042308Z",
          "shell.execute_reply.started": "2022-01-03T16:01:20.042279Z"
        },
        "trusted": true
      },
      "outputs": [],
      "source": [
        "cols.remove(\"Ticket\") # too many unique values"
      ]
    },
    {
      "cell_type": "markdown",
      "metadata": {},
      "source": [
        "#### Gênero"
      ]
    },
    {
      "cell_type": "code",
      "execution_count": 113,
      "metadata": {
        "execution": {
          "iopub.status.busy": "2022-01-03T16:01:20.043809Z",
          "iopub.status.idle": "2022-01-03T16:01:20.044247Z",
          "shell.execute_reply": "2022-01-03T16:01:20.044065Z",
          "shell.execute_reply.started": "2022-01-03T16:01:20.044031Z"
        },
        "trusted": true
      },
      "outputs": [
        {
          "data": {
            "application/vnd.plotly.v1+json": {
              "config": {
                "plotlyServerURL": "https://plot.ly"
              },
              "data": [
                {
                  "alignmentgroup": "True",
                  "bingroup": "x",
                  "hovertemplate": "Survived=0<br>Sex=%{x}<br>count=%{y}<extra></extra>",
                  "legendgroup": "0",
                  "marker": {
                    "color": "#363945",
                    "pattern": {
                      "shape": ""
                    }
                  },
                  "name": "0",
                  "offsetgroup": "0",
                  "orientation": "v",
                  "showlegend": true,
                  "type": "histogram",
                  "x": [
                    "male",
                    "male",
                    "male",
                    "male",
                    "female",
                    "male",
                    "male",
                    "male",
                    "male",
                    "male",
                    "male",
                    "male",
                    "male",
                    "female",
                    "male",
                    "female",
                    "male",
                    "male",
                    "male",
                    "male",
                    "male",
                    "male",
                    "female",
                    "male",
                    "male",
                    "male",
                    "male",
                    "female",
                    "male",
                    "male",
                    "male",
                    "male",
                    "male",
                    "male",
                    "male",
                    "male",
                    "male",
                    "female",
                    "male",
                    "male",
                    "male",
                    "male",
                    "male",
                    "male",
                    "male",
                    "male",
                    "male",
                    "male",
                    "male",
                    "male",
                    "male",
                    "male",
                    "male",
                    "male",
                    "male",
                    "male",
                    "male",
                    "male",
                    "male",
                    "male",
                    "male",
                    "male",
                    "male",
                    "male",
                    "male",
                    "male",
                    "male",
                    "male",
                    "female",
                    "male",
                    "male",
                    "male",
                    "male",
                    "male",
                    "female",
                    "male",
                    "male",
                    "male",
                    "female",
                    "male",
                    "male",
                    "male",
                    "female",
                    "male",
                    "male",
                    "female",
                    "male",
                    "male",
                    "male",
                    "female",
                    "female",
                    "female",
                    "male",
                    "male",
                    "male",
                    "female",
                    "male",
                    "male",
                    "male",
                    "male",
                    "male",
                    "male",
                    "male",
                    "male",
                    "male",
                    "male",
                    "male",
                    "male",
                    "male",
                    "female",
                    "male",
                    "male",
                    "female",
                    "female",
                    "male",
                    "female",
                    "male",
                    "male",
                    "male",
                    "male",
                    "male",
                    "male",
                    "male",
                    "male",
                    "female",
                    "male",
                    "male",
                    "male",
                    "male",
                    "male",
                    "female",
                    "female",
                    "male",
                    "male",
                    "male",
                    "male",
                    "male",
                    "male",
                    "female",
                    "male",
                    "male",
                    "male",
                    "male",
                    "male",
                    "male",
                    "male",
                    "male",
                    "male",
                    "male",
                    "male",
                    "male",
                    "male",
                    "male",
                    "male",
                    "male",
                    "male",
                    "male",
                    "male",
                    "male",
                    "male",
                    "male",
                    "male",
                    "male",
                    "male",
                    "male",
                    "male",
                    "male",
                    "male",
                    "male",
                    "male",
                    "male",
                    "male",
                    "male",
                    "male",
                    "male",
                    "male",
                    "male",
                    "male",
                    "male",
                    "male",
                    "female",
                    "male",
                    "male",
                    "female",
                    "male",
                    "male",
                    "male",
                    "male",
                    "male",
                    "male",
                    "male",
                    "male",
                    "male",
                    "female",
                    "male",
                    "male",
                    "female",
                    "male",
                    "male",
                    "male",
                    "male",
                    "male",
                    "male",
                    "male",
                    "male",
                    "male",
                    "male",
                    "male",
                    "male",
                    "male",
                    "female",
                    "male",
                    "male",
                    "female",
                    "male",
                    "male",
                    "male",
                    "male",
                    "male",
                    "male",
                    "male",
                    "male",
                    "male",
                    "female",
                    "female",
                    "male",
                    "male",
                    "male",
                    "female",
                    "male",
                    "male",
                    "male",
                    "male",
                    "male",
                    "male",
                    "male",
                    "male",
                    "female",
                    "male",
                    "male",
                    "male",
                    "male",
                    "male",
                    "male",
                    "male",
                    "female",
                    "male",
                    "female",
                    "male",
                    "male",
                    "male",
                    "male",
                    "female",
                    "male",
                    "male",
                    "female",
                    "male",
                    "male",
                    "male",
                    "male",
                    "male",
                    "female",
                    "male",
                    "male",
                    "female",
                    "male",
                    "female",
                    "male",
                    "male",
                    "male",
                    "male",
                    "male",
                    "male",
                    "male",
                    "male",
                    "male",
                    "female",
                    "female",
                    "male",
                    "male",
                    "male",
                    "male",
                    "female",
                    "male",
                    "male",
                    "male",
                    "male",
                    "male",
                    "male",
                    "male",
                    "female",
                    "male",
                    "male",
                    "male",
                    "female",
                    "female",
                    "male",
                    "male",
                    "female",
                    "male",
                    "male",
                    "male",
                    "male",
                    "male",
                    "male",
                    "male",
                    "female",
                    "male",
                    "female",
                    "male",
                    "male",
                    "male",
                    "male",
                    "male",
                    "male",
                    "male",
                    "male",
                    "male",
                    "male",
                    "male",
                    "male",
                    "male",
                    "male",
                    "male",
                    "male",
                    "male",
                    "male",
                    "male",
                    "male",
                    "male",
                    "male",
                    "male",
                    "male",
                    "male",
                    "male",
                    "male",
                    "male",
                    "male",
                    "male",
                    "female",
                    "male",
                    "male",
                    "female",
                    "male",
                    "male",
                    "male",
                    "male",
                    "male",
                    "male",
                    "male",
                    "female",
                    "male",
                    "male",
                    "male",
                    "male",
                    "female",
                    "male",
                    "male",
                    "male",
                    "male",
                    "male",
                    "male",
                    "male",
                    "male",
                    "female",
                    "male",
                    "male",
                    "male",
                    "male",
                    "male",
                    "female",
                    "female",
                    "male",
                    "male",
                    "male",
                    "male",
                    "male",
                    "female",
                    "male",
                    "male",
                    "male",
                    "female",
                    "male",
                    "female",
                    "male",
                    "male",
                    "male",
                    "male",
                    "male",
                    "male",
                    "male",
                    "female",
                    "male",
                    "male",
                    "male",
                    "male",
                    "male",
                    "male",
                    "female",
                    "male",
                    "male",
                    "male",
                    "male",
                    "male",
                    "male",
                    "male",
                    "male",
                    "male",
                    "male",
                    "male",
                    "male",
                    "male",
                    "male",
                    "male",
                    "female",
                    "male",
                    "male",
                    "male",
                    "male",
                    "male",
                    "female",
                    "male",
                    "male",
                    "male",
                    "male",
                    "male",
                    "male",
                    "male",
                    "male",
                    "male",
                    "male",
                    "male",
                    "male",
                    "male",
                    "male",
                    "male",
                    "male",
                    "male",
                    "male",
                    "male",
                    "female",
                    "male",
                    "male",
                    "male"
                  ],
                  "xaxis": "x",
                  "yaxis": "y"
                },
                {
                  "alignmentgroup": "True",
                  "bingroup": "x",
                  "hovertemplate": "Survived=1<br>Sex=%{x}<br>count=%{y}<extra></extra>",
                  "legendgroup": "1",
                  "marker": {
                    "color": "#B6E880",
                    "pattern": {
                      "shape": ""
                    }
                  },
                  "name": "1",
                  "offsetgroup": "1",
                  "orientation": "v",
                  "showlegend": true,
                  "type": "histogram",
                  "x": [
                    "male",
                    "female",
                    "male",
                    "female",
                    "female",
                    "female",
                    "female",
                    "female",
                    "female",
                    "male",
                    "female",
                    "male",
                    "female",
                    "female",
                    "female",
                    "male",
                    "female",
                    "male",
                    "female",
                    "female",
                    "female",
                    "female",
                    "female",
                    "female",
                    "female",
                    "female",
                    "female",
                    "male",
                    "female",
                    "male",
                    "male",
                    "female",
                    "female",
                    "female",
                    "female",
                    "male",
                    "male",
                    "male",
                    "female",
                    "female",
                    "female",
                    "female",
                    "female",
                    "male",
                    "male",
                    "female",
                    "female",
                    "male",
                    "male",
                    "male",
                    "male",
                    "female",
                    "female",
                    "female",
                    "male",
                    "male",
                    "female",
                    "male",
                    "female",
                    "female",
                    "male",
                    "female",
                    "male",
                    "male",
                    "female",
                    "male",
                    "male",
                    "male",
                    "male",
                    "female",
                    "female",
                    "female",
                    "male",
                    "male",
                    "female",
                    "female",
                    "female",
                    "female",
                    "female",
                    "female",
                    "female",
                    "female",
                    "female",
                    "female",
                    "female",
                    "female",
                    "female",
                    "female",
                    "female",
                    "female",
                    "female",
                    "female",
                    "female",
                    "female",
                    "female",
                    "female",
                    "female",
                    "male",
                    "female",
                    "female",
                    "female",
                    "female",
                    "female",
                    "female",
                    "male",
                    "female",
                    "male",
                    "female",
                    "male",
                    "female",
                    "male",
                    "female",
                    "female",
                    "female",
                    "female",
                    "female",
                    "female",
                    "female",
                    "female",
                    "female",
                    "female",
                    "female",
                    "male",
                    "female",
                    "male",
                    "male",
                    "female",
                    "female",
                    "female",
                    "female",
                    "female",
                    "female",
                    "female",
                    "female",
                    "male",
                    "male",
                    "male",
                    "female",
                    "male",
                    "male",
                    "female",
                    "female",
                    "female",
                    "female",
                    "male",
                    "female",
                    "female",
                    "female",
                    "female",
                    "male",
                    "female",
                    "male",
                    "female",
                    "female",
                    "female",
                    "male",
                    "male",
                    "male",
                    "female",
                    "female",
                    "female",
                    "male",
                    "male",
                    "female",
                    "female",
                    "male",
                    "female",
                    "female",
                    "male",
                    "male",
                    "male",
                    "male",
                    "female",
                    "female",
                    "female",
                    "female",
                    "female",
                    "female",
                    "female",
                    "male",
                    "male",
                    "male",
                    "female",
                    "female",
                    "female",
                    "male",
                    "male",
                    "female",
                    "female",
                    "male",
                    "male",
                    "female",
                    "female",
                    "female",
                    "male",
                    "female",
                    "male",
                    "female",
                    "female",
                    "male",
                    "male",
                    "female",
                    "female",
                    "female",
                    "female",
                    "female",
                    "female",
                    "male",
                    "male",
                    "male",
                    "male",
                    "male",
                    "female",
                    "female",
                    "female",
                    "female",
                    "female",
                    "female",
                    "female",
                    "female",
                    "female",
                    "female",
                    "male",
                    "male",
                    "male",
                    "male",
                    "female",
                    "female",
                    "female",
                    "male",
                    "female",
                    "female",
                    "female",
                    "female",
                    "male",
                    "male",
                    "female",
                    "male",
                    "female",
                    "female",
                    "female",
                    "female",
                    "female",
                    "female",
                    "female",
                    "female",
                    "female",
                    "female",
                    "female",
                    "female",
                    "female",
                    "male",
                    "female",
                    "male",
                    "male",
                    "male",
                    "female",
                    "female",
                    "male",
                    "female",
                    "female",
                    "female",
                    "female",
                    "female",
                    "female"
                  ],
                  "xaxis": "x",
                  "yaxis": "y"
                }
              ],
              "layout": {
                "barmode": "relative",
                "height": 400,
                "legend": {
                  "title": {
                    "text": "Survived"
                  },
                  "tracegroupgap": 0
                },
                "margin": {
                  "t": 60
                },
                "template": {
                  "data": {
                    "bar": [
                      {
                        "error_x": {
                          "color": "#2a3f5f"
                        },
                        "error_y": {
                          "color": "#2a3f5f"
                        },
                        "marker": {
                          "line": {
                            "color": "#E5ECF6",
                            "width": 0.5
                          },
                          "pattern": {
                            "fillmode": "overlay",
                            "size": 10,
                            "solidity": 0.2
                          }
                        },
                        "type": "bar"
                      }
                    ],
                    "barpolar": [
                      {
                        "marker": {
                          "line": {
                            "color": "#E5ECF6",
                            "width": 0.5
                          },
                          "pattern": {
                            "fillmode": "overlay",
                            "size": 10,
                            "solidity": 0.2
                          }
                        },
                        "type": "barpolar"
                      }
                    ],
                    "carpet": [
                      {
                        "aaxis": {
                          "endlinecolor": "#2a3f5f",
                          "gridcolor": "white",
                          "linecolor": "white",
                          "minorgridcolor": "white",
                          "startlinecolor": "#2a3f5f"
                        },
                        "baxis": {
                          "endlinecolor": "#2a3f5f",
                          "gridcolor": "white",
                          "linecolor": "white",
                          "minorgridcolor": "white",
                          "startlinecolor": "#2a3f5f"
                        },
                        "type": "carpet"
                      }
                    ],
                    "choropleth": [
                      {
                        "colorbar": {
                          "outlinewidth": 0,
                          "ticks": ""
                        },
                        "type": "choropleth"
                      }
                    ],
                    "contour": [
                      {
                        "colorbar": {
                          "outlinewidth": 0,
                          "ticks": ""
                        },
                        "colorscale": [
                          [
                            0,
                            "#0d0887"
                          ],
                          [
                            0.1111111111111111,
                            "#46039f"
                          ],
                          [
                            0.2222222222222222,
                            "#7201a8"
                          ],
                          [
                            0.3333333333333333,
                            "#9c179e"
                          ],
                          [
                            0.4444444444444444,
                            "#bd3786"
                          ],
                          [
                            0.5555555555555556,
                            "#d8576b"
                          ],
                          [
                            0.6666666666666666,
                            "#ed7953"
                          ],
                          [
                            0.7777777777777778,
                            "#fb9f3a"
                          ],
                          [
                            0.8888888888888888,
                            "#fdca26"
                          ],
                          [
                            1,
                            "#f0f921"
                          ]
                        ],
                        "type": "contour"
                      }
                    ],
                    "contourcarpet": [
                      {
                        "colorbar": {
                          "outlinewidth": 0,
                          "ticks": ""
                        },
                        "type": "contourcarpet"
                      }
                    ],
                    "heatmap": [
                      {
                        "colorbar": {
                          "outlinewidth": 0,
                          "ticks": ""
                        },
                        "colorscale": [
                          [
                            0,
                            "#0d0887"
                          ],
                          [
                            0.1111111111111111,
                            "#46039f"
                          ],
                          [
                            0.2222222222222222,
                            "#7201a8"
                          ],
                          [
                            0.3333333333333333,
                            "#9c179e"
                          ],
                          [
                            0.4444444444444444,
                            "#bd3786"
                          ],
                          [
                            0.5555555555555556,
                            "#d8576b"
                          ],
                          [
                            0.6666666666666666,
                            "#ed7953"
                          ],
                          [
                            0.7777777777777778,
                            "#fb9f3a"
                          ],
                          [
                            0.8888888888888888,
                            "#fdca26"
                          ],
                          [
                            1,
                            "#f0f921"
                          ]
                        ],
                        "type": "heatmap"
                      }
                    ],
                    "heatmapgl": [
                      {
                        "colorbar": {
                          "outlinewidth": 0,
                          "ticks": ""
                        },
                        "colorscale": [
                          [
                            0,
                            "#0d0887"
                          ],
                          [
                            0.1111111111111111,
                            "#46039f"
                          ],
                          [
                            0.2222222222222222,
                            "#7201a8"
                          ],
                          [
                            0.3333333333333333,
                            "#9c179e"
                          ],
                          [
                            0.4444444444444444,
                            "#bd3786"
                          ],
                          [
                            0.5555555555555556,
                            "#d8576b"
                          ],
                          [
                            0.6666666666666666,
                            "#ed7953"
                          ],
                          [
                            0.7777777777777778,
                            "#fb9f3a"
                          ],
                          [
                            0.8888888888888888,
                            "#fdca26"
                          ],
                          [
                            1,
                            "#f0f921"
                          ]
                        ],
                        "type": "heatmapgl"
                      }
                    ],
                    "histogram": [
                      {
                        "marker": {
                          "pattern": {
                            "fillmode": "overlay",
                            "size": 10,
                            "solidity": 0.2
                          }
                        },
                        "type": "histogram"
                      }
                    ],
                    "histogram2d": [
                      {
                        "colorbar": {
                          "outlinewidth": 0,
                          "ticks": ""
                        },
                        "colorscale": [
                          [
                            0,
                            "#0d0887"
                          ],
                          [
                            0.1111111111111111,
                            "#46039f"
                          ],
                          [
                            0.2222222222222222,
                            "#7201a8"
                          ],
                          [
                            0.3333333333333333,
                            "#9c179e"
                          ],
                          [
                            0.4444444444444444,
                            "#bd3786"
                          ],
                          [
                            0.5555555555555556,
                            "#d8576b"
                          ],
                          [
                            0.6666666666666666,
                            "#ed7953"
                          ],
                          [
                            0.7777777777777778,
                            "#fb9f3a"
                          ],
                          [
                            0.8888888888888888,
                            "#fdca26"
                          ],
                          [
                            1,
                            "#f0f921"
                          ]
                        ],
                        "type": "histogram2d"
                      }
                    ],
                    "histogram2dcontour": [
                      {
                        "colorbar": {
                          "outlinewidth": 0,
                          "ticks": ""
                        },
                        "colorscale": [
                          [
                            0,
                            "#0d0887"
                          ],
                          [
                            0.1111111111111111,
                            "#46039f"
                          ],
                          [
                            0.2222222222222222,
                            "#7201a8"
                          ],
                          [
                            0.3333333333333333,
                            "#9c179e"
                          ],
                          [
                            0.4444444444444444,
                            "#bd3786"
                          ],
                          [
                            0.5555555555555556,
                            "#d8576b"
                          ],
                          [
                            0.6666666666666666,
                            "#ed7953"
                          ],
                          [
                            0.7777777777777778,
                            "#fb9f3a"
                          ],
                          [
                            0.8888888888888888,
                            "#fdca26"
                          ],
                          [
                            1,
                            "#f0f921"
                          ]
                        ],
                        "type": "histogram2dcontour"
                      }
                    ],
                    "mesh3d": [
                      {
                        "colorbar": {
                          "outlinewidth": 0,
                          "ticks": ""
                        },
                        "type": "mesh3d"
                      }
                    ],
                    "parcoords": [
                      {
                        "line": {
                          "colorbar": {
                            "outlinewidth": 0,
                            "ticks": ""
                          }
                        },
                        "type": "parcoords"
                      }
                    ],
                    "pie": [
                      {
                        "automargin": true,
                        "type": "pie"
                      }
                    ],
                    "scatter": [
                      {
                        "marker": {
                          "colorbar": {
                            "outlinewidth": 0,
                            "ticks": ""
                          }
                        },
                        "type": "scatter"
                      }
                    ],
                    "scatter3d": [
                      {
                        "line": {
                          "colorbar": {
                            "outlinewidth": 0,
                            "ticks": ""
                          }
                        },
                        "marker": {
                          "colorbar": {
                            "outlinewidth": 0,
                            "ticks": ""
                          }
                        },
                        "type": "scatter3d"
                      }
                    ],
                    "scattercarpet": [
                      {
                        "marker": {
                          "colorbar": {
                            "outlinewidth": 0,
                            "ticks": ""
                          }
                        },
                        "type": "scattercarpet"
                      }
                    ],
                    "scattergeo": [
                      {
                        "marker": {
                          "colorbar": {
                            "outlinewidth": 0,
                            "ticks": ""
                          }
                        },
                        "type": "scattergeo"
                      }
                    ],
                    "scattergl": [
                      {
                        "marker": {
                          "colorbar": {
                            "outlinewidth": 0,
                            "ticks": ""
                          }
                        },
                        "type": "scattergl"
                      }
                    ],
                    "scattermapbox": [
                      {
                        "marker": {
                          "colorbar": {
                            "outlinewidth": 0,
                            "ticks": ""
                          }
                        },
                        "type": "scattermapbox"
                      }
                    ],
                    "scatterpolar": [
                      {
                        "marker": {
                          "colorbar": {
                            "outlinewidth": 0,
                            "ticks": ""
                          }
                        },
                        "type": "scatterpolar"
                      }
                    ],
                    "scatterpolargl": [
                      {
                        "marker": {
                          "colorbar": {
                            "outlinewidth": 0,
                            "ticks": ""
                          }
                        },
                        "type": "scatterpolargl"
                      }
                    ],
                    "scatterternary": [
                      {
                        "marker": {
                          "colorbar": {
                            "outlinewidth": 0,
                            "ticks": ""
                          }
                        },
                        "type": "scatterternary"
                      }
                    ],
                    "surface": [
                      {
                        "colorbar": {
                          "outlinewidth": 0,
                          "ticks": ""
                        },
                        "colorscale": [
                          [
                            0,
                            "#0d0887"
                          ],
                          [
                            0.1111111111111111,
                            "#46039f"
                          ],
                          [
                            0.2222222222222222,
                            "#7201a8"
                          ],
                          [
                            0.3333333333333333,
                            "#9c179e"
                          ],
                          [
                            0.4444444444444444,
                            "#bd3786"
                          ],
                          [
                            0.5555555555555556,
                            "#d8576b"
                          ],
                          [
                            0.6666666666666666,
                            "#ed7953"
                          ],
                          [
                            0.7777777777777778,
                            "#fb9f3a"
                          ],
                          [
                            0.8888888888888888,
                            "#fdca26"
                          ],
                          [
                            1,
                            "#f0f921"
                          ]
                        ],
                        "type": "surface"
                      }
                    ],
                    "table": [
                      {
                        "cells": {
                          "fill": {
                            "color": "#EBF0F8"
                          },
                          "line": {
                            "color": "white"
                          }
                        },
                        "header": {
                          "fill": {
                            "color": "#C8D4E3"
                          },
                          "line": {
                            "color": "white"
                          }
                        },
                        "type": "table"
                      }
                    ]
                  },
                  "layout": {
                    "annotationdefaults": {
                      "arrowcolor": "#2a3f5f",
                      "arrowhead": 0,
                      "arrowwidth": 1
                    },
                    "autotypenumbers": "strict",
                    "coloraxis": {
                      "colorbar": {
                        "outlinewidth": 0,
                        "ticks": ""
                      }
                    },
                    "colorscale": {
                      "diverging": [
                        [
                          0,
                          "#8e0152"
                        ],
                        [
                          0.1,
                          "#c51b7d"
                        ],
                        [
                          0.2,
                          "#de77ae"
                        ],
                        [
                          0.3,
                          "#f1b6da"
                        ],
                        [
                          0.4,
                          "#fde0ef"
                        ],
                        [
                          0.5,
                          "#f7f7f7"
                        ],
                        [
                          0.6,
                          "#e6f5d0"
                        ],
                        [
                          0.7,
                          "#b8e186"
                        ],
                        [
                          0.8,
                          "#7fbc41"
                        ],
                        [
                          0.9,
                          "#4d9221"
                        ],
                        [
                          1,
                          "#276419"
                        ]
                      ],
                      "sequential": [
                        [
                          0,
                          "#0d0887"
                        ],
                        [
                          0.1111111111111111,
                          "#46039f"
                        ],
                        [
                          0.2222222222222222,
                          "#7201a8"
                        ],
                        [
                          0.3333333333333333,
                          "#9c179e"
                        ],
                        [
                          0.4444444444444444,
                          "#bd3786"
                        ],
                        [
                          0.5555555555555556,
                          "#d8576b"
                        ],
                        [
                          0.6666666666666666,
                          "#ed7953"
                        ],
                        [
                          0.7777777777777778,
                          "#fb9f3a"
                        ],
                        [
                          0.8888888888888888,
                          "#fdca26"
                        ],
                        [
                          1,
                          "#f0f921"
                        ]
                      ],
                      "sequentialminus": [
                        [
                          0,
                          "#0d0887"
                        ],
                        [
                          0.1111111111111111,
                          "#46039f"
                        ],
                        [
                          0.2222222222222222,
                          "#7201a8"
                        ],
                        [
                          0.3333333333333333,
                          "#9c179e"
                        ],
                        [
                          0.4444444444444444,
                          "#bd3786"
                        ],
                        [
                          0.5555555555555556,
                          "#d8576b"
                        ],
                        [
                          0.6666666666666666,
                          "#ed7953"
                        ],
                        [
                          0.7777777777777778,
                          "#fb9f3a"
                        ],
                        [
                          0.8888888888888888,
                          "#fdca26"
                        ],
                        [
                          1,
                          "#f0f921"
                        ]
                      ]
                    },
                    "colorway": [
                      "#636efa",
                      "#EF553B",
                      "#00cc96",
                      "#ab63fa",
                      "#FFA15A",
                      "#19d3f3",
                      "#FF6692",
                      "#B6E880",
                      "#FF97FF",
                      "#FECB52"
                    ],
                    "font": {
                      "color": "#2a3f5f"
                    },
                    "geo": {
                      "bgcolor": "white",
                      "lakecolor": "white",
                      "landcolor": "#E5ECF6",
                      "showlakes": true,
                      "showland": true,
                      "subunitcolor": "white"
                    },
                    "hoverlabel": {
                      "align": "left"
                    },
                    "hovermode": "closest",
                    "mapbox": {
                      "style": "light"
                    },
                    "paper_bgcolor": "white",
                    "plot_bgcolor": "#E5ECF6",
                    "polar": {
                      "angularaxis": {
                        "gridcolor": "white",
                        "linecolor": "white",
                        "ticks": ""
                      },
                      "bgcolor": "#E5ECF6",
                      "radialaxis": {
                        "gridcolor": "white",
                        "linecolor": "white",
                        "ticks": ""
                      }
                    },
                    "scene": {
                      "xaxis": {
                        "backgroundcolor": "#E5ECF6",
                        "gridcolor": "white",
                        "gridwidth": 2,
                        "linecolor": "white",
                        "showbackground": true,
                        "ticks": "",
                        "zerolinecolor": "white"
                      },
                      "yaxis": {
                        "backgroundcolor": "#E5ECF6",
                        "gridcolor": "white",
                        "gridwidth": 2,
                        "linecolor": "white",
                        "showbackground": true,
                        "ticks": "",
                        "zerolinecolor": "white"
                      },
                      "zaxis": {
                        "backgroundcolor": "#E5ECF6",
                        "gridcolor": "white",
                        "gridwidth": 2,
                        "linecolor": "white",
                        "showbackground": true,
                        "ticks": "",
                        "zerolinecolor": "white"
                      }
                    },
                    "shapedefaults": {
                      "line": {
                        "color": "#2a3f5f"
                      }
                    },
                    "ternary": {
                      "aaxis": {
                        "gridcolor": "white",
                        "linecolor": "white",
                        "ticks": ""
                      },
                      "baxis": {
                        "gridcolor": "white",
                        "linecolor": "white",
                        "ticks": ""
                      },
                      "bgcolor": "#E5ECF6",
                      "caxis": {
                        "gridcolor": "white",
                        "linecolor": "white",
                        "ticks": ""
                      }
                    },
                    "title": {
                      "x": 0.05
                    },
                    "xaxis": {
                      "automargin": true,
                      "gridcolor": "white",
                      "linecolor": "white",
                      "ticks": "",
                      "title": {
                        "standoff": 15
                      },
                      "zerolinecolor": "white",
                      "zerolinewidth": 2
                    },
                    "yaxis": {
                      "automargin": true,
                      "gridcolor": "white",
                      "linecolor": "white",
                      "ticks": "",
                      "title": {
                        "standoff": 15
                      },
                      "zerolinecolor": "white",
                      "zerolinewidth": 2
                    }
                  }
                },
                "title": {
                  "text": "Sobrevivência por gênero"
                },
                "width": 800,
                "xaxis": {
                  "anchor": "y",
                  "domain": [
                    0,
                    1
                  ],
                  "title": {
                    "text": "Sex"
                  }
                },
                "yaxis": {
                  "anchor": "x",
                  "domain": [
                    0,
                    1
                  ],
                  "title": {
                    "text": "count"
                  }
                }
              }
            }
          },
          "metadata": {},
          "output_type": "display_data"
        }
      ],
      "source": [
        "fig = px.histogram(train, x=\"Sex\", color=\"Survived\", color_discrete_sequence=[\"#363945\", \"#B6E880\"])\n",
        "fig.update_layout(height=400, width=800, title_text=\"Sobrevivência por gênero\")\n",
        "fig.show()"
      ]
    },
    {
      "cell_type": "markdown",
      "metadata": {},
      "source": [
        "É evidente que mulheres sobreviveram muito mais que homens. Aparentemente gênero é uma feature muito importante para a predição de sobrevivência de um passageiro."
      ]
    },
    {
      "cell_type": "markdown",
      "metadata": {},
      "source": [
        "#### Onde embarcou"
      ]
    },
    {
      "cell_type": "code",
      "execution_count": 123,
      "metadata": {
        "execution": {
          "iopub.status.busy": "2022-01-03T16:01:20.045395Z",
          "iopub.status.idle": "2022-01-03T16:01:20.045759Z",
          "shell.execute_reply": "2022-01-03T16:01:20.045606Z",
          "shell.execute_reply.started": "2022-01-03T16:01:20.045579Z"
        },
        "trusted": true
      },
      "outputs": [
        {
          "data": {
            "application/vnd.plotly.v1+json": {
              "config": {
                "plotlyServerURL": "https://plot.ly"
              },
              "data": [
                {
                  "alignmentgroup": "True",
                  "bingroup": "x",
                  "hovertemplate": "Survived=0<br>Embarked=%{x}<br>count=%{y}<extra></extra>",
                  "legendgroup": "0",
                  "marker": {
                    "color": "#363945",
                    "pattern": {
                      "shape": ""
                    }
                  },
                  "name": "0",
                  "offsetgroup": "0",
                  "orientation": "v",
                  "showlegend": true,
                  "type": "histogram",
                  "x": [
                    "S",
                    "S",
                    "S",
                    "S",
                    "S",
                    "C",
                    "S",
                    "C",
                    "S",
                    "S",
                    "S",
                    "S",
                    "S",
                    "S",
                    "S",
                    "S",
                    "S",
                    "C",
                    "S",
                    "C",
                    "S",
                    "Q",
                    "S",
                    "S",
                    "C",
                    "S",
                    "S",
                    "S",
                    "S",
                    "S",
                    "S",
                    "S",
                    "Q",
                    "S",
                    "Q",
                    "S",
                    "C",
                    "S",
                    "C",
                    "S",
                    "S",
                    "S",
                    "S",
                    "S",
                    "Q",
                    "C",
                    "S",
                    "S",
                    "C",
                    "S",
                    "S",
                    "S",
                    "S",
                    "S",
                    "S",
                    "S",
                    "S",
                    "S",
                    "C",
                    "S",
                    "S",
                    "S",
                    "S",
                    "C",
                    "S",
                    "S",
                    "S",
                    "Q",
                    "C",
                    "S",
                    "S",
                    "Q",
                    "C",
                    "C",
                    "S",
                    "S",
                    "S",
                    "S",
                    "S",
                    "S",
                    "S",
                    "S",
                    "S",
                    "S",
                    "S",
                    "S",
                    "S",
                    "S",
                    "S",
                    "S",
                    "Q",
                    "S",
                    "Q",
                    "C",
                    "C",
                    "S",
                    "S",
                    "S",
                    "S",
                    "C",
                    "S",
                    "S",
                    "S",
                    "S",
                    "Q",
                    "S",
                    "S",
                    "S",
                    "S",
                    "S",
                    "S",
                    "Q",
                    "S",
                    "Q",
                    "S",
                    "C",
                    "S",
                    "S",
                    "S",
                    "S",
                    "C",
                    "S",
                    "S",
                    "C",
                    "S",
                    "S",
                    "S",
                    "S",
                    "C",
                    "S",
                    "Q",
                    "C",
                    "S",
                    "S",
                    "S",
                    "Q",
                    "S",
                    "S",
                    "S",
                    "C",
                    "S",
                    "S",
                    "S",
                    "S",
                    "C",
                    "S",
                    "S",
                    "S",
                    "C",
                    "S",
                    "S",
                    "S",
                    "C",
                    "S",
                    "S",
                    "S",
                    "S",
                    "S",
                    "Q",
                    "Q",
                    "S",
                    "S",
                    "S",
                    "S",
                    "S",
                    "C",
                    "S",
                    "S",
                    "S",
                    "S",
                    "S",
                    "C",
                    "Q",
                    "Q",
                    "Q",
                    "S",
                    "S",
                    "C",
                    "S",
                    "S",
                    "S",
                    "S",
                    "S",
                    "S",
                    "C",
                    "Q",
                    "S",
                    "S",
                    "Q",
                    "S",
                    "S",
                    "S",
                    "C",
                    "S",
                    "S",
                    "S",
                    "S",
                    "S",
                    "S",
                    "S",
                    "S",
                    "C",
                    "S",
                    "S",
                    "Q",
                    "S",
                    "S",
                    "S",
                    "S",
                    "S",
                    "S",
                    "S",
                    "C",
                    "S",
                    "S",
                    "Q",
                    "S",
                    "Q",
                    "S",
                    "S",
                    "S",
                    "S",
                    "S",
                    "S",
                    "S",
                    "S",
                    "Q",
                    "S",
                    "S",
                    "S",
                    "S",
                    "Q",
                    "Q",
                    "S",
                    "C",
                    "Q",
                    "S",
                    "S",
                    "S",
                    "S",
                    "S",
                    "C",
                    "S",
                    "S",
                    "Q",
                    "S",
                    "S",
                    "S",
                    "C",
                    "S",
                    "S",
                    "S",
                    "S",
                    "S",
                    "S",
                    "S",
                    "S",
                    "S",
                    "S",
                    "Q",
                    "S",
                    "C",
                    "S",
                    "Q",
                    "S",
                    "S",
                    "S",
                    "S",
                    "S",
                    "S",
                    "C",
                    "S",
                    "S",
                    "S",
                    "S",
                    "S",
                    "S",
                    "S",
                    "S",
                    "S",
                    "C",
                    "S",
                    "S",
                    "S",
                    "S",
                    "S",
                    "S",
                    "Q",
                    "S",
                    "S",
                    "S",
                    "C",
                    "S",
                    "S",
                    "S",
                    "S",
                    "S",
                    "S",
                    "S",
                    "S",
                    "S",
                    "S",
                    "S",
                    "S",
                    "S",
                    "S",
                    "Q",
                    "S",
                    "S",
                    "S",
                    "S",
                    "S",
                    "S",
                    "S",
                    "C",
                    "S",
                    "S",
                    "S",
                    "S",
                    "S",
                    "S",
                    "C",
                    "S",
                    "S",
                    "S",
                    "S",
                    "C",
                    "S",
                    "S",
                    "S",
                    "S",
                    "S",
                    "S",
                    "S",
                    "C",
                    "S",
                    "C",
                    "S",
                    "S",
                    "Q",
                    "S",
                    "S",
                    "C",
                    "S",
                    "S",
                    "S",
                    "S",
                    "S",
                    "S",
                    "S",
                    "S",
                    "S",
                    "S",
                    "S",
                    "S",
                    "Q",
                    "S",
                    "S",
                    "S",
                    "C",
                    "C",
                    "S",
                    "S",
                    "S",
                    "S",
                    "S",
                    "S",
                    "S",
                    "S",
                    "C",
                    "S",
                    "S",
                    "S",
                    "S",
                    "S",
                    "S",
                    "C",
                    "S",
                    "S",
                    "S",
                    "S",
                    "S",
                    "S",
                    "C",
                    "S",
                    "S",
                    "S",
                    "S",
                    "C",
                    "S",
                    "S",
                    "S",
                    "C",
                    "S",
                    "S",
                    "S",
                    "S",
                    "S",
                    "S",
                    "Q",
                    "S",
                    "C",
                    "S",
                    "S",
                    "S",
                    "S",
                    "S",
                    "S",
                    "S",
                    "S",
                    "S",
                    "S",
                    "S",
                    "S",
                    "S",
                    "Q",
                    "S",
                    "S",
                    "Q",
                    "S",
                    "S",
                    "S",
                    "S",
                    "S",
                    "S",
                    "S",
                    "S",
                    "S",
                    "C",
                    "C",
                    "C",
                    "S",
                    "S",
                    "S",
                    "S",
                    "Q",
                    "S",
                    "S",
                    "S",
                    "S",
                    "S",
                    "S",
                    "S",
                    "S"
                  ],
                  "xaxis": "x",
                  "yaxis": "y"
                },
                {
                  "alignmentgroup": "True",
                  "bingroup": "x",
                  "hovertemplate": "Survived=1<br>Embarked=%{x}<br>count=%{y}<extra></extra>",
                  "legendgroup": "1",
                  "marker": {
                    "color": "#B6E880",
                    "pattern": {
                      "shape": ""
                    }
                  },
                  "name": "1",
                  "offsetgroup": "1",
                  "orientation": "v",
                  "showlegend": true,
                  "type": "histogram",
                  "x": [
                    "S",
                    "S",
                    "S",
                    "S",
                    "S",
                    "C",
                    "S",
                    "S",
                    "S",
                    "C",
                    "C",
                    "S",
                    "Q",
                    "S",
                    "S",
                    "S",
                    "S",
                    "S",
                    "S",
                    "S",
                    "C",
                    "C",
                    "S",
                    null,
                    "S",
                    "C",
                    "S",
                    "S",
                    "S",
                    "S",
                    "S",
                    "S",
                    "S",
                    "S",
                    "S",
                    "S",
                    "S",
                    "S",
                    "S",
                    "S",
                    "C",
                    "S",
                    "Q",
                    "S",
                    "S",
                    "C",
                    "S",
                    "C",
                    "S",
                    "C",
                    "C",
                    "S",
                    "S",
                    "S",
                    "S",
                    "S",
                    "S",
                    "S",
                    null,
                    "S",
                    "S",
                    "C",
                    "C",
                    "S",
                    "C",
                    "S",
                    "S",
                    "S",
                    "S",
                    "S",
                    "Q",
                    "C",
                    "Q",
                    "S",
                    "S",
                    "S",
                    "C",
                    "C",
                    "S",
                    "C",
                    "C",
                    "C",
                    "S",
                    "S",
                    "S",
                    "S",
                    "S",
                    "C",
                    "C",
                    "Q",
                    "C",
                    "S",
                    "S",
                    "C",
                    "Q",
                    "S",
                    "C",
                    "S",
                    "S",
                    "S",
                    "S",
                    "S",
                    "S",
                    "S",
                    "S",
                    "S",
                    "C",
                    "Q",
                    "C",
                    "C",
                    "C",
                    "S",
                    "Q",
                    "S",
                    "S",
                    "S",
                    "C",
                    "S",
                    "C",
                    "C",
                    "S",
                    "S",
                    "S",
                    "C",
                    "S",
                    "S",
                    "C",
                    "S",
                    "S",
                    "C",
                    "S",
                    "S",
                    "S",
                    "C",
                    "S",
                    "S",
                    "S",
                    "S",
                    "S",
                    "S",
                    "Q",
                    "C",
                    "S",
                    "S",
                    "Q",
                    "S",
                    "S",
                    "C",
                    "S",
                    "S",
                    "S",
                    "S",
                    "C",
                    "S",
                    "C",
                    "S",
                    "S",
                    "S",
                    "S",
                    "S",
                    "S",
                    "C",
                    "C",
                    "S",
                    "S",
                    "C",
                    "Q",
                    "S",
                    "S",
                    "C",
                    "S",
                    "S",
                    "C",
                    "Q",
                    "S",
                    "S",
                    "C",
                    "S",
                    "S",
                    "S",
                    "S",
                    "S",
                    "S",
                    "C",
                    "S",
                    "S",
                    "S",
                    "C",
                    "S",
                    "S",
                    "S",
                    "S",
                    "Q",
                    "S",
                    "C",
                    "S",
                    "S",
                    "S",
                    "S",
                    "C",
                    "C",
                    "S",
                    "C",
                    "S",
                    "S",
                    "S",
                    "S",
                    "S",
                    "S",
                    "S",
                    "S",
                    "C",
                    "C",
                    "S",
                    "Q",
                    "S",
                    "S",
                    "Q",
                    "Q",
                    "Q",
                    "Q",
                    "S",
                    "S",
                    "S",
                    "S",
                    "C",
                    "C",
                    "S",
                    "Q",
                    "S",
                    "S",
                    "S",
                    "C",
                    "C",
                    "S",
                    "S",
                    "S",
                    "C",
                    "S",
                    "S",
                    "S",
                    "C",
                    "C",
                    "S",
                    "C",
                    "S",
                    "Q",
                    "S",
                    "S",
                    "S",
                    "S",
                    "C",
                    "S",
                    "S",
                    "C",
                    "Q",
                    "S",
                    "S",
                    "S",
                    "S",
                    "S",
                    "Q",
                    "C",
                    "S",
                    "S"
                  ],
                  "xaxis": "x",
                  "yaxis": "y"
                }
              ],
              "layout": {
                "barmode": "relative",
                "height": 400,
                "legend": {
                  "title": {
                    "text": "Survived"
                  },
                  "tracegroupgap": 0
                },
                "margin": {
                  "t": 60
                },
                "template": {
                  "data": {
                    "bar": [
                      {
                        "error_x": {
                          "color": "#2a3f5f"
                        },
                        "error_y": {
                          "color": "#2a3f5f"
                        },
                        "marker": {
                          "line": {
                            "color": "#E5ECF6",
                            "width": 0.5
                          },
                          "pattern": {
                            "fillmode": "overlay",
                            "size": 10,
                            "solidity": 0.2
                          }
                        },
                        "type": "bar"
                      }
                    ],
                    "barpolar": [
                      {
                        "marker": {
                          "line": {
                            "color": "#E5ECF6",
                            "width": 0.5
                          },
                          "pattern": {
                            "fillmode": "overlay",
                            "size": 10,
                            "solidity": 0.2
                          }
                        },
                        "type": "barpolar"
                      }
                    ],
                    "carpet": [
                      {
                        "aaxis": {
                          "endlinecolor": "#2a3f5f",
                          "gridcolor": "white",
                          "linecolor": "white",
                          "minorgridcolor": "white",
                          "startlinecolor": "#2a3f5f"
                        },
                        "baxis": {
                          "endlinecolor": "#2a3f5f",
                          "gridcolor": "white",
                          "linecolor": "white",
                          "minorgridcolor": "white",
                          "startlinecolor": "#2a3f5f"
                        },
                        "type": "carpet"
                      }
                    ],
                    "choropleth": [
                      {
                        "colorbar": {
                          "outlinewidth": 0,
                          "ticks": ""
                        },
                        "type": "choropleth"
                      }
                    ],
                    "contour": [
                      {
                        "colorbar": {
                          "outlinewidth": 0,
                          "ticks": ""
                        },
                        "colorscale": [
                          [
                            0,
                            "#0d0887"
                          ],
                          [
                            0.1111111111111111,
                            "#46039f"
                          ],
                          [
                            0.2222222222222222,
                            "#7201a8"
                          ],
                          [
                            0.3333333333333333,
                            "#9c179e"
                          ],
                          [
                            0.4444444444444444,
                            "#bd3786"
                          ],
                          [
                            0.5555555555555556,
                            "#d8576b"
                          ],
                          [
                            0.6666666666666666,
                            "#ed7953"
                          ],
                          [
                            0.7777777777777778,
                            "#fb9f3a"
                          ],
                          [
                            0.8888888888888888,
                            "#fdca26"
                          ],
                          [
                            1,
                            "#f0f921"
                          ]
                        ],
                        "type": "contour"
                      }
                    ],
                    "contourcarpet": [
                      {
                        "colorbar": {
                          "outlinewidth": 0,
                          "ticks": ""
                        },
                        "type": "contourcarpet"
                      }
                    ],
                    "heatmap": [
                      {
                        "colorbar": {
                          "outlinewidth": 0,
                          "ticks": ""
                        },
                        "colorscale": [
                          [
                            0,
                            "#0d0887"
                          ],
                          [
                            0.1111111111111111,
                            "#46039f"
                          ],
                          [
                            0.2222222222222222,
                            "#7201a8"
                          ],
                          [
                            0.3333333333333333,
                            "#9c179e"
                          ],
                          [
                            0.4444444444444444,
                            "#bd3786"
                          ],
                          [
                            0.5555555555555556,
                            "#d8576b"
                          ],
                          [
                            0.6666666666666666,
                            "#ed7953"
                          ],
                          [
                            0.7777777777777778,
                            "#fb9f3a"
                          ],
                          [
                            0.8888888888888888,
                            "#fdca26"
                          ],
                          [
                            1,
                            "#f0f921"
                          ]
                        ],
                        "type": "heatmap"
                      }
                    ],
                    "heatmapgl": [
                      {
                        "colorbar": {
                          "outlinewidth": 0,
                          "ticks": ""
                        },
                        "colorscale": [
                          [
                            0,
                            "#0d0887"
                          ],
                          [
                            0.1111111111111111,
                            "#46039f"
                          ],
                          [
                            0.2222222222222222,
                            "#7201a8"
                          ],
                          [
                            0.3333333333333333,
                            "#9c179e"
                          ],
                          [
                            0.4444444444444444,
                            "#bd3786"
                          ],
                          [
                            0.5555555555555556,
                            "#d8576b"
                          ],
                          [
                            0.6666666666666666,
                            "#ed7953"
                          ],
                          [
                            0.7777777777777778,
                            "#fb9f3a"
                          ],
                          [
                            0.8888888888888888,
                            "#fdca26"
                          ],
                          [
                            1,
                            "#f0f921"
                          ]
                        ],
                        "type": "heatmapgl"
                      }
                    ],
                    "histogram": [
                      {
                        "marker": {
                          "pattern": {
                            "fillmode": "overlay",
                            "size": 10,
                            "solidity": 0.2
                          }
                        },
                        "type": "histogram"
                      }
                    ],
                    "histogram2d": [
                      {
                        "colorbar": {
                          "outlinewidth": 0,
                          "ticks": ""
                        },
                        "colorscale": [
                          [
                            0,
                            "#0d0887"
                          ],
                          [
                            0.1111111111111111,
                            "#46039f"
                          ],
                          [
                            0.2222222222222222,
                            "#7201a8"
                          ],
                          [
                            0.3333333333333333,
                            "#9c179e"
                          ],
                          [
                            0.4444444444444444,
                            "#bd3786"
                          ],
                          [
                            0.5555555555555556,
                            "#d8576b"
                          ],
                          [
                            0.6666666666666666,
                            "#ed7953"
                          ],
                          [
                            0.7777777777777778,
                            "#fb9f3a"
                          ],
                          [
                            0.8888888888888888,
                            "#fdca26"
                          ],
                          [
                            1,
                            "#f0f921"
                          ]
                        ],
                        "type": "histogram2d"
                      }
                    ],
                    "histogram2dcontour": [
                      {
                        "colorbar": {
                          "outlinewidth": 0,
                          "ticks": ""
                        },
                        "colorscale": [
                          [
                            0,
                            "#0d0887"
                          ],
                          [
                            0.1111111111111111,
                            "#46039f"
                          ],
                          [
                            0.2222222222222222,
                            "#7201a8"
                          ],
                          [
                            0.3333333333333333,
                            "#9c179e"
                          ],
                          [
                            0.4444444444444444,
                            "#bd3786"
                          ],
                          [
                            0.5555555555555556,
                            "#d8576b"
                          ],
                          [
                            0.6666666666666666,
                            "#ed7953"
                          ],
                          [
                            0.7777777777777778,
                            "#fb9f3a"
                          ],
                          [
                            0.8888888888888888,
                            "#fdca26"
                          ],
                          [
                            1,
                            "#f0f921"
                          ]
                        ],
                        "type": "histogram2dcontour"
                      }
                    ],
                    "mesh3d": [
                      {
                        "colorbar": {
                          "outlinewidth": 0,
                          "ticks": ""
                        },
                        "type": "mesh3d"
                      }
                    ],
                    "parcoords": [
                      {
                        "line": {
                          "colorbar": {
                            "outlinewidth": 0,
                            "ticks": ""
                          }
                        },
                        "type": "parcoords"
                      }
                    ],
                    "pie": [
                      {
                        "automargin": true,
                        "type": "pie"
                      }
                    ],
                    "scatter": [
                      {
                        "marker": {
                          "colorbar": {
                            "outlinewidth": 0,
                            "ticks": ""
                          }
                        },
                        "type": "scatter"
                      }
                    ],
                    "scatter3d": [
                      {
                        "line": {
                          "colorbar": {
                            "outlinewidth": 0,
                            "ticks": ""
                          }
                        },
                        "marker": {
                          "colorbar": {
                            "outlinewidth": 0,
                            "ticks": ""
                          }
                        },
                        "type": "scatter3d"
                      }
                    ],
                    "scattercarpet": [
                      {
                        "marker": {
                          "colorbar": {
                            "outlinewidth": 0,
                            "ticks": ""
                          }
                        },
                        "type": "scattercarpet"
                      }
                    ],
                    "scattergeo": [
                      {
                        "marker": {
                          "colorbar": {
                            "outlinewidth": 0,
                            "ticks": ""
                          }
                        },
                        "type": "scattergeo"
                      }
                    ],
                    "scattergl": [
                      {
                        "marker": {
                          "colorbar": {
                            "outlinewidth": 0,
                            "ticks": ""
                          }
                        },
                        "type": "scattergl"
                      }
                    ],
                    "scattermapbox": [
                      {
                        "marker": {
                          "colorbar": {
                            "outlinewidth": 0,
                            "ticks": ""
                          }
                        },
                        "type": "scattermapbox"
                      }
                    ],
                    "scatterpolar": [
                      {
                        "marker": {
                          "colorbar": {
                            "outlinewidth": 0,
                            "ticks": ""
                          }
                        },
                        "type": "scatterpolar"
                      }
                    ],
                    "scatterpolargl": [
                      {
                        "marker": {
                          "colorbar": {
                            "outlinewidth": 0,
                            "ticks": ""
                          }
                        },
                        "type": "scatterpolargl"
                      }
                    ],
                    "scatterternary": [
                      {
                        "marker": {
                          "colorbar": {
                            "outlinewidth": 0,
                            "ticks": ""
                          }
                        },
                        "type": "scatterternary"
                      }
                    ],
                    "surface": [
                      {
                        "colorbar": {
                          "outlinewidth": 0,
                          "ticks": ""
                        },
                        "colorscale": [
                          [
                            0,
                            "#0d0887"
                          ],
                          [
                            0.1111111111111111,
                            "#46039f"
                          ],
                          [
                            0.2222222222222222,
                            "#7201a8"
                          ],
                          [
                            0.3333333333333333,
                            "#9c179e"
                          ],
                          [
                            0.4444444444444444,
                            "#bd3786"
                          ],
                          [
                            0.5555555555555556,
                            "#d8576b"
                          ],
                          [
                            0.6666666666666666,
                            "#ed7953"
                          ],
                          [
                            0.7777777777777778,
                            "#fb9f3a"
                          ],
                          [
                            0.8888888888888888,
                            "#fdca26"
                          ],
                          [
                            1,
                            "#f0f921"
                          ]
                        ],
                        "type": "surface"
                      }
                    ],
                    "table": [
                      {
                        "cells": {
                          "fill": {
                            "color": "#EBF0F8"
                          },
                          "line": {
                            "color": "white"
                          }
                        },
                        "header": {
                          "fill": {
                            "color": "#C8D4E3"
                          },
                          "line": {
                            "color": "white"
                          }
                        },
                        "type": "table"
                      }
                    ]
                  },
                  "layout": {
                    "annotationdefaults": {
                      "arrowcolor": "#2a3f5f",
                      "arrowhead": 0,
                      "arrowwidth": 1
                    },
                    "autotypenumbers": "strict",
                    "coloraxis": {
                      "colorbar": {
                        "outlinewidth": 0,
                        "ticks": ""
                      }
                    },
                    "colorscale": {
                      "diverging": [
                        [
                          0,
                          "#8e0152"
                        ],
                        [
                          0.1,
                          "#c51b7d"
                        ],
                        [
                          0.2,
                          "#de77ae"
                        ],
                        [
                          0.3,
                          "#f1b6da"
                        ],
                        [
                          0.4,
                          "#fde0ef"
                        ],
                        [
                          0.5,
                          "#f7f7f7"
                        ],
                        [
                          0.6,
                          "#e6f5d0"
                        ],
                        [
                          0.7,
                          "#b8e186"
                        ],
                        [
                          0.8,
                          "#7fbc41"
                        ],
                        [
                          0.9,
                          "#4d9221"
                        ],
                        [
                          1,
                          "#276419"
                        ]
                      ],
                      "sequential": [
                        [
                          0,
                          "#0d0887"
                        ],
                        [
                          0.1111111111111111,
                          "#46039f"
                        ],
                        [
                          0.2222222222222222,
                          "#7201a8"
                        ],
                        [
                          0.3333333333333333,
                          "#9c179e"
                        ],
                        [
                          0.4444444444444444,
                          "#bd3786"
                        ],
                        [
                          0.5555555555555556,
                          "#d8576b"
                        ],
                        [
                          0.6666666666666666,
                          "#ed7953"
                        ],
                        [
                          0.7777777777777778,
                          "#fb9f3a"
                        ],
                        [
                          0.8888888888888888,
                          "#fdca26"
                        ],
                        [
                          1,
                          "#f0f921"
                        ]
                      ],
                      "sequentialminus": [
                        [
                          0,
                          "#0d0887"
                        ],
                        [
                          0.1111111111111111,
                          "#46039f"
                        ],
                        [
                          0.2222222222222222,
                          "#7201a8"
                        ],
                        [
                          0.3333333333333333,
                          "#9c179e"
                        ],
                        [
                          0.4444444444444444,
                          "#bd3786"
                        ],
                        [
                          0.5555555555555556,
                          "#d8576b"
                        ],
                        [
                          0.6666666666666666,
                          "#ed7953"
                        ],
                        [
                          0.7777777777777778,
                          "#fb9f3a"
                        ],
                        [
                          0.8888888888888888,
                          "#fdca26"
                        ],
                        [
                          1,
                          "#f0f921"
                        ]
                      ]
                    },
                    "colorway": [
                      "#636efa",
                      "#EF553B",
                      "#00cc96",
                      "#ab63fa",
                      "#FFA15A",
                      "#19d3f3",
                      "#FF6692",
                      "#B6E880",
                      "#FF97FF",
                      "#FECB52"
                    ],
                    "font": {
                      "color": "#2a3f5f"
                    },
                    "geo": {
                      "bgcolor": "white",
                      "lakecolor": "white",
                      "landcolor": "#E5ECF6",
                      "showlakes": true,
                      "showland": true,
                      "subunitcolor": "white"
                    },
                    "hoverlabel": {
                      "align": "left"
                    },
                    "hovermode": "closest",
                    "mapbox": {
                      "style": "light"
                    },
                    "paper_bgcolor": "white",
                    "plot_bgcolor": "#E5ECF6",
                    "polar": {
                      "angularaxis": {
                        "gridcolor": "white",
                        "linecolor": "white",
                        "ticks": ""
                      },
                      "bgcolor": "#E5ECF6",
                      "radialaxis": {
                        "gridcolor": "white",
                        "linecolor": "white",
                        "ticks": ""
                      }
                    },
                    "scene": {
                      "xaxis": {
                        "backgroundcolor": "#E5ECF6",
                        "gridcolor": "white",
                        "gridwidth": 2,
                        "linecolor": "white",
                        "showbackground": true,
                        "ticks": "",
                        "zerolinecolor": "white"
                      },
                      "yaxis": {
                        "backgroundcolor": "#E5ECF6",
                        "gridcolor": "white",
                        "gridwidth": 2,
                        "linecolor": "white",
                        "showbackground": true,
                        "ticks": "",
                        "zerolinecolor": "white"
                      },
                      "zaxis": {
                        "backgroundcolor": "#E5ECF6",
                        "gridcolor": "white",
                        "gridwidth": 2,
                        "linecolor": "white",
                        "showbackground": true,
                        "ticks": "",
                        "zerolinecolor": "white"
                      }
                    },
                    "shapedefaults": {
                      "line": {
                        "color": "#2a3f5f"
                      }
                    },
                    "ternary": {
                      "aaxis": {
                        "gridcolor": "white",
                        "linecolor": "white",
                        "ticks": ""
                      },
                      "baxis": {
                        "gridcolor": "white",
                        "linecolor": "white",
                        "ticks": ""
                      },
                      "bgcolor": "#E5ECF6",
                      "caxis": {
                        "gridcolor": "white",
                        "linecolor": "white",
                        "ticks": ""
                      }
                    },
                    "title": {
                      "x": 0.05
                    },
                    "xaxis": {
                      "automargin": true,
                      "gridcolor": "white",
                      "linecolor": "white",
                      "ticks": "",
                      "title": {
                        "standoff": 15
                      },
                      "zerolinecolor": "white",
                      "zerolinewidth": 2
                    },
                    "yaxis": {
                      "automargin": true,
                      "gridcolor": "white",
                      "linecolor": "white",
                      "ticks": "",
                      "title": {
                        "standoff": 15
                      },
                      "zerolinecolor": "white",
                      "zerolinewidth": 2
                    }
                  }
                },
                "title": {
                  "text": "Sobrevivência por porto de embarque"
                },
                "width": 800,
                "xaxis": {
                  "anchor": "y",
                  "domain": [
                    0,
                    1
                  ],
                  "title": {
                    "text": "Embarked"
                  }
                },
                "yaxis": {
                  "anchor": "x",
                  "domain": [
                    0,
                    1
                  ],
                  "title": {
                    "text": "count"
                  }
                }
              }
            }
          },
          "metadata": {},
          "output_type": "display_data"
        }
      ],
      "source": [
        "fig = px.histogram(train, x=\"Embarked\", color=\"Survived\", color_discrete_sequence=[\"#363945\", \"#B6E880\"])\n",
        "fig.update_layout(height=400, width=800, title_text=\"Sobrevivência por porto de embarque\")\n",
        "fig.show()"
      ]
    },
    {
      "cell_type": "markdown",
      "metadata": {},
      "source": [
        "Pessoas que embarcaram em Southampton sobreviveram com menos frequência."
      ]
    },
    {
      "cell_type": "markdown",
      "metadata": {},
      "source": [
        "## Preparando dados para o modelo."
      ]
    },
    {
      "cell_type": "code",
      "execution_count": 126,
      "metadata": {
        "execution": {
          "iopub.status.busy": "2022-01-03T16:01:20.056784Z",
          "iopub.status.idle": "2022-01-03T16:01:20.057697Z",
          "shell.execute_reply": "2022-01-03T16:01:20.057278Z",
          "shell.execute_reply.started": "2022-01-03T16:01:20.057247Z"
        },
        "trusted": true
      },
      "outputs": [
        {
          "data": {
            "text/html": [
              "<div>\n",
              "<style scoped>\n",
              "    .dataframe tbody tr th:only-of-type {\n",
              "        vertical-align: middle;\n",
              "    }\n",
              "\n",
              "    .dataframe tbody tr th {\n",
              "        vertical-align: top;\n",
              "    }\n",
              "\n",
              "    .dataframe thead th {\n",
              "        text-align: right;\n",
              "    }\n",
              "</style>\n",
              "<table border=\"1\" class=\"dataframe\">\n",
              "  <thead>\n",
              "    <tr style=\"text-align: right;\">\n",
              "      <th></th>\n",
              "      <th>Survived</th>\n",
              "      <th>Pclass</th>\n",
              "      <th>Sex</th>\n",
              "      <th>Age</th>\n",
              "      <th>Embarked</th>\n",
              "      <th>n_family</th>\n",
              "      <th>title</th>\n",
              "    </tr>\n",
              "    <tr>\n",
              "      <th>PassengerId</th>\n",
              "      <th></th>\n",
              "      <th></th>\n",
              "      <th></th>\n",
              "      <th></th>\n",
              "      <th></th>\n",
              "      <th></th>\n",
              "      <th></th>\n",
              "    </tr>\n",
              "  </thead>\n",
              "  <tbody>\n",
              "    <tr>\n",
              "      <th>332</th>\n",
              "      <td>0</td>\n",
              "      <td>1</td>\n",
              "      <td>male</td>\n",
              "      <td>45.5</td>\n",
              "      <td>S</td>\n",
              "      <td>0</td>\n",
              "      <td>Mr.</td>\n",
              "    </tr>\n",
              "    <tr>\n",
              "      <th>734</th>\n",
              "      <td>0</td>\n",
              "      <td>2</td>\n",
              "      <td>male</td>\n",
              "      <td>23.0</td>\n",
              "      <td>S</td>\n",
              "      <td>0</td>\n",
              "      <td>Mr.</td>\n",
              "    </tr>\n",
              "    <tr>\n",
              "      <th>383</th>\n",
              "      <td>0</td>\n",
              "      <td>3</td>\n",
              "      <td>male</td>\n",
              "      <td>32.0</td>\n",
              "      <td>S</td>\n",
              "      <td>0</td>\n",
              "      <td>Mr.</td>\n",
              "    </tr>\n",
              "    <tr>\n",
              "      <th>705</th>\n",
              "      <td>0</td>\n",
              "      <td>3</td>\n",
              "      <td>male</td>\n",
              "      <td>26.0</td>\n",
              "      <td>S</td>\n",
              "      <td>1</td>\n",
              "      <td>Mr.</td>\n",
              "    </tr>\n",
              "    <tr>\n",
              "      <th>814</th>\n",
              "      <td>0</td>\n",
              "      <td>3</td>\n",
              "      <td>female</td>\n",
              "      <td>6.0</td>\n",
              "      <td>S</td>\n",
              "      <td>6</td>\n",
              "      <td>Miss.</td>\n",
              "    </tr>\n",
              "  </tbody>\n",
              "</table>\n",
              "</div>"
            ],
            "text/plain": [
              "             Survived Pclass     Sex   Age Embarked  n_family  title\n",
              "PassengerId                                                         \n",
              "332                 0      1    male  45.5        S         0    Mr.\n",
              "734                 0      2    male  23.0        S         0    Mr.\n",
              "383                 0      3    male  32.0        S         0    Mr.\n",
              "705                 0      3    male  26.0        S         1    Mr.\n",
              "814                 0      3  female   6.0        S         6  Miss."
            ]
          },
          "execution_count": 126,
          "metadata": {},
          "output_type": "execute_result"
        }
      ],
      "source": [
        "train[cols].head()"
      ]
    },
    {
      "cell_type": "code",
      "execution_count": 127,
      "metadata": {
        "execution": {
          "iopub.status.busy": "2022-01-03T16:01:20.06003Z",
          "iopub.status.idle": "2022-01-03T16:01:20.061017Z",
          "shell.execute_reply": "2022-01-03T16:01:20.060768Z",
          "shell.execute_reply.started": "2022-01-03T16:01:20.060737Z"
        },
        "trusted": true
      },
      "outputs": [],
      "source": [
        "cat_cols = [\"Sex\", \"Embarked\", \"title\"]\n",
        "num_cols = [\"n_family\", \"Pclass\", \"Age\"]\n",
        "\n",
        "X = train[cols]\n",
        "y = train[\"Survived\"]"
      ]
    },
    {
      "cell_type": "code",
      "execution_count": 128,
      "metadata": {
        "execution": {
          "iopub.status.busy": "2022-01-03T16:01:20.062505Z",
          "iopub.status.idle": "2022-01-03T16:01:20.063187Z",
          "shell.execute_reply": "2022-01-03T16:01:20.062958Z",
          "shell.execute_reply.started": "2022-01-03T16:01:20.062932Z"
        },
        "trusted": true
      },
      "outputs": [
        {
          "data": {
            "text/plain": [
              "(709, 13)"
            ]
          },
          "execution_count": 128,
          "metadata": {},
          "output_type": "execute_result"
        }
      ],
      "source": [
        "from sklearn.pipeline import Pipeline\n",
        "from sklearn.preprocessing import OrdinalEncoder, OneHotEncoder, StandardScaler\n",
        "from sklearn.compose import ColumnTransformer\n",
        "from sklearn.impute import SimpleImputer\n",
        "\n",
        "cat_pipe = Pipeline([\n",
        "    ('imputer', SimpleImputer(strategy=\"most_frequent\")),\n",
        "    ('encoder', OneHotEncoder(handle_unknown=\"ignore\")),\n",
        "])\n",
        "\n",
        "num_pipe = Pipeline([\n",
        "    ('imputer', SimpleImputer(strategy=\"median\")),\n",
        "    ('scaler', StandardScaler())\n",
        "])\n",
        "\n",
        "data_prep_pipe = ColumnTransformer([\n",
        "    (\"cat_cols\", cat_pipe, cat_cols),\n",
        "    (\"num_cols\", num_pipe, num_cols)\n",
        "])\n",
        "\n",
        "X_prep = data_prep_pipe.fit_transform(X)\n",
        "X_prep.shape"
      ]
    },
    {
      "cell_type": "code",
      "execution_count": null,
      "metadata": {
        "execution": {
          "iopub.status.busy": "2022-01-03T16:01:20.0642Z",
          "iopub.status.idle": "2022-01-03T16:01:20.064881Z",
          "shell.execute_reply": "2022-01-03T16:01:20.064634Z",
          "shell.execute_reply.started": "2022-01-03T16:01:20.064603Z"
        },
        "trusted": true
      },
      "outputs": [],
      "source": [
        "from sklearn.linear_model import LogisticRegression\n",
        "from sklearn.model_selection import cross_val_score, cross_val_predict, GridSearchCV\n",
        "from sklearn.metrics import confusion_matrix, roc_auc_score, roc_curve, f1_score, mean_absolute_error\n",
        "from sklearn.neighbors import KNeighborsClassifier\n",
        "from sklearn.ensemble import RandomForestClassifier\n",
        "from sklearn.svm import SVC\n",
        "import xgboost as xgb\n",
        "import lightgbm as lgb"
      ]
    },
    {
      "cell_type": "code",
      "execution_count": null,
      "metadata": {
        "execution": {
          "iopub.status.busy": "2022-01-03T16:01:20.066221Z",
          "iopub.status.idle": "2022-01-03T16:01:20.06671Z",
          "shell.execute_reply": "2022-01-03T16:01:20.066479Z",
          "shell.execute_reply.started": "2022-01-03T16:01:20.066453Z"
        },
        "trusted": true
      },
      "outputs": [],
      "source": [
        "def get_model(name, params=None):\n",
        "    if params == None:\n",
        "        if name == \"logreg\":\n",
        "            return LogisticRegression(random_state=42)\n",
        "        elif name == \"KNN\":\n",
        "            return KNeighborsClassifier()\n",
        "        elif name == \"RF\":\n",
        "            return RandomForestClassifier(random_state=42)\n",
        "        elif name == \"SVC\":\n",
        "            return SVC(random_state=42)\n",
        "        elif name == \"XGBoost\":\n",
        "            return xgb.XGBClassifier(random_state=42, verbosity=0, use_label_encoder=False)\n",
        "        elif name == \"LightGBM\":\n",
        "            return lgb.LGBMClassifier(random_state=42)\n",
        "    else:\n",
        "        if name == \"logreg\":\n",
        "            return LogisticRegression(**params)\n",
        "        elif name == \"KNN\":\n",
        "            return KNeighborsClassifier(**params)\n",
        "        elif name == \"RF\":\n",
        "            return RandomForestClassifier(**params)\n",
        "        elif name == \"SVC\":\n",
        "            return SVC(**params)\n",
        "        elif name == \"XGBoost\":\n",
        "            return xgb.XGBClassifier(**params)\n",
        "        elif name == \"LightGBM\":\n",
        "            return lgb.LGBMClassifier(**params)"
      ]
    },
    {
      "cell_type": "code",
      "execution_count": null,
      "metadata": {
        "execution": {
          "iopub.status.busy": "2022-01-03T16:01:20.07059Z",
          "iopub.status.idle": "2022-01-03T16:01:20.071208Z",
          "shell.execute_reply": "2022-01-03T16:01:20.07099Z",
          "shell.execute_reply.started": "2022-01-03T16:01:20.070962Z"
        },
        "trusted": true
      },
      "outputs": [],
      "source": [
        "list_models = [\"logreg\", \"KNN\", \"RF\", \"SVC\", \"XGBoost\", \"LightGBM\"]\n",
        "\n",
        "for model_name in list_models:\n",
        "    model = get_model(model_name)\n",
        "    preds = cross_val_predict(model, X_prep, y, cv=10)\n",
        "    f1 = f1_score(y, preds)\n",
        "    roc_auc = roc_auc_score(y, preds)\n",
        "    mae = mean_absolute_error(y, preds)\n",
        "    print(f\"{model_name}:\\nF1: {f1:.3f},\\nROC AUC: {roc_auc:.3f},\\nMAE: {mae:.3f}\\n\")\n"
      ]
    },
    {
      "cell_type": "code",
      "execution_count": null,
      "metadata": {
        "execution": {
          "iopub.status.busy": "2022-01-03T16:01:20.072564Z",
          "iopub.status.idle": "2022-01-03T16:01:20.073179Z",
          "shell.execute_reply": "2022-01-03T16:01:20.072948Z",
          "shell.execute_reply.started": "2022-01-03T16:01:20.072921Z"
        },
        "trusted": true
      },
      "outputs": [],
      "source": [
        "list_models.remove(\"RF\")\n",
        "list_models.remove(\"KNN\")"
      ]
    },
    {
      "cell_type": "code",
      "execution_count": null,
      "metadata": {
        "execution": {
          "iopub.status.busy": "2022-01-03T16:01:20.074384Z",
          "iopub.status.idle": "2022-01-03T16:01:20.075038Z",
          "shell.execute_reply": "2022-01-03T16:01:20.074807Z",
          "shell.execute_reply.started": "2022-01-03T16:01:20.074779Z"
        },
        "trusted": true
      },
      "outputs": [],
      "source": [
        "list_models"
      ]
    },
    {
      "cell_type": "code",
      "execution_count": null,
      "metadata": {
        "execution": {
          "iopub.status.busy": "2022-01-03T16:01:20.076095Z",
          "iopub.status.idle": "2022-01-03T16:01:20.076756Z",
          "shell.execute_reply": "2022-01-03T16:01:20.076523Z",
          "shell.execute_reply.started": "2022-01-03T16:01:20.076496Z"
        },
        "trusted": true
      },
      "outputs": [],
      "source": [
        "def get_params_dist(name):\n",
        "    if name == \"logreg\":\n",
        "        return {\"random_state\": [42], \n",
        "                \"solver\": [\"lbfgs\", \"liblinear\"],\n",
        "                \"C\" : [100, 10, 1.0, 0.1, 0.01]}\n",
        "    elif name == \"SVC\":\n",
        "        return {\"random_state\": [42], \n",
        "                \"kernel\": [\"rbf\", \"linear\"],\n",
        "                'C': [1e0, 1e1, 1e2, 1e3], \n",
        "                \"gamma\": [0.5, 0.6, 0.7, 0.8, 0.9]}\n",
        "    elif name == \"XGBoost\":\n",
        "        return {\"random_state\": [42], \"verbosity\": [0], \"use_label_encoder\": [False],\n",
        "                'max_depth': [3,6,10],\n",
        "                'learning_rate': [0.01, 0.05, 0.1],\n",
        "                'n_estimators': [100, 500, 1000],\n",
        "                'colsample_bytree': [0.3, 0.7, 1.0],\n",
        "                }\n",
        "    elif name == \"LightGBM\":\n",
        "        return {\"random_state\": [42],\n",
        "                \"max_depth\": [3,6,10],\n",
        "                \"learning_rate\": [0.01, 0.05, 0.1],\n",
        "                \"n_estimators\": [100, 500, 1000],\n",
        "                }"
      ]
    },
    {
      "cell_type": "code",
      "execution_count": null,
      "metadata": {
        "execution": {
          "iopub.status.busy": "2022-01-03T16:01:20.077937Z",
          "iopub.status.idle": "2022-01-03T16:01:20.078414Z",
          "shell.execute_reply": "2022-01-03T16:01:20.078236Z",
          "shell.execute_reply.started": "2022-01-03T16:01:20.078217Z"
        },
        "trusted": true
      },
      "outputs": [],
      "source": [
        "for model_name in list_models:\n",
        "    model = get_model(model_name)\n",
        "    params_dist = get_params_dist(model_name)\n",
        "    grid = GridSearchCV(model, params_dist, cv=5, scoring=\"roc_auc\")\n",
        "    grid.fit(X_prep, y)\n",
        "    print(f\"{model_name}:\\nBest params: {grid.best_params_}\\nBest score: {grid.best_score_}\\n\")"
      ]
    },
    {
      "cell_type": "code",
      "execution_count": null,
      "metadata": {
        "execution": {
          "iopub.status.busy": "2022-01-03T16:01:20.079503Z",
          "iopub.status.idle": "2022-01-03T16:01:20.079927Z",
          "shell.execute_reply": "2022-01-03T16:01:20.079717Z",
          "shell.execute_reply.started": "2022-01-03T16:01:20.079693Z"
        },
        "trusted": true
      },
      "outputs": [],
      "source": [
        "best_model_name = \"XGBoost\"\n",
        "model = get_model(best_model_name)\n",
        "params_dist = get_params_dist(best_model_name)\n",
        "grid = GridSearchCV(model, params_dist, cv=10, scoring=\"roc_auc\")\n",
        "grid.fit(X_prep, y)\n",
        "preds = grid.predict(X_prep)\n",
        "roc_auc = roc_auc_score(y, preds)\n",
        "print(f\"{best_model_name}:\\nBest params: {grid.best_params_}\\nROC AUC: {roc_auc:.3f}\\n\")"
      ]
    },
    {
      "cell_type": "code",
      "execution_count": null,
      "metadata": {
        "execution": {
          "iopub.status.busy": "2022-01-03T16:01:20.081253Z",
          "iopub.status.idle": "2022-01-03T16:01:20.081816Z",
          "shell.execute_reply": "2022-01-03T16:01:20.081563Z",
          "shell.execute_reply.started": "2022-01-03T16:01:20.081533Z"
        },
        "trusted": true
      },
      "outputs": [],
      "source": [
        "import xgboost as xgb\n",
        "\n",
        "params = grid.best_params_\n",
        "\n",
        "xgb_model = xgb.XGBClassifier(**params)\n",
        "train_preds = cross_val_predict(xgb_model, X_prep, y, cv=50, verbose=1)"
      ]
    },
    {
      "cell_type": "code",
      "execution_count": null,
      "metadata": {
        "execution": {
          "iopub.status.busy": "2022-01-03T16:01:20.082755Z",
          "iopub.status.idle": "2022-01-03T16:01:20.083206Z",
          "shell.execute_reply": "2022-01-03T16:01:20.082983Z",
          "shell.execute_reply.started": "2022-01-03T16:01:20.082958Z"
        },
        "trusted": true
      },
      "outputs": [],
      "source": [
        "roc_auc = roc_auc_score(y, train_preds)\n",
        "mae = mean_absolute_error(y, train_preds)\n",
        "f1 = f1_score(y, train_preds)\n",
        "\n",
        "print(f\"ROC AUC: {roc_auc:.3f}\")\n",
        "print(f\"MAE: {mae:.3f}\")\n",
        "print(f\"F1: {f1:.3f}\")"
      ]
    },
    {
      "cell_type": "code",
      "execution_count": null,
      "metadata": {
        "execution": {
          "iopub.status.busy": "2022-01-03T16:01:20.08404Z",
          "iopub.status.idle": "2022-01-03T16:01:20.084766Z",
          "shell.execute_reply": "2022-01-03T16:01:20.084574Z",
          "shell.execute_reply.started": "2022-01-03T16:01:20.084548Z"
        },
        "trusted": true
      },
      "outputs": [],
      "source": [
        "from sklearn.metrics import confusion_matrix, ConfusionMatrixDisplay\n",
        "\n",
        "cm = confusion_matrix(y, preds, normalize='true', labels=[0,1])\n",
        "disp = ConfusionMatrixDisplay(confusion_matrix=cm,\n",
        "                              display_labels=[0, 1])\n",
        "disp.plot() \n",
        "plt.show()"
      ]
    },
    {
      "cell_type": "code",
      "execution_count": null,
      "metadata": {
        "execution": {
          "iopub.status.busy": "2022-01-03T16:01:20.086016Z",
          "iopub.status.idle": "2022-01-03T16:01:20.086452Z",
          "shell.execute_reply": "2022-01-03T16:01:20.086201Z",
          "shell.execute_reply.started": "2022-01-03T16:01:20.086176Z"
        },
        "trusted": true
      },
      "outputs": [],
      "source": [
        "fpr, tpr, thresholds = roc_curve(y, train_preds)"
      ]
    },
    {
      "cell_type": "code",
      "execution_count": null,
      "metadata": {
        "execution": {
          "iopub.status.busy": "2022-01-03T16:01:20.08856Z",
          "iopub.status.idle": "2022-01-03T16:01:20.089073Z",
          "shell.execute_reply": "2022-01-03T16:01:20.088867Z",
          "shell.execute_reply.started": "2022-01-03T16:01:20.088825Z"
        },
        "trusted": true
      },
      "outputs": [],
      "source": [
        "def plot_roc_curve(fpr, tpr, label=None):\n",
        "    plt.plot(fpr, tpr, linewidth=2, label=label)\n",
        "    plt.plot([0, 1], [0, 1], 'k--')\n",
        "    plt.axis([0, 1, 0, 1])\n",
        "    plt.xlabel('False Positive Rate')\n",
        "    plt.ylabel('True Positive Rate')\n",
        "    \n",
        "plot_roc_curve(fpr, tpr)\n",
        "plt.show()"
      ]
    },
    {
      "cell_type": "markdown",
      "metadata": {},
      "source": [
        "# Train on Full Data"
      ]
    },
    {
      "cell_type": "code",
      "execution_count": null,
      "metadata": {
        "execution": {
          "iopub.status.busy": "2022-01-03T16:01:20.090548Z",
          "iopub.status.idle": "2022-01-03T16:01:20.09113Z",
          "shell.execute_reply": "2022-01-03T16:01:20.09093Z",
          "shell.execute_reply.started": "2022-01-03T16:01:20.090904Z"
        },
        "trusted": true
      },
      "outputs": [],
      "source": [
        "full_model = get_model(\"XGBoost\", params=params)\n",
        "full_model.fit(X_prep, y)\n",
        "\n",
        "X_test = test_data\n",
        "X_test[\"title\"] = X_test.Name.map(get_title)\n",
        "X_test[\"FamilySize\"] = X_test.Parch + X_test.SibSp\n",
        "X_test[\"Age_class\"] = X_test[\"Age\"] // 15 * 15\n",
        "X_test[\"Alone\"] = X_test.FamilySize.map(lambda x: 1 if x == 0 else 0)\n",
        "X_test = X_test[cols]"
      ]
    },
    {
      "cell_type": "markdown",
      "metadata": {},
      "source": [
        "## Test Predictions"
      ]
    },
    {
      "cell_type": "code",
      "execution_count": null,
      "metadata": {
        "execution": {
          "iopub.status.busy": "2022-01-03T16:01:20.093416Z",
          "iopub.status.idle": "2022-01-03T16:01:20.094281Z",
          "shell.execute_reply": "2022-01-03T16:01:20.094046Z",
          "shell.execute_reply.started": "2022-01-03T16:01:20.094015Z"
        },
        "trusted": true
      },
      "outputs": [],
      "source": [
        "X_test_prep = data_prep_pipe.transform(X_test)\n",
        "test_preds = full_model.predict(X_test_prep)"
      ]
    },
    {
      "cell_type": "markdown",
      "metadata": {},
      "source": [
        "## Submission"
      ]
    },
    {
      "cell_type": "code",
      "execution_count": null,
      "metadata": {
        "execution": {
          "iopub.status.busy": "2022-01-03T16:01:20.095727Z",
          "iopub.status.idle": "2022-01-03T16:01:20.096472Z",
          "shell.execute_reply": "2022-01-03T16:01:20.096199Z",
          "shell.execute_reply.started": "2022-01-03T16:01:20.096169Z"
        },
        "trusted": true
      },
      "outputs": [],
      "source": [
        "# Saving the output for submission\n",
        "output = pd.DataFrame({'PassengerId': test_data.index, 'Survived':test_preds})\n",
        "output.to_csv('my_submission.csv', index=False)"
      ]
    },
    {
      "cell_type": "code",
      "execution_count": null,
      "metadata": {},
      "outputs": [],
      "source": [
        "### How Should Performance be Measured?\n",
        "\n",
        "data.Survived.value_counts()\n",
        "\n",
        "# There is a significant amount of positive class values. Let's use as performance measure the ROC AUC score."
      ]
    }
  ],
  "metadata": {
    "kernelspec": {
      "display_name": "Python 3.9.7 ('ai-env')",
      "language": "python",
      "name": "python3"
    },
    "language_info": {
      "codemirror_mode": {
        "name": "ipython",
        "version": 3
      },
      "file_extension": ".py",
      "mimetype": "text/x-python",
      "name": "python",
      "nbconvert_exporter": "python",
      "pygments_lexer": "ipython3",
      "version": "3.9.7"
    },
    "vscode": {
      "interpreter": {
        "hash": "d372cf159c702d88e76d61195e98430beac9dd3af1b06e023fe96d56fc46f6da"
      }
    }
  },
  "nbformat": 4,
  "nbformat_minor": 4
}
